{
 "cells": [
  {
   "attachments": {},
   "cell_type": "markdown",
   "metadata": {},
   "source": [
    "# Lambda Functions"
   ]
  },
  {
   "attachments": {},
   "cell_type": "markdown",
   "metadata": {},
   "source": [
    "A function is an object that is able to accept some sort of input, possibly modify it, and return some sort of output. In Python, a lambda function is a one-line shorthand for function. A simple lambda function might look like this:"
   ]
  },
  {
   "cell_type": "code",
   "execution_count": 2,
   "metadata": {},
   "outputs": [
    {
     "name": "stdout",
     "output_type": "stream",
     "text": [
      "5\n",
      "102\n",
      "0\n"
     ]
    }
   ],
   "source": [
    "add_two = lambda my_input: my_input + 2\n",
    "print(add_two(3))\n",
    "print(add_two(100))\n",
    "print(add_two(-2))\n"
   ]
  },
  {
   "attachments": {},
   "cell_type": "markdown",
   "metadata": {},
   "source": [
    "Let’s break this syntax down:\n",
    "\n",
    "1. The function is stored in a variable called add_two\n",
    "2. lambda declares that this is a lambda function (if you are familiar with normal Python functions, this is similar to how we use def to declare a function)\n",
    "3. my_input is what we call the input we are passing into add_two\n",
    "4. We are returning my_input plus 2 (with normal Python functions, we use the keyword return)\n",
    "\n",
    "Let’s write a lambda function that checks if a string is a substring of the string “This is the master string”."
   ]
  },
  {
   "cell_type": "code",
   "execution_count": 3,
   "metadata": {},
   "outputs": [],
   "source": [
    "is_substring = lambda my_string: my_string in \"This is the master string\""
   ]
  },
  {
   "cell_type": "code",
   "execution_count": 4,
   "metadata": {},
   "outputs": [
    {
     "name": "stdout",
     "output_type": "stream",
     "text": [
      "False\n",
      "False\n",
      "True\n",
      "True\n"
     ]
    }
   ],
   "source": [
    "print(is_substring('I'))\n",
    "print(is_substring('am'))\n",
    "print(is_substring('the'))\n",
    "print(is_substring('master'))"
   ]
  },
  {
   "attachments": {},
   "cell_type": "markdown",
   "metadata": {},
   "source": [
    "We might want a function that will perform differently based on different inputs. Let’s say that we have a function check_if_A_grade that outputs 'Got an A!' if a grade is at least 90, and otherwise says you 'Did not get an A…'. So, the code:\n",
    "\n",
    "So this is what our check_if_A_grade function might look like:"
   ]
  },
  {
   "cell_type": "code",
   "execution_count": 5,
   "metadata": {},
   "outputs": [
    {
     "name": "stdout",
     "output_type": "stream",
     "text": [
      "Got an A!\n",
      "Did not get an A...\n",
      "Did not get an A...\n"
     ]
    }
   ],
   "source": [
    "check_if_A_grade = lambda grade: 'Got an A!' if grade >= 90 else 'Did not get an A...'\n",
    "print(check_if_A_grade(91))\n",
    "print(check_if_A_grade(70))\n",
    "print(check_if_A_grade(20))"
   ]
  },
  {
   "attachments": {},
   "cell_type": "markdown",
   "metadata": {},
   "source": [
    "This is what this line of code does:\n",
    "\n",
    "1. Declare lambda function with an input called grade (lambda grade:)\n",
    "2. Return 'Got an A!' if this statement is true:"
   ]
  },
  {
   "cell_type": "code",
   "execution_count": 7,
   "metadata": {},
   "outputs": [
    {
     "data": {
      "text/plain": [
       "True"
      ]
     },
     "execution_count": 7,
     "metadata": {},
     "output_type": "execute_result"
    }
   ],
   "source": [
    "grade = 100\n",
    "\n",
    "grade >= 90"
   ]
  },
  {
   "attachments": {},
   "cell_type": "markdown",
   "metadata": {},
   "source": [
    "3. Otherwise, return 'Did not get an A...' if this statement is not true:"
   ]
  },
  {
   "attachments": {},
   "cell_type": "markdown",
   "metadata": {},
   "source": [
    "Lambda functions only work if we’re just doing a one line command. If we wanted to write something longer, we’d need a more complex function. Lambda functions are great when you need to use a function once. Because you aren’t defining a function, the reusability aspect functions is not present with lambda functions. By saving the work of defining a function, a lambda function allows us to efficiently run an expression and produce an output for a specific task, such as defining a column in a table, or populating information in a dictionary."
   ]
  },
  {
   "attachments": {},
   "cell_type": "markdown",
   "metadata": {},
   "source": [
    "##### Instructions\n",
    "1.\n",
    "Create a lambda function named contains_a that takes an input word and returns True if the input contains the letter 'a'. Otherwise, return False."
   ]
  },
  {
   "cell_type": "code",
   "execution_count": 8,
   "metadata": {},
   "outputs": [
    {
     "name": "stdout",
     "output_type": "stream",
     "text": [
      "True\n",
      "True\n",
      "False\n"
     ]
    }
   ],
   "source": [
    "#Write your lambda function here\n",
    "contains_a = lambda word: 'a' in word\n",
    "\n",
    "print(contains_a(\"banana\"))\n",
    "print(contains_a(\"apple\"))\n",
    "print(contains_a(\"cherry\"))"
   ]
  },
  {
   "cell_type": "code",
   "execution_count": null,
   "metadata": {},
   "outputs": [],
   "source": []
  }
 ],
 "metadata": {
  "kernelspec": {
   "display_name": "Python 3",
   "language": "python",
   "name": "python3"
  },
  "language_info": {
   "codemirror_mode": {
    "name": "ipython",
    "version": 3
   },
   "file_extension": ".py",
   "mimetype": "text/x-python",
   "name": "python",
   "nbconvert_exporter": "python",
   "pygments_lexer": "ipython3",
   "version": "3.11.3"
  },
  "orig_nbformat": 4
 },
 "nbformat": 4,
 "nbformat_minor": 2
}
