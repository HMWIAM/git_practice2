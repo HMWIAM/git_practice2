{
 "cells": [
  {
   "attachments": {},
   "cell_type": "markdown",
   "metadata": {},
   "source": [
    "# Linear Regression with a Categorical Predictor"
   ]
  },
  {
   "cell_type": "code",
   "execution_count": null,
   "metadata": {},
   "outputs": [],
   "source": []
  },
  {
   "attachments": {},
   "cell_type": "markdown",
   "metadata": {},
   "source": [
    "Linear regression is a machine learning technique that can be used to model the relationship between a quantitative variable and some other variable(s). Those other variables can be either quantitative (e.g., height or salary) or categorical (e.g., job industry or hair color). However, if we want to include categorical predictors in a linear regression model, we need to treat them a little differently than quantitative variables. This article will explore the implementation and interpretation of a single categorical predictor with more than two categories.\n",
    "\n",
    "### The Data\n",
    "As an example, we’ll use a dataset from StreetEasy that contains information about housing rentals in New York City. For now, we’ll only focus on two columns of this dataset:\n",
    "\n",
    "* rent: the rental price of each apartment\n",
    "* borough: the borough that the apartment is located in, with three possible values ('Manhattan', 'Brooklyn', and 'Queens')\n",
    "The first five rows of data are printed below:\n",
    "\n",
    "```python\n",
    "import pandas as pd\n",
    "rentals = pd.read_csv('rentals.csv')\n",
    "print(rentals.head(5))\n",
    "\n",
    "rent\tborough\n",
    "0\t5295\tBrooklyn\n",
    "1\t4020\tManhattan\n",
    "2\t16000\tManhattan\n",
    "3\t3150\tQueens\n",
    "4\t2955\tQueens\n",
    "```\n",
    "\n",
    "## The X Matrix\n",
    "To understand how we can fit a regression model with a categorical predictor, it’s useful to walk through what happens when we use statsmodels.api.OLS.from_formula() to create a model. When we pass a formula to this function (like 'weight ~ height' or 'rent ~ borough'), it actually creates a new data set, which we don’t see. This new data set is often referred to as the X matrix, and it is used to fit the model.\n",
    "\n",
    "When we use a quantitative predictor, the X matrix looks similar to the original data, but with an additional column of 1s in front (the reasoning behind this column of 1s is the subject of a future article — for now, no need to worry about it!). However, when we fit the model with a categorical predictor, something else happens: we end up with additional column(s) of 1s and 0s.\n",
    "\n",
    "For example, let’s say we want to fit a regression predicting rent based on borough. We can see the X matrix for this model using patsy.dmatrices(), which is implemented behind the scenes in statsmodels:\n",
    "\n",
    "```python\n",
    "import pandas as pd\n",
    "import patsy\n",
    " \n",
    "rentals = pd.read_csv('rentals.csv')\n",
    "y, X = patsy.dmatrices('rent ~ borough', rentals)\n",
    " \n",
    "# Print out the first 5 rows of X\n",
    "print(X[0:5])\n",
    "\n",
    "Output:\n",
    "\n",
    "[[1. 0. 0.]\n",
    " [1. 1. 0.]\n",
    " [1. 1. 0.]\n",
    " [1. 0. 1.]\n",
    " [1. 0. 1.]]\n",
    " ```\n",
    "\n",
    " The first column is all 1s, just like we would get for a quantitative predictor; but the second two columns were formed based on the borough variable. Remember that the first five values of the borough column looked like this:\n",
    "\n",
    "```python\n",
    "borough\n",
    "Brooklyn\n",
    "Manhattan\n",
    "Manhattan\n",
    "Queens\n",
    "Queens\n",
    "```\n",
    "\n",
    "Note that the second column of the X matrix [0, 1, 1, 0, 0] is an indicator variable for Manhattan: it is equal to 1 where the value of borough is 'Manhattan' and 0 otherwise. Meanwhile, the third column of the X matrix ([0, 0, 0, 1, 1]) is an indicator variable for Queens: it is equal to 1 where the value of borough is 'Queens' and 0 otherwise.\n",
    "\n",
    "The X matrix does not contain an indicator variable for Brooklyn. That’s because this data set only contains three possible values of borough: 'Brooklyn', 'Manhattan', and 'Queens'. In order to recreate the borough column, we only need two indicator columns — because any apartment that is not in 'Manhattan' or 'Queens' must be 'Brooklyn'. For example, the first row of the X matrix has 0s in both indicator columns, indicating that the apartment must be in Brooklyn. Mathematically, we say that a 'Brooklyn' indicator creates collinearity in the X matrix. In regular English: a 'Brooklyn' indicator does not add any new information.\n",
    "\n",
    "Because 'Brooklyn' is missing from the X matrix, it is the reference category for this model."
   ]
  },
  {
   "attachments": {},
   "cell_type": "markdown",
   "metadata": {},
   "source": [
    "# NOT FINISHED\n"
   ]
  },
  {
   "cell_type": "markdown",
   "metadata": {},
   "source": []
  }
 ],
 "metadata": {
  "kernelspec": {
   "display_name": "Python 3",
   "language": "python",
   "name": "python3"
  },
  "language_info": {
   "name": "python",
   "version": "3.11.3"
  },
  "orig_nbformat": 4
 },
 "nbformat": 4,
 "nbformat_minor": 2
}
