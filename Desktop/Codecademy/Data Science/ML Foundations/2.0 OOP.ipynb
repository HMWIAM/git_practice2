{
 "cells": [
  {
   "attachments": {},
   "cell_type": "markdown",
   "metadata": {},
   "source": [
    "# Introduction to Object-Oriented Progarmming"
   ]
  },
  {
   "attachments": {},
   "cell_type": "markdown",
   "metadata": {},
   "source": [
    "In programming, most languages offer various features that give us different ways to tackle technical problems. With so many different languages out there, with their own unique set of features, it became necessary to create a classification system to help distinguish those sets of features. This ultimately led to the creation of the term programming paradigm - a way to classify different programming languages and the unique features that they offered.\n",
    "\n",
    "As we explore Python deeper, our code might fall into multiple paradigm categories at once. This is because most modern-day languages offer more than one specific paradigm we can program in. While we could spend all day exploring all the paradigms Python offers, we will instead dive into one of the most popular paradigms, and one we have already been using (maybe unknowingly), called Object-Oriented Programming (OOP).\n",
    "\n",
    "At the forefront of any language classified as an OOP language, there must exist the ability to create programs around classes and objects. We have already started working with these concepts earlier as we built our own custom classes, class methods, and instance objects. To recap, let’s take a look at an example:\n",
    "\n"
   ]
  },
  {
   "cell_type": "code",
   "execution_count": null,
   "metadata": {},
   "outputs": [],
   "source": []
  },
  {
   "cell_type": "code",
   "execution_count": 10,
   "metadata": {},
   "outputs": [
    {
     "ename": "NameError",
     "evalue": "name 'yes' is not defined",
     "output_type": "error",
     "traceback": [
      "\u001b[0;31m---------------------------------------------------------------------------\u001b[0m",
      "\u001b[0;31mNameError\u001b[0m                                 Traceback (most recent call last)",
      "Cell \u001b[0;32mIn[10], line 1\u001b[0m\n\u001b[0;32m----> 1\u001b[0m yes\n",
      "\u001b[0;31mNameError\u001b[0m: name 'yes' is not defined"
     ]
    }
   ],
   "source": [
    "yes"
   ]
  },
  {
   "cell_type": "markdown",
   "metadata": {},
   "source": []
  },
  {
   "cell_type": "code",
   "execution_count": 1,
   "metadata": {},
   "outputs": [],
   "source": [
    "class Dog:\n",
    "  sound = \"Woof\"\n",
    " \n",
    "  def __init__(self, name, age):\n",
    "    self.name = name\n",
    "    self.age = age\n",
    " \n",
    "  def bark(self):\n",
    "    print(Dog.sound)"
   ]
  },
  {
   "attachments": {},
   "cell_type": "markdown",
   "metadata": {},
   "source": [
    "In the above example, we are representing a real-world entity (a dog) as a class with properties (name and age) and methods (bark). These features make up the core of the OOP paradigm and ultimately allow us to build more intricate programs. This however only scratches the surface of what we can accomplish. To explore the paradigm further, we will examine the four core pillars of OOP:\n",
    "\n",
    "* Inheritance\n",
    "* Polymorphism\n",
    "* Abstraction\n",
    "* Encapsulation\n",
    "\n",
    "Each of these pillars will allow us to expand our skills so that we can take full advantage of the power of object-oriented programming in Python! We will begin exploring these pillars in later exercises but for now, let’s refresh ourselves on OOP fundamentals.\n",
    "\n",
    "#### Instructions\n",
    "1.\n",
    "To start our exploration into OOP, create a class that will represent an employee of a company.\n",
    "\n",
    "In script.py:\n",
    "\n",
    "Define a class called Employee\n",
    "Define a class variable new_id and set it equal to 1\n",
    "\n",
    "Stuck? Get a hint\n",
    "2.\n",
    "Each Employee instance will need its own unique ID.\n",
    "\n",
    "Inside the Employee class:\n",
    "\n",
    "Define an __init__() method\n",
    "Inside __init__(), define self.id and set it equal to the class variable new_id\n",
    "Lastly, increment new_id by 1\n",
    "\n",
    "Stuck? Get a hint\n",
    "3.\n",
    "Now create a function to output the instance id.\n",
    "\n",
    "Inside the Employee class:\n",
    "\n",
    "Define a say_id() method\n",
    "Inside say_id(), output the string \"My id is \" and then the instance id.\n",
    "\n",
    "Stuck? Get a hint\n",
    "4.\n",
    "Lastly, create 2 employees and have them give their ids.\n",
    "\n",
    "Outside of the Employee class:\n",
    "\n",
    "Define the variable e1 and set it to an instance of Employee\n",
    "Define the variable e2 and set it to an instance of Employee\n",
    "Have both e1 and e2 output their ids"
   ]
  },
  {
   "attachments": {},
   "cell_type": "markdown",
   "metadata": {},
   "source": [
    "## OOP Pillar: Inheritance\n",
    "When we hear the word “inheritance”, code may not be the first thing that springs to mind; we’re probably more likely to think of inheriting genetic traits, like the eye color from a mother or dimples from a grandfather. In the world of Object-Oriented Programming, inheritance is actually one of the core pillars for creating intricate structures with our classes. To dive into this concept, let’s examine a Dog and Cat class:"
   ]
  },
  {
   "cell_type": "code",
   "execution_count": 2,
   "metadata": {},
   "outputs": [],
   "source": [
    "class Dog:\n",
    " \n",
    "  def bark(self):\n",
    "    print('Woof!')\n",
    " \n",
    "class Cat:\n",
    " \n",
    "  def meow(self):\n",
    "    print('Meow!')"
   ]
  },
  {
   "attachments": {},
   "cell_type": "markdown",
   "metadata": {},
   "source": [
    "These two classes define two distinct animals with their own methods of communication. Now, what if we wanted to give both of these classes the ability to eat by calling a method called eat(). We could write the method twice in both classes but then we would be repeating code! We also may need to write it inside every specific animal class we ever create. Instead, we can utilize the power of inheritance.\n",
    "\n",
    "Since both Cat and Dog fall under the classification of Animal we can create a parent class to represent properties and methods they can both share! Here is what it might look like:"
   ]
  },
  {
   "cell_type": "code",
   "execution_count": 3,
   "metadata": {},
   "outputs": [],
   "source": [
    "class Animal: \n",
    "  def eat(self): \n",
    "    print(\"Nom Nom Nom...eating food!\")"
   ]
  },
  {
   "attachments": {},
   "cell_type": "markdown",
   "metadata": {},
   "source": [
    "Great, we have an Animal class with a eat() method, but how do we actually get the Dog and Cat class to inherit this method so it can be shared with both classes? Well here is what the base structure will look like:"
   ]
  },
  {
   "attachments": {},
   "cell_type": "markdown",
   "metadata": {},
   "source": [
    "```python\n",
    "class ParentClass:\n",
    "  #class methods/properties...\n",
    " \n",
    "class ChildClass(ParentClass):\n",
    "  #class methods/properties..."
   ]
  },
  {
   "attachments": {},
   "cell_type": "markdown",
   "metadata": {},
   "source": [
    "If we apply this structure to our example, our code looks like this:"
   ]
  },
  {
   "cell_type": "code",
   "execution_count": 4,
   "metadata": {},
   "outputs": [],
   "source": [
    "class Dog(Animal):\n",
    "  def bark(self):\n",
    "    print('Bark!')\n",
    " \n",
    "class Cat(Animal):\n",
    "  def meow(self):\n",
    "    print('Meow!')"
   ]
  },
  {
   "attachments": {},
   "cell_type": "markdown",
   "metadata": {},
   "source": [
    "Now, let’s see inheritance in action:"
   ]
  },
  {
   "cell_type": "code",
   "execution_count": 5,
   "metadata": {},
   "outputs": [
    {
     "name": "stdout",
     "output_type": "stream",
     "text": [
      "Nom Nom Nom...eating food!\n",
      "Nom Nom Nom...eating food!\n"
     ]
    }
   ],
   "source": [
    "fluffy = Dog()\n",
    "zoomie = Cat()\n",
    " \n",
    "fluffy.eat() # Nom Nom Nom...eating food!\n",
    "zoomie.eat() # Nom Nom Nom...eating food!"
   ]
  },
  {
   "attachments": {},
   "cell_type": "markdown",
   "metadata": {},
   "source": [
    "As we can see, there are some clear advantages of utilizing inheritance. Not only are we able to reuse methods across multiple classes using our parent class, but we are also able to create parent-child relationships between entities!"
   ]
  },
  {
   "attachments": {},
   "cell_type": "markdown",
   "metadata": {},
   "source": [
    "#### Instructions\n",
    "1.\n",
    "Now that there is an Employee class we want to make a more specific type of employee, Admin.\n",
    "\n",
    "In script.py:\n",
    "\n",
    "Create an Admin class that inherits from the Employee class\n",
    "Inside the body of the class insert the pass statement\n",
    "Checkpoint 2 Passed\n",
    "\n",
    "Stuck? Get a hint\n",
    "2.\n",
    "Now it’s time to test out your inheritance implementation.\n",
    "\n",
    "At the bottom of script.py:\n",
    "\n",
    "Define a variable e3 and set it to an instance of the Admin class\n",
    "Now if you call the .say_id() method of the Admin instance in e3, you will get output with the instance’s id."
   ]
  },
  {
   "cell_type": "code",
   "execution_count": 6,
   "metadata": {},
   "outputs": [
    {
     "name": "stdout",
     "output_type": "stream",
     "text": [
      "My id is 3.\n"
     ]
    }
   ],
   "source": [
    "class Employee():\n",
    "  new_id = 1\n",
    "  def __init__(self):\n",
    "    self.id = Employee.new_id\n",
    "    Employee.new_id += 1\n",
    "\n",
    "  def say_id(self):\n",
    "    print(\"My id is {}.\".format(self.id))\n",
    "\n",
    "# Write your code below\n",
    "class Admin(Employee):\n",
    "  pass\n",
    "\n",
    "e1 = Employee()\n",
    "e2 = Employee()\n",
    "e3 = Admin()\n",
    "e3.say_id()"
   ]
  },
  {
   "attachments": {},
   "cell_type": "markdown",
   "metadata": {},
   "source": [
    "## Overriding Methods\n",
    "When implementing inheritance, a child class may want to change the behavior of a method from its parent class. In Python, all we have to do is override a method definition. An overriding method in a subclass is one that has the same definition as the parent class but contains different behavior."
   ]
  },
  {
   "cell_type": "code",
   "execution_count": 7,
   "metadata": {},
   "outputs": [
    {
     "name": "stdout",
     "output_type": "stream",
     "text": [
      "Rex says, Grrrr\n"
     ]
    }
   ],
   "source": [
    "class Animal:\n",
    "  def __init__(self, name):\n",
    "    self.name = name\n",
    " \n",
    "  def make_noise(self):\n",
    "    print(\"{} says, Grrrr\".format(self.name))\n",
    " \n",
    "pet1 = Animal(\"Rex\")\n",
    "pet1.make_noise() # Rex says, Grrrr"
   ]
  },
  {
   "attachments": {},
   "cell_type": "markdown",
   "metadata": {},
   "source": [
    "The animal class above has one attribute, self.name and one method, .make_noise(). The .make_noise() method outputs a somewhat generic animal sound, \"Rex says, Grrrr\". If we define a subclass of Animal we may want to make a different sound."
   ]
  },
  {
   "cell_type": "code",
   "execution_count": 8,
   "metadata": {},
   "outputs": [
    {
     "name": "stdout",
     "output_type": "stream",
     "text": [
      "Maisy says, Meow!\n"
     ]
    }
   ],
   "source": [
    "class Cat(Animal):\n",
    " \n",
    "  def make_noise(self):\n",
    "    print(\"{} says, Meow!\".format(self.name))\n",
    " \n",
    "pet2 = Cat(\"Maisy\")\n",
    "pet2.make_noise() # Maisy says, Meow!"
   ]
  },
  {
   "attachments": {},
   "cell_type": "markdown",
   "metadata": {},
   "source": [
    "Now we’ve made a class for a more specific type of animal, Cat. It has all the attributes and methods of Animal. However, if you call the .make_noise() method on this instance of Cat it will say “Maisy says, Meow!”."
   ]
  },
  {
   "attachments": {},
   "cell_type": "markdown",
   "metadata": {},
   "source": [
    "#### Instructions\n",
    "1.\n",
    "As an admin, you feel it is not important to give your ID, but just let others know they’re talking to an admin.\n",
    "\n",
    "Inside the Admin class:\n",
    "\n",
    "Define a method say_id()\n",
    "Inside the method, output \"I am an Admin\"\n",
    "Now when you call .say_id() with e3 you should see the .say_id() method output from Admin."
   ]
  },
  {
   "cell_type": "code",
   "execution_count": 9,
   "metadata": {},
   "outputs": [
    {
     "name": "stdout",
     "output_type": "stream",
     "text": [
      "My id is 3.\n"
     ]
    }
   ],
   "source": [
    "class Employee():\n",
    "  new_id = 1\n",
    "  def __init__(self):\n",
    "    self.id = Employee.new_id\n",
    "    Employee.new_id += 1\n",
    "\n",
    "  def say_id(self):\n",
    "    print(\"My id is {}.\".format(self.id))\n",
    "\n",
    "class Admin(Employee):\n",
    "  # Write your code below\n",
    "  pass\n",
    "\n",
    "e1 = Employee()\n",
    "e2 = Employee()\n",
    "e3 = Admin()\n",
    "e3.say_id()"
   ]
  },
  {
   "attachments": {},
   "cell_type": "markdown",
   "metadata": {},
   "source": [
    "## super()\n",
    "When overriding methods we sometimes want to still access the behavior of the parent method. In order to do that we need a way to call the method of the parent class. Python gives us a way to do that using super().\n",
    "\n",
    "super() gives us a proxy object. With this proxy object, we can invoke the method of an object’s parent class (also called its superclass). We call the required function as a method on super():"
   ]
  },
  {
   "cell_type": "code",
   "execution_count": null,
   "metadata": {},
   "outputs": [],
   "source": [
    "class Animal:\n",
    "  def __init__(self, name, sound=\"Grrrr\"):\n",
    "    self.name = name\n",
    "    self.sound = sound\n",
    " \n",
    "  def make_noise(self):\n",
    "    print(\"{} says, {}\".format(self.name, self.sound))\n",
    " \n",
    "class Cat(Animal):\n",
    "  def __init__(self, name):\n",
    "    super().__init__(name, \"Meow!\") \n",
    " \n",
    "pet_cat = Cat(\"Rachel\")\n",
    "pet_cat.make_noise() # Rachel says, Meow!"
   ]
  },
  {
   "attachments": {},
   "cell_type": "markdown",
   "metadata": {},
   "source": [
    "In the above example, we have the class Animal and the subclass Cat. Animal has 2 attributes, name and sound and one method, .make_noise(). The .make_noise() method outputs the name and sound of an instance.\n",
    "\n",
    "The Cat subclass has an .__init__() method which means the .__init__() method of its superclass, Animal will not be called when creating an instance of Cat. The .__init__() method from the subclass is overriding the one from the superclass.\n",
    "\n",
    "To still invoke the .__init__() method of Animal, super().__init__(name, \"Meow!\") is called inside the subclass .__init__() method. This additional logic allows us to add the \"Meow\" sound from within the Cat class, but still use the .__init__() method of the Animal class.\n",
    "\n",
    "super() is used in subclasses to invoke a needed behavior from the superclass alongside the behavior of a subclass method.\n",
    "\n",
    "#### Instructions\n",
    "1.\n",
    "Once the managers found out that the admins were walking around just telling people they are admins, the managers stepped in and made them also say their ID.\n",
    "\n",
    "Inside the Admin class:\n",
    "\n",
    "Add a line that also calls the Employee class .say_id() method\n",
    "Now the output should be the admin’s ID and that they are an admin."
   ]
  },
  {
   "cell_type": "code",
   "execution_count": 1,
   "metadata": {},
   "outputs": [
    {
     "name": "stdout",
     "output_type": "stream",
     "text": [
      "I am an admin.\n"
     ]
    }
   ],
   "source": [
    "class Employee():\n",
    "  new_id = 1\n",
    "  def __init__(self):\n",
    "    self.id = Employee.new_id\n",
    "    Employee.new_id += 1\n",
    "\n",
    "  def say_id(self):\n",
    "    print(\"My id is {}.\".format(self.id))\n",
    "\n",
    "class Admin(Employee):\n",
    "  def say_id(self):\n",
    "    # Write your code below:\n",
    "    \n",
    "    print(\"I am an admin.\")\n",
    "\n",
    "e1 = Employee()\n",
    "e2 = Employee()\n",
    "e3 = Admin()\n",
    "e3.say_id()"
   ]
  },
  {
   "attachments": {},
   "cell_type": "markdown",
   "metadata": {},
   "source": [
    "## Multiple Inheritance: Part 1\n",
    "Let’s now look at a feature allowed by Python called multiple inheritance. As you may have guessed from the name, this is when a subclass inherits from more than one superclass. One form of multiple inheritance is when there are multiple levels of inheritance. This means a class inherits members from its superclass and its super-superclass."
   ]
  },
  {
   "cell_type": "code",
   "execution_count": 2,
   "metadata": {},
   "outputs": [
    {
     "name": "stdout",
     "output_type": "stream",
     "text": [
      "Mr. Cranky says, Hi!\n"
     ]
    }
   ],
   "source": [
    "class Animal:\n",
    "  def __init__(self, name):\n",
    "    self.name = name\n",
    " \n",
    "  def say_hi(self):\n",
    "    print(\"{} says, Hi!\".format(self.name))\n",
    " \n",
    "class Cat(Animal):\n",
    "  pass\n",
    " \n",
    "class Angry_Cat(Cat):\n",
    "  pass\n",
    " \n",
    "my_pet = Angry_Cat(\"Mr. Cranky\")\n",
    "my_pet.say_hi() # Mr. Cranky says, Hi!\n"
   ]
  },
  {
   "attachments": {},
   "cell_type": "markdown",
   "metadata": {},
   "source": [
    "In the above example, Angry_Cat inherits from Cat and Cat inherits from Animal. Both Angry_Cat and Cat have access to the Animal class name attribute and .say_hi() method. Any feature added to Cat, Angry_Cat will also have access to."
   ]
  },
  {
   "attachments": {},
   "cell_type": "markdown",
   "metadata": {},
   "source": [
    "##### Instructions\n",
    "1.\n",
    "Managers decide to start walking around more to let people know who is in charge.\n",
    "\n",
    "Inside script.py:\n",
    "\n",
    "Define a Manager class and have it inherit from the Admin class\n",
    "Inside the Manager class, define a method say_id() that outputs that they are in charge.\n",
    "\n",
    "Stuck? Get a hint\n",
    "2.\n",
    "The Managers want to set a good example so they also let people know their ID and that they are an admin.\n",
    "\n",
    "Inside the .say_id() method of Manager:\n",
    "\n",
    "Call the Admin class .say_id() method\n",
    "\n",
    "Stuck? Get a hint\n",
    "3.\n",
    "Now test it out.\n",
    "\n",
    "At the bottom of script.py:\n",
    "\n",
    "Define a variable e4 and set it to an instance of the Manager class\n",
    "Call the .say_id() method of the instance in e4\n",
    "Now you will get output from all 3 classes.\n",
    "\n"
   ]
  },
  {
   "cell_type": "code",
   "execution_count": 3,
   "metadata": {},
   "outputs": [],
   "source": [
    "class Employee():\n",
    "  new_id = 1\n",
    "  def __init__(self):\n",
    "    self.id = Employee.new_id\n",
    "    Employee.new_id += 1\n",
    "\n",
    "  def say_id(self):\n",
    "    print(\"My id is {}.\".format(self.id))\n",
    "\n",
    "class Admin(Employee):\n",
    "  def say_id(self):\n",
    "    super().say_id()\n",
    "    print(\"I am an admin.\")\n",
    "\n",
    "# Write your code below\n",
    "\n",
    "\n",
    "e1 = Employee()\n",
    "e2 = Employee()\n",
    "e3 = Admin()"
   ]
  },
  {
   "attachments": {},
   "cell_type": "markdown",
   "metadata": {},
   "source": [
    "## Multiple Inheritance: Part 2\n",
    "Another form of multiple inhertance involves a subclass that inherits directly from two classes and can use the attributes and methods of both."
   ]
  },
  {
   "cell_type": "code",
   "execution_count": 4,
   "metadata": {},
   "outputs": [
    {
     "name": "stdout",
     "output_type": "stream",
     "text": [
      "Fluffy wags tail. Awwww\n",
      "Fluffy bites. OUCH!\n"
     ]
    }
   ],
   "source": [
    "class Animal:\n",
    "  def __init__(self, name):\n",
    "    self.name = name\n",
    " \n",
    "class Dog(Animal):\n",
    "  def action(self):\n",
    "    print(\"{} wags tail. Awwww\".format(self.name))\n",
    " \n",
    "class Wolf(Animal):\n",
    "  def action(self):\n",
    "    print(\"{} bites. OUCH!\".format(self.name))\n",
    " \n",
    "class Hybrid(Dog, Wolf):\n",
    "  def action(self):\n",
    "    super().action()\n",
    "    Wolf.action(self)\n",
    " \n",
    "my_pet = Hybrid(\"Fluffy\")\n",
    "my_pet.action() # Fluffy wags tail. Awwww\n",
    "                # Fluffy bites. OUCH!"
   ]
  },
  {
   "attachments": {},
   "cell_type": "markdown",
   "metadata": {},
   "source": [
    "The above example shows the class Hybrid is a subclass of both Dog and Wolf which are also both subclasses of Animal. All 3 subclasses can use the features in Animal and Hybrid can use the features of Dog and Wolf. But, Dog and Wolf can not use each other’s features.\n",
    "\n",
    "This form of multiple inheritance can be useful by adding functionality from a class that does not fit in with the current design scheme of the current classes.\n",
    "\n",
    "Care must be taken when creating an inheritance structure like this, especially when using the super() method. In the above example, calling super().action() inside the Hybrid class invokes the .action() method of the Dog class. This is due to it being listed before Wolf in the Hybrid(Dog, Wolf) definition.\n",
    "\n",
    "The line Wolf.action(self) calls the Wolf class .action() method. The important thing to note here is that self is passed as an argument. This ensures that the .action() method in Wolf receives the Hybrid class instance to output the correct name.\n",
    "\n",
    "#### Instructions\n",
    "1.\n",
    "Admins in the company need access to the consumer-facing website. This means that admins must also be users of the site.\n",
    "\n",
    "The class User has been added and has the attributes username and role and the .say_user_info() method.\n",
    "\n",
    "To get the admins the user access they need:\n",
    "\n",
    "Have the Admin class inherit from the User class alongside the Employee class. Be sure to have the Employee class listed first in the Admin class definition.\n",
    "\n",
    "Stuck? Get a hint\n",
    "2.\n",
    "Now let’s make sure the admins get their user data set up.\n",
    "\n",
    "Inside the .__init__() method of the Admin class:\n",
    "\n",
    "Call the .__init__() method of the User class\n",
    "Pass the Admin class instance, id and the string \"Admin\" as arguments to the .__init__() method call\n",
    "\n",
    "Stuck? Get a hint\n",
    "3.\n",
    "Confirm the user data is set up correctly.\n",
    "\n",
    "Call the .say_user_info() method using the Admin instance in e3"
   ]
  },
  {
   "cell_type": "code",
   "execution_count": 5,
   "metadata": {},
   "outputs": [],
   "source": [
    "class Employee():\n",
    "  new_id = 1\n",
    "  def __init__(self):\n",
    "    self.id = Employee.new_id\n",
    "    Employee.new_id += 1\n",
    "\n",
    "  def say_id(self):\n",
    "    print(\"My id is {}.\".format(self.id))\n",
    "\n",
    "class User:\n",
    "  def __init__(self, username, role=\"Customer\"):\n",
    "    self.username = username\n",
    "    self.role = role\n",
    "\n",
    "  def say_user_info(self):\n",
    "    print(\"My username is {}\".format(self.username))\n",
    "    print(\"My role is {}\".format(self.role))\n",
    "\n",
    "# Write your code below\n",
    "class Admin(Employee, User):\n",
    "  def __init__(self):\n",
    "    super().__init__()\n",
    "    \n",
    "\n",
    "  def say_id(self):\n",
    "    super().say_id()\n",
    "    print(\"I am an admin.\")\n",
    "\n",
    "e1 = Employee()\n",
    "e2 = Employee()\n",
    "e3 = Admin()"
   ]
  },
  {
   "attachments": {},
   "cell_type": "markdown",
   "metadata": {},
   "source": [
    "## OOP Pillar: Polymorphism\n",
    "In computer programming, polymorphism is the ability to apply an identical operation onto different types of objects. This can be useful when an object type may not be known at the program runtime. Polymorphism can be applied using Python in multiple ways. We have already experienced a form of it when exploring inheritance."
   ]
  },
  {
   "cell_type": "code",
   "execution_count": 6,
   "metadata": {},
   "outputs": [],
   "source": [
    "class Animal:\n",
    "  def __init__(self, name):\n",
    "    self.name = name\n",
    " \n",
    "  def make_noise(self):\n",
    "    print(\"{} says, Grrrr\".format(self.name))\n",
    " \n",
    "class Cat(Animal):\n",
    " \n",
    "  def make_noise(self):\n",
    "    print(\"{} says, Meow!\".format(self.name))\n",
    " \n",
    "class Robot:\n",
    " \n",
    "  def make_noise(self):\n",
    "    print(\"beep.boop...BEEEEP!!!\")"
   ]
  },
  {
   "attachments": {},
   "cell_type": "markdown",
   "metadata": {},
   "source": [
    "The example above shows an Animal class, its subclass Cat, and another standalone class Robot. Each class has a method .make_noise() with different outputs. The identical method name with different behaviors is a form of polymorphism."
   ]
  },
  {
   "cell_type": "code",
   "execution_count": 7,
   "metadata": {},
   "outputs": [
    {
     "name": "stdout",
     "output_type": "stream",
     "text": [
      "Bear says, Grrrr\n",
      "Maisy says, Meow!\n",
      "beep.boop...BEEEEP!!!\n"
     ]
    }
   ],
   "source": [
    "an_animal = Animal(\"Bear\")\n",
    "my_pet = Cat(\"Maisy\")\n",
    "my_vacuum = Robot()\n",
    "objects = [an_animal, my_pet, my_vacuum]\n",
    "for o in objects:\n",
    "  o.make_noise()\n",
    " \n",
    "# OUTPUT\n",
    "# \"Bear says, Grrrr\"\n",
    "# \"Maisy says, Meow!\"\n",
    "# \"beep.boop...BEEEEP!!!\""
   ]
  },
  {
   "attachments": {},
   "cell_type": "markdown",
   "metadata": {},
   "source": [
    "With the classes instantiated and added to a list, we are able to iterate through the list and call .make_noise(). This is done without needing to know what type of class .make_noise() belongs to.\n",
    "\n",
    "#### Instructions\n",
    "1.\n",
    "A meeting needs to be scheduled with at least one employee, one admin and one manager.\n",
    "\n",
    "Define a variable meeting and set it equal to a list that contains an instance of each class, Employee(), Admin() and Manager()\n",
    "\n",
    "Stuck? Get a hint\n",
    "2.\n",
    "With the different types of employees in the meeting, have them all say their ID.\n",
    "\n",
    "Using a for loop iterate through the list meeting\n",
    "Using your defined loop variable, call the .say_id() method on each instance in the list"
   ]
  },
  {
   "cell_type": "code",
   "execution_count": 8,
   "metadata": {},
   "outputs": [],
   "source": [
    "class Employee():\n",
    "  new_id = 1\n",
    "  def __init__(self):\n",
    "    self.id = Employee.new_id\n",
    "    Employee.new_id += 1\n",
    "\n",
    "  def say_id(self):\n",
    "    print(\"My id is {}.\".format(self.id))\n",
    "\n",
    "class Admin(Employee):\n",
    "  def say_id(self):\n",
    "    super().say_id()\n",
    "    print(\"I am an admin.\")\n",
    "\n",
    "class Manager(Admin):\n",
    "  def say_id(self):\n",
    "    super().say_id()\n",
    "    print(\"I am in charge!\")\n",
    "\n",
    "# Write your code below"
   ]
  },
  {
   "attachments": {},
   "cell_type": "markdown",
   "metadata": {},
   "source": [
    "## Dunder Methods\n",
    "The code below shows that when working with different object types like, int, str or list, the + operator performs different functions. This is known as operator overloading and is another form of polymorphism."
   ]
  },
  {
   "cell_type": "code",
   "execution_count": 9,
   "metadata": {},
   "outputs": [
    {
     "data": {
      "text/plain": [
       "True"
      ]
     },
     "execution_count": 9,
     "metadata": {},
     "output_type": "execute_result"
    }
   ],
   "source": [
    "# For an int and an int, + returns an int\n",
    "2 + 4 == 6\n",
    " \n",
    "# For a string and a string, + returns a string\n",
    "\"Is this \" + \"addition?\" == \"Is this addition?\"\n",
    " \n",
    "# For a list and a list, + returns a list\n",
    "[1, 2] + [3, 4] == [1, 2, 3, 4]"
   ]
  },
  {
   "attachments": {},
   "cell_type": "markdown",
   "metadata": {},
   "source": [
    "To implement this behavior, we must first discuss dunder methods. Every defined class in Python has access to a group of these special methods. We’ve explored a few already, the constructor __init__() and the string representation method __repr__(). The name dunder method is derived from the Double UNDERscores that surround the name of each method.\n",
    "\n",
    "Recall that the __repr__() method takes only one parameter, self, and must return a string value. The returned value should be a string representation of the class, which can be seen by using print() on an instance of the class. Review the sample code below for an example of how this method is used.\n",
    "\n",
    "Defining a class’s dunder methods is a way to perform operator overloading."
   ]
  },
  {
   "cell_type": "code",
   "execution_count": 10,
   "metadata": {},
   "outputs": [
    {
     "name": "stdout",
     "output_type": "stream",
     "text": [
      "Horse\n",
      "Penguin\n",
      "HorsePenguin\n"
     ]
    }
   ],
   "source": [
    "class Animal:\n",
    "  def __init__(self, name):\n",
    "    self.name = name\n",
    " \n",
    "  def __repr__(self):\n",
    "    return self.name\n",
    " \n",
    "  def __add__(self, another_animal):\n",
    "    return Animal(self.name + another_animal.name)\n",
    " \n",
    "a1 = Animal(\"Horse\")\n",
    "a2 = Animal(\"Penguin\")\n",
    "a3 = a1 + a2\n",
    "print(a1) # Prints \"Horse\"\n",
    "print(a2) # Prints \"Penguin\"\n",
    "print(a3) # Prints \"HorsePenguin\""
   ]
  },
  {
   "attachments": {},
   "cell_type": "markdown",
   "metadata": {},
   "source": [
    "The above code has the class Animal with a dunder method, .__add__(). This defines the + operator behavior when used on objects of this class type. The method returns a new Animal object with the names of the operand objects concatenated. In this example, we have created a \"HorsePenguin\"!\n",
    "\n",
    "The line of code a3 = a1 + a2 invokes the .__add__() method of the left operand, a1, with the right operand a2 passed as an argument. The name attributes of a1 and a2 are concatenated using the .__add__() parameters, self and another_animal. The resulting string is used as the name of a new Animal object which is returned to become the value of a3.\n",
    "\n",
    "#### Instructions\n",
    "1.\n",
    "There is now a Meeting class with an attendees list attribute and an .__add__() dunder method that adds Employee instances to the attendees list. Before we try and add employees to a meeting, we want to make sure we can know how many employees are in a meeting.\n",
    "\n",
    "Inside the Meeting class:\n",
    "\n",
    "Overload the len() operation by defining a __len__() dunder method\n",
    "Inside the __len__() definition, return the length of the attribute attendees\n",
    "Checkpoint 2 Passed\n",
    "\n",
    "Stuck? Get a hint\n",
    "2.\n",
    "Now add three employees to a meeting:\n",
    "\n",
    "Using the Meeting instance m1, add each of the employee instances e1, e2, and e3. Use one line for each employee instance.\n",
    "Output the length of meeting instance m1\n",
    "You should see the output from each employee being added and then the length of the meeting, 3."
   ]
  },
  {
   "cell_type": "code",
   "execution_count": 11,
   "metadata": {},
   "outputs": [],
   "source": [
    "class Employee():\n",
    "  new_id = 1\n",
    "  def __init__(self):\n",
    "    self.id = Employee.new_id\n",
    "    Employee.new_id += 1\n",
    "\n",
    "class Meeting:\n",
    "  def __init__(self):\n",
    "    self.attendees = []\n",
    "    \n",
    "  def __len__(self):\n",
    "    return len(self.attendees)\n",
    "  \n",
    "  def __add__(self, employee):\n",
    "    print(\"ID {} added.\".format(employee.id))\n",
    "    self.attendees.append(employee)\n",
    "\n",
    "  # Write your code\n",
    "  \n",
    "    \n",
    "e1 = Employee()\n",
    "e2 = Employee()\n",
    "e3 = Employee()\n",
    "m1 = Meeting()"
   ]
  },
  {
   "attachments": {},
   "cell_type": "markdown",
   "metadata": {},
   "source": [
    "## OOP Pillar: Abstraction\n",
    "When a program starts to get big, classes might start to share functionality or we may lose sight of the purpose of a class’s inheritance structure. In order to alleviate issues like this, we can use the concept of abstraction.\n",
    "\n",
    "Abstraction helps with the design of code by defining necessary behaviors to be implemented within a class structure. By doing so, abstraction also helps avoid leaving out or overlapping class functionality as class hierarchies get larger."
   ]
  },
  {
   "cell_type": "code",
   "execution_count": 14,
   "metadata": {},
   "outputs": [
    {
     "name": "stdout",
     "output_type": "stream",
     "text": [
      "Maisy says, Meow!\n",
      "Amber says, Woof!\n"
     ]
    }
   ],
   "source": [
    "from abc import ABC, abstractmethod\n",
    " \n",
    "class Animal(ABC):\n",
    "  def __init__(self, name):\n",
    "    self.name = name\n",
    " \n",
    "  @abstractmethod\n",
    "  def make_noise(self):\n",
    "    pass\n",
    " \n",
    "class Cat(Animal):\n",
    "  def make_noise(self):\n",
    "    print(\"{} says, Meow!\".format(self.name))\n",
    " \n",
    "class Dog(Animal):\n",
    "  def make_noise(self):\n",
    "    print(\"{} says, Woof!\".format(self.name))\n",
    " \n",
    "kitty = Cat(\"Maisy\")\n",
    "doggy = Dog(\"Amber\")\n",
    "kitty.make_noise() # \"Maisy says, Meow!\"\n",
    "doggy.make_noise() # \"Amber says, Woof!\""
   ]
  },
  {
   "attachments": {},
   "cell_type": "markdown",
   "metadata": {},
   "source": [
    "Above we have Cat and Dog classes that inherit from Animal. The Animal class now inherits from an imported class ABC, which stands for Abstract Base Class.\n",
    "\n",
    "This is the first step to making Animal an abstract class that cannot be instantiated. The second step is using the imported decorator @abstractmethod on the empty method .make_noise().\n",
    "\n",
    "The below line of code would throw an error.\n",
    "\n",
    "```python\n",
    "an_animal = Animal(\"Scruffy\")\n",
    " \n",
    "# TypeError: Can't instantiate abstract class Animal with abstract method make_noise\n",
    "\n",
    "```\n",
    "\n",
    "The abstraction process defines what an Animal is but does not allow the creation of one. The .__init__() method still requires a name, since we feel all animals deserve a name.\n",
    "\n",
    "The .make_noise() method exists since all animals make some form of noise, but the method is not implemented since each animal makes a different noise. Each subclass of Animal is now required to define their own .make_noise() method or an error will occur.\n",
    "\n",
    "These are some of the ways abstraction supports the design of an organized class structure.\n",
    "\n",
    "#### Instructions\n",
    "1.\n",
    "Take a look at the code in script.py. The abstract class AbstractEmployee is defined. It has all the logic that has previously existed in the Employee class, except that the .say_id() method is not implemented and has the @abstractmethod decorator.\n",
    "\n",
    "The Employee class currently has no implementation.\n",
    "\n",
    "Run the code and observe that e1.say_id() is causing an AttributeError since the Employee class has no implementation.\n",
    "\n",
    "\n",
    "Stuck? Get a hint\n",
    "2.\n",
    "Let’s fix this error:\n",
    "\n",
    "Make the Employee class inherit from the AbstractEmployee class\n",
    "\n",
    "Stuck? Get a hint\n",
    "3.\n",
    "Nice work! But wait, there’s still an error!\n",
    "\n",
    "TypeError: Can't instantiate abstract class Employee with abstract methods say_id\n",
    "The .say_id() method in the AbstractEmployee class uses the @abstractmethod decorator. This means any class that inherits from AbstractEmployee must implement a .say_id() method.\n",
    "\n",
    "Inside the Employee class replace the pass statement, then:\n",
    "\n",
    "Define a say_id() method that outputs a message with self.id\n",
    "When complete you should see the output in the console."
   ]
  },
  {
   "cell_type": "code",
   "execution_count": 15,
   "metadata": {},
   "outputs": [
    {
     "ename": "TypeError",
     "evalue": "Can't instantiate abstract class Employee with abstract method say_id",
     "output_type": "error",
     "traceback": [
      "\u001b[0;31m---------------------------------------------------------------------------\u001b[0m",
      "\u001b[0;31mTypeError\u001b[0m                                 Traceback (most recent call last)",
      "Cell \u001b[0;32mIn[15], line 17\u001b[0m\n\u001b[1;32m     14\u001b[0m \u001b[39mclass\u001b[39;00m \u001b[39mEmployee\u001b[39;00m(AbstractEmployee):\n\u001b[1;32m     15\u001b[0m     \u001b[39mpass\u001b[39;00m\n\u001b[0;32m---> 17\u001b[0m e1 \u001b[39m=\u001b[39m Employee()\n\u001b[1;32m     18\u001b[0m e1\u001b[39m.\u001b[39msay_id()\n",
      "\u001b[0;31mTypeError\u001b[0m: Can't instantiate abstract class Employee with abstract method say_id"
     ]
    }
   ],
   "source": [
    "from abc import ABC, abstractmethod\n",
    "\n",
    "class AbstractEmployee(ABC):\n",
    "  new_id = 1\n",
    "  def __init__(self):\n",
    "    self.id = AbstractEmployee.new_id\n",
    "    AbstractEmployee.new_id += 1\n",
    "\n",
    "  @abstractmethod\n",
    "  def say_id(self):\n",
    "    pass\n",
    "\n",
    "# Write your code below\n",
    "class Employee(AbstractEmployee):\n",
    "    pass\n",
    "\n",
    "e1 = Employee()\n",
    "e1.say_id()"
   ]
  },
  {
   "attachments": {},
   "cell_type": "markdown",
   "metadata": {},
   "source": [
    "## OOP Pillar: Encapsulation\n",
    "Encapsulation is the process of making methods and data hidden inside the object they relate to. Languages accomplish this with what are called access modifiers like:\n",
    "\n",
    "* Public\n",
    "* Protected\n",
    "* Private\n",
    "\n",
    "In general, public members can be accessed from anywhere, protected members can only be accessed from code within the same module and private members can only be accessed from code within the class that these members are defined.\n",
    "\n",
    "Python doesn’t have any inbuilt mechanism to prevent access from any member (i.e. all members are public in Python). However, there is a common convention amongst developers to use a single underscore self._x to indicate that a member is protected. Accessing a protected member outside of the module will not cause an error, it is added by developers to inform other developers that they should be careful when accessing this member in such a manner.\n",
    "\n",
    "Similarly, we can declare a member as private with two leading underscores self.__x. This is more than just a convention in Python because of a mechanism called name mangling. Members that are preceded with two underscores have their names modified in the background to obj._Classname__x. While they can still be publicly accessed, the purpose of this mechanism is to prevent clashing member names of any inheriting classes that might define a member of the same name.\n",
    "\n",
    "Note that this is different from the dunder methods we discussed earlier. A dunder method has two leading and two trailing underscores and is treated differently than a private member. One important difference is that dunder method names are not mangled.\n",
    "\n",
    "#### Instructions\n",
    "1.\n",
    "The Employee class contains one attribute id. An instance variable e is defined and then passed to the function dir() which is output to the console.\n",
    "\n",
    "dir() is a built-in Python function that returns a list of all class members, including dunder methods.\n",
    "\n",
    "When you run the code, you will see a list of class members with id as the last element.\n",
    "\n",
    "\n",
    "Stuck? Get a hint\n",
    "2.\n",
    "Now add an attribute that uses the single underscore naming convention.\n",
    "\n",
    "Inside the Employee class .__init__() method:\n",
    "\n",
    "Define the single underscore variable_id and set it equal to whatever you want\n",
    "When you run the code you can see _id as the second to last element in the output list.\n",
    "\n",
    "\n",
    "Stuck? Get a hint\n",
    "3.\n",
    "Now define a variable using the double-underscore.\n",
    "\n",
    "Inside the Employee class .__init__() method:\n",
    "\n",
    "Define the double underscore variable __id and set it equal to whatever you want\n",
    "When you run the code you can see a new variable _Employee__id as the first element in the output list. This is the result of name-mangling the variable self.__id."
   ]
  },
  {
   "cell_type": "code",
   "execution_count": 16,
   "metadata": {},
   "outputs": [
    {
     "name": "stdout",
     "output_type": "stream",
     "text": [
      "['__class__', '__delattr__', '__dict__', '__dir__', '__doc__', '__eq__', '__format__', '__ge__', '__getattribute__', '__getstate__', '__gt__', '__hash__', '__init__', '__init_subclass__', '__le__', '__lt__', '__module__', '__ne__', '__new__', '__reduce__', '__reduce_ex__', '__repr__', '__setattr__', '__sizeof__', '__str__', '__subclasshook__', '__weakref__', 'id']\n"
     ]
    }
   ],
   "source": [
    "class Employee():\n",
    "    def __init__(self):\n",
    "        self.id = None\n",
    "        # Write your code below\n",
    "        \n",
    "\n",
    "e = Employee()\n",
    "print(dir(e))"
   ]
  },
  {
   "attachments": {},
   "cell_type": "markdown",
   "metadata": {},
   "source": [
    "## Getters, Setters and Deleters\n",
    "Using getter, setter, and deleter functions are one way to implement encapsulation within Python where the state of class attributes can be handled within the class. These functions are useful in making sure that the data being handled is appropriate for the defined class functionality."
   ]
  },
  {
   "cell_type": "code",
   "execution_count": 17,
   "metadata": {},
   "outputs": [],
   "source": [
    "class Animal:\n",
    "  def __init__(self, name):\n",
    "    self._name = name\n",
    "    self._age = None\n",
    " \n",
    "  def get_age(self):\n",
    "    return self._age\n",
    " \n",
    "  def set_age(self, new_age):\n",
    "    if isinstance(new_age, int):\n",
    "      self._age = new_age\n",
    "    else:\n",
    "      raise TypeError\n",
    " \n",
    "  def delete_age(self):\n",
    "    print(\"_age Deleted\")\n",
    "    del self._age"
   ]
  },
  {
   "attachments": {},
   "cell_type": "markdown",
   "metadata": {},
   "source": [
    "Looking at the Animal class above there is an _age attribute with a single underscore. This notates it is intended to be used only within the module. There are then 3 methods related to age each with a different purpose. These define the getter, setter, and deleter of the specific property.\n",
    "\n",
    "The first method related to age is a getter and returns self._age. The setter is implemented below that. It includes logic that ensures that the value passed to new_age is an integer. If so, self._age = new_age. If not, raise an error. This is useful and shows the power of using these functions for encapsulation.\n",
    "\n",
    "The deleter is implemented below the setter. It outputs a confirmation message and uses the del keyword to delete the self._age attribute."
   ]
  },
  {
   "cell_type": "code",
   "execution_count": null,
   "metadata": {},
   "outputs": [],
   "source": [
    "a = Animal(\"Rufus\")\n",
    "print(a.get_age()) # None\n",
    " \n",
    "a.set_age(10)\n",
    "print(a.get_age()) # 10\n",
    " \n",
    "a.set_age(\"Ten\") # Raises a TypeError\n",
    " \n",
    "a.delete_age() # \"_age Deleted\"\n",
    "print(a.get_age()) # Raises a AttributeError"
   ]
  },
  {
   "attachments": {},
   "cell_type": "markdown",
   "metadata": {},
   "source": [
    "Above we see a.get_age() gets the _age value, a.set_age(10) sets the value and a.delete_age() deletes the attribute entirely. A TypeError occurs with a.set_age(\"Ten\") because the defined logic in the setter is looking only for an integer. An AttributeError occurs with a.get_age() after the attribute was deleted.\n",
    "\n",
    "#### Instructions\n",
    "1.\n",
    "Using a getter, setter, and the single underscore naming convention, the employees of the company will now be able to use their names. The single underscore attribute _name has been added to the Employee class. Names default to None unless a string argument is passed during instantiation.\n",
    "\n",
    "Inside the Employee class:\n",
    "\n",
    "Define a getter method called get_name() that returns the class attribute _name.\n",
    "\n",
    "Stuck? Get a hint\n",
    "2.\n",
    "Add a setter method.\n",
    "\n",
    "Inside the Employee class:\n",
    "\n",
    "Define a setter method set_name that has an additional parameter for the name string and sets the class attribute _name.\n",
    "\n",
    "Stuck? Get a hint\n",
    "3.\n",
    "Lastly, Add a deleter method.\n",
    "\n",
    "Inside the Employee class:\n",
    "\n",
    "Define a deleter method del_name that deletes the attribute.\n",
    "\n",
    "Stuck? Get a hint\n",
    "4.\n",
    "Great job defining the getter and setter. Uncomment the code at the bottom of script.py to test out the getter, setter, and deleter.\n",
    "\n",
    "Move on to the next exercise to wrap up the lesson!"
   ]
  },
  {
   "cell_type": "code",
   "execution_count": 18,
   "metadata": {},
   "outputs": [],
   "source": [
    "class Employee():\n",
    "  new_id = 1\n",
    "  def __init__(self, name=None):\n",
    "    self.id = Employee.new_id\n",
    "    Employee.new_id += 1\n",
    "    self._name = name\n",
    "\n",
    "  # Write your code below\n",
    "  \n",
    "\n",
    "e1 = Employee(\"Maisy\")\n",
    "e2 = Employee()\n",
    "\n",
    "\n",
    "\n",
    "# e1 = Employee(\"Maisy\")\n",
    "# e2 = Employee()\n",
    "# print(e1.get_name())\n",
    "\n",
    "# e2.set_name(\"Fluffy\")\n",
    "# print(e2.get_name())\n",
    "\n",
    "# e2.del_name()\n",
    "# print(e2.get_name())"
   ]
  },
  {
   "attachments": {},
   "cell_type": "markdown",
   "metadata": {},
   "source": [
    "## Review\n",
    "Congratulations! You’ve completed the object-oriented programming with Python lesson. Let’s do a quick recap of what you learned.\n",
    "\n",
    "We discussed the four pillars of object-oriented programming as they apply to the Python programming language.\n",
    "\n",
    "* **Inheritance**\n",
    "Python allows classes to inherit on multiple levels. Meaning a class can inherit from a base class as well as a derived class. Python also supports multiple inheritance, where one class can inherit from any number of other classes. This allows us to describe complex relationships between objects with minimal repeated code.\n",
    "\n",
    "* **Polymorphism**\n",
    "Polymorphism is a concept that allows functions and objects to behave in different ways depending on context. There is the polymorphism of functions like len() or the addition operator +, which can act differently depending on the provided data.\n",
    "\n",
    "* **Abstraction**\n",
    "Python supports the concept of abstraction by allowing objects with methods that have the same name, to be called in a general manner. Further, Python provides the Abstract Base Class (ABC) for us to create a more clearly defined interface.\n",
    "\n",
    "* **Encapsulation**\n",
    "Python’s approach to encapsulation is unique compared to most other object-oriented programming languages. In Python, all members of an object are publicly accessible but there are conventions to indicate to developers that a member is intended to be protected or private.\n",
    "\n",
    "In this lesson, we learned more complicated relationships between classes. We learned:\n",
    "\n",
    "* How to create a subclass of an existing class.\n",
    "* How to redefine existing methods of a parent class in a subclass by overriding them.\n",
    "* How to leverage a parent class’s methods in the body of a subclass method using the super() function.\n",
    "* How to write programs that are flexible using interfaces and polymorphism.\n",
    "* How to write data types that look and feel like native data types with dunder methods.\n",
    "\n",
    "These are really complicated concepts! It’s a long journey to get to the state of comfortably being able to build class hierarchies that embody the concerns that your software will need to. Give yourself a pat on the back, you earned it!\n",
    "\n",
    "#### Instructions\n",
    "Take a look at the code in script.py. We’ve added a complete example that aligns with the four pillars of object-oriented programming. Can you identify each one within the class interactions?"
   ]
  },
  {
   "cell_type": "code",
   "execution_count": 19,
   "metadata": {},
   "outputs": [],
   "source": [
    "from abc import ABC, abstractmethod\n",
    "\n",
    "class AbstractEmployee(ABC):\n",
    "  new_id = 1\n",
    "  def __init__(self):\n",
    "    self.id = AbstractEmployee.new_id\n",
    "    AbstractEmployee.new_id += 1\n",
    "\n",
    "  @abstractmethod\n",
    "  def say_id(self):\n",
    "    pass\n",
    "\n",
    "class User:\n",
    "  def __init__(self):\n",
    "    self._username = None\n",
    "\n",
    "  @property\n",
    "  def username(self):\n",
    "    return self._username\n",
    "\n",
    "  @username.setter\n",
    "  def username(self, new_name):\n",
    "    self._username = new_name\n",
    "\n",
    "class Meeting:\n",
    "  def __init__(self):\n",
    "    self.attendees = []\n",
    "  \n",
    "  def __add__(self, employee):\n",
    "    print(\"{} added.\".format(employee.username))\n",
    "    self.attendees.append(employee.username)\n",
    "\n",
    "  def __len__(self):\n",
    "    return len(self.attendees)\n",
    "\n",
    "class Employee(AbstractEmployee, User):\n",
    "    def __init__(self, username):\n",
    "      super().__init__()\n",
    "      User.__init__(self)\n",
    "      self.username = username\n",
    "\n",
    "    def say_id(self):\n",
    "      print(\"My id is {}\".format(self.id))\n",
    " \n",
    "    def say_username(self):\n",
    "      print(\"My username is {}\".format(self.username))"
   ]
  },
  {
   "cell_type": "code",
   "execution_count": null,
   "metadata": {},
   "outputs": [],
   "source": []
  }
 ],
 "metadata": {
  "kernelspec": {
   "display_name": "Python 3",
   "language": "python",
   "name": "python3"
  },
  "language_info": {
   "codemirror_mode": {
    "name": "ipython",
    "version": 3
   },
   "file_extension": ".py",
   "mimetype": "text/x-python",
   "name": "python",
   "nbconvert_exporter": "python",
   "pygments_lexer": "ipython3",
   "version": "3.11.3"
  },
  "orig_nbformat": 4
 },
 "nbformat": 4,
 "nbformat_minor": 2
}
