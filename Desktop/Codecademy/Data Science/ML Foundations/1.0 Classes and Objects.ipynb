{
 "cells": [
  {
   "attachments": {},
   "cell_type": "markdown",
   "metadata": {},
   "source": [
    "# Classes And Objects"
   ]
  },
  {
   "attachments": {},
   "cell_type": "markdown",
   "metadata": {},
   "source": [
    "Classes can be used to represent many categories of things. - Characters in a Game - User Accounts - Types of Data - And More! Classes are a way to essentially _create your own variable types_. It requires you to think deeply about what categories of things your program is using, what attributes those things have, and what those things can do.\n",
    "\n",
    "https://youtu.be/nVrQO2eVU7A"
   ]
  },
  {
   "attachments": {},
   "cell_type": "markdown",
   "metadata": {},
   "source": [
    "tetetete"
   ]
  },
  {
   "attachments": {},
   "cell_type": "markdown",
   "metadata": {},
   "source": [
    "## Turning a Real World Concept Into a Class\n",
    "Now that we’ve seen what classes are, let’s model a real-world concept as a class.\n",
    "\n",
    "### Designing Classes\n",
    "Now that we’ve gotten a sense of what classes and objects are and how they’re used in code, let’s turn a real-world concept into a class.\n",
    "\n",
    "A class is made up of attributes and methods (sometimes known as functions).\n",
    "\n",
    "* An attribute can be thought of as something a class has. These are often nouns or adjectives.\n",
    "\n",
    "* A method can be thought of as something a class can do. These are often verbs.\n",
    "\n",
    "Let’s run through an example of this exercise with a real-life object — let’s write down the attributes and methods of a Dog (notice we’re capitalizing the D in Dog. Class names are always capitalized).\n",
    "\n",
    "### Attributes: What a Dog Is\n",
    "Let’s start with the attributes. What are some adjectives and nouns associated with Dogs? What do Dogs have?\n",
    "\n",
    "* A Dog could have a name and a breed. Both of those attributes would probably be Strings.\n",
    "* A Dog could have an age. That attribute is probably an integer (or maybe a float, if we want to represent age using a decimal).\n",
    "* A Dog could have boolean attributes like is_friendly. This would be a value that is either True or False.\n",
    "* Finally, Dogs can have more complicated attributes, like an owner. We could represent that attribute using another string, but what if we wanted to know more information about that person? Well, there’s no reason why we couldn’t make a Person class in the same way we’re making a Dog class. That’s right, one class can have an attribute that is an object of a different class!\n",
    "\n",
    "### Methods: What a Dog Can Do\n",
    "Let’s now think about a Dog‘s methods. What can a Dog do? Usually, these methods will be related to at least one of your attributes.\n",
    "\n",
    "* A Dog can have_a_birthday() — this would probably increase the age variable by one.\n",
    "* A Dog can bark(). This might not relate to any attribute. Perhaps we want all dogs to bark in the same exact way! Or maybe we could add a size variable and when a dog uses its bark() method, that method does something different depending on the dog’s size.\n",
    "* A Dog can walk(). This would probably update a position attribute. As you can see, thinking of a Class’s methods can sometimes inform what attributes should exist.\n",
    "\n",
    "#### Your Turn!\n",
    "Free response\n",
    "\n",
    "Now it’s your turn. Think of a real-world concept that you want to represent as a Class.\n",
    "\n",
    "List out the class attributes along with their data types (for example string, integer, or even another custom class like Person). Think of the nouns and adjectives that are associated with your object.\n",
    "\n",
    "Then list out the class methods. Think of the verbs that are associated with your object. How will those methods interact with the attributes you thought of?\n",
    "\n",
    "After submitting your answer, you’ll get to see another one of our responses.\n",
    "\n",
    "##### Your response\n",
    "Cat attributes breed, color = string age = interger friendly, meow = bolean\n",
    "\n",
    "Our answer\n",
    "Let’s model a Television.\n",
    "\n",
    "In our design of a Television class, we included the following attributes:\n",
    "\n",
    "* is_on — a boolean describing if the television is on or off.\n",
    "* current_volume — an integer describing the volume level of the tv.\n",
    "* current_channel — an integer describing the current channel the tv is set to.\n",
    "* brand — a string representing the brand of the tv.\n",
    "\n",
    "A Television has the following methods:\n",
    "\n",
    "* toggle_power() — Turns the tv on or off by using the is_on attribute.\n",
    "* channel_up() — Increases current_channel by 1.\n",
    "* set_channel(new_channel) — Sets current_channel to new_channel, the value passed into the method.\n"
   ]
  },
  {
   "attachments": {},
   "cell_type": "markdown",
   "metadata": {},
   "source": [
    "## Creating a Dog Class\n",
    "In this article, you’ll learn how to create a Dog class.\n",
    "\n",
    "Creating a Dog Class\n",
    "\n",
    "We can represent real-life objects using Python - let’s give it a try! We’ll build a Dog class while you create your own pet.\n",
    "\n",
    "### Attributes: What a Dog Is\n",
    "Let’s start by reminding ourselves of the attributes of a dog. These are the adjectives and nouns associated with a dog.\n",
    "\n",
    "Dogs might have simple attributes like a:\n",
    "\n",
    "* Name (e.g. “Sparky”)\n",
    "* Breed (e.g. “Golden Retriever”)\n",
    "* Age (e.g. 5)\n",
    "Dogs might also have things that are true about them:\n",
    "\n",
    "* Is our dog friendly? (e.g. True)\n",
    "\n",
    "Let’s start by adding these simple attributes and one true/false attribute to our Dog class. We’ll create the class Dog and create an __init__ method. This method, which we call the constructor, defines who our dog will be when first created!"
   ]
  },
  {
   "cell_type": "code",
   "execution_count": 18,
   "metadata": {},
   "outputs": [],
   "source": [
    "class Dog:\n",
    "  # To create a Dog, give it a name, breed, and age. age is in years. \n",
    "  # If you don't give an age, we'll say it's 0 years old (a puppy).\n",
    "  # All dogs also start as friendly!\n",
    "  def __init__(self, input_name, input_breed, input_age = 0, input_friendliness = True):\n",
    "    # self.name is this specific dog's name\n",
    "    self.name = input_name\n",
    "    self.breed = input_breed\n",
    "    self.age = input_age\n",
    "    self.is_friendly = input_friendliness"
   ]
  },
  {
   "attachments": {},
   "cell_type": "markdown",
   "metadata": {},
   "source": [
    "self will refer to a specific dog that we create. self.age refers to that specific dog’s age.\n",
    "\n",
    "We can create a new dog by calling our constructor. Notice, we call it by saying Dog(...), not __init__. In this example, dog_one will be a Dog named “Sparky”, who is a 5-year-old “Golden Retriever”. This dog is automatically friendly.\n",
    "\n",
    "We can also update our code to add a second Dog: a 10-year old, unfriendly “Chihuahua” named “Bruno”."
   ]
  },
  {
   "cell_type": "code",
   "execution_count": 19,
   "metadata": {},
   "outputs": [
    {
     "name": "stdout",
     "output_type": "stream",
     "text": [
      "<__main__.Dog object at 0x1080adbd0>\n"
     ]
    }
   ],
   "source": [
    "dog_one = Dog(\"Sparky\", \"Golden Retriever\", 5)\n",
    " \n",
    "# This dog will have self.is_friendly set to False\n",
    "dog_two = Dog(\"Bruno\", \"Chihuahua\", 10, False)\n",
    "print(dog_two)"
   ]
  },
  {
   "attachments": {},
   "cell_type": "markdown",
   "metadata": {},
   "source": [
    "We’ve created two instances of our Dog class. An instance is a single occurrence of an object. In this example, we have two occurrences, aka instances, of Dog. They’re both Dogs, but their attributes are specific to each of them."
   ]
  },
  {
   "attachments": {},
   "cell_type": "markdown",
   "metadata": {},
   "source": [
    "##### Coding question\n",
    "\n",
    "Create an __init__ constructor method for a pet of your choice!\n",
    "\n",
    "Try creating a Cat, Turtle, or other pet.\n",
    "Give it at least three attributes.\n",
    "Add one true/false attribute.\n",
    "Create your new pet by calling the constructor!\n",
    "If you’re feeling stuck, you can get an option to see our sample solution after two attempts at checking your code. Check your code twice and then click “View Solution”."
   ]
  },
  {
   "cell_type": "code",
   "execution_count": 20,
   "metadata": {},
   "outputs": [],
   "source": [
    "# Create your class here\n",
    "\n",
    "  # Create a __init__ method\n",
    "\n",
    "\n",
    "# Create a new pet!\n"
   ]
  },
  {
   "cell_type": "code",
   "execution_count": 21,
   "metadata": {},
   "outputs": [
    {
     "name": "stdout",
     "output_type": "stream",
     "text": [
      "<__main__.Cat object at 0x1080bdb10>\n",
      "2\n"
     ]
    }
   ],
   "source": [
    "class Cat:\n",
    "  def __init__(self, name, color, age, hungry = True):\n",
    "    self.name = name\n",
    "    self.color = color\n",
    "    self.age = age\n",
    "    self.hungry = hungry\n",
    "\n",
    "  # Create a __init__ method\n",
    "\n",
    "\n",
    "# Create a new pet!\n",
    "cat_one = Cat('Puss', 'Brown', 2, False)\n",
    "print(cat_one)\n",
    "print(cat_one.age)"
   ]
  },
  {
   "attachments": {},
   "cell_type": "markdown",
   "metadata": {},
   "source": [
    "#### Methods: What a Dog Can Do\n",
    "Let’s now think about a Dog‘s methods. What can a Dog do? Usually, these methods will be related to at least one of your attributes.\n",
    "\n",
    "Dogs might do things like:\n",
    "\n",
    "* Have a Birthday\n",
    "* Bark\n",
    "* Walk\n",
    "* Make a Friend\n",
    "\n",
    "These actions might change some of the attributes we already gave our Dog or necessitate that we add new attributes. Let’s first update our dog to be able to have a birthday. We’ll create a have_birthday method inside of our Dog class."
   ]
  },
  {
   "cell_type": "code",
   "execution_count": 22,
   "metadata": {},
   "outputs": [],
   "source": [
    "class Dog:\n",
    "  def __init__(self, input_name, input_breed, input_age = 0, input_friendliness = True):\n",
    "    # Dog attributes...\n",
    "    self.name = input_name\n",
    "    self.age = input_age\n",
    "    # Other attributes would be listed below...\n",
    " \n",
    "  # The self parameter refers to the specific\n",
    "  # dog we're attaching this method to.\n",
    "  def have_birthday(self):\n",
    "    #  Add one to this specific dog's age.\n",
    "    self.age = self.age + 1\n",
    "    # Print out the change we made.\n",
    "    print(\"{name} had a birthday! {name} is {age} years old.\".format(name = self.name, age = self.age))"
   ]
  },
  {
   "attachments": {},
   "cell_type": "markdown",
   "metadata": {},
   "source": [
    "Remember, self refers to a specific instance of a dog. self.age refers to that specific dog’s age. Using self as a parameter means that the method will be referring to the specific dog we attach the method to.\n",
    "\n",
    "Now, we will tell this specific dog (dog_one) that it had a birthday."
   ]
  },
  {
   "cell_type": "code",
   "execution_count": 23,
   "metadata": {},
   "outputs": [
    {
     "name": "stdout",
     "output_type": "stream",
     "text": [
      "Sparky had a birthday! Sparky is 6 years old.\n"
     ]
    }
   ],
   "source": [
    "dog_one = Dog(\"Sparky\", \"Golden Retriever\", 5)\n",
    " \n",
    "# The self parameter will see that self = dog_one\n",
    "dog_one.have_birthday()\n",
    "# Output: \"Sparky had a birthday! Sparky is 6 years old.\""
   ]
  },
  {
   "attachments": {},
   "cell_type": "markdown",
   "metadata": {},
   "source": [
    "#### Coding question\n",
    "Using the code from your old pet, or create a new pet, let’s add a method that changes one of your pet’s attributes.\n",
    "\n",
    "* Use the Cat class or change the class.\n",
    "* Add a method that changes one of your pet’s attributes.\n",
    "* Inside the method, print out that the attribute changed.\n",
    "* Attach the method to your new pet so we can change that specific pet’s attribute.\n",
    "\n",
    "If you’re feeling stuck, you can get an option to see our sample solution after two attempts at checking your code. Check your code twice and then click “View Solution”."
   ]
  },
  {
   "cell_type": "code",
   "execution_count": 24,
   "metadata": {},
   "outputs": [],
   "source": [
    "# You can start with the\n",
    "# Cat class or erase this\n",
    "# and use your own!\n",
    "class Cat:\n",
    "  def __init__(self, input_name, input_breed, input_age = 0):\n",
    "    self.name = input_name\n",
    "    self.breed = input_breed\n",
    "    self.age = input_age\n",
    "    self.is_cuddly = True\n",
    "  \n",
    "  # Create method to change\n",
    "  # at least one attribute.\n",
    "  # Ex: def change_att(self):\n",
    "\n",
    "\n",
    "# Create your new pet.\n",
    "new_cat = Cat(\"Leo\", \"Tabby\", 3)\n",
    "\n",
    "# Call your method on your\n",
    "# new pet here."
   ]
  },
  {
   "attachments": {},
   "cell_type": "markdown",
   "metadata": {},
   "source": [
    "Let’s add something more complicated to our Dog. Let’s give our dogs the ability to become_friends with another dog. One dog will try to become friends with another dog, BUT they will only be able to become friends if the other dog is friendly.\n",
    "\n",
    "We’ll need to add an array of friends to our Dog constructor. This array will start out empty."
   ]
  },
  {
   "cell_type": "code",
   "execution_count": 28,
   "metadata": {},
   "outputs": [],
   "source": [
    "class Dog:\n",
    "  def __init__(self, input_name, input_breed, input_age = 0, input_friendliness = True):\n",
    "    self.name = input_name\n",
    "    self.breed = input_breed\n",
    "    self.age = input_age\n",
    "    self.is_friendly = input_friendliness\n",
    "    self.friends = []"
   ]
  },
  {
   "attachments": {},
   "cell_type": "markdown",
   "metadata": {},
   "source": [
    "Next, we’ll need to add a method that:\n",
    "\n",
    "Takes in another Dog as an argument\n",
    "\n",
    "Checks if the other dog is friendly\n",
    "\n",
    "If the other dog is friendly, becomes friends with the other dog"
   ]
  },
  {
   "cell_type": "code",
   "execution_count": 29,
   "metadata": {},
   "outputs": [],
   "source": [
    "class Dog:\n",
    "  def __init__(self, input_name, input_breed, input_age = 0, input_friendliness=True):\n",
    "    self.name = input_name\n",
    "    self.breed = input_breed\n",
    "    self.age = input_age\n",
    "    self.is_friendly = input_friendliness\n",
    "    \n",
    "  # Other Dog attributes...\n",
    "    self.friends = []\n",
    " \n",
    "# self will equal this specific dog\n",
    "# other_dog will be an argument we pass in\n",
    "  def become_friends(self, other_dog):\n",
    "    if(other_dog.is_friendly):\n",
    "    # If the other dog is friendly,\n",
    "    # it adds other_dog to its friends\n",
    "      self.friends.append(other_dog)\n",
    "    # The other dog also adds this \n",
    "    # specific dog to its friends\n",
    "      other_dog.friends.append(self)\n",
    "      print(\"{name} become friends with {other_name}!\".format(name = self.name, other_name = other_dog.name))\n",
    "    else:\n",
    "    # If the other dog is NOT friendly,\n",
    "    # no one becomes friends.\n",
    "      print(\"{other_name} did not want to become friends with {name}!\".format(name = self.name, other_name = other_dog.name))"
   ]
  },
  {
   "attachments": {},
   "cell_type": "markdown",
   "metadata": {},
   "source": [
    "Next, we’ll revisit our two _instance_s of our Dog class. In this example, we need two Dogs so they can become friends! First, let’s see if “Sparky”, who is friendly, can become friends with “Bruno” who is NOT friendly."
   ]
  },
  {
   "cell_type": "code",
   "execution_count": 30,
   "metadata": {},
   "outputs": [
    {
     "name": "stdout",
     "output_type": "stream",
     "text": [
      "Bruno did not want to become friends with Sparky!\n"
     ]
    }
   ],
   "source": [
    "dog_one = Dog(\"Sparky\", \"Golden Retriever\", 5)\n",
    "dog_two = Dog(\"Bruno\", \"Chihuahua\", 10, False)\n",
    " \n",
    "# When Sparky asks Bruno, Bruno says no.\n",
    "dog_one.become_friends(dog_two)\n",
    "# Output: \"Bruno did not want to become friends with Sparky!\""
   ]
  },
  {
   "attachments": {},
   "cell_type": "markdown",
   "metadata": {},
   "source": [
    "Since “Bruno” is not friendly, Bruno doesn’t want to be friends! But wait, what if Bruno initiates the friendship? If Bruno asks Sparky, Sparky will accept the friendship because Sparky IS friendly."
   ]
  },
  {
   "cell_type": "code",
   "execution_count": 31,
   "metadata": {},
   "outputs": [
    {
     "name": "stdout",
     "output_type": "stream",
     "text": [
      "Bruno become friends with Sparky!\n"
     ]
    }
   ],
   "source": [
    "dog_one = Dog(\"Sparky\", \"Golden Retriever\", 5)\n",
    "dog_two = Dog(\"Bruno\", \"Chihuahua\", 10, False)\n",
    " \n",
    "# When Bruno asks Sparky, Sparky says yes!\n",
    "dog_two.become_friends(dog_one)\n",
    "# Output: \"Bruno became friends with Sparky!\""
   ]
  },
  {
   "attachments": {},
   "cell_type": "markdown",
   "metadata": {},
   "source": [
    "#### Coding question\n",
    "Using the code from your old pet, or create a new pet, let’s add a method that changes one of your pet’s attributes.\n",
    "\n",
    "* Use the Cat class or change the class.\n",
    "* Create at least two instances of your class.\n",
    "* Add a method that has the two pets interact with each other. This will likely have the format pet_one.method_name(pet_two).\n",
    "* Inside the method, print out what has changed.\n",
    "* Call the method by attaching it to one of the pets.\n"
   ]
  },
  {
   "cell_type": "code",
   "execution_count": 32,
   "metadata": {},
   "outputs": [],
   "source": [
    "# You can start with the\n",
    "# Cat class or erase this\n",
    "# and use your own!\n",
    "class Cat:\n",
    "  def __init__(self, input_name, input_breed, input_age = 0):\n",
    "    self.name = input_name\n",
    "    self.breed = input_breed\n",
    "    self.age = input_age\n",
    "    self.is_cuddly = True\n",
    "  \n",
    "  # Create method where two\n",
    "  # pets interact.\n",
    "  # Ex: def name(self, pet):\n",
    "\n",
    "\n",
    "# Create two pets.\n",
    "cat_one = Cat(\"Leo\", \"Tabby\", 3)\n",
    "\n",
    "# Call your method below."
   ]
  },
  {
   "cell_type": "code",
   "execution_count": 33,
   "metadata": {},
   "outputs": [
    {
     "name": "stdout",
     "output_type": "stream",
     "text": [
      "Rashid was scared by Leo!\n",
      "Leo was NOT scared of Rashid!\n"
     ]
    }
   ],
   "source": [
    "class Cat:\n",
    "  def __init__(self, input_name, input_breed, input_age = 0, input_is_brave = False):\n",
    "    self.name = input_name\n",
    "    self.breed = input_breed\n",
    "    self.age = input_age\n",
    "    # Added is_brave\n",
    "    self.is_brave = input_is_brave\n",
    "    self.is_cuddly = True\n",
    "     \n",
    "  # if the other cat is NOT\n",
    "  # brave, they will be \n",
    "  # scared\n",
    "  def scare(self, other_cat):\n",
    "    if(other_cat.is_brave):\n",
    "      print(\"{other_name} was NOT scared of {name}!\".format(name = self.name, other_name = other_cat.name))\n",
    "    else:\n",
    "      print(\"{other_name} was scared by {name}!\".format(name = self.name, other_name = other_cat.name))\n",
    "\n",
    "# Create two pets.\n",
    "cat_one = Cat(\"Leo\", \"Tabby\", 3, True)\n",
    "cat_two = Cat(\"Rashid\", \"Bengal\", 6, False)\n",
    "\n",
    "# Rashid is NOT brave and will \n",
    "# be scared\n",
    "cat_one.scare(cat_two)\n",
    "\n",
    "# Leo is brave and will \n",
    "# NOT be scared\n",
    "cat_two.scare(cat_one)"
   ]
  },
  {
   "attachments": {},
   "cell_type": "markdown",
   "metadata": {},
   "source": [
    "### Describing Our Classes\n",
    "Sometimes, we may want to see a description of a specific instance of our Dog class. Maybe we want “Bruno” to tell us all of its attributes. To do that, we need to add a __repr__() method. A __repr__() method will print out all of an Object’s attributes in a readable way."
   ]
  },
  {
   "cell_type": "code",
   "execution_count": 34,
   "metadata": {},
   "outputs": [],
   "source": [
    "class Dog:\n",
    "  def __init__(self, input_name, input_breed, input_age = 0, input_friendliness=True):\n",
    "    self.name = input_name\n",
    "    self.breed = input_breed\n",
    "    self.age = input_age\n",
    "    self.is_friendly = input_friendliness\n",
    "    self.friends = []\n",
    " \n",
    "  def __repr__(self):\n",
    "    # Printing a Dog will tell you its name, its breed, its age, if it's friendly, and how many friends it has.\n",
    "    description = \"This {breed} named {name} is {age} years old and has {number_of_friends} friends.\".format(breed = self.breed, name = self.name, age=self.age, number_of_friends=len(self.friends))\n",
    "    if self.is_friendly:\n",
    "      description += \" {name} is a friendly dog.\".format(name = self.name)\n",
    "    else:\n",
    "      description += \" {name} is an unfriendly dog.\".format(name = self.name)\n",
    "    return description"
   ]
  },
  {
   "attachments": {},
   "cell_type": "markdown",
   "metadata": {},
   "source": [
    "After adding this method to our class, let’s try printing out information about our dogs."
   ]
  },
  {
   "cell_type": "code",
   "execution_count": 35,
   "metadata": {},
   "outputs": [
    {
     "name": "stdout",
     "output_type": "stream",
     "text": [
      "This Golden Retriever named Sparky is 5 years old and has 0 friends. Sparky is a friendly dog.\n",
      "This Chihuahua named Bruno is 10 years old and has 0 friends. Bruno is an unfriendly dog.\n"
     ]
    }
   ],
   "source": [
    "dog_one = Dog(\"Sparky\", \"Golden Retriever\", 5)\n",
    "dog_two = Dog(\"Bruno\", \"Chihuahua\", 10, False)\n",
    " \n",
    "print(dog_one)\n",
    "# Output: \"This Golden Retriever named Sparky is 5 years old and has 0 friends. Sparky is a friendly dog.\"\n",
    "print(dog_two)\n",
    "# Output: \"This Chihuahua named Bruno is 10 years old and has 0 friends. Bruno is an unfriendly dog.\""
   ]
  },
  {
   "attachments": {},
   "cell_type": "markdown",
   "metadata": {},
   "source": [
    "If the dogs become friends, then what is printed will be slightly different!"
   ]
  },
  {
   "attachments": {},
   "cell_type": "markdown",
   "metadata": {},
   "source": [
    "```python\n",
    "dog_two.become_friends(dog_one)\n",
    " \n",
    "print(dog_two)\n",
    "# Output: \"This Chihuahua named Bruno is 10 years old and has 1 friends. Bruno is an unfriendly dog.\"\n",
    "```"
   ]
  },
  {
   "attachments": {},
   "cell_type": "markdown",
   "metadata": {},
   "source": [
    "##### Using the code from your old pet, or create a new pet, let’s add a __repr__() method that will print out a description of our pet.\n",
    "\n",
    "* Use the Cat class or change the class.\n",
    "* Create a __repr__() method that prints information about ALL of your pet’s attributes.\n",
    "* Create at least one instance of your pet.\n",
    "* print() the instance of your pet."
   ]
  },
  {
   "cell_type": "code",
   "execution_count": 37,
   "metadata": {},
   "outputs": [
    {
     "name": "stdout",
     "output_type": "stream",
     "text": [
      "This Tabby named Leo is 3 years old. Leo is a cuddly cat.\n"
     ]
    }
   ],
   "source": [
    "# You can start with the\n",
    "# Cat class or erase this\n",
    "# and use your own!\n",
    "class Cat:\n",
    "  def __init__(self, input_name, input_breed, input_age = 0):\n",
    "    self.name = input_name\n",
    "    self.breed = input_breed\n",
    "    self.age = input_age\n",
    "    self.is_cuddly = True\n",
    "  \n",
    "  # Create a __repr__ method\n",
    "  def __repr__(self):\n",
    "    # Printing a Cat will\n",
    "    # tell you its name, its\n",
    "    # breed, its age, and\n",
    "    # if it's cuddly.\n",
    "    description = \"This {breed} named {name} is {age} years old.\".format(breed = self.breed, name = self.name, age=self.age)\n",
    "    if self.is_cuddly:\n",
    "      description += \" {name} is a cuddly cat.\".format(name = self.name)\n",
    "    else:\n",
    "      description += \" {name} is not a cuddly cat.\".format(name = self.name)\n",
    "    return description\n",
    "\n",
    "# Create your pet.\n",
    "cat_one = Cat(\"Leo\", \"Tabby\", 3)\n",
    "\n",
    "# Print out your pet below!\n",
    "print(cat_one)"
   ]
  },
  {
   "attachments": {},
   "cell_type": "markdown",
   "metadata": {},
   "source": [
    "### Summary\n",
    "Our final Dog class:"
   ]
  },
  {
   "cell_type": "code",
   "execution_count": 38,
   "metadata": {},
   "outputs": [
    {
     "name": "stdout",
     "output_type": "stream",
     "text": [
      "Sparky had a birthday! Sparky is 6 years old.\n",
      "Bruno become friends with Sparky!\n"
     ]
    }
   ],
   "source": [
    "class Dog:\n",
    "  def __init__(self, input_name, input_breed, input_age = 0, input_friendliness=True):\n",
    "    self.name = input_name\n",
    "    self.breed = input_breed\n",
    "    self.age = input_age\n",
    "    self.is_friendly = input_friendliness\n",
    "    self.friends = []\n",
    " \n",
    "  def __repr__(self):\n",
    "    description = \"This {breed} named {name} is {age} years old and has {number_of_friends} friends.\".format(breed = self.breed, name = self.name, age=self.age, number_of_friends=len(self.friends))\n",
    "    if self.is_friendly:\n",
    "      description += \" {name} is a friendly dog.\".format(name = self.name)\n",
    "    else:\n",
    "      description += \" {name} is an unfriendly dog.\".format(name = self.name)\n",
    "    return description\n",
    " \n",
    "  def have_birthday(self):\n",
    "    self.age = self.age + 1\n",
    "    print(\"{name} had a birthday! {name} is {age} years old.\".format(name = self.name, age = self.age))\n",
    " \n",
    "  def become_friends(self, other_dog):\n",
    "    if(other_dog.is_friendly):\n",
    "      self.friends.append(other_dog)\n",
    "      other_dog.friends.append(self)\n",
    "      print(\"{name} become friends with {other_name}!\".format(name = self.name, other_name = other_dog.name))\n",
    "    else:\n",
    "      print(\"{other_name} did not want to become friends with {name}!\".format(name = self.name, other_name = other_dog.name))\n",
    " \n",
    "dog_one = Dog(\"Sparky\", \"Golden Retriever\", 5)\n",
    "dog_two = Dog(\"Bruno\", \"Chihuahua\", 10, False)\n",
    " \n",
    "dog_one.have_birthday()\n",
    "dog_two.become_friends(dog_one)"
   ]
  },
  {
   "attachments": {},
   "cell_type": "markdown",
   "metadata": {},
   "source": [
    "## Create a Game Using Classes and Objects\n",
    "Welcome! You should now be equipped with everything you need to make a complicated program that uses multiple classes that interact with each other. This is where we turn the creativity over to you.\n",
    "\n",
    "For this project, we want you to create a fully functional system that involves multiple classes. We’ll give more details on the specific requirements below.\n",
    "\n",
    "We know that it can sometimes be hard to come up with an idea on your own. Take some time to think of what you want to create — it truly can be anything. This step is important! We want you to feel motivated to complete this project, so pick something you’re excited to make.\n",
    "\n",
    "If you can’t think of any ideas, here are some examples of systems that you could create.\n",
    "\n",
    "* Create a Pokemon-like game where your Classes could be different types of Creatures that can battle each other. You could create a system where you have a Trainer class that has multiple Creatures. You could create Items to use on those Creatures.\n",
    "* Create a Casino with multiple types of Games. You could then create a Player that has an amount of money that they can wager on the different Games you created.\n",
    "* Create a Store that has an inventory of food Items. You could then have a Shopper class that can purchase items from the Store.\n",
    "* Create a high school simulator. You could create a School class that can interact with Students, Teachers, and Courses. You could create a whole little world of different students taking different classes, where you could track things like their grades, favorite subjects, and friendships.\n",
    "\n",
    "One small note on running your code. We’ve given you access to a real terminal in this project. This will let you use functions like input() to get input from the user. (If you’ve never used input() before, you can read our article about it, or check out the documentation. Note that this is totally optional, but it can make your program more interactive.\n",
    "\n",
    "Because we’ve given you a real terminal, running your code might be slightly different than what you’ve seen before. After writing your code in the script.py file, save your code using the Save button. Then, in the terminal, type:\n",
    "\n",
    "python3 script.py\n",
    "and press Enter/Return on your keyboard to run your code.\n",
    "\n",
    "If you want to test this out, try running our demo code. We’ve given you the file pokemon.py, which contains our implementation of a game of Pokemon. You can take a look at this code, and when you are ready, try running it using\n",
    "\n",
    "python3 pokemon.py\n",
    "in the terminal. The program will then start and you will be prompted to enter some information into the terminal.\n",
    "\n",
    "Below you will find the requirements for this project. Check off these requirements as you complete them!\n",
    "\n",
    "#### Tasks\n",
    "0/5 Complete\n",
    "Mark the tasks as complete by checking them off\n",
    "Requirements\n",
    "1.\n",
    "You must create at least TWO classes.\n",
    "\n",
    "For now, just focus on:\n",
    "\n",
    "Planning Your Two Classes\n",
    "Creating a Basic Constructor (__init__() method)\n",
    "\n",
    "Stuck? Get a hint\n",
    "2.\n",
    "Each of those classes must have at least THREE attributes and THREE methods.\n",
    "\n",
    "You may need to create some instances of your classes to test your methods.\n",
    "\n",
    "\n",
    "Stuck? Get a hint\n",
    "3.\n",
    "Your classes should be able to describe themselves (through a __repr__() method).\n",
    "\n",
    "You will need to create at least one instance of your classes to test your __repr__() method.\n",
    "\n",
    "\n",
    "Stuck? Get a hint\n",
    "4.\n",
    "If you haven’t already, create at least TWO instances of every one of your classes.\n",
    "\n",
    "Test all of the methods you created on both of the objects you create.\n",
    "\n",
    "\n",
    "Stuck? Get a hint\n",
    "5.\n",
    "Create some methods, or additional attributes, that make your two Classes able to interact with each other."
   ]
  },
  {
   "cell_type": "code",
   "execution_count": null,
   "metadata": {},
   "outputs": [],
   "source": []
  }
 ],
 "metadata": {
  "kernelspec": {
   "display_name": "Python 3",
   "language": "python",
   "name": "python3"
  },
  "language_info": {
   "codemirror_mode": {
    "name": "ipython",
    "version": 3
   },
   "file_extension": ".py",
   "mimetype": "text/x-python",
   "name": "python",
   "nbconvert_exporter": "python",
   "pygments_lexer": "ipython3",
   "version": "3.11.3"
  },
  "orig_nbformat": 4
 },
 "nbformat": 4,
 "nbformat_minor": 2
}
