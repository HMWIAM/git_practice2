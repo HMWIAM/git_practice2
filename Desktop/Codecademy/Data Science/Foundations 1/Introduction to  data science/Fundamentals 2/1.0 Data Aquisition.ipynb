{
 "cells": [
  {
   "attachments": {},
   "cell_type": "markdown",
   "metadata": {},
   "source": [
    "# Data Aquisition"
   ]
  },
  {
   "attachments": {},
   "cell_type": "markdown",
   "metadata": {},
   "source": [
    "Data acquisition (also called data mining) is the process of gathering data. Ideally, we have a question in mind before we collect the data, but not always. Sometimes data is gathered before we know what to do with it. When that happens, it is important to take a step back and define what questions can be answered with the available data.\n",
    "\n",
    "In addition, some things to consider when acquiring data are:\n",
    "\n",
    "* What data is needed to achieve the goal?\n",
    "* How much data is needed?\n",
    "* Where and how can this data be found?\n",
    "* What legal and privacy concerns should be considered?"
   ]
  },
  {
   "attachments": {},
   "cell_type": "markdown",
   "metadata": {},
   "source": [
    "## The role of data collection\n",
    "Imagine for a moment that you are collecting data about books. You decided to record the title, author, and number of pages of all the books in your local library. You decided not to include language, subtitles, editors, or publishers.\n",
    "\n",
    "If you want to publish this data to make it available to others, you would need to document how you measured your variables (i.e., were appendices included in the page count?) and the parameters for collection (i.e., your local library). This is your methodology.\n",
    "\n",
    "How the data was collected (the methodology) directly affects the questions we can ask and what generalizations we can make. This article introduces the broad types of data available, the file formats that they can come in, and where to find datasets. But even once you find (or make) a dataset, the most important part about it is the documentation that comes with it!"
   ]
  },
  {
   "attachments": {},
   "cell_type": "markdown",
   "metadata": {},
   "source": [
    "## Data sources\n",
    "Data can be acquired from many different sources. Broadly, they can be categorized into primary data and secondary data.\n",
    "\n",
    "**Primary data** is data collected by the individual or organization who will be doing the analysis. Examples include:\n",
    "\n",
    "* Experiments (e.g., wet lab experiments like gene sequencing)\n",
    "* Observations (e.g., surveys, sensors, in situ collection)\n",
    "* Simulations (e.g., theoretical models like climate models)\n",
    "* Scraping or compiling (e.g., webscraping, text mining)\n",
    "\n",
    "**Secondary data** is data collected by someone else and is typically published for public use. Most data you will use falls into this category. Examples include:\n",
    "\n",
    "* Any primary data that was collected by someone else\n",
    "* Institutionalized data banks (e.g., census, gene sequences)\n",
    "\n",
    "As you can imagine, collecting your own primary data can be time consuming. However, the closer you are to the data, the better you understand it and its nuances. On the other hand, secondary data is much easier to find. Even with secondary data, understanding how the data was created is essential in order to correctly utilize and analyze it. This includes reading any available data methodology or README files."
   ]
  },
  {
   "attachments": {},
   "cell_type": "markdown",
   "metadata": {},
   "source": [
    "## Cleaned vs. raw data\n",
    "There is another subcategory of secondary data that can be called “pre-cleaned” data. These are datasets published by institutions like Kaggle that are already cleaned, filtered, and ready to use.\n",
    "\n",
    "While pre-cleaned data is undoubtedly easier to use, you lose some of the flexibility and control that working with unaltered, “raw” data offers. For example, if a cleaned dataset discarded certain fields or rows during the data processing step, there is no way of getting the information back. Nevertheless, pre-cleaned datasets are still popular, and that can be perfectly fine depending on the end goal."
   ]
  },
  {
   "attachments": {},
   "cell_type": "markdown",
   "metadata": {},
   "source": [
    "## Data file formats\n",
    "Data can come in a variety of different file formats, depending on the type of data. Being able to open and convert between these file types opens a whole world of data that is otherwise inaccessible. Examples of file formats include:\n",
    "\n",
    "* Tabular (e.g., .csv, .tsv, .xlsx)\n",
    "* Non-tabular (e.g., .txt, .rtf, .xml)\n",
    "* Image (e.g., .png, .jpg, .tif)\n",
    "* Agnostic (e.g., .dat)\n",
    "\n",
    "Further, some file formats are proprietary and can only be opened by software developed by a particular company. Opening these in another program requires converting to a universal format (this has to do with how the characters are encoded). Proprietary formats include Excel or MS Access files that are designed to be opened by Microsoft Office applications, as opposed to more generic types like .csv files. There are also other file formats that store metadata, such as SPSS and STATA files that contain information on data labels.\n",
    "\n",
    "It is best practice to store data in a way that is most easily accessible for everyone. Generally, this means storing data in a non-proprietary and openly documented format, using standard character encodings (utf-8), and keeping data files uncompressed, if space allows. There are various methods, including online tools, that can be used to convert between formats if necessary."
   ]
  },
  {
   "attachments": {},
   "cell_type": "markdown",
   "metadata": {},
   "source": [
    "## Where to get data\n",
    "### Primary data\n",
    "Conducting research and experiments is typically out of the scope for Data Scientists, but surveys and simulations are common methods for acquiring primary data. Webscraping is also a special case of primary data collection by extracting or copying data directly from a website. To learn more, check out our full course on webscraping and this article demonstrating how to webscrape MLB stats using Python.\n",
    "\n",
    "### Secondary data\n",
    "Secondary data can be obtained from many different websites. Some of the most popular repositories include:\n",
    "\n",
    "* GitHub\n",
    "* Kaggle\n",
    "* KDnuggets\n",
    "* UCI Machine Learning Repository\n",
    "* US Government’s Open Data\n",
    "* Five Thirty Eight\n",
    "* Amazon Web Services\n",
    "* BuzzFeed\n",
    "* Data is Plural\n",
    "* Harvard HCI\n",
    "\n",
    "Each repository or individual dataset has its own terms of use and method for downloading. Be sure to read the description on the website you are using for how to access the data.\n",
    "\n",
    "Secondary data can sometimes be obtained via an application programming interface (API). APIs are built around the HTTP request/response cycle. A client (you) sends a request for data to a website’s server through an API call. Then, the server searches its database and responds either with the data, or an error stating that the request cannot be fulfilled."
   ]
  },
  {
   "cell_type": "markdown",
   "metadata": {},
   "source": []
  }
 ],
 "metadata": {
  "kernelspec": {
   "display_name": "Python 3",
   "language": "python",
   "name": "python3"
  },
  "language_info": {
   "name": "python",
   "version": "3.11.3"
  },
  "orig_nbformat": 4
 },
 "nbformat": 4,
 "nbformat_minor": 2
}
