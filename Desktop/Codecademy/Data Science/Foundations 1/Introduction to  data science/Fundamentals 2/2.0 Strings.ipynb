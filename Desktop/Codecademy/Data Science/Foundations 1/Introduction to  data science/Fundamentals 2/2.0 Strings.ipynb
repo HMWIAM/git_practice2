{
 "cells": [
  {
   "attachments": {},
   "cell_type": "markdown",
   "metadata": {},
   "source": [
    "# Strings"
   ]
  },
  {
   "attachments": {},
   "cell_type": "markdown",
   "metadata": {},
   "source": [
    "In Python, the way we store something like a word, a sentence, or even a whole paragraph is as a string. A string is a sequence of characters contained within a pair of 'single quotes' or \"double quotes\". A string can be any length and can contain any letters, numbers, symbols, and spaces."
   ]
  },
  {
   "attachments": {},
   "cell_type": "markdown",
   "metadata": {},
   "source": [
    "## They're all Lists!\n",
    "A string can be thought of as a list of characters.\n",
    "\n",
    "Like any other list, each character in a string has an index. Consider the string:"
   ]
  },
  {
   "cell_type": "code",
   "execution_count": 2,
   "metadata": {},
   "outputs": [
    {
     "name": "stdout",
     "output_type": "stream",
     "text": [
      "l\n",
      "b\n"
     ]
    }
   ],
   "source": [
    "favorite_fruit = \"blueberry\"\n",
    "print(favorite_fruit[1])\n",
    "# Output: l\n",
    "print(favorite_fruit[0])\n",
    "# Output: b"
   ]
  },
  {
   "attachments": {},
   "cell_type": "markdown",
   "metadata": {},
   "source": [
    "## Cut Me a Slice of String\n",
    "Not only can we select a single character from a string, but we can also select entire chunks of characters from a string. We can do this with the following syntax:\n",
    "\n",
    "string[first_index:last_index]\n",
    "\n",
    "This is called slicing a string. When we slice a string we are creating a substring - a brand new string that starts at (and includes) the first_index and ends at (but excludes) the last_index.\n",
    "\n",
    "Let’s look at some examples of this. Recall our favorite fruit:\n",
    "\n"
   ]
  },
  {
   "cell_type": "code",
   "execution_count": 3,
   "metadata": {},
   "outputs": [],
   "source": [
    "favorite_fruit = \"blueberry\"\n"
   ]
  },
  {
   "attachments": {},
   "cell_type": "markdown",
   "metadata": {},
   "source": [
    "Let’s say we wanted a new string that contains the letters be. We could slice favorite_fruit as follows:"
   ]
  },
  {
   "cell_type": "code",
   "execution_count": 4,
   "metadata": {},
   "outputs": [
    {
     "name": "stdout",
     "output_type": "stream",
     "text": [
      "be\n"
     ]
    }
   ],
   "source": [
    "print(favorite_fruit[4:6])\n",
    "# Output: be"
   ]
  },
  {
   "attachments": {},
   "cell_type": "markdown",
   "metadata": {},
   "source": [
    "Notice how the character at the first index, b, is included, but the character at the last index, r, is excluded. If you look for the indices 4 and 6 in the diagram, you can see how the r is outside that range.\n",
    "\n",
    "We can also have open-ended selections. If we remove the first index, the slice starts at the beginning of the string and if we remove the second index the slice continues to the end of the string."
   ]
  },
  {
   "cell_type": "code",
   "execution_count": 5,
   "metadata": {},
   "outputs": [
    {
     "name": "stdout",
     "output_type": "stream",
     "text": [
      "blue\n",
      "berry\n"
     ]
    }
   ],
   "source": [
    "print(favorite_fruit[:4])\n",
    "# Output: blue\n",
    " \n",
    "print (favorite_fruit[4:])\n",
    "# Output: berry"
   ]
  },
  {
   "attachments": {},
   "cell_type": "markdown",
   "metadata": {},
   "source": [
    "Again, notice how the b from berry is excluded from the first example and included in the second example."
   ]
  },
  {
   "attachments": {},
   "cell_type": "markdown",
   "metadata": {},
   "source": [
    "## Concatenating Strings\n",
    "We can also concatenate, or combine, two existing strings together into a new string. Consider the following two strings:"
   ]
  },
  {
   "cell_type": "code",
   "execution_count": 6,
   "metadata": {},
   "outputs": [],
   "source": [
    "fruit_prefix = \"blue\"\n",
    "fruit_suffix = \"berries\"\n"
   ]
  },
  {
   "attachments": {},
   "cell_type": "markdown",
   "metadata": {},
   "source": [
    "We can create a new string by concatenating them together as follows:"
   ]
  },
  {
   "cell_type": "code",
   "execution_count": 7,
   "metadata": {},
   "outputs": [
    {
     "name": "stdout",
     "output_type": "stream",
     "text": [
      "blueberries\n"
     ]
    }
   ],
   "source": [
    "favorite_fruit = fruit_prefix + fruit_suffix\n",
    " \n",
    "print(favorite_fruit)\n",
    "# Output: blueberries"
   ]
  },
  {
   "attachments": {},
   "cell_type": "markdown",
   "metadata": {},
   "source": [
    "Notice that there are no spaces added here. We have to manually add in the spaces when concatenating strings if we want to include them."
   ]
  },
  {
   "cell_type": "code",
   "execution_count": 8,
   "metadata": {},
   "outputs": [
    {
     "name": "stdout",
     "output_type": "stream",
     "text": [
      "My favorite fruit isblueberries\n",
      "My favorite fruit is blueberries\n"
     ]
    }
   ],
   "source": [
    "fruit_sentence = \"My favorite fruit is\" + favorite_fruit\n",
    " \n",
    "print(fruit_sentence)\n",
    "# Output: My favorite fruit isblueberries\n",
    " \n",
    "fruit_sentence = \"My favorite fruit is \" + favorite_fruit\n",
    " \n",
    "print(fruit_sentence)\n",
    "# Output: My favorite fruit is blueberries"
   ]
  },
  {
   "attachments": {},
   "cell_type": "markdown",
   "metadata": {},
   "source": [
    "It’s subtle, but notice that in the first example, there is no space between “is” and “blueberries”.\n",
    "\n",
    "##### Instructions\n",
    "1.\n",
    "Copeland’s Corporate Company has realized that their policy of using the first five letters of an employee’s last name as a user name isn’t ideal when they have multiple employees with the same last name.\n",
    "\n",
    "Write a function called account_generator() that takes two inputs, first_name and last_name and concatenates the first three letters of each and then returns the new account name.\n",
    "\n",
    "Checkpoint 2 Passed\n",
    "\n",
    "Stuck? Get a hint\n",
    "2.\n",
    "Test your function on the first_name and last_name provided in script.py and save it to the variable new_account."
   ]
  },
  {
   "cell_type": "code",
   "execution_count": 9,
   "metadata": {},
   "outputs": [],
   "source": [
    "first_name = \"Julie\"\n",
    "last_name = \"Blevins\""
   ]
  },
  {
   "attachments": {},
   "cell_type": "markdown",
   "metadata": {},
   "source": [
    "## More and More String Slicing (How Long is that String?)\n",
    "Python comes with some built-in functions for working with strings. One of the most commonly used of these functions is len(). len() returns the number of characters in a string:"
   ]
  },
  {
   "cell_type": "code",
   "execution_count": 10,
   "metadata": {},
   "outputs": [
    {
     "name": "stdout",
     "output_type": "stream",
     "text": [
      "9\n"
     ]
    }
   ],
   "source": [
    "favorite_fruit = \"blueberry\"\n",
    " \n",
    "length = len(favorite_fruit)\n",
    " \n",
    "print(length)\n",
    "# Output: 9"
   ]
  },
  {
   "attachments": {},
   "cell_type": "markdown",
   "metadata": {},
   "source": [
    "If you are taking the length of a sentence the spaces are counted as well.\n"
   ]
  },
  {
   "cell_type": "code",
   "execution_count": 11,
   "metadata": {},
   "outputs": [
    {
     "name": "stdout",
     "output_type": "stream",
     "text": [
      "18\n"
     ]
    }
   ],
   "source": [
    "fruit_sentence = \"I love blueberries\"\n",
    " \n",
    "print(len(fruit_sentence))\n",
    "# Output: 18"
   ]
  },
  {
   "attachments": {},
   "cell_type": "markdown",
   "metadata": {},
   "source": [
    "len() comes in handy when we are trying to select characters from the end of a string. What is the index of the last character,\"y\", of favorite_fruit from above? You can try to run the following code:"
   ]
  },
  {
   "cell_type": "code",
   "execution_count": 12,
   "metadata": {},
   "outputs": [
    {
     "ename": "IndexError",
     "evalue": "string index out of range",
     "output_type": "error",
     "traceback": [
      "\u001b[0;31m---------------------------------------------------------------------------\u001b[0m",
      "\u001b[0;31mIndexError\u001b[0m                                Traceback (most recent call last)",
      "Cell \u001b[0;32mIn[12], line 1\u001b[0m\n\u001b[0;32m----> 1\u001b[0m last_char \u001b[39m=\u001b[39m favorite_fruit[\u001b[39mlen\u001b[39;49m(favorite_fruit)]\n\u001b[1;32m      3\u001b[0m \u001b[39mprint\u001b[39m(last_char)\n",
      "\u001b[0;31mIndexError\u001b[0m: string index out of range"
     ]
    }
   ],
   "source": [
    "last_char = favorite_fruit[len(favorite_fruit)]\n",
    " \n",
    "print(last_char)"
   ]
  },
  {
   "attachments": {},
   "cell_type": "markdown",
   "metadata": {},
   "source": [
    "Why does this generate an IndexError? Because the indices start at 0, so the final character in favorite_fruit has an index of 8. len(favorite_fruit) returns 9 and, because there is no value at that index, an IndexError occurs.\n",
    "\n",
    "Instead, the last character in a string has an index that is len(string_name) - 1."
   ]
  },
  {
   "cell_type": "code",
   "execution_count": 13,
   "metadata": {},
   "outputs": [
    {
     "name": "stdout",
     "output_type": "stream",
     "text": [
      "y\n"
     ]
    }
   ],
   "source": [
    "last_char = favorite_fruit[len(favorite_fruit)-1]\n",
    " \n",
    "print(last_char)\n",
    "# Output: y"
   ]
  },
  {
   "attachments": {},
   "cell_type": "markdown",
   "metadata": {},
   "source": [
    "You could also slice the last several characters of a string using len():"
   ]
  },
  {
   "cell_type": "code",
   "execution_count": 14,
   "metadata": {},
   "outputs": [
    {
     "name": "stdout",
     "output_type": "stream",
     "text": [
      "erry\n"
     ]
    }
   ],
   "source": [
    "length = len(favorite_fruit)\n",
    "last_chars = favorite_fruit[length-4:]\n",
    "print(last_chars)\n",
    "# Output: erry\n"
   ]
  },
  {
   "attachments": {},
   "cell_type": "markdown",
   "metadata": {},
   "source": [
    "Using a len() statement as the starting index and omitting the final index lets you slice n characters from the end of a string, where n is the amount you subtract from len().\n",
    "\n",
    "##### Instructions\n",
    "1.\n",
    "Copeland’s Corporate Company also wants to update how they generate temporary passwords for new employees.\n",
    "\n",
    "Write a function called password_generator() that takes two inputs, first_name and last_name, and then concatenates the last three letters of each and returns them as a string.\n",
    "\n",
    "Checkpoint 2 Passed\n",
    "\n",
    "Stuck? Get a hint\n",
    "2.\n",
    "Test your function on the provided first_name and last_name and save it to the variable temp_password."
   ]
  },
  {
   "cell_type": "code",
   "execution_count": 15,
   "metadata": {},
   "outputs": [],
   "source": [
    "first_name = \"Reiko\"\n",
    "last_name = \"Matsuki\""
   ]
  },
  {
   "attachments": {},
   "cell_type": "markdown",
   "metadata": {},
   "source": [
    "## Negative Indices\n",
    "In the previous exercise, we used len() to get a slice of characters at the end of a string.\n",
    "\n",
    "There’s a much easier way to do this — we can use negative indices! Negative indices count backward from the end of the string, so string_name[-1] is the last character of the string, string_name[-2] is the second last character of the string, etc.\n",
    "\n",
    "Here are some examples:"
   ]
  },
  {
   "cell_type": "code",
   "execution_count": 16,
   "metadata": {},
   "outputs": [
    {
     "name": "stdout",
     "output_type": "stream",
     "text": [
      "y\n",
      "r\n",
      "rry\n"
     ]
    }
   ],
   "source": [
    "favorite_fruit = 'blueberry'\n",
    "print(favorite_fruit[-1])\n",
    "# => 'y'\n",
    " \n",
    "print(favorite_fruit[-2])\n",
    "# => 'r'\n",
    " \n",
    "print(favorite_fruit[-3:])\n",
    "# => 'rry'"
   ]
  },
  {
   "attachments": {},
   "cell_type": "markdown",
   "metadata": {},
   "source": [
    "Notice that we are able to slice the last three characters of ‘blueberry’ by having a starting index of -3 and omitting a final index.\n",
    "\n",
    "##### Instructions\n",
    "1.\n",
    "Use negative indices to find the second to last character in company_motto. Save this to the variable second_to_last.\n",
    "\n",
    "2.\n",
    "Use negative indices to create a slice of the last 4 characters in company_motto. Save this to the variable final_word."
   ]
  },
  {
   "cell_type": "code",
   "execution_count": 17,
   "metadata": {},
   "outputs": [],
   "source": [
    "company_motto = \"Copeland's Corporate Company helps you capably cope with the constant cacophony of daily life\"\n"
   ]
  },
  {
   "attachments": {},
   "cell_type": "markdown",
   "metadata": {},
   "source": [
    "## Strings are Immutable\n",
    "So far in this lesson, we’ve been selecting characters from strings, slicing strings, and concatenating strings. Each time we perform one of these operations we are creating an entirely new string.\n",
    "\n",
    "This is because strings are immutable. This means that we cannot change a string once it is created. We can use it to create other strings, but we cannot change the string itself.\n",
    "\n",
    "This property, generally, is known as mutability. Data types that are mutable can be changed, and data types, like strings, that are immutable cannot be changed.\n",
    "\n",
    "##### Instructions\n",
    "1.\n",
    "The most recent hire at Copeland’s Corporate Company is a fellow named Rob Daily. Unfortunately, Human Resources seem to have made a bit of a typo and sent over the wrong first_name.\n",
    "\n",
    "Try changing the first character of first_name by running\n",
    "\n",
    "first_name[0] = \"R\"\n",
    "2.\n",
    "Oh right! Strings are immutable, so we can’t change an individual character. Okay that’s no problem—we can still fix this!\n",
    "\n",
    "Delete the code you just wrote for step 1.\n",
    "\n",
    "Then, concatenate the string \"R\" with a slice of first_name that includes everything but the first character, \"B\", and save it to a new string fixed_first_name."
   ]
  },
  {
   "attachments": {},
   "cell_type": "markdown",
   "metadata": {},
   "source": [
    "## Escape Characters\n",
    "Occasionally when working with strings, you’ll find that you want to include characters that already have a special meaning in python. For example let’s say I create the string"
   ]
  },
  {
   "cell_type": "code",
   "execution_count": 18,
   "metadata": {},
   "outputs": [
    {
     "ename": "SyntaxError",
     "evalue": "invalid syntax (1762194618.py, line 1)",
     "output_type": "error",
     "traceback": [
      "\u001b[0;36m  Cell \u001b[0;32mIn[18], line 1\u001b[0;36m\u001b[0m\n\u001b[0;31m    favorite_fruit_conversation = \"He said, \"blueberries are my favorite!\"\"\u001b[0m\n\u001b[0m                                             ^\u001b[0m\n\u001b[0;31mSyntaxError\u001b[0m\u001b[0;31m:\u001b[0m invalid syntax\n"
     ]
    }
   ],
   "source": [
    " favorite_fruit_conversation = \"He said, \"blueberries are my favorite!\"\""
   ]
  },
  {
   "attachments": {},
   "cell_type": "markdown",
   "metadata": {},
   "source": [
    "We’ll have accidentally ended the string before we wanted to by including the \" character. The way we can do this is by introducing escape characters. By adding a backslash in front of the special character we want to escape, \\\", we can include it in a string."
   ]
  },
  {
   "cell_type": "code",
   "execution_count": 20,
   "metadata": {},
   "outputs": [
    {
     "name": "stdout",
     "output_type": "stream",
     "text": [
      "He said, \"blueberries are my favorite!\"\n"
     ]
    }
   ],
   "source": [
    "favorite_fruit_conversation = \"He said, \\\"blueberries are my favorite!\\\"\"\n",
    "print(favorite_fruit_conversation)"
   ]
  },
  {
   "attachments": {},
   "cell_type": "markdown",
   "metadata": {},
   "source": [
    "## Iterating through Strings\n",
    "Now you know enough about strings that we can start doing the really fun stuff!\n",
    "\n",
    "Because strings are lists, that means we can iterate through a string using for or while loops. This opens up a whole range of possibilities of ways we can manipulate and analyze strings. Let’s take a look at an example."
   ]
  },
  {
   "cell_type": "code",
   "execution_count": 21,
   "metadata": {},
   "outputs": [],
   "source": [
    "def print_each_letter(word):\n",
    "  for letter in word:\n",
    "    print(letter)"
   ]
  },
  {
   "attachments": {},
   "cell_type": "markdown",
   "metadata": {},
   "source": [
    "This code will iterate through each letter in a given word and will print it to the terminal."
   ]
  },
  {
   "cell_type": "code",
   "execution_count": 22,
   "metadata": {},
   "outputs": [
    {
     "name": "stdout",
     "output_type": "stream",
     "text": [
      "b\n",
      "l\n",
      "u\n",
      "e\n"
     ]
    }
   ],
   "source": [
    "favorite_color = \"blue\"\n",
    "print_each_letter(favorite_color)"
   ]
  },
  {
   "attachments": {},
   "cell_type": "markdown",
   "metadata": {},
   "source": [
    "##### Instructions\n",
    "1.\n",
    "Let’s replicate a function you are already familiar with, len().\n",
    "\n",
    "Write a new function called get_length() that takes a string as an input and returns the number of characters in that string. Do this by iterating through the string, don’t cheat and use len()!"
   ]
  },
  {
   "attachments": {},
   "cell_type": "markdown",
   "metadata": {},
   "source": [
    "## Strings and Conditionals (Part One)\n",
    "Now that we are iterating through strings, we can really explore the potential of strings. When we iterate through a string we do something with each character. By including conditional statements inside of these iterations, we can start to do some really cool stuff.\n",
    "\n",
    "Take a look at the following code:"
   ]
  },
  {
   "cell_type": "code",
   "execution_count": 23,
   "metadata": {},
   "outputs": [
    {
     "name": "stdout",
     "output_type": "stream",
     "text": [
      "2\n"
     ]
    }
   ],
   "source": [
    "favorite_fruit = \"blueberry\"\n",
    "counter = 0\n",
    "for character in favorite_fruit:\n",
    "  if character == \"b\":\n",
    "    counter = counter + 1\n",
    "print(counter)"
   ]
  },
  {
   "attachments": {},
   "cell_type": "markdown",
   "metadata": {},
   "source": [
    "This code will count the number of bs in the string “blueberry” (hint: it’s two). Let’s take a moment and break down what exactly this code is doing.\n",
    "\n",
    "First, we define our string, favorite_fruit, and a variable called counter, which we set equal to zero. Then the for loop will iterate through each character in favorite_fruit and compare it to the letter b.\n",
    "\n",
    "Each time a character equals b the code will increase the variable counter by one. Then, once all characters have been checked, the code will print the counter, telling us how many bs were in “blueberry”. This is a great example of how iterating through a string can be used to solve a specific application, in this case counting a certain letter in a word.\n",
    "\n",
    "##### Instructions\n",
    "1.\n",
    "Write a function called letter_check that takes two inputs, word and letter.\n",
    "\n",
    "This function should return True if the word contains the letter and False if it does not."
   ]
  },
  {
   "attachments": {},
   "cell_type": "markdown",
   "metadata": {},
   "source": [
    "## Strings and Conditionals (Part Two)\n",
    "There’s an even easier way than iterating through the entire string to determine if a character is in a string. We can do this type of check more efficiently using in. in checks if one string is part of another string.\n",
    "\n",
    "Here is what the syntax of in looks like:\n",
    "\n",
    "letter in word\n",
    "\n",
    "\n",
    "Here, letter in word is a boolean expression that is True if the string letter is in the string word. Here are some examples:"
   ]
  },
  {
   "cell_type": "code",
   "execution_count": 24,
   "metadata": {},
   "outputs": [
    {
     "name": "stdout",
     "output_type": "stream",
     "text": [
      "True\n",
      "False\n"
     ]
    }
   ],
   "source": [
    "print(\"e\" in \"blueberry\")\n",
    "# => True\n",
    "print(\"a\" in \"blueberry\")\n",
    "# => False\n"
   ]
  },
  {
   "attachments": {},
   "cell_type": "markdown",
   "metadata": {},
   "source": [
    "In fact, this method is more powerful than the function you wrote in the last exercise because it not only works with letters, but with entire strings as well."
   ]
  },
  {
   "cell_type": "code",
   "execution_count": 25,
   "metadata": {},
   "outputs": [
    {
     "name": "stdout",
     "output_type": "stream",
     "text": [
      "True\n",
      "False\n"
     ]
    }
   ],
   "source": [
    "print(\"blue\" in \"blueberry\")\n",
    "# => True\n",
    "print(\"blue\" in \"strawberry\")\n",
    "# => False"
   ]
  },
  {
   "attachments": {},
   "cell_type": "markdown",
   "metadata": {},
   "source": [
    "It can be helpful to include more than one boolean expression in the same line of code. To do this, use and or and not in between the boolean expressions."
   ]
  },
  {
   "cell_type": "code",
   "execution_count": 26,
   "metadata": {},
   "outputs": [
    {
     "name": "stdout",
     "output_type": "stream",
     "text": [
      "False\n",
      "True\n"
     ]
    }
   ],
   "source": [
    "print(\"e\" in \"blueberry\" and \"e\" in \"carrot\")\n",
    "# => False\n",
    "print(\"e\" in \"blueberry\" and not \"e\" in \"carrot\")\n",
    "# => True"
   ]
  },
  {
   "attachments": {},
   "cell_type": "markdown",
   "metadata": {},
   "source": [
    "The first example above is False because ONE of the expressions was False; there is no “e” in “carrot”. The second example is True because there is an “e” in “blueberry” and not an “e” in “carrot”; both expressions are True."
   ]
  },
  {
   "cell_type": "code",
   "execution_count": 29,
   "metadata": {},
   "outputs": [
    {
     "name": "stdout",
     "output_type": "stream",
     "text": [
      "True\n",
      "True\n"
     ]
    }
   ],
   "source": [
    "print(\"e\" in \"blueberry\" and not \"e\" in \"carrot\")\n",
    "# => False\n",
    "print(\"e\" in \"blueberry\" or \"e\" in \"carrot\")\n",
    "# => True"
   ]
  },
  {
   "attachments": {},
   "cell_type": "markdown",
   "metadata": {},
   "source": [
    "##### Instructions\n",
    "1.\n",
    "Write a function called contains that takes two arguments, big_string and little_string and returns True if big_string contains little_string.\n",
    "\n",
    "For example contains(\"watermelon\", \"melon\") should return True and contains(\"watermelon\", \"berry\") should return False.\n",
    "\n",
    "2.\n",
    "Write a function called common_letters that takes two arguments, string_one and string_two and then returns a list with all of the letters they have in common.\n",
    "\n",
    "The letters in the returned list should be unique. For example,\n",
    "\n",
    "common_letters(\"banana\", \"cream\")\n",
    "should return ['a'].\n",
    "\n",
    "##### Instructions\n",
    "1.\n",
    "Copeland’s Corporate Company has finalized what they want their username and temporary password creation to be and have enlisted your help, once again, to build the function to generate them. In this exercise, you will create two functions, username_generator and password_generator.\n",
    "\n",
    "Let’s start with username_generator. Create a function called username_generator take two inputs, first_name and last_name and returns a user_name. The username should be a slice of the first three letters of their first name and the first four letters of their last name. If their first name is less than three letters or their last name is less than four letters it should use their entire names.\n",
    "\n",
    "For example, if the employee’s name is Abe Simpson the function should generate the username AbeSimp.\n",
    "\n",
    "Checkpoint 2 Passed\n",
    "2.\n",
    "Great work! Now for the temporary password, they want the function to take the input user name and shift all of the letters by one to the right, so the last letter of the username ends up as the first letter and so forth. For example, if the username is AbeSimp, then the temporary password generated should be pAbeSim.\n",
    "\n",
    "Start by defining a function called password_generator that takes one parameter user_name and defines an empty string named password within the function body.\n",
    "\n",
    "Checkpoint 3 Passed\n",
    "3.\n",
    "Inside password_generator, create a for loop that iterates through the indices of user_name by going from 0 to len(user_name).\n",
    "\n",
    "The loop should create the password by shifting all the letters of user_name one to the right. To do so, add the letter at the previous index of user_name to password with each pass of the loop.\n",
    "\n",
    "After the for loop but still within the definition of password_generator, return the password."
   ]
  },
  {
   "cell_type": "code",
   "execution_count": 30,
   "metadata": {},
   "outputs": [],
   "source": [
    "def username_generator(first_name, last_name):\n",
    "    if len(first_name) < 3:\n",
    "        user_name = first_name\n",
    "    else:\n",
    "        user_name = first_name[0:3]\n",
    "    if len(last_name) < 4:\n",
    "        user_name += last_name\n",
    "    else:\n",
    "        user_name += last_name[0:4]\n",
    "    return user_name\n",
    "  \n",
    "    \n",
    "def password_generator(user_name):\n",
    "    password = \"\"\n",
    "    for i in range(0, len(user_name)):\n",
    "        password += user_name[i-1]\n",
    "    return password"
   ]
  },
  {
   "cell_type": "code",
   "execution_count": null,
   "metadata": {},
   "outputs": [],
   "source": []
  }
 ],
 "metadata": {
  "kernelspec": {
   "display_name": "Python 3",
   "language": "python",
   "name": "python3"
  },
  "language_info": {
   "codemirror_mode": {
    "name": "ipython",
    "version": 3
   },
   "file_extension": ".py",
   "mimetype": "text/x-python",
   "name": "python",
   "nbconvert_exporter": "python",
   "pygments_lexer": "ipython3",
   "version": "3.11.3"
  },
  "orig_nbformat": 4
 },
 "nbformat": 4,
 "nbformat_minor": 2
}
