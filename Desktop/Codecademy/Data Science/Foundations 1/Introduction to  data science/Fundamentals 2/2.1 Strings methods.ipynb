{
 "cells": [
  {
   "cell_type": "markdown",
   "metadata": {},
   "source": [
    "# Strings"
   ]
  },
  {
   "attachments": {},
   "cell_type": "markdown",
   "metadata": {},
   "source": [
    "# Introduction\n",
    "Do you have a gigantic string that you need to parse for information? Do you need to sanitize a user’s input to work in a function? Do you need to be able to generate outputs with variable values? All of these things can be accomplished with string methods!\n",
    "\n",
    "Python comes with built-in string methods that give you the power to perform complicated tasks on strings very quickly and efficiently. These string methods allow you to change the case of a string, split a string into many smaller strings, join many small strings together into a larger string, and allow you to neatly combine changing variables with string outputs.\n",
    "\n",
    "In the previous lesson, you worked with len(), which was a function that determined the number of characters in a string. This, while similar, was NOT a string method. String methods all have the same syntax:\n",
    "\n",
    "\n",
    "string_name.string_method(arguments)\n",
    "\n",
    "Unlike len(), which is called with a string as its argument, a string method is called at the end of a string and each one has its own method specific arguments."
   ]
  },
  {
   "attachments": {},
   "cell_type": "markdown",
   "metadata": {},
   "source": [
    "## Formatting Methods\n",
    "There are three string methods that can change the casing of a string. These are .lower(), .upper(), and .title().\n",
    "\n",
    "* .lower() returns the string with all lowercase characters.\n",
    "* .upper() returns the string with all uppercase characters.\n",
    "* .title() returns the string in title case, which means the first letter of each word is capitalized.\n",
    "Here’s an example of .lower() in action:"
   ]
  },
  {
   "cell_type": "code",
   "execution_count": 1,
   "metadata": {},
   "outputs": [
    {
     "name": "stdout",
     "output_type": "stream",
     "text": [
      "smooth\n"
     ]
    }
   ],
   "source": [
    "favorite_song = 'SmOoTH'\n",
    "favorite_song_lowercase = favorite_song.lower()\n",
    "print(favorite_song_lowercase)\n",
    "# => 'smooth'"
   ]
  },
  {
   "attachments": {},
   "cell_type": "markdown",
   "metadata": {},
   "source": [
    "Every character was changed to lowercase! It’s important to remember that string methods can only create new strings, they do not change the original string."
   ]
  },
  {
   "cell_type": "code",
   "execution_count": 2,
   "metadata": {},
   "outputs": [
    {
     "name": "stdout",
     "output_type": "stream",
     "text": [
      "SmOoTH\n"
     ]
    }
   ],
   "source": [
    "print(favorite_song)\n",
    "# => 'SmOoTH'"
   ]
  },
  {
   "attachments": {},
   "cell_type": "markdown",
   "metadata": {},
   "source": [
    "## Splitting Strings\n",
    ".upper(), .lower(), and .title() all are performed on an existing string and produce a string in return. Let’s take a look at a string method that returns a different object entirely!\n",
    "\n",
    ".split() is performed on a string, takes one argument, and returns a list of substrings found between the given argument (which in the case of .split() is known as the delimiter). The following syntax should be used:\n",
    "\n",
    "If you do not provide an argument for .split() it will default to splitting at spaces.\n",
    "\n",
    "For example, consider the following strings:"
   ]
  },
  {
   "cell_type": "code",
   "execution_count": 3,
   "metadata": {},
   "outputs": [
    {
     "name": "stdout",
     "output_type": "stream",
     "text": [
      "['Like', 'seven', 'inches', 'from', 'the', 'midday', 'sun']\n"
     ]
    }
   ],
   "source": [
    "#string_name.split(delimiter)\n",
    "man_its_a_hot_one = \"Like seven inches from the midday sun\"\n",
    "print(man_its_a_hot_one.split())"
   ]
  },
  {
   "attachments": {},
   "cell_type": "markdown",
   "metadata": {},
   "source": [
    ".split returned a list with each word in the string. Important to note: if we run .split() on a string with no spaces, we will get the same string in return."
   ]
  },
  {
   "attachments": {},
   "cell_type": "markdown",
   "metadata": {},
   "source": [
    "## Splitting Strings II\n",
    "If we provide an argument for .split() we can dictate the character we want our string to be split on. This argument should be provided as a string itself.\n",
    "\n",
    "Consider the following example:"
   ]
  },
  {
   "cell_type": "code",
   "execution_count": 4,
   "metadata": {},
   "outputs": [
    {
     "name": "stdout",
     "output_type": "stream",
     "text": [
      "['sa', 'ta', 'a']\n"
     ]
    }
   ],
   "source": [
    "greatest_guitarist = \"santana\"\n",
    "print(greatest_guitarist.split('n'))\n",
    "# => ['sa', 'ta', 'a']"
   ]
  },
  {
   "attachments": {},
   "cell_type": "markdown",
   "metadata": {},
   "source": [
    "We provided 'n' as the argument for .split() so our string “santana” got split at each 'n' character into a list of three strings.\n",
    "\n",
    "What do you think happens if we split the same string at 'a'?"
   ]
  },
  {
   "cell_type": "code",
   "execution_count": 5,
   "metadata": {},
   "outputs": [
    {
     "name": "stdout",
     "output_type": "stream",
     "text": [
      "['s', 'nt', 'n', '']\n"
     ]
    }
   ],
   "source": [
    "print(greatest_guitarist.split('a'))\n",
    "# => ['s', 'nt', 'n', '']"
   ]
  },
  {
   "attachments": {},
   "cell_type": "markdown",
   "metadata": {},
   "source": [
    "Notice that there is an unexpected extra '' string in this list. When you split a string on a character that it also ends with, you’ll end up with an empty string at the end of the list.\n",
    "\n",
    "You can use any string as the argument for .split(), making it a versatile and powerful tool."
   ]
  },
  {
   "attachments": {},
   "cell_type": "markdown",
   "metadata": {},
   "source": [
    "#### Instructions\n",
    "1.\n",
    "Your boss at the Poetry organization sent over a bunch of author names that he wants you to prepare for importing into the database. Annoyingly, he sent them over as a long string with the names separated by commas.\n",
    "\n",
    "Using .split() and the provided string, create a list called author_names containing each individual author name as it’s own string.\n",
    "\n",
    "2.\n",
    "Great work, but now it turns out they didn’t want poet’s first names (why didn’t they just say that the first time!?)\n",
    "\n",
    "Create another list called author_last_names that only contains the last names of the poets in the provided string."
   ]
  },
  {
   "cell_type": "code",
   "execution_count": 6,
   "metadata": {},
   "outputs": [],
   "source": [
    "authors = \"Audre Lorde,Gabriela Mistral,Jean Toomer,An Qi,Walt Whitman,Shel Silverstein,Carmen Boullosa,Kamala Suraiyya,Langston Hughes,Adrienne Rich,Nikki Giovanni\""
   ]
  },
  {
   "attachments": {},
   "cell_type": "markdown",
   "metadata": {},
   "source": [
    "## Splitting Strings III\n",
    "We can also split strings using escape sequences. Escape sequences are used to indicate that we want to split by something in a string that is not necessarily a character. The two escape sequences we will cover here are\n",
    "\n",
    "* \\n Newline\n",
    "* \\t Horizontal Tab\n",
    "\n",
    "Newline or \\n will allow us to split a multi-line string by line breaks and \\t will allow us to split a string by tabs. \\t is particularly useful when dealing with certain datasets because it is not uncommon for data points to be separated by tabs.\n",
    "\n",
    "Let’s take a look at an example of splitting by an escape sequence:"
   ]
  },
  {
   "cell_type": "code",
   "execution_count": 7,
   "metadata": {},
   "outputs": [
    {
     "name": "stdout",
     "output_type": "stream",
     "text": [
      "['And if you said, \"This life ain\\'t good enough.\"', 'I would give my world to lift you up', 'I could change my life to better suit your mood', \"Because you're so smooth\"]\n"
     ]
    }
   ],
   "source": [
    "smooth_chorus = \\\n",
    "\"\"\"And if you said, \"This life ain't good enough.\"\n",
    "I would give my world to lift you up\n",
    "I could change my life to better suit your mood\n",
    "Because you're so smooth\"\"\"\n",
    " \n",
    "chorus_lines = smooth_chorus.split('\\n')\n",
    " \n",
    "print(chorus_lines)"
   ]
  },
  {
   "attachments": {},
   "cell_type": "markdown",
   "metadata": {},
   "source": [
    "This code is splitting the multi-line string at the newlines (\\n) which exist at the end of each line and saving it to a new list called chorus_lines. Then it prints chorus_lines which will produce the output\n",
    "\n",
    "The new list contains each line of the original string as its own smaller string. Also, notice that Python automatically escaped the ' character in the first line and adjusted to double quotation marks to allow the apostrophe on last line when it created the new list.\n",
    "\n",
    "##### Instructions\n",
    "1.\n",
    "The organization has sent you over the full text for William Carlos Williams poem Spring Storm. They want you to break the poem up into its individual lines.\n",
    "\n",
    "Create a list called spring_storm_lines that contains a string for each line of Spring Storm."
   ]
  },
  {
   "cell_type": "code",
   "execution_count": 8,
   "metadata": {},
   "outputs": [],
   "source": [
    "spring_storm_text = \\\n",
    "\"\"\"The sky has given over \n",
    "its bitterness. \n",
    "Out of the dark change \n",
    "all day long \n",
    "rain falls and falls \n",
    "as if it would never end. \n",
    "Still the snow keeps \n",
    "its hold on the ground. \n",
    "But water, water \n",
    "from a thousand runnels! \n",
    "It collects swiftly, \n",
    "dappled with black \n",
    "cuts a way for itself \n",
    "through green ice in the gutters. \n",
    "Drop after drop it falls \n",
    "from the withered grass-stems \n",
    "of the overhanging embankment.\"\"\""
   ]
  },
  {
   "attachments": {},
   "cell_type": "markdown",
   "metadata": {},
   "source": [
    "## Joining Strings\n",
    "Now that you’ve learned to break strings apart using .split(), let’s learn to put them back together using .join(). .join() is essentially the opposite of .split(), it joins a list of strings together with a given delimiter. The syntax of .join() is:\n",
    "\n",
    "Now this may seem a little weird, because with .split() the argument was the delimiter, but now the argument is the list. This is because join is still a string method, which means it has to act on a string. The string .join() acts on is the delimiter you want to join with, therefore the list you want to join has to be the argument.\n",
    "\n",
    "This can be a bit confusing, so let’s take a look at an example."
   ]
  },
  {
   "cell_type": "code",
   "execution_count": 9,
   "metadata": {},
   "outputs": [
    {
     "name": "stdout",
     "output_type": "stream",
     "text": [
      "My Spanish Harlem Mona Lisa\n"
     ]
    }
   ],
   "source": [
    "#'delimiter'.join(list_you_want_to_join)\n",
    "my_munequita = ['My', 'Spanish', 'Harlem', 'Mona', 'Lisa']\n",
    "print(' '.join(my_munequita))\n",
    "# => 'My Spanish Harlem Mona Lisa'"
   ]
  },
  {
   "attachments": {},
   "cell_type": "markdown",
   "metadata": {},
   "source": [
    "We take the list of strings, my_munequita, and we joined it together with our delimiter, ' ', which is a space. The space is important if you are trying to build a sentence from words, otherwise, we would have ended up with:"
   ]
  },
  {
   "cell_type": "code",
   "execution_count": 10,
   "metadata": {},
   "outputs": [
    {
     "name": "stdout",
     "output_type": "stream",
     "text": [
      "MySpanishHarlemMonaLisa\n"
     ]
    }
   ],
   "source": [
    "print(''.join(my_munequita))\n",
    "# => 'MySpanishHarlemMonaLisa'\n"
   ]
  },
  {
   "attachments": {},
   "cell_type": "markdown",
   "metadata": {},
   "source": [
    "## Joining Strings II\n",
    "In the last exercise, we joined together a list of words using a space as the delimiter to create a sentence. In fact, you can use any string as a delimiter to join together a list of strings. For example, if we have the list"
   ]
  },
  {
   "cell_type": "code",
   "execution_count": 11,
   "metadata": {},
   "outputs": [],
   "source": [
    "santana_songs = ['Oye Como Va', 'Smooth', 'Black Magic Woman', 'Samba Pa Ti', 'Maria Maria']"
   ]
  },
  {
   "attachments": {},
   "cell_type": "markdown",
   "metadata": {},
   "source": [
    "We could join this list together with ANY string. One often used string is a comma , because then we can create a string of comma separated variables, or CSV."
   ]
  },
  {
   "cell_type": "code",
   "execution_count": 13,
   "metadata": {},
   "outputs": [
    {
     "name": "stdout",
     "output_type": "stream",
     "text": [
      "Oye Como Va, Smooth, Black Magic Woman, Samba Pa Ti, Maria Maria\n"
     ]
    }
   ],
   "source": [
    "santana_songs_csv = ', '.join(santana_songs)\n",
    "print(santana_songs_csv)"
   ]
  },
  {
   "attachments": {},
   "cell_type": "markdown",
   "metadata": {},
   "source": [
    "You’ll often find data stored in CSVs because it is an efficient, simple file type used by popular programs like Excel or Google Spreadsheets.\n",
    "\n",
    "You can also join using escape sequences as the delimiter. Consider the following example:"
   ]
  },
  {
   "cell_type": "code",
   "execution_count": 14,
   "metadata": {},
   "outputs": [
    {
     "name": "stdout",
     "output_type": "stream",
     "text": [
      "Well I'm from the barrio\n",
      "You hear my rhythm on your radio\n",
      "You feel the turning of the world so soft and slow\n",
      "Turning you 'round and 'round\n"
     ]
    }
   ],
   "source": [
    "smooth_fifth_verse_lines = ['Well I\\'m from the barrio', 'You hear my rhythm on your radio', 'You feel the turning of the world so soft and slow', 'Turning you \\'round and \\'round']\n",
    " \n",
    "smooth_fifth_verse = '\\n'.join(smooth_fifth_verse_lines)\n",
    " \n",
    "print(smooth_fifth_verse)\n"
   ]
  },
  {
   "attachments": {},
   "cell_type": "markdown",
   "metadata": {},
   "source": [
    "This code is taking the list of strings and joining them using a newline \\n as the delimiter. Then it prints the result and produces the output:"
   ]
  },
  {
   "attachments": {},
   "cell_type": "markdown",
   "metadata": {},
   "source": [
    "## .strip()\n",
    "When working with strings that come from real data, you will often find that the strings aren’t super clean. You’ll find lots of extra whitespace, unnecessary linebreaks, and rogue tabs.\n",
    "\n",
    "Python provides a great method for cleaning strings: .strip(). Stripping a string removes all whitespace characters from the beginning and end. Consider the following example:"
   ]
  },
  {
   "cell_type": "code",
   "execution_count": 1,
   "metadata": {},
   "outputs": [
    {
     "name": "stdout",
     "output_type": "stream",
     "text": [
      "rob thomas\n"
     ]
    }
   ],
   "source": [
    "featuring = \"           rob thomas                 \"\n",
    "print(featuring.strip())\n",
    "# => 'rob thomas'"
   ]
  },
  {
   "attachments": {},
   "cell_type": "markdown",
   "metadata": {},
   "source": [
    "All the whitespace on either side of the string has been stripped, but the whitespace in the middle has been preserved.\n",
    "\n",
    "You can also use .strip() with a character argument, which will strip that character from either end of the string."
   ]
  },
  {
   "cell_type": "code",
   "execution_count": 4,
   "metadata": {},
   "outputs": [
    {
     "name": "stdout",
     "output_type": "stream",
     "text": [
      "rob thomas       \n"
     ]
    }
   ],
   "source": [
    "featuring = \"!!!rob thomas       !!!!!\"\n",
    "print(featuring.strip('!'))\n",
    "# => 'rob thomas       '"
   ]
  },
  {
   "attachments": {},
   "cell_type": "markdown",
   "metadata": {},
   "source": [
    "By including the argument '!' we are able to strip all of the ! characters from either side of the string. Notice that now that we’ve included an argument we are no longer stripping whitespace, we are ONLY stripping the argument.\n",
    "\n",
    "#### Instructions\n",
    "1.\n",
    "They sent over another list containing all the lines to the Audre Lorde poem, Love, Maybe. They want you to join together all of the lines into a single string that can be used to display the poem again, but this time, you’ve noticed that the list contains a ton of unnecessary whitespace that doesn’t appear in the actual poem.\n",
    "\n",
    "First, use .strip() on each line in the list to remove the unnecessary whitespace and save it as a new list love_maybe_lines_stripped.\n",
    "\n",
    "Checkpoint 2 Passed\n",
    "\n",
    "Stuck? Get a hint\n",
    "2.\n",
    ".join() the lines in love_maybe_lines_stripped together into one large multi-line string, love_maybe_full, that can be printed to display the poem.\n",
    "\n",
    "Each line of the poem should show up on its own line.\n",
    "\n",
    "Checkpoint 3 Passed\n",
    "3.\n",
    "Print love_maybe_full."
   ]
  },
  {
   "cell_type": "code",
   "execution_count": 5,
   "metadata": {},
   "outputs": [],
   "source": [
    "love_maybe_lines = ['Always    ', '     in the middle of our bloodiest battles  ', 'you lay down your arms', '           like flowering mines    ','\\n' ,'   to conquer me home.    ']"
   ]
  },
  {
   "attachments": {},
   "cell_type": "markdown",
   "metadata": {},
   "source": [
    "## Replace\n",
    "The next string method we will cover is .replace(). Replace takes two arguments and replaces all instances of the first argument in a string with the second argument. The syntax is as follows\n",
    "\n",
    "string_name.replace(substring_being_replaced, new_substring)\n",
    "\n",
    "Great! Let’s put it in context and look at an example.\n",
    "\n"
   ]
  },
  {
   "cell_type": "code",
   "execution_count": 6,
   "metadata": {},
   "outputs": [
    {
     "name": "stdout",
     "output_type": "stream",
     "text": [
      "You_got_the_kind_of_loving_that_can_be_so_smooth\n"
     ]
    }
   ],
   "source": [
    "with_spaces = \"You got the kind of loving that can be so smooth\"\n",
    "with_underscores = with_spaces.replace(' ', '_')\n",
    "print(with_underscores)\n",
    "# 'You_got_the_kind_of_loving_that_can_be_so_smooth'"
   ]
  },
  {
   "attachments": {},
   "cell_type": "markdown",
   "metadata": {},
   "source": [
    "Here we used .replace() to change every instance of a space in the string above to be an underscore instead.\n",
    "\n",
    "Note that in this example, we used a single character, but these substrings can be multiple characters long!\n",
    "\n",
    "##### Instructions\n",
    "1.\n",
    "The poetry organization has sent over the bio for Jean Toomer as it currently exists on their site. Notice that there was a mistake with his last name and all instances of Toomer are lacking one o.\n",
    "\n",
    "Use .replace() to change all instances of Tomer in the bio to Toomer. Save the updated bio to the string toomer_bio_fixed."
   ]
  },
  {
   "cell_type": "code",
   "execution_count": 7,
   "metadata": {},
   "outputs": [],
   "source": [
    "toomer_bio = \\\n",
    "\"\"\"\n",
    "Nathan Pinchback Tomer, who adopted the name Jean Tomer early in his literary career, was born in Washington, D.C. in 1894. Jean is the son of Nathan Tomer was a mixed-race freedman, born into slavery in 1839 in Chatham County, North Carolina. Jean Tomer is most well known for his first book Cane, which vividly portrays the life of African-Americans in southern farmlands.\n",
    "\"\"\""
   ]
  },
  {
   "attachments": {},
   "cell_type": "markdown",
   "metadata": {},
   "source": [
    "## .find()\n",
    "Another interesting string method is .find(). .find() takes a string as an argument and searching the string it was run on for that string. It then returns the first index value where that string is located.\n",
    "\n",
    "Here’s an example:"
   ]
  },
  {
   "cell_type": "code",
   "execution_count": 8,
   "metadata": {},
   "outputs": [
    {
     "name": "stdout",
     "output_type": "stream",
     "text": [
      "4\n"
     ]
    }
   ],
   "source": [
    "print('smooth'.find('t'))"
   ]
  },
  {
   "attachments": {},
   "cell_type": "markdown",
   "metadata": {},
   "source": [
    "We searched the string 'smooth' for the string 't' and found that it was at the fourth index spot, so .find() returned 4.\n",
    "\n",
    "You can also search for larger strings, and .find() will return the index value of the first character of that string."
   ]
  },
  {
   "cell_type": "code",
   "execution_count": 9,
   "metadata": {},
   "outputs": [
    {
     "name": "stdout",
     "output_type": "stream",
     "text": [
      "2\n"
     ]
    }
   ],
   "source": [
    "print(\"smooth\".find('oo'))\n",
    "# => '2'"
   ]
  },
  {
   "attachments": {},
   "cell_type": "markdown",
   "metadata": {},
   "source": [
    "Notice here that 2 is the index of the first o.\n",
    "\n",
    "#### Instructions\n",
    "1.\n",
    "In the code editor is the first line of Gabriela Mistral’s poem God Wills It.\n",
    "\n",
    "At what index place does the word “disown” appear? Save that index place to the variable disown_placement."
   ]
  },
  {
   "cell_type": "code",
   "execution_count": 10,
   "metadata": {},
   "outputs": [],
   "source": [
    "god_wills_it_line_one = \"The very earth will disown you\""
   ]
  },
  {
   "attachments": {},
   "cell_type": "markdown",
   "metadata": {},
   "source": [
    "## .format()\n",
    "Python also provides a handy string method for including variables in strings. This method is .format(). .format() takes variables as an argument and includes them in the string that it is run on. You include {} marks as placeholders for where those variables will be imported.\n",
    "\n",
    "Consider the following function:"
   ]
  },
  {
   "cell_type": "code",
   "execution_count": 11,
   "metadata": {},
   "outputs": [],
   "source": [
    "def favorite_song_statement(song, artist):\n",
    "  return \"My favorite song is {} by {}.\".format(song, artist)"
   ]
  },
  {
   "attachments": {},
   "cell_type": "markdown",
   "metadata": {},
   "source": [
    "The function favorite_song_statement takes two arguments, song and artist, then returns a string that includes both of the arguments and prints a sentence. Note: .format() can take as many arguments as there are {} in the string it is run on, which in this case is two.\n",
    "\n",
    "Here’s an example of the function being run:"
   ]
  },
  {
   "cell_type": "code",
   "execution_count": 12,
   "metadata": {},
   "outputs": [
    {
     "name": "stdout",
     "output_type": "stream",
     "text": [
      "My favorite song is Smooth by Santana.\n"
     ]
    }
   ],
   "source": [
    "print(favorite_song_statement(\"Smooth\", \"Santana\"))\n",
    "# => \"My favorite song is Smooth by Santana.\""
   ]
  },
  {
   "attachments": {},
   "cell_type": "markdown",
   "metadata": {},
   "source": [
    "Now you may be asking yourself, I could have written this function using string concatenation instead of .format(), why is this method better? The answer is legibility and reusability. It is much easier to picture the end result .format() than it is to picture the end result of string concatenation and legibility is everything. You can also reuse the same base string with different variables, allowing you to cut down on unnecessary, hard to interpret code.\n",
    "\n",
    "#### Instructions\n",
    "1.\n",
    "Write a function called poem_title_card that takes two inputs: the first input should be title and the second poet. The function should use .format() to return the following string:\n",
    "\n",
    " The poem \"[TITLE]\" is written by [POET].\n",
    "For example, if the function is given the inputs\n",
    "\n",
    "poem_title_card(\"I Hear America Singing\", \"Walt Whitman\")\n",
    "It should return the string\n",
    "\n",
    "The poem \"I Hear America Singing\" is written by Walt Whitman."
   ]
  },
  {
   "attachments": {},
   "cell_type": "markdown",
   "metadata": {},
   "source": [
    "## .format() II\n",
    ".format() can be made even more legible for other people reading your code by including keywords. Previously, with .format(), you had to make sure that your variables appeared as arguments in the same order that you wanted them to appear in the string, which added unnecessary complications when writing code.\n",
    "\n",
    "By including keywords in the string, and in the arguments, you can remove that ambiguity. Let’s look at an example."
   ]
  },
  {
   "cell_type": "code",
   "execution_count": 13,
   "metadata": {},
   "outputs": [],
   "source": [
    "def favorite_song_statement(song, artist):\n",
    "  return \"My favorite song is {song} by {artist}.\".format(song=song, artist=artist)"
   ]
  },
  {
   "attachments": {},
   "cell_type": "markdown",
   "metadata": {},
   "source": [
    "Now it is clear to anyone reading the string what it is supposed to return, they don’t even need to look at the arguments of .format() in order to get a clear understanding of what is supposed to happen. You can even reverse the order of artist and song in the code above and it will work the same way.\n",
    "\n",
    "For example, if the arguments of .format() are in a different order, the code will still work since the keywords are present:"
   ]
  },
  {
   "cell_type": "code",
   "execution_count": 14,
   "metadata": {},
   "outputs": [],
   "source": [
    "def favorite_song_statement(song, artist):\n",
    "  # this will have the same output as the above example\n",
    "  return \"My favorite song is {song} by {artist}.\".format(artist=artist, song=song)"
   ]
  },
  {
   "attachments": {},
   "cell_type": "markdown",
   "metadata": {},
   "source": [
    "## Review\n",
    "Excellent work! This lesson has shown you the vast variety of string methods and their power. Whatever the problem you are trying to solve, if you are working with strings then string methods are likely going to be part of the solution.\n",
    "\n",
    "Over this lesson you’ve learned:\n",
    "\n",
    "* .upper(), .title(), and .lower() adjust the casing of your string.\n",
    "* .split() takes a string and creates a list of substrings.\n",
    "* .join() takes a list of strings and creates a string.\n",
    "* .strip() cleans off whitespace, or other noise from the beginning and end of a string.\n",
    "* .replace() replaces all instances of a character/string in a string with another character/string.\n",
    "* .find() searches a string for a character/string and returns the index value that character/string is found at.\n",
    "* .format() allows you to interpolate a string with variables.\n",
    "\n",
    "Well I’ve been stringing you along for long enough, let’s get some more practice in!\n",
    "\n",
    "##### Instructions\n",
    "1.\n",
    "Preserve the Verse has one final task for you. They have delivered you a string that contains a list of poems, titled highlighted_poems, they want to highlight on the site, but they need your help to parse the string into something that can display the name, title, and publication date of the highlighted poems on the site.\n",
    "\n",
    "First, start by printing highlighted_poems to the terminal and see how it displays.\n",
    "\n",
    "2.\n",
    "The information for each poem is separated by commas, and within this information is the title of the poem, the author, and the date of publication.\n",
    "\n",
    "Start by splitting highlighted_poems at the commas and saving it to highlighted_poems_list."
   ]
  },
  {
   "cell_type": "code",
   "execution_count": 15,
   "metadata": {},
   "outputs": [],
   "source": [
    "highlighted_poems = \"Afterimages:Audre Lorde:1997,  The Shadow:William Carlos Williams:1915, Ecstasy:Gabriela Mistral:1925,   Georgia Dusk:Jean Toomer:1923,   Parting Before Daybreak:An Qi:2014, The Untold Want:Walt Whitman:1871, Mr. Grumpledump's Song:Shel Silverstein:2004, Angel Sound Mexico City:Carmen Boullosa:2013, In Love:Kamala Suraiyya:1965, Dream Variations:Langston Hughes:1994, Dreamwood:Adrienne Rich:1987\""
   ]
  },
  {
   "cell_type": "code",
   "execution_count": null,
   "metadata": {},
   "outputs": [],
   "source": []
  }
 ],
 "metadata": {
  "kernelspec": {
   "display_name": "Python 3",
   "language": "python",
   "name": "python3"
  },
  "language_info": {
   "codemirror_mode": {
    "name": "ipython",
    "version": 3
   },
   "file_extension": ".py",
   "mimetype": "text/x-python",
   "name": "python",
   "nbconvert_exporter": "python",
   "pygments_lexer": "ipython3",
   "version": "3.11.3"
  },
  "orig_nbformat": 4
 },
 "nbformat": 4,
 "nbformat_minor": 2
}
