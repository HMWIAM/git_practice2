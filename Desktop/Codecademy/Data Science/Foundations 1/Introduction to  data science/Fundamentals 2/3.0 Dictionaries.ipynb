{
 "cells": [
  {
   "attachments": {},
   "cell_type": "markdown",
   "metadata": {},
   "source": [
    "# Dictionaries\n",
    "A dictionary is an unordered set of key: value pairs.\n",
    "\n",
    "It provides us with a way to map pieces of data to each other so that we can quickly find values that are associated with one another.\n",
    "\n",
    "Suppose we want to store the prices of various items sold at a cafe:\n",
    "\n",
    "Avocado Toast is 6 dollars\n",
    "Carrot Juice is 5 dollars\n",
    "Blueberry Muffin is 2 dollars\n",
    "In Python, we can create a dictionary called menu to store this data:\n"
   ]
  },
  {
   "cell_type": "code",
   "execution_count": 1,
   "metadata": {},
   "outputs": [
    {
     "name": "stdout",
     "output_type": "stream",
     "text": [
      "{'avocado toast': 6, 'carrot juice': 5, 'blueberry muffin': 2}\n"
     ]
    }
   ],
   "source": [
    "menu = {\"avocado toast\": 6, \"carrot juice\": 5, \"blueberry muffin\": 2}\n",
    "print(menu)"
   ]
  },
  {
   "attachments": {},
   "cell_type": "markdown",
   "metadata": {},
   "source": [
    "Notice that:\n",
    "\n",
    "1. A dictionary begins and ends with curly braces { and }.\n",
    "2. Each item consists of a key (\"avocado toast\") and a value (6).\n",
    "3. Each key: value pair is separated by a comma.\n",
    "It’s considered good practice to insert a space () after each comma, but our code will still run without the space.\n",
    "\n",
    "Make a Dictionary\n",
    "In the previous exercise, we saw a dictionary that maps strings to numbers (i.e., \"avocado toast\": 6). However, the keys can be numbers as well.\n",
    "\n",
    "For example, if we were mapping restaurant bill subtotals to the bill total after tip, a dictionary could look like:"
   ]
  },
  {
   "cell_type": "code",
   "execution_count": 2,
   "metadata": {},
   "outputs": [],
   "source": [
    "subtotal_to_total = {20: 24, 10: 12, 5: 6, 15: 18}\n",
    "\n"
   ]
  },
  {
   "attachments": {},
   "cell_type": "markdown",
   "metadata": {},
   "source": [
    "Values can be of any type. We can use a string, a number, a list, or even another dictionary as the value associated with a key!\n",
    "\n",
    "For example:"
   ]
  },
  {
   "cell_type": "code",
   "execution_count": 3,
   "metadata": {},
   "outputs": [],
   "source": [
    "students_in_classes = {\"software design\": [\"Aaron\", \"Delila\", \"Samson\"], \"cartography\": [\"Christopher\", \"Juan\", \"Marco\"], \"philosophy\": [\"Frederica\", \"Manuel\"]}"
   ]
  },
  {
   "attachments": {},
   "cell_type": "markdown",
   "metadata": {},
   "source": [
    "The list [\"Aaron\", \"Delila\", \"Samson\"], which is the value for the key \"software design\", represents the students in that class.\n",
    "\n",
    "We can also mix and match key and value types. For example:"
   ]
  },
  {
   "cell_type": "code",
   "execution_count": 4,
   "metadata": {},
   "outputs": [],
   "source": [
    "person = {\"name\": \"Shuri\", \"age\": 18, \"family\": [\"T'Chaka\", \"Ramonda\"]}"
   ]
  },
  {
   "attachments": {},
   "cell_type": "markdown",
   "metadata": {},
   "source": [
    "## Invalid Keys\n",
    "We can have a list or a dictionary as a value of an item in a dictionary, but we cannot use these data types as keys of the dictionary. If we try to, we will get a TypeError."
   ]
  },
  {
   "cell_type": "code",
   "execution_count": 5,
   "metadata": {},
   "outputs": [
    {
     "ename": "TypeError",
     "evalue": "unhashable type: 'list'",
     "output_type": "error",
     "traceback": [
      "\u001b[0;31m---------------------------------------------------------------------------\u001b[0m",
      "\u001b[0;31mTypeError\u001b[0m                                 Traceback (most recent call last)",
      "Cell \u001b[0;32mIn[5], line 1\u001b[0m\n\u001b[0;32m----> 1\u001b[0m powers \u001b[39m=\u001b[39m {[\u001b[39m1\u001b[39m, \u001b[39m2\u001b[39m, \u001b[39m4\u001b[39m, \u001b[39m8\u001b[39m, \u001b[39m16\u001b[39m]: \u001b[39m2\u001b[39m, [\u001b[39m1\u001b[39m, \u001b[39m3\u001b[39m, \u001b[39m9\u001b[39m, \u001b[39m27\u001b[39m, \u001b[39m81\u001b[39m]: \u001b[39m3\u001b[39m}\n",
      "\u001b[0;31mTypeError\u001b[0m: unhashable type: 'list'"
     ]
    }
   ],
   "source": [
    "powers = {[1, 2, 4, 8, 16]: 2, [1, 3, 9, 27, 81]: 3}\n"
   ]
  },
  {
   "attachments": {},
   "cell_type": "markdown",
   "metadata": {},
   "source": [
    "The word “unhashable” in this context means that this ‘list’ is an object that can be changed.\n",
    "\n",
    "Dictionaries in Python rely on each key having a hash value, a specific identifier for the key. If the key can change, that hash value would not be reliable. So the keys must always be unchangeable, hashable data types, like numbers or strings.\n",
    "\n",
    "## Empty Dictionary\n",
    "A dictionary doesn’t have to contain anything. Sometimes we need to create an empty dictionary when we plan to fill it later based on some other input.\n",
    "\n",
    "We can create an empty dictionary like this:"
   ]
  },
  {
   "cell_type": "code",
   "execution_count": 6,
   "metadata": {},
   "outputs": [],
   "source": [
    "empty_dict = {}"
   ]
  },
  {
   "attachments": {},
   "cell_type": "markdown",
   "metadata": {},
   "source": [
    "## Add A Key\n",
    "To add a single key: value pair to a dictionary, we can use the syntax:\n",
    "\n",
    "dictionary[key] = value\n",
    "\n",
    "For example, if we had our menu dictionary from the first exercise:"
   ]
  },
  {
   "cell_type": "code",
   "execution_count": 7,
   "metadata": {},
   "outputs": [],
   "source": [
    "menu = {\"oatmeal\": 3, \"avocado toast\": 6, \"carrot juice\": 5, \"blueberry muffin\": 2}"
   ]
  },
  {
   "attachments": {},
   "cell_type": "markdown",
   "metadata": {},
   "source": [
    "And we wanted to add a new item, \"cheesecake\" for 8 dollars, we could use:"
   ]
  },
  {
   "cell_type": "code",
   "execution_count": 8,
   "metadata": {},
   "outputs": [
    {
     "name": "stdout",
     "output_type": "stream",
     "text": [
      "{'oatmeal': 3, 'avocado toast': 6, 'carrot juice': 5, 'blueberry muffin': 2, 'cheesecake': 8}\n"
     ]
    }
   ],
   "source": [
    "menu[\"cheesecake\"] = 8\n",
    "print(menu)"
   ]
  },
  {
   "attachments": {},
   "cell_type": "markdown",
   "metadata": {},
   "source": [
    "## Add Multiple Keys\n",
    "If we wanted to add multiple key : value pairs to a dictionary at once, we can use the .update() method.\n",
    "\n",
    "Looking at our sensors object from a previous exercise:"
   ]
  },
  {
   "cell_type": "code",
   "execution_count": 9,
   "metadata": {},
   "outputs": [],
   "source": [
    "sensors = {\"living room\": 21, \"kitchen\": 23, \"bedroom\": 20}"
   ]
  },
  {
   "attachments": {},
   "cell_type": "markdown",
   "metadata": {},
   "source": [
    "If we wanted to add 3 new rooms, we could use:"
   ]
  },
  {
   "cell_type": "code",
   "execution_count": 10,
   "metadata": {},
   "outputs": [
    {
     "name": "stdout",
     "output_type": "stream",
     "text": [
      "{'living room': 21, 'kitchen': 23, 'bedroom': 20}\n",
      "{'living room': 21, 'kitchen': 23, 'bedroom': 20, 'pantry': 22, 'guest room': 25, 'patio': 34}\n"
     ]
    }
   ],
   "source": [
    "print(sensors)\n",
    "sensors.update({\"pantry\": 22, \"guest room\": 25, \"patio\": 34})\n",
    "print(sensors)\n"
   ]
  },
  {
   "attachments": {},
   "cell_type": "markdown",
   "metadata": {},
   "source": [
    "## Overwrite Values\n",
    "We know that we can add a key by using the following syntax:"
   ]
  },
  {
   "cell_type": "code",
   "execution_count": 11,
   "metadata": {},
   "outputs": [],
   "source": [
    "menu[\"banana\"] = 3"
   ]
  },
  {
   "attachments": {},
   "cell_type": "markdown",
   "metadata": {},
   "source": [
    "This will create a key \"banana\" and set its value to 3. But what if we used a key that already has an entry in the menu dictionary?\n",
    "\n",
    "In that case, our value assignment would overwrite the existing value attached to that key. We can overwrite the value of \"oatmeal\" like this:"
   ]
  },
  {
   "cell_type": "code",
   "execution_count": 13,
   "metadata": {},
   "outputs": [
    {
     "name": "stdout",
     "output_type": "stream",
     "text": [
      "{'oatmeal': 3, 'avocado toast': 6, 'carrot juice': 5, 'blueberry muffin': 2}\n",
      "{'oatmeal': 5, 'avocado toast': 6, 'carrot juice': 5, 'blueberry muffin': 2}\n"
     ]
    }
   ],
   "source": [
    "menu = {\"oatmeal\": 3, \"avocado toast\": 6, \"carrot juice\": 5, \"blueberry muffin\": 2}\n",
    "print(menu)\n",
    "menu[\"oatmeal\"] = 5\n",
    "print(menu)"
   ]
  },
  {
   "attachments": {},
   "cell_type": "markdown",
   "metadata": {},
   "source": [
    "## Dict Comprehensions\n",
    "Let’s say we have two lists that we want to combine into a dictionary, like a list of students and a list of their heights, in inches:"
   ]
  },
  {
   "cell_type": "code",
   "execution_count": 14,
   "metadata": {},
   "outputs": [],
   "source": [
    "names = ['Jenny', 'Alexus', 'Sam', 'Grace']\n",
    "heights = [61, 70, 67, 64]"
   ]
  },
  {
   "attachments": {},
   "cell_type": "markdown",
   "metadata": {},
   "source": [
    "Python allows you to create a dictionary using a dict comprehension, with this syntax:"
   ]
  },
  {
   "cell_type": "code",
   "execution_count": 15,
   "metadata": {},
   "outputs": [
    {
     "name": "stdout",
     "output_type": "stream",
     "text": [
      "{'Jenny': 61, 'Alexus': 70, 'Sam': 67, 'Grace': 64}\n"
     ]
    }
   ],
   "source": [
    "students = {key:value for key, value in zip(names, heights)}\n",
    "print(students)"
   ]
  },
  {
   "attachments": {},
   "cell_type": "markdown",
   "metadata": {},
   "source": [
    "Remember that zip() combines two lists into an iterator of tuples with the list elements paired together. This dict comprehension:\n",
    "\n",
    "1. Takes a pair from the iterator of tuples\n",
    "2. Names the elements in the pair key (the one originally from the names list) and value (the one originally from the heights list)\n",
    "3. Creates a key : value item in the students dictionary\n",
    "4. Repeats steps 1-3 for the entire iterator of pairs\n",
    "\n",
    "##### Review\n",
    "So far we have learned:\n",
    "\n",
    "* How to create a dictionary\n",
    "* How to add elements to a dictionary\n",
    "* How to update elements in a dictionary\n",
    "* How to use a dict comprehension to create a dictionary from two lists\n",
    "Let’s practice these skills!\n",
    "\n",
    "Instructions\n",
    "1.\n",
    "We are building a music streaming service. We have provided two lists, representing songs in a user’s library and the amount of times each song has been played.\n",
    "\n",
    "Using a dict comprehension, create a dictionary called plays that goes through zip(songs, playcounts) and creates a song:playcount pair for each song in songs and each playcount in playcounts.\n",
    "\n",
    "\n",
    "Stuck? Get a hint\n",
    "2.\n",
    "Print plays.\n",
    "\n",
    "3.\n",
    "After printing plays, add a new entry to it. The entry should be for the song \"Purple Haze\" and the playcount is 1.\n",
    "\n",
    "4.\n",
    "This user has caught Aretha Franklin fever and listened to “Respect” 5 more times. Update the value for \"Respect\" to be 94 in the plays dictionary.\n",
    "\n",
    "5.\n",
    "Create a dictionary called library that has two key: value pairs:\n",
    "\n",
    "key \"The Best Songs\" with a value of plays, the dictionary you created\n",
    "key \"Sunday Feelings\" with a value of an empty dictionary\n",
    "6.\n",
    "Print library."
   ]
  },
  {
   "cell_type": "code",
   "execution_count": 16,
   "metadata": {},
   "outputs": [],
   "source": [
    "songs = [\"Like a Rolling Stone\", \"Satisfaction\", \"Imagine\", \"What's Going On\", \"Respect\", \"Good Vibrations\"]\n",
    "playcounts = [78, 29, 44, 21, 89, 5]"
   ]
  },
  {
   "cell_type": "code",
   "execution_count": null,
   "metadata": {},
   "outputs": [],
   "source": []
  }
 ],
 "metadata": {
  "kernelspec": {
   "display_name": "Python 3",
   "language": "python",
   "name": "python3"
  },
  "language_info": {
   "codemirror_mode": {
    "name": "ipython",
    "version": 3
   },
   "file_extension": ".py",
   "mimetype": "text/x-python",
   "name": "python",
   "nbconvert_exporter": "python",
   "pygments_lexer": "ipython3",
   "version": "3.11.3"
  },
  "orig_nbformat": 4
 },
 "nbformat": 4,
 "nbformat_minor": 2
}
