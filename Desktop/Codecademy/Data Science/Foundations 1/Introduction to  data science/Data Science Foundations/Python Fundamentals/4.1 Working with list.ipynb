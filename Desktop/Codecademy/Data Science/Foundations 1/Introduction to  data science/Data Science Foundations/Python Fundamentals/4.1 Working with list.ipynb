{
 "cells": [
  {
   "attachments": {},
   "cell_type": "markdown",
   "metadata": {},
   "source": [
    "# Working with list\n"
   ]
  },
  {
   "attachments": {},
   "cell_type": "markdown",
   "metadata": {},
   "source": [
    "## Adding by Index: Insert\n",
    "The Python list method .insert() allows us to add an element to a specific index in a list.\n",
    "\n",
    "The .insert() method takes in two inputs:\n",
    "\n",
    "1. The index you want to insert into.\n",
    "2. The element you want to insert at the specified index.\n",
    "The .insert() method will handle shifting over elements and can be used with negative indices.\n",
    "\n",
    "To see it in action let’s imagine we have a list representing a line at a store:"
   ]
  },
  {
   "cell_type": "code",
   "execution_count": 1,
   "metadata": {},
   "outputs": [
    {
     "name": "stdout",
     "output_type": "stream",
     "text": [
      "['Karla', 'Maxium', 'Martim', 'Isabella']\n"
     ]
    }
   ],
   "source": [
    "store_line = [\"Karla\", \"Maxium\", \"Martim\", \"Isabella\"]\n",
    "print(store_line)"
   ]
  },
  {
   "attachments": {},
   "cell_type": "markdown",
   "metadata": {},
   "source": [
    "\"Maxium\" saved a spot for his friend \"Vikor\" and we need to adjust the list to add him into the line right behind \"Maxium\".\n",
    "\n",
    "For this example, we can assume that \"Karla\" is the front of the line and the rest of the elements are behind her.\n",
    "\n",
    "Here is how we would use the .insert() method to insert \"Vikor\" :"
   ]
  },
  {
   "cell_type": "code",
   "execution_count": 2,
   "metadata": {},
   "outputs": [
    {
     "name": "stdout",
     "output_type": "stream",
     "text": [
      "['Karla', 'Maxium', 'Vikor', 'Martim', 'Isabella']\n"
     ]
    }
   ],
   "source": [
    "store_line.insert(2, \"Vikor\")\n",
    "print(store_line) "
   ]
  },
  {
   "attachments": {},
   "cell_type": "markdown",
   "metadata": {},
   "source": [
    "Some important things to note:\n",
    "\n",
    "1. The order and number of the inputs is important. The .insert() method expects two inputs, the first being a numerical index, followed by any value as the second input.\n",
    "\n",
    "2. When we insert an element into a list, all elements from the specified index and up to the last index are shifted one index to the right. This does not apply to inserting an element to the very end of a list as it will simply add an additional index and no other elements will need to shift."
   ]
  },
  {
   "attachments": {},
   "cell_type": "markdown",
   "metadata": {},
   "source": [
    "## Removing by Index: Pop\n",
    "Just as we learned to insert elements at specific indices, Python gives us a method to remove elements at a specific index using a method called .pop().\n",
    "\n",
    "The .pop() method takes an optional single input:\n",
    "\n",
    "1. The index for the element you want to remove.\n",
    "\n",
    "To see it in action, let’s consider a list called cs_topics that stores a collection of topics one might study in a computer science program."
   ]
  },
  {
   "cell_type": "code",
   "execution_count": 3,
   "metadata": {},
   "outputs": [
    {
     "name": "stdout",
     "output_type": "stream",
     "text": [
      "['Python', 'Data Structures', 'Balloon Making', 'Algorithms', 'Clowns 101']\n"
     ]
    }
   ],
   "source": [
    "cs_topics = [\"Python\", \"Data Structures\", \"Balloon Making\", \"Algorithms\", \"Clowns 101\"]\n",
    "print(cs_topics)"
   ]
  },
  {
   "attachments": {},
   "cell_type": "markdown",
   "metadata": {},
   "source": [
    "Two of these topics don’t look like they belong, let’s see how we remove them using .pop().\n",
    "\n",
    "First let’s remove \"Clowns 101\":"
   ]
  },
  {
   "cell_type": "code",
   "execution_count": 4,
   "metadata": {},
   "outputs": [
    {
     "name": "stdout",
     "output_type": "stream",
     "text": [
      "['Python', 'Data Structures', 'Balloon Making', 'Algorithms']\n",
      "Clowns 101\n"
     ]
    }
   ],
   "source": [
    "removed_element = cs_topics.pop()\n",
    "print(cs_topics)\n",
    "print(removed_element)"
   ]
  },
  {
   "attachments": {},
   "cell_type": "markdown",
   "metadata": {},
   "source": [
    "Notice two things about this example:\n",
    "\n",
    "1. The method can be called without a specific index. Using .pop() without an index will remove whatever the last element of the list is. In our case \"Clowns 101\" gets removed.\n",
    "\n",
    "2. .pop() is unique in that it will return the value that was removed. If we wanted to know what element was deleted, simply assign a variable to the call of the .pop() method. In this case, we assigned it to removed_element.\n",
    "\n",
    "Lastly let’s remove \"Balloon Making\":"
   ]
  },
  {
   "cell_type": "code",
   "execution_count": 5,
   "metadata": {},
   "outputs": [
    {
     "name": "stdout",
     "output_type": "stream",
     "text": [
      "['Python', 'Data Structures', 'Algorithms']\n"
     ]
    }
   ],
   "source": [
    "cs_topics.pop(2)\n",
    "print(cs_topics)"
   ]
  },
  {
   "attachments": {},
   "cell_type": "markdown",
   "metadata": {},
   "source": [
    "Notice two things about this example:\n",
    "\n",
    "1. The method can be called with an optional specific index to remove. In our case, the index 2 removes the value of \"Balloon Making\".\n",
    "2. We don’t have to save the removed value to any variable if we don’t care to use it later.\n",
    "\n",
    "**Note:** Passing in an index that does not exist or calling .pop() on an empty list will both result in an IndexError."
   ]
  },
  {
   "attachments": {},
   "cell_type": "markdown",
   "metadata": {},
   "source": [
    "## Consecutive Lists: Range\n",
    "Often, we want to create a list of consecutive numbers in our programs. For example, suppose we want a list containing the numbers 0 through 9:"
   ]
  },
  {
   "cell_type": "code",
   "execution_count": 6,
   "metadata": {},
   "outputs": [
    {
     "name": "stdout",
     "output_type": "stream",
     "text": [
      "[0, 1, 2, 3, 4, 5, 6, 7, 8, 9]\n"
     ]
    }
   ],
   "source": [
    "my_list = [0, 1, 2, 3, 4, 5, 6, 7, 8, 9]\n",
    "print(my_list)"
   ]
  },
  {
   "attachments": {},
   "cell_type": "markdown",
   "metadata": {},
   "source": [
    "Typing out all of those numbers takes time and the more numbers we type, the more likely it is that we have a typo that can cause an error.\n",
    "\n",
    "Python gives us an easy way of creating these types of lists using a built-in function called range().\n",
    "\n",
    "The function range() takes a single input, and generates numbers starting at 0 and ending at the number before the input.\n",
    "\n",
    "So, if we want the numbers from 0 through 9, we use range(10) because 10 is 1 greater than 9:"
   ]
  },
  {
   "cell_type": "code",
   "execution_count": 7,
   "metadata": {},
   "outputs": [
    {
     "name": "stdout",
     "output_type": "stream",
     "text": [
      "range(0, 10)\n"
     ]
    }
   ],
   "source": [
    "my_range = range(10)\n",
    "print(my_range)"
   ]
  },
  {
   "attachments": {},
   "cell_type": "markdown",
   "metadata": {},
   "source": [
    "Notice something different? The range() function is unique in that it creates a range object. It is not a typical list like the ones we have been working with.\n",
    "\n",
    "In order to use this object as a list, we have to first convert it using another built-in function called list().\n",
    "\n",
    "The list() function takes in a single input for the object you want to convert.\n",
    "\n",
    "We use the list() function on our range object like this:"
   ]
  },
  {
   "cell_type": "code",
   "execution_count": 8,
   "metadata": {},
   "outputs": [
    {
     "name": "stdout",
     "output_type": "stream",
     "text": [
      "[0, 1, 2, 3, 4, 5, 6, 7, 8, 9]\n"
     ]
    }
   ],
   "source": [
    "print(list(my_range))"
   ]
  },
  {
   "attachments": {},
   "cell_type": "markdown",
   "metadata": {},
   "source": [
    "## The Power of Range!\n",
    "By default, range() creates a list starting at 0. However, if we call range() with two inputs, we can create a list that starts at a different number.\n",
    "\n",
    "For example, range(2, 9) would generate numbers starting at 2 and ending at 8 (just before 9):"
   ]
  },
  {
   "cell_type": "code",
   "execution_count": 9,
   "metadata": {},
   "outputs": [
    {
     "name": "stdout",
     "output_type": "stream",
     "text": [
      "[2, 3, 4, 5, 6, 7, 8]\n"
     ]
    }
   ],
   "source": [
    "my_list = range(2, 9)\n",
    "print(list(my_list))"
   ]
  },
  {
   "attachments": {},
   "cell_type": "markdown",
   "metadata": {},
   "source": [
    "If we use a third input, we can create a list that “skips” numbers.\n",
    "\n",
    "For example, range(2, 9, 2) will give us a list where each number is 2 greater than the previous number:"
   ]
  },
  {
   "cell_type": "code",
   "execution_count": 10,
   "metadata": {},
   "outputs": [
    {
     "name": "stdout",
     "output_type": "stream",
     "text": [
      "[2, 4, 6, 8]\n"
     ]
    }
   ],
   "source": [
    "my_range2 = range(2, 9, 2)\n",
    "print(list(my_range2))"
   ]
  },
  {
   "attachments": {},
   "cell_type": "markdown",
   "metadata": {},
   "source": [
    "We can skip as many numbers as we want!\n",
    "\n",
    "For example, we’ll start at 1 and skip in increments of 10 between each number until we get to 99 (one before 100):"
   ]
  },
  {
   "cell_type": "code",
   "execution_count": 11,
   "metadata": {},
   "outputs": [
    {
     "name": "stdout",
     "output_type": "stream",
     "text": [
      "[1, 11, 21, 31, 41, 51, 61, 71, 81, 91]\n"
     ]
    }
   ],
   "source": [
    "my_range3 = range(1, 100, 10)\n",
    "print(list(my_range3))"
   ]
  },
  {
   "attachments": {},
   "cell_type": "markdown",
   "metadata": {},
   "source": [
    "Our list stops at 91 because the next number in the sequence would be 101, which is greater than or equal to 100 (our stopping point)."
   ]
  },
  {
   "attachments": {},
   "cell_type": "markdown",
   "metadata": {},
   "source": [
    "## Length\n",
    "Often, we’ll need to find the number of items in a list, usually called its length.\n",
    "\n",
    "We can do this using a built-in function called len().\n",
    "\n",
    "When we apply len() to a list, we get the number of elements in that list:"
   ]
  },
  {
   "cell_type": "code",
   "execution_count": 12,
   "metadata": {},
   "outputs": [
    {
     "name": "stdout",
     "output_type": "stream",
     "text": [
      "5\n"
     ]
    }
   ],
   "source": [
    "my_list = [1, 2, 3, 4, 5]\n",
    " \n",
    "print(len(my_list))\n"
   ]
  },
  {
   "attachments": {},
   "cell_type": "markdown",
   "metadata": {},
   "source": [
    "#### Instructions\n",
    "1.\n",
    "Calculate the length of long_list and save it to the variable long_list_len.\n",
    "\n",
    "Checkpoint 2 Passed\n",
    "\n",
    "Stuck? Get a hint\n",
    "2.\n",
    "Use print() to examine long_list_len.\n",
    "\n",
    "Checkpoint 3 Passed\n",
    "\n",
    "Stuck? Get a hint\n",
    "3.\n",
    "We have provided a completed range() function for the variable big_range.\n",
    "\n",
    "Calculate its length using the function len() and save it to a variable called big_range_length.\n",
    "\n",
    "Note: Range objects do not need to be converted to lists in order to determine their length\n",
    "\n",
    "Checkpoint 4 Passed\n",
    "\n",
    "Stuck? Get a hint\n",
    "4.\n",
    "Use print() to examine big_range_length.\n",
    "\n",
    "Checkpoint 5 Passed\n",
    "\n",
    "Stuck? Get a hint\n",
    "5.\n",
    "Change the range() function that generates big_range so that it skips 100 instead of 10 steps between items.\n",
    "\n",
    "How does this change big_range_length?"
   ]
  },
  {
   "cell_type": "code",
   "execution_count": 13,
   "metadata": {},
   "outputs": [],
   "source": [
    "long_list = [1, 5, 6, 7, -23, 69.5, True, \"very\", \"long\", \"list\", \"that\", \"keeps\", \"going.\", \"Let's\", \"practice\", \"getting\", \"the\", \"length\"]\n",
    "\n",
    "big_range = range(2, 3000, 100)\n",
    "\n",
    "# Your code below: "
   ]
  },
  {
   "attachments": {},
   "cell_type": "markdown",
   "metadata": {},
   "source": [
    "## Slicing Lists I\n",
    "In Python, often we want to extract only a portion of a list. Dividing a list in such a manner is referred to as slicing.\n",
    "\n",
    "Lets assume we have a list of letters:"
   ]
  },
  {
   "cell_type": "code",
   "execution_count": 14,
   "metadata": {},
   "outputs": [],
   "source": [
    "letters = [\"a\", \"b\", \"c\", \"d\", \"e\", \"f\", \"g\"]"
   ]
  },
  {
   "attachments": {},
   "cell_type": "markdown",
   "metadata": {},
   "source": [
    "Suppose we want to select from \"b\" through \"f\".\n",
    "\n",
    "We can do this using the following syntax: letters[start:end], where:\n",
    "\n",
    "* start is the index of the first element that we want to include in our selection. In this case, we want to start at \"b\", which has index 1.\n",
    "* end is the index of one more than the last index that we want to include. The last element we want is \"f\", which has index 5, so end needs to be 6."
   ]
  },
  {
   "cell_type": "code",
   "execution_count": 15,
   "metadata": {},
   "outputs": [
    {
     "name": "stdout",
     "output_type": "stream",
     "text": [
      "['b', 'c', 'd', 'e', 'f']\n"
     ]
    }
   ],
   "source": [
    "sliced_list = letters[1:6]\n",
    "print(sliced_list)"
   ]
  },
  {
   "attachments": {},
   "cell_type": "markdown",
   "metadata": {},
   "source": [
    "#### Instructions\n",
    "1.\n",
    "Use print() to examine the variable beginning.\n",
    "\n",
    "Before hitting Run think about what elements beginning will contain?\n",
    "\n",
    "Checkpoint 2 Passed\n",
    "2.\n",
    "Modify beginning, so that it selects the first 2 elements of suitcase.\n",
    "\n",
    "Checkpoint 3 Passed\n",
    "\n",
    "Stuck? Get a hint\n",
    "3.\n",
    "Create a new list called middle that contains the middle two items ( [\"pants\", \"pants\"] ) from suitcase.\n",
    "\n",
    "Print middle to see the slice!"
   ]
  },
  {
   "cell_type": "code",
   "execution_count": 16,
   "metadata": {},
   "outputs": [],
   "source": [
    "suitcase = [\"shirt\", \"shirt\", \"pants\", \"pants\", \"pajamas\", \"books\"]\n",
    "\n",
    "beginning = suitcase[0:2]\n",
    "\n",
    "# Your code below: "
   ]
  },
  {
   "attachments": {},
   "cell_type": "markdown",
   "metadata": {},
   "source": [
    "## Slicing Lists II\n",
    "Slicing syntax in Python is very flexible. Let’s look at a few more problems we can tackle with slicing.\n",
    "\n",
    "Take the list fruits as our example:"
   ]
  },
  {
   "cell_type": "code",
   "execution_count": 17,
   "metadata": {},
   "outputs": [],
   "source": [
    "fruits = [\"apple\", \"cherry\", \"pineapple\", \"orange\", \"mango\"]\n"
   ]
  },
  {
   "attachments": {},
   "cell_type": "markdown",
   "metadata": {},
   "source": [
    "For our fruits list, suppose we wanted to slice the first three elements.\n",
    "\n",
    "The following code would start slicing from index 0 and up to index 3. Note that the fruit at index 3 (orange) is not included in the results."
   ]
  },
  {
   "cell_type": "code",
   "execution_count": 19,
   "metadata": {},
   "outputs": [
    {
     "name": "stdout",
     "output_type": "stream",
     "text": [
      "['apple', 'cherry', 'pineapple']\n"
     ]
    }
   ],
   "source": [
    "#fruits[:n]\n",
    "print(fruits[:3])"
   ]
  },
  {
   "attachments": {},
   "cell_type": "markdown",
   "metadata": {},
   "source": [
    "We can do something similar when we want to slice the last n elements in a list:\n",
    "\n",
    "For our fruits list, suppose we wanted to slice the last two elements.\n",
    "\n",
    "This code slices from the element at index -2 up through the last index."
   ]
  },
  {
   "cell_type": "code",
   "execution_count": 20,
   "metadata": {},
   "outputs": [
    {
     "name": "stdout",
     "output_type": "stream",
     "text": [
      "['orange', 'mango']\n"
     ]
    }
   ],
   "source": [
    "#fruits[-n:]\n",
    "print(fruits[-2:])"
   ]
  },
  {
   "attachments": {},
   "cell_type": "markdown",
   "metadata": {},
   "source": [
    "Negative indices can also accomplish taking all but n last elements of a list.\n",
    "\n",
    "For our fruits example, suppose we wanted to slice all but the last element from the list.\n",
    "\n",
    "This example starts counting from the 0 index up to the element at index -1."
   ]
  },
  {
   "cell_type": "code",
   "execution_count": 21,
   "metadata": {},
   "outputs": [
    {
     "name": "stdout",
     "output_type": "stream",
     "text": [
      "['apple', 'cherry', 'pineapple', 'orange']\n"
     ]
    }
   ],
   "source": [
    "#fruits[:-n]\n",
    "print(fruits[:-1])\n"
   ]
  },
  {
   "attachments": {},
   "cell_type": "markdown",
   "metadata": {},
   "source": [
    "#### Instructions\n",
    "1.\n",
    "Create a new list called last_two_elements containing the final two elements of suitcase.\n",
    "\n",
    "Print last_two_elements to see your result.\n",
    "\n",
    "\n",
    "Stuck? Get a hint\n",
    "2.\n",
    "Create a new list called slice_off_last_three containing all but the last three elements.\n",
    "\n",
    "Print slice_off_last_three to see your result."
   ]
  },
  {
   "cell_type": "code",
   "execution_count": 22,
   "metadata": {},
   "outputs": [],
   "source": [
    "suitcase = [\"shirt\", \"shirt\", \"pants\", \"pants\", \"pajamas\", \"books\"]\n",
    "\n",
    "# Your code below: "
   ]
  },
  {
   "attachments": {},
   "cell_type": "markdown",
   "metadata": {},
   "source": [
    "## Counting in a List\n",
    "In Python, it is common to want to count occurrences of an item in a list.\n",
    "\n",
    "Suppose we have a list called letters that represents the letters in the word “Mississippi”:"
   ]
  },
  {
   "cell_type": "code",
   "execution_count": 23,
   "metadata": {},
   "outputs": [
    {
     "name": "stdout",
     "output_type": "stream",
     "text": [
      "['m', 'i', 's', 's', 'i', 's', 's', 'i', 'p', 'p', 'i']\n"
     ]
    }
   ],
   "source": [
    "letters = [\"m\", \"i\", \"s\", \"s\", \"i\", \"s\", \"s\", \"i\", \"p\", \"p\", \"i\"]\n",
    "print(letters)"
   ]
  },
  {
   "attachments": {},
   "cell_type": "markdown",
   "metadata": {},
   "source": [
    "If we want to know how many times i appears in this word, we can use the list method called .count():"
   ]
  },
  {
   "cell_type": "code",
   "execution_count": 24,
   "metadata": {},
   "outputs": [
    {
     "name": "stdout",
     "output_type": "stream",
     "text": [
      "4\n"
     ]
    }
   ],
   "source": [
    "num_i = letters.count(\"i\")\n",
    "print(num_i)"
   ]
  },
  {
   "attachments": {},
   "cell_type": "markdown",
   "metadata": {},
   "source": [
    "Notice that since .count() returns a value, we can assign it to a variable to use it.\n",
    "\n",
    "We can even use .count() to count element appearances in a two-dimensional list.\n",
    "\n",
    "Let’s use the list number_collection as an example:"
   ]
  },
  {
   "cell_type": "code",
   "execution_count": 25,
   "metadata": {},
   "outputs": [],
   "source": [
    "number_collection = [[100, 200], [100, 200], [475, 29], [34, 34]]"
   ]
  },
  {
   "attachments": {},
   "cell_type": "markdown",
   "metadata": {},
   "source": [
    "If we wanted to know how often the sublist [100, 200] appears:"
   ]
  },
  {
   "cell_type": "code",
   "execution_count": 26,
   "metadata": {},
   "outputs": [
    {
     "name": "stdout",
     "output_type": "stream",
     "text": [
      "2\n"
     ]
    }
   ],
   "source": [
    "num_pairs = number_collection.count([100, 200])\n",
    "print(num_pairs)"
   ]
  },
  {
   "attachments": {},
   "cell_type": "markdown",
   "metadata": {},
   "source": [
    "#### Instructions\n",
    "1.\n",
    "Mrs. Wilson’s class is voting for class president. She has saved each student’s vote into the list votes.\n",
    "\n",
    "Use .count() to determine how many students voted for \"Jake\" and save the value to a variable called jake_votes.\n",
    "\n",
    "\n",
    "Stuck? Get a hint\n",
    "2.\n",
    "Use print() to examine jake_votes."
   ]
  },
  {
   "cell_type": "code",
   "execution_count": 27,
   "metadata": {},
   "outputs": [],
   "source": [
    "votes = [\"Jake\", \"Jake\", \"Laurie\", \"Laurie\", \"Laurie\", \"Jake\", \"Jake\", \"Jake\", \"Laurie\", \"Cassie\", \"Cassie\", \"Jake\", \"Jake\", \"Cassie\", \"Laurie\", \"Cassie\", \"Jake\", \"Jake\", \"Cassie\", \"Laurie\"]\n",
    "\n",
    "# Your code below: "
   ]
  },
  {
   "attachments": {},
   "cell_type": "markdown",
   "metadata": {},
   "source": [
    "## Sorting Lists I\n",
    "Often, we will want to sort a list in either numerical (1, 2, 3, …) or alphabetical (a, b, c, …) order.\n",
    "\n",
    "We can sort a list using the method .sort().\n",
    "\n",
    "Suppose that we have a list of names:"
   ]
  },
  {
   "cell_type": "code",
   "execution_count": 30,
   "metadata": {},
   "outputs": [
    {
     "name": "stdout",
     "output_type": "stream",
     "text": [
      "['Xander', 'Buffy', 'Angel', 'Willow', 'Giles']\n",
      "['Angel', 'Buffy', 'Giles', 'Willow', 'Xander']\n"
     ]
    }
   ],
   "source": [
    "names = [\"Xander\", \"Buffy\", \"Angel\", \"Willow\", \"Giles\"]\n",
    "print(names)\n",
    "names.sort()\n",
    "print(names)"
   ]
  },
  {
   "attachments": {},
   "cell_type": "markdown",
   "metadata": {},
   "source": [
    "As we can see, the .sort() method sorted our list of names in alphabetical order.\n",
    "\n",
    ".sort() also provides us the option to go in reverse. Instead of sorting in ascending order like we just saw, we can do so in descending order."
   ]
  },
  {
   "cell_type": "code",
   "execution_count": 31,
   "metadata": {},
   "outputs": [
    {
     "name": "stdout",
     "output_type": "stream",
     "text": [
      "['Angel', 'Buffy', 'Giles', 'Willow', 'Xander']\n",
      "['Xander', 'Willow', 'Giles', 'Buffy', 'Angel']\n"
     ]
    }
   ],
   "source": [
    "print(names)\n",
    "names.sort(reverse=True)\n",
    "print(names)"
   ]
  },
  {
   "attachments": {},
   "cell_type": "markdown",
   "metadata": {},
   "source": [
    "**Note:** The .sort() method does not return any value and thus does not need to be assigned to a variable since it modifies the list directly. If we do assign the result of the method, it would assign the value of None to the variable."
   ]
  },
  {
   "attachments": {},
   "cell_type": "markdown",
   "metadata": {},
   "source": [
    "#### Instructions\n",
    "1.\n",
    "Use .sort() to sort addresses.\n",
    "\n",
    "\n",
    "Stuck? Get a hint\n",
    "2.\n",
    "Use print() to see how addresses changed.\n",
    "\n",
    "3.\n",
    "Remove the # and whitespace in front of the line sort(names). Edit this line so that it runs without producing a NameError.\n",
    "\n",
    "\n",
    "Stuck? Get a hint\n",
    "4.\n",
    "Use print to examine sorted_cities. Why is it not the sorted version of cities?\n",
    "\n",
    "\n",
    "Stuck? Get a hint\n",
    "5.\n",
    "Edit the .sort() call on cities such that it sorts the cities in reverse order (descending).\n",
    "\n",
    "Print cities to see the result."
   ]
  },
  {
   "cell_type": "code",
   "execution_count": 32,
   "metadata": {},
   "outputs": [],
   "source": [
    "# Checkpoint 1 & 2\n",
    "addresses = [\"221 B Baker St.\", \"42 Wallaby Way\", \"12 Grimmauld Place\", \"742 Evergreen Terrace\", \"1600 Pennsylvania Ave\", \"10 Downing St.\"]\n",
    "\n",
    "\n",
    "# Checkpoint 3\n",
    "names = [\"Ron\", \"Hermione\", \"Harry\", \"Albus\", \"Sirius\"]\n",
    "#sort(names)\n",
    "\n",
    "\n",
    "# Checkpoint 4 & 5\n",
    "cities = [\"London\", \"Paris\", \"Rome\", \"Los Angeles\", \"New York\"]\n",
    "sorted_cities = cities.sort()"
   ]
  },
  {
   "attachments": {},
   "cell_type": "markdown",
   "metadata": {},
   "source": [
    "## Sorting Lists II\n",
    "A second way of sorting a list in Python is to use the built-in function sorted().\n",
    "\n",
    "The sorted() function is different from the .sort() method in two ways:\n",
    "\n",
    "1. It comes before a list, instead of after as all built-in functions do.\n",
    "2. It generates a new list rather than modifying the one that already exists.\n",
    "Let’s return to our list of names:"
   ]
  },
  {
   "cell_type": "code",
   "execution_count": 35,
   "metadata": {},
   "outputs": [
    {
     "name": "stdout",
     "output_type": "stream",
     "text": [
      "['Xander', 'Buffy', 'Angel', 'Willow', 'Giles']\n",
      "['Angel', 'Buffy', 'Giles', 'Willow', 'Xander']\n",
      "['Xander', 'Buffy', 'Angel', 'Willow', 'Giles']\n"
     ]
    }
   ],
   "source": [
    "names = [\"Xander\", \"Buffy\", \"Angel\", \"Willow\", \"Giles\"]\n",
    "print(names)\n",
    "sorted_names = sorted(names)\n",
    "print(sorted_names)\n",
    "#Note that using sorted did not change names:\n",
    "print(names)"
   ]
  },
  {
   "attachments": {},
   "cell_type": "markdown",
   "metadata": {},
   "source": [
    "## Review\n",
    "In this lesson, we learned how to:\n",
    "\n",
    "* Add elements to a list by index using the .insert() method.\n",
    "* Remove elements from a list by index using the .pop() method.\n",
    "* Generate a list using the range() function.\n",
    "* Get the length of a list using the len() function.\n",
    "* Select portions of a list using slicing syntax.\n",
    "* Count the number of times that an element appears in a list using the .count() method.\n",
    "* Sort a list of items using either the .sort() method or sorted() function.\n",
    "As you go through the exercises, feel free to use print() to see changes when not explicitly asked to do so.\n",
    "\n",
    "##### Instructions\n",
    "1.\n",
    "Our friend Jiho has been so successful in both the flower and grocery business that she has decided to open a furniture store.\n",
    "\n",
    "Jiho has compiled a list of inventory items into a list called inventory and wants to know a few facts about it.\n",
    "\n",
    "First, how many items are in the warehouse?\n",
    "\n",
    "Save the answer to a variable called inventory_len.\n",
    "\n",
    "\n",
    "Stuck? Get a hint\n",
    "2.\n",
    "Select the first element in inventory. Save it to a variable called first.\n",
    "\n",
    "\n",
    "Stuck? Get a hint\n",
    "3.\n",
    "Select the last element from inventory. Save it to a variable called last.\n",
    "\n",
    "\n",
    "Stuck? Get a hint\n",
    "4.\n",
    "Select items from the inventory starting at index 2 and up to, but not including, index 6.\n",
    "\n",
    "Save your answer to a variable called inventory_2_6.\n",
    "\n",
    "\n",
    "Stuck? Get a hint\n",
    "5.\n",
    "Select the first 3 items of inventory. Save it to a variable called first_3.\n",
    "\n",
    "\n",
    "Stuck? Get a hint\n",
    "6.\n",
    "How many 'twin bed's are in inventory? Save your answer to a variable called twin_beds.\n",
    "\n",
    "\n",
    "Stuck? Get a hint\n",
    "7.\n",
    "Remove the 5th element in the inventory. Save the value to a variable called removed_item.\n",
    "\n",
    "\n",
    "Stuck? Get a hint\n",
    "8.\n",
    "There was a new item added to our inventory called \"19th Century Bed Frame\".\n",
    "\n",
    "Use the .insert() method to place the new item as the 11th element in our inventory.\n",
    "\n",
    "\n",
    "Stuck? Get a hint\n",
    "9.\n",
    "Sort inventory using the .sort() method or the sorted() function.\n",
    "\n",
    "Remember, the sorted() function doesn’t change the original list — it creates a new list with the elements properly sorted. If you use sorted() you’ll have to set inventory equal to the value returned by sorted().\n",
    "\n",
    "Print inventory to see the result."
   ]
  },
  {
   "cell_type": "code",
   "execution_count": 36,
   "metadata": {},
   "outputs": [],
   "source": [
    "inventory = [\"twin bed\", \"twin bed\", \"headboard\", \"queen bed\", \"king bed\", \"dresser\", \"dresser\", \"table\", \"table\", \"nightstand\", \"nightstand\", \"king bed\", \"king bed\", \"twin bed\", \"twin bed\", \"sheets\", \"sheets\", \"pillow\", \"pillow\"]\n"
   ]
  },
  {
   "cell_type": "code",
   "execution_count": null,
   "metadata": {},
   "outputs": [],
   "source": []
  }
 ],
 "metadata": {
  "kernelspec": {
   "display_name": "Python 3",
   "language": "python",
   "name": "python3"
  },
  "language_info": {
   "codemirror_mode": {
    "name": "ipython",
    "version": 3
   },
   "file_extension": ".py",
   "mimetype": "text/x-python",
   "name": "python",
   "nbconvert_exporter": "python",
   "pygments_lexer": "ipython3",
   "version": "3.11.3"
  },
  "orig_nbformat": 4
 },
 "nbformat": 4,
 "nbformat_minor": 2
}
