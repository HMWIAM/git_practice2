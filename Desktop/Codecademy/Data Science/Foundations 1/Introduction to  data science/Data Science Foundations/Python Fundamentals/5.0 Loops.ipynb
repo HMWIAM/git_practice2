{
 "cells": [
  {
   "attachments": {},
   "cell_type": "markdown",
   "metadata": {},
   "source": [
    "# Loops"
   ]
  },
  {
   "attachments": {},
   "cell_type": "markdown",
   "metadata": {},
   "source": [
    "In programming, this process of using an initialization, repetitions, and an ending condition is called a loop. In a loop, we perform a process of iteration (repeating tasks).\n",
    "\n",
    "Programming languages like Python implement two types of iteration:\n",
    "\n",
    "1. Indefinite iteration, where the number of times the loop is executed depends on how many times a condition is met.\n",
    "\n",
    "2. Definite iteration, where the number of times the loop will be executed is defined in advance (usually based on the collection size)."
   ]
  },
  {
   "attachments": {},
   "cell_type": "markdown",
   "metadata": {},
   "source": [
    "## For Loops introduction\n",
    "\n",
    "In a for loop, we will know in advance how many times the loop will need to iterate because we will be working on a collection with a predefined length. In our examples, we will be using Python lists as our collection of elements.\n",
    "\n",
    "With for loops, on each iteration, we will be able to perform an action on each element of the collection.\n",
    "\n",
    "Before we work with any collection, let’s examine the general structure of a for loop:\n",
    "\n",
    "for *temporary variable* in *collection*:\\\n",
    "    *action*\n",
    "\n",
    "Let’s break down each of these components:\n",
    "\n",
    "1. A for keyword indicates the start of a for loop.\n",
    "2. A *temporary variable* that is used to represent the value of the element in the collection the loop is currently on.\n",
    "3. An in keyword separates the temporary variable from the collection used for iteration.\n",
    "4. A *collection* to loop over. In our examples, we will be using a list.\n",
    "5. An *action* to do anything on each iteration of the loop."
   ]
  },
  {
   "attachments": {},
   "cell_type": "markdown",
   "metadata": {},
   "source": [
    "Let’s link these concepts back to our ingredients example. This for loop prints each ingredient in ingredients:"
   ]
  },
  {
   "cell_type": "code",
   "execution_count": 5,
   "metadata": {},
   "outputs": [
    {
     "name": "stdout",
     "output_type": "stream",
     "text": [
      "milk\n",
      "sugar\n",
      "vanilla extract\n",
      "dough\n",
      "chocolate\n"
     ]
    }
   ],
   "source": [
    "ingredients = [\"milk\", \"sugar\", \"vanilla extract\", \"dough\", \"chocolate\"]\n",
    " \n",
    "for ingredient in ingredients:\n",
    "  print(ingredient)\n",
    "\n",
    "#In this example:\n",
    "\n",
    "# 1. ingredient is the <temporary variable>.\n",
    "# 2. ingredients is our <collection>.\n",
    "# 3. print(ingredient) was the <action> \n",
    "# performed on every iteration using the temporary variable of ingredient."
   ]
  },
  {
   "attachments": {},
   "cell_type": "markdown",
   "metadata": {},
   "source": [
    "**- Temporary Variables:**\n",
    "\n",
    "A temporary variable’s name is arbitrary and does not need to be defined beforehand. Both of the following code snippets do the exact same thing as our above example:"
   ]
  },
  {
   "cell_type": "code",
   "execution_count": 6,
   "metadata": {},
   "outputs": [
    {
     "name": "stdout",
     "output_type": "stream",
     "text": [
      "milk\n",
      "sugar\n",
      "vanilla extract\n",
      "dough\n",
      "chocolate\n",
      "milk\n",
      "sugar\n",
      "vanilla extract\n",
      "dough\n",
      "chocolate\n"
     ]
    }
   ],
   "source": [
    "for i in ingredients:\n",
    "  print(i)\n",
    "\n",
    "for item in ingredients:\n",
    " print(item)"
   ]
  },
  {
   "attachments": {},
   "cell_type": "markdown",
   "metadata": {},
   "source": [
    "Programming best practices suggest we make our temporary variables as descriptive as possible. Since each iteration (step) of our loop is accessing an ingredient it makes more sense to call our temporary variable ingredient rather than i or item.\n",
    "\n",
    "**- Indentation:**\n",
    "\n",
    "Notice that in all of these examples the print statement is indented. Everything at the same level of indentation after the for loop declaration is included in the loop body and is run on every iteration of the loop.\n",
    "\n",
    "If we ever forget to indent, we’ll get an IndentationError or unexpected behavior."
   ]
  },
  {
   "cell_type": "code",
   "execution_count": 7,
   "metadata": {},
   "outputs": [
    {
     "name": "stdout",
     "output_type": "stream",
     "text": [
      "milk\n",
      "sugar\n",
      "vanilla extract\n",
      "dough\n",
      "chocolate\n"
     ]
    }
   ],
   "source": [
    "for ingredient in ingredients:\n",
    "  # Any code at this level of indentation \n",
    "  # will run on each iteration of the loop\n",
    "  print(ingredient)"
   ]
  },
  {
   "attachments": {},
   "cell_type": "markdown",
   "metadata": {},
   "source": [
    "**- Elegant loops:**\n",
    "\n",
    "Python loves to help us write elegant code so it allows us to write simple for loops in one-line. In order to see the below example as one line, you may need to expand your narrative window. Here is the previous example in a single line:"
   ]
  },
  {
   "cell_type": "code",
   "execution_count": 8,
   "metadata": {},
   "outputs": [
    {
     "name": "stdout",
     "output_type": "stream",
     "text": [
      "milk\n",
      "sugar\n",
      "vanilla extract\n",
      "dough\n",
      "chocolate\n"
     ]
    }
   ],
   "source": [
    "for ingredient in ingredients: print(ingredient)"
   ]
  },
  {
   "attachments": {},
   "cell_type": "markdown",
   "metadata": {},
   "source": [
    "Note: One-line for loops are useful for simple programs. It is not recommended you write one-line loops for any loop that has to perform multiple complex actions on each iteration. Doing so will hurt the readability of your code and may ultimately lead to buggier code."
   ]
  },
  {
   "attachments": {},
   "cell_type": "markdown",
   "metadata": {},
   "source": [
    "#### Instructions\n",
    "1.\n",
    "Run the code.\n",
    "\n",
    "We should get an IndentationError because the print(game) line is not indented.\n",
    "\n",
    "\n",
    "Stuck? Get a hint\n",
    "2.\n",
    "Indent (2 spaces or tab) line 6 so that we don’t get an IndentationError when you run the code.\n",
    "\n",
    "Run the code again!\n",
    "\n",
    "\n",
    "Stuck? Get a hint\n",
    "3.\n",
    "Write a for loop that prints each sport in the list sport_games."
   ]
  },
  {
   "cell_type": "code",
   "execution_count": 10,
   "metadata": {},
   "outputs": [
    {
     "name": "stdout",
     "output_type": "stream",
     "text": [
      "Settlers of Catan\n",
      "Carcassone\n",
      "Power Grid\n",
      "Agricola\n",
      "Scrabble\n"
     ]
    }
   ],
   "source": [
    "board_games = [\"Settlers of Catan\", \"Carcassone\", \"Power Grid\", \"Agricola\", \"Scrabble\"]\n",
    "\n",
    "sport_games = [\"football\", \"hockey\", \"baseball\", \"cricket\"]\n",
    "\n",
    "for game in board_games:\n",
    "  print(game)"
   ]
  },
  {
   "attachments": {},
   "cell_type": "markdown",
   "metadata": {},
   "source": [
    "## For Loops: Using Range\n",
    "Often we won’t be iterating through a specific list (or any collection), but rather only want to perform a certain action multiple times.\n",
    "\n",
    "For example, if we wanted to print out a \"Learning Loops!\" message six times using a for loop, we would follow this structure:\n",
    "\n",
    "for *temporary variable* in *list of length 6*:\\\n",
    "  print(\"Learning Loops!\")\n",
    "\n",
    "  \n",
    "Notice that we need to iterate through a list with a length of six, but we don’t necessarily care what is inside of the list.\n",
    "\n",
    "To create arbitrary collections of any length, we can pair our for loops with the trusty Python built-in function range().\n",
    "\n",
    "An example of how the range() function works, this code generates a collection of 6 integer elements from 0 to 5:"
   ]
  },
  {
   "cell_type": "code",
   "execution_count": 13,
   "metadata": {},
   "outputs": [
    {
     "name": "stdout",
     "output_type": "stream",
     "text": [
      "[0, 1, 2, 3, 4, 5]\n"
     ]
    }
   ],
   "source": [
    "six_steps = list(range(6))\n",
    "print(six_steps)\n",
    "# six_steps is now a collection with 6 elements:\n",
    "# 0, 1, 2, 3, 4, 5"
   ]
  },
  {
   "attachments": {},
   "cell_type": "markdown",
   "metadata": {},
   "source": [
    "We can then use the range directly in our for loops as the collection to perform a six-step iteration:"
   ]
  },
  {
   "cell_type": "code",
   "execution_count": 14,
   "metadata": {},
   "outputs": [
    {
     "name": "stdout",
     "output_type": "stream",
     "text": [
      "Learning Loops!\n",
      "Learning Loops!\n",
      "Learning Loops!\n",
      "Learning Loops!\n",
      "Learning Loops!\n",
      "Learning Loops!\n"
     ]
    }
   ],
   "source": [
    "for temp in range(6):\n",
    "  print(\"Learning Loops!\")"
   ]
  },
  {
   "attachments": {},
   "cell_type": "markdown",
   "metadata": {},
   "source": [
    "Something to note is we are not using temp anywhere inside of the loop body. If we are curious about which loop iteration (step) we are on, we can use temp to track it. Since our range starts at 0, we will add + 1 to our temp to represent how many iterations (steps) our loop takes more accurately."
   ]
  },
  {
   "cell_type": "code",
   "execution_count": 15,
   "metadata": {},
   "outputs": [
    {
     "name": "stdout",
     "output_type": "stream",
     "text": [
      "Loop is on iteration number 1\n",
      "Loop is on iteration number 2\n",
      "Loop is on iteration number 3\n",
      "Loop is on iteration number 4\n",
      "Loop is on iteration number 5\n",
      "Loop is on iteration number 6\n"
     ]
    }
   ],
   "source": [
    "for temp in range(6):\n",
    "  print(\"Loop is on iteration number \" + str(temp + 1))\n"
   ]
  },
  {
   "attachments": {},
   "cell_type": "markdown",
   "metadata": {},
   "source": [
    "#### Instructions\n",
    "1.\n",
    "Use the range() function in a for loop to print() out the provided promise variable five times."
   ]
  },
  {
   "cell_type": "code",
   "execution_count": 16,
   "metadata": {},
   "outputs": [],
   "source": [
    "promise = \"I will finish the python loops module!\""
   ]
  },
  {
   "attachments": {},
   "cell_type": "markdown",
   "metadata": {},
   "source": [
    "## While Loops: Introduction\n",
    "In Python, for loops are not the only type of loops we can use. Another type of loop is called a while loop and is a form of indefinite iteration.\n",
    "\n",
    "A while loop performs a set of instructions as long as a given condition is true.\n",
    "\n",
    "The structure follows this pattern:\n",
    "\n",
    "while *conditional statement*:\\\n",
    "  *action*\n",
    "  \n",
    "Let’s examine this example, where we print the integers 0 through 3:"
   ]
  },
  {
   "cell_type": "code",
   "execution_count": 17,
   "metadata": {},
   "outputs": [
    {
     "name": "stdout",
     "output_type": "stream",
     "text": [
      "0\n",
      "1\n",
      "2\n",
      "3\n"
     ]
    }
   ],
   "source": [
    "count = 0\n",
    "while count <= 3:\n",
    "  # Loop Body\n",
    "  print(count)\n",
    "  count += 1"
   ]
  },
  {
   "attachments": {},
   "cell_type": "markdown",
   "metadata": {},
   "source": [
    "Let’s break the loop down:\n",
    "\n",
    "1. count is initially defined with the value of 0. The conditional statement in the while loop is count <= 3, which is true at the initial iteration of the loop, so the loop body executes.\n",
    "\n",
    "Inside the loop body, count is printed and then incremented by 1.\n",
    "\n",
    "2. When the first iteration of the loop has finished, Python returns to the top of the loop and checks the conditional again. After the first iteration, count would be equal to 1 so the conditional still evaluates to True and so the loop continues.\n",
    "\n",
    "3. This continues until the count variable becomes 4. At that point, when the conditional is tested it will no longer be True and the loop will stop.\n",
    "\n",
    "**- Indentation:**\n",
    "\n",
    "Notice that in our example the code under the loop declaration is indented. Similar to a for loop, everything at the same level of indentation after the while loop declaration is run on every iteration of the loop while the condition is true.\n",
    "\n",
    "If we ever forget to indent, we’ll get an IndentationError or unexpected behavior."
   ]
  },
  {
   "cell_type": "code",
   "execution_count": 20,
   "metadata": {},
   "outputs": [
    {
     "name": "stdout",
     "output_type": "stream",
     "text": [
      "0\n",
      "1\n",
      "2\n",
      "3\n"
     ]
    }
   ],
   "source": [
    "count = 0\n",
    "while count <= 3:\n",
    "  # Loop Body\n",
    "  print(count)\n",
    "  count += 1\n",
    "  # Any other code at this level of indentation will\n",
    "  # run on each iteration"
   ]
  },
  {
   "attachments": {},
   "cell_type": "markdown",
   "metadata": {},
   "source": [
    "**- Elegant loops:**\n",
    "\n",
    "Similar to for loops, Python allows us to write elegant one-line while loops. Here is our previous example in a single line:\n",
    "\n",
    "**Note:** Here we separate each statement with a ; to denote a separate line of code."
   ]
  },
  {
   "cell_type": "code",
   "execution_count": 21,
   "metadata": {},
   "outputs": [
    {
     "name": "stdout",
     "output_type": "stream",
     "text": [
      "0\n",
      "1\n",
      "2\n",
      "3\n"
     ]
    }
   ],
   "source": [
    "count = 0\n",
    "while count <= 3: print(count); count += 1"
   ]
  },
  {
   "attachments": {},
   "cell_type": "markdown",
   "metadata": {},
   "source": [
    "#### Instructions\n",
    "1.\n",
    "Examine the while loop from the narrative in your code editor. There are additional print() statements to help visualize the iterations.\n",
    "\n",
    "Run the code to see what happens on each iteration of the loop. When you are finished, comment out the example to make space for the rest of the checkpoints.\n",
    "\n",
    "To quickly comment out the code, use your cursor or mouse to highlight all the code and press command ⌘ + / on a Mac or CTRL + / on a Windows machine.\n",
    "\n",
    "2.\n",
    "Let’s write a while loop that counts down from 10 to 0(inclusive). Once our loop is finished we will commemorate our accomplishment by printing \"We have liftoff!\".\n",
    "\n",
    "As we saw in the narrative, our key components will be:\n",
    "\n",
    "A variable to keep track of the count, and also help our loop eventually stop.\n",
    "\n",
    "A condition that our while loop will check on each iteration.\n",
    "\n",
    "Several code statements to execute on each iteration of the loop.\n",
    "\n",
    "Let’s tackle the first component!\n",
    "\n",
    "Create a variable named countdown and set the value to 10.\n",
    "\n",
    "3.\n",
    "Now let’s tackle the actual while loop. Define a while loop that will run while our countdown variable is greater than or equal to zero.\n",
    "\n",
    "On each iteration:\n",
    "\n",
    "We should print() the value of the countdown variable.\n",
    "We should decrease the value of the countdown variable by 1\n",
    "Make sure to only print the value of countdown.\n",
    "\n",
    "If you notice the Run button spinning continuously or a “Lost connection to Codecademy” message in an exercise, you may have an infinite loop! If the stop condition for our loop is never met, we will create an infinite loop which stops our program from running anything else. To exit out of an infinite loop in an exercise, refresh the page — then fix the code for your loop.\n",
    "\n",
    "\n",
    "Stuck? Get a hint\n",
    "4.\n",
    "Now that we have built our loop, let’s commemorate our success by printing \"We have liftoff!\" after the while loop."
   ]
  },
  {
   "cell_type": "code",
   "execution_count": 22,
   "metadata": {},
   "outputs": [
    {
     "name": "stdout",
     "output_type": "stream",
     "text": [
      "Starting While Loop\n",
      "Loop Iteration - count <= 3 is still true\n",
      "Count is currently 0\n",
      " ----- \n",
      "Loop Iteration - count <= 3 is still true\n",
      "Count is currently 1\n",
      " ----- \n",
      "Loop Iteration - count <= 3 is still true\n",
      "Count is currently 2\n",
      " ----- \n",
      "Loop Iteration - count <= 3 is still true\n",
      "Count is currently 3\n",
      " ----- \n",
      "While Loop ended\n"
     ]
    }
   ],
   "source": [
    "# While Loop Walkthrough\n",
    "count = 0\n",
    "print(\"Starting While Loop\")\n",
    "while count <= 3:\n",
    "  # Loop Body\n",
    "  # Print if the condition is still true\n",
    "  print(\"Loop Iteration - count <= 3 is still true\")\n",
    "  # Print the current value of count \n",
    "  print(\"Count is currently \" + str(count))\n",
    "  # Increment count\n",
    "  count += 1\n",
    "  print(\" ----- \")\n",
    "print(\"While Loop ended\")\n",
    "\n",
    "# Your code below: "
   ]
  },
  {
   "attachments": {},
   "cell_type": "markdown",
   "metadata": {},
   "source": [
    "## While Loops: Lists\n",
    "A while loop isn’t only good for counting! Similar to how we saw for loops working with lists, we can use while loops to iterate through a list as well.\n",
    "\n",
    "Let’s return to our ingredient list:"
   ]
  },
  {
   "cell_type": "code",
   "execution_count": 23,
   "metadata": {},
   "outputs": [],
   "source": [
    "ingredients = [\"milk\", \"sugar\", \"vanilla extract\", \"dough\", \"chocolate\"]\n"
   ]
  },
  {
   "attachments": {},
   "cell_type": "markdown",
   "metadata": {},
   "source": [
    "We know that while loops require some form of a variable to track the condition of the loop to start and stop.\n",
    "\n",
    "Take some time to think about what we would use to track whether we need to start/stop the loop if we want to iterate through ingredients and print every element.\n",
    "\n",
    "Click here to find out!\n",
    "\n",
    "We know that a list has a predetermined length. If we use the length of the list as the basis for how long our while loop needs to run, we can iterate the exact length of the list.\n",
    "\n",
    "We can use the built-in Python len() function to accomplish this:"
   ]
  },
  {
   "cell_type": "code",
   "execution_count": 24,
   "metadata": {},
   "outputs": [],
   "source": [
    "# Length would be equal to 5\n",
    "length = len(ingredients)"
   ]
  },
  {
   "attachments": {},
   "cell_type": "markdown",
   "metadata": {},
   "source": [
    "We can then use this length in addition to another variable to construct the while loop:\n"
   ]
  },
  {
   "cell_type": "code",
   "execution_count": 25,
   "metadata": {},
   "outputs": [
    {
     "name": "stdout",
     "output_type": "stream",
     "text": [
      "milk\n",
      "sugar\n",
      "vanilla extract\n",
      "dough\n",
      "chocolate\n"
     ]
    }
   ],
   "source": [
    "length = len(ingredients)\n",
    "index = 0\n",
    " \n",
    "while index < length:\n",
    "  print(ingredients[index])\n",
    "  index += 1"
   ]
  },
  {
   "attachments": {},
   "cell_type": "markdown",
   "metadata": {},
   "source": [
    "Let’s break this down:"
   ]
  },
  {
   "cell_type": "code",
   "execution_count": 26,
   "metadata": {},
   "outputs": [],
   "source": [
    "# Length will be 5 in this case\n",
    "length = len(ingredients)"
   ]
  },
  {
   "attachments": {},
   "cell_type": "markdown",
   "metadata": {},
   "source": [
    "Explanation\n",
    "\n",
    "As mentioned, we need a way to know how many times we need our loop to iterate based on the size of the collection.\n",
    "\n",
    "This comes in the form of our length variable which stores the value of the length of the list."
   ]
  },
  {
   "cell_type": "code",
   "execution_count": 27,
   "metadata": {},
   "outputs": [],
   "source": [
    "# Index starts at zero\n",
    "index = 0"
   ]
  },
  {
   "attachments": {},
   "cell_type": "markdown",
   "metadata": {},
   "source": [
    "Explanation\n",
    "\n",
    "We still need an additional variable that will be used to compare against our length."
   ]
  },
  {
   "cell_type": "code",
   "execution_count": 28,
   "metadata": {},
   "outputs": [
    {
     "ename": "SyntaxError",
     "evalue": "incomplete input (296602892.py, line 1)",
     "output_type": "error",
     "traceback": [
      "\u001b[0;36m  Cell \u001b[0;32mIn[28], line 1\u001b[0;36m\u001b[0m\n\u001b[0;31m    while index < length:\u001b[0m\n\u001b[0m                         ^\u001b[0m\n\u001b[0;31mSyntaxError\u001b[0m\u001b[0;31m:\u001b[0m incomplete input\n"
     ]
    }
   ],
   "source": [
    "#while index < length:"
   ]
  },
  {
   "attachments": {},
   "cell_type": "markdown",
   "metadata": {},
   "source": [
    "Explanation\n",
    "\n",
    "In our while loop conditional, we will compare the index variable to the length of our list stored inside of the length variable.\n",
    "\n",
    "On the first iteration, we will be comparing the equivalent of 0 < 5 which will evaluate to True, and start the execution of our loop body."
   ]
  },
  {
   "cell_type": "code",
   "execution_count": 29,
   "metadata": {},
   "outputs": [
    {
     "name": "stdout",
     "output_type": "stream",
     "text": [
      "milk\n"
     ]
    }
   ],
   "source": [
    "# The first iteration will print ingredients[0]\n",
    "print(ingredients[index])\n"
   ]
  },
  {
   "attachments": {},
   "cell_type": "markdown",
   "metadata": {},
   "source": [
    "Explanation\n",
    "\n",
    "Inside of our loop body, we can use the index variable to access our ingredients list and print the value at the current iteration.\n",
    "\n",
    "Since our index starts at zero, our first iteration will print the value of the element at the zeroth index of our ingredients list, then the next iteration will print the value of the element at the first index, and so on."
   ]
  },
  {
   "cell_type": "code",
   "execution_count": 30,
   "metadata": {},
   "outputs": [],
   "source": [
    "# Increment index to access the next element in ingredients\n",
    "# Each iteration gets closer to making the conditional no longer true\n",
    "index += 1"
   ]
  },
  {
   "attachments": {},
   "cell_type": "markdown",
   "metadata": {},
   "source": [
    "Explanation\n",
    "\n",
    "On each iteration of our while loop, we need to also increment the value of index to make sure our loop can stop once the index value is no longer smaller than the length value.\n",
    "\n",
    "This increment also helps us access the next value of the ingredients list on the next iteration."
   ]
  },
  {
   "attachments": {},
   "cell_type": "markdown",
   "metadata": {},
   "source": [
    "#### Instructions\n",
    "1.\n",
    "We are going to write a while loop to iterate over the provided list python_topics.\n",
    "\n",
    "First, we will need a variable to represent the length of the list. This will help us know how many times our while loop needs to iterate.\n",
    "\n",
    "Create a variable length and set its value to be the length of the list of python_topics.\n",
    "\n",
    "\n",
    "Stuck? Get a hint\n",
    "2.\n",
    "Next, we will require a variable to compare to our length variable to make sure we are able to implement a condition that eventually allows the loop to stop.\n",
    "\n",
    "Create a variable called index and initialize the value to be 0.\n",
    "\n",
    "3.\n",
    "Let’s now build our loop. We want our loop to iterate over the list of python_topics and on each iteration print \"I am learning about <element from python_topics>\". For this loop we will need the following components:\n",
    "\n",
    "A condition for our while loop\n",
    "A statement in the loop body to print from our condition\n",
    "A statement in the loop body to increment our index forward.\n",
    "The end result should output:\n",
    "\n",
    "I am learning about variables\n",
    "I am learning about control flow\n",
    "I am learning about loops\n",
    "I am learning about modules\n",
    "I am learning about classes\n",
    "If you notice the Run button spinning continuously or a “Lost connection to Codecademy” message in an exercise, you may have an infinite loop! If the stop condition for our loop is never met, we will create an infinite loop which stops our program from running anything else. To exit out of an infinite loop in an exercise, refresh the page — then fix the code for your loop."
   ]
  },
  {
   "cell_type": "code",
   "execution_count": 31,
   "metadata": {},
   "outputs": [],
   "source": [
    "python_topics = [\"variables\", \"control flow\", \"loops\", \"modules\", \"classes\"]\n",
    "\n",
    "#Your code below: "
   ]
  },
  {
   "attachments": {},
   "cell_type": "markdown",
   "metadata": {},
   "source": [
    "## Infinite Loops\n",
    "We’ve iterated through lists that have a discrete beginning and end. However, let’s consider this example:\n",
    "\n",
    "my_favorite_numbers = [4, 8, 15, 16, 42]\n",
    " \n",
    "for number in my_favorite_numbers:\n",
    "  my_favorite_numbers.append(1)\n",
    "\n",
    "  \n",
    "Take some time to ponder what happens with this code.\n",
    "\n",
    "Click to see what would happen!\n",
    " \n",
    "Every time we enter the loop, we add a 1 to the end of the list that we are iterating through. As a result, we never make it to the end of the list. It keeps growing forever!"
   ]
  },
  {
   "attachments": {},
   "cell_type": "markdown",
   "metadata": {},
   "source": [
    "A loop that never terminates is called an **infinite loop**. These are very dangerous for our code because they will make our program run forever and thus consume all of your computer’s resources.\n",
    "\n",
    "A program that hits an infinite loop often becomes completely unusable. The best course of action is to avoid writing an infinite loop.\n",
    "\n",
    "Note: If you accidentally stumble into an infinite loop while developing on your own machine, you can end the loop by using control + c to terminate the program. If you’re writing code in our online editor, you’ll need to refresh the page to get out of an infinite loop.\n",
    "\n",
    "Let’s fix an infinite loop to see it in action."
   ]
  },
  {
   "attachments": {},
   "cell_type": "markdown",
   "metadata": {},
   "source": [
    "#### Instructions\n",
    "Suppose we have two lists of students, students_period_A and students_period_B. We want to combine all students into students_period_B.\n",
    "\n",
    "In your code editor, we have provided you a loop. Go ahead and uncomment line 5 and before you run the code ponder why this code would cause an infinite loop.\n",
    "\n",
    "When you are ready, run this code. What do you notice happens? Over the run button, notice the loading circle is continuing without anything happening.\n",
    "\n",
    "This is an infinite loop! To end this program we must refresh the page. (Note: The reason this loop is infinite is that we’re adding each student in students_period_A to students_period_A which would create a never-ending list of all the student names.)\n",
    "\n",
    "Open this after you refresh the page\n",
    "\n",
    "Delete the line causing the infinite loop and fix it to accomplish the original goal of combining all students from students_period_A into students_period_B."
   ]
  },
  {
   "cell_type": "code",
   "execution_count": 32,
   "metadata": {},
   "outputs": [
    {
     "name": "stdout",
     "output_type": "stream",
     "text": [
      "Alex\n",
      "Briana\n",
      "Cheri\n",
      "Daniele\n",
      "['Dora', 'Minerva', 'Alexa', 'Obie', 'Alex', 'Briana', 'Cheri', 'Daniele']\n"
     ]
    }
   ],
   "source": [
    "students_period_A = [\"Alex\", \"Briana\", \"Cheri\", \"Daniele\"]\n",
    "students_period_B = [\"Dora\", \"Minerva\", \"Alexa\", \"Obie\"]\n",
    "\n",
    "for student in students_period_A:\n",
    "  students_period_B.append(student)\n",
    "  print(student)\n",
    "print(students_period_B)"
   ]
  },
  {
   "attachments": {},
   "cell_type": "markdown",
   "metadata": {},
   "source": [
    "## Loop Control: Break\n",
    "Loops in Python are very versatile. Python provides a set of control statements that we can use to get even more control out of our loops.\n",
    "\n",
    "Let’s take a look at a common scenario that we may encounter to see a use case for loop control statements.\n",
    "\n",
    "Take the following list items_on_sale as our example:"
   ]
  },
  {
   "cell_type": "code",
   "execution_count": 33,
   "metadata": {},
   "outputs": [],
   "source": [
    "items_on_sale = [\"blue shirt\", \"striped socks\", \"knit dress\", \"red headband\", \"dinosaur onesie\"]"
   ]
  },
  {
   "attachments": {},
   "cell_type": "markdown",
   "metadata": {},
   "source": [
    "It’s often the case that we want to search a list to check if a specific value exists. What does our loop look like if we want to search for the value of \"knit dress\" and print out \"Found it\" if it did exist?\n",
    "\n",
    "It would look something like this:\n"
   ]
  },
  {
   "cell_type": "code",
   "execution_count": 34,
   "metadata": {},
   "outputs": [
    {
     "name": "stdout",
     "output_type": "stream",
     "text": [
      "Found it\n"
     ]
    }
   ],
   "source": [
    "for item in items_on_sale:\n",
    "  if item == \"knit dress\":\n",
    "    print(\"Found it\")"
   ]
  },
  {
   "attachments": {},
   "cell_type": "markdown",
   "metadata": {},
   "source": [
    "This code goes through each item in items_on_sale and checks for a match. This is all fine and dandy but what’s the downside?\n",
    "\n",
    "Once \"knit_dress\" is found in the list items_on_sale, we don’t need to go through the rest of the items_on_sale list. Unfortunately, our loop will keep running until we reach the end of the list.\n",
    "\n",
    "Since it’s only 5 elements long, iterating through the entire list is not a big deal in this case but what if items_on_sale had 1000 items? What if it had 100,000 items? This would be a huge waste of time for our program!\n",
    "\n",
    "Thankfully you can stop iteration from inside the loop by using break loop control statement.\n",
    "\n",
    "When the program hits a break statement it immediately terminates a loop. For example:"
   ]
  },
  {
   "cell_type": "code",
   "execution_count": 35,
   "metadata": {},
   "outputs": [
    {
     "name": "stdout",
     "output_type": "stream",
     "text": [
      "Checking the sale list!\n",
      "blue shirt\n",
      "striped socks\n",
      "knit dress\n",
      "End of search!\n"
     ]
    }
   ],
   "source": [
    "items_on_sale = [\"blue shirt\", \"striped socks\", \"knit dress\", \"red headband\", \"dinosaur onesie\"]\n",
    " \n",
    "print(\"Checking the sale list!\")\n",
    " \n",
    "for item in items_on_sale:\n",
    "  print(item)\n",
    "  if item == \"knit dress\":\n",
    "    break\n",
    " \n",
    "print(\"End of search!\")"
   ]
  },
  {
   "attachments": {},
   "cell_type": "markdown",
   "metadata": {},
   "source": [
    "When the loop entered the if statement and saw the break it immediately ended the loop. We didn’t need to check the elements of \"red headband\" or \"dinosaur onesie\" at all."
   ]
  },
  {
   "attachments": {},
   "cell_type": "markdown",
   "metadata": {},
   "source": [
    "#### Instructions\n",
    "1.\n",
    "You have a list of dog breeds you can adopt, dog_breeds_available_for_adoption.\n",
    "\n",
    "Using a for loop, iterate through the dog_breeds_available_for_adoption list and print() out each dog breed.\n",
    "\n",
    "Use the <temporary variable> name of dog_breed in your loop declaration.\n",
    "\n",
    "\n",
    "Stuck? Get a hint\n",
    "2.\n",
    "Inside your for loop, after you print each dog breed, check if the current element inside dog_breed is equal to dog_breed_I_want. If so, print \"They have the dog I want!\"\n",
    "\n",
    "\n",
    "Stuck? Get a hint\n",
    "3.\n",
    "Add a break statement when your loop has found dog_breed_I_want so that the rest of the list does not need to be checked once we have found our breed."
   ]
  },
  {
   "cell_type": "code",
   "execution_count": 36,
   "metadata": {},
   "outputs": [],
   "source": [
    "dog_breeds_available_for_adoption = [\"french_bulldog\", \"dalmatian\", \"shihtzu\", \"poodle\", \"collie\"]\n",
    "dog_breed_I_want = \"dalmatian\""
   ]
  },
  {
   "attachments": {},
   "cell_type": "markdown",
   "metadata": {},
   "source": [
    "## Loop Control: Continue\n",
    "While the break control statement will come in handy, there are other situations where we don’t want to end the loop entirely. What if we only want to skip the current iteration of the loop?\n",
    "\n",
    "Let’s take this list of integers as our example:"
   ]
  },
  {
   "cell_type": "code",
   "execution_count": 37,
   "metadata": {},
   "outputs": [],
   "source": [
    "big_number_list = [1, 2, -1, 4, -5, 5, 2, -9]\n"
   ]
  },
  {
   "attachments": {},
   "cell_type": "markdown",
   "metadata": {},
   "source": [
    "What if we want to print out all of the numbers in a list, but only if they are positive integers. We can use another common loop control statement called continue."
   ]
  },
  {
   "cell_type": "code",
   "execution_count": 40,
   "metadata": {},
   "outputs": [
    {
     "name": "stdout",
     "output_type": "stream",
     "text": [
      "1\n",
      "2\n",
      "4\n",
      "5\n",
      "2\n"
     ]
    }
   ],
   "source": [
    "for i in big_number_list:\n",
    "  if i <= 0:\n",
    "    continue\n",
    "  print(i)"
   ]
  },
  {
   "attachments": {},
   "cell_type": "markdown",
   "metadata": {},
   "source": [
    "## Notice a few things:\n",
    "\n",
    "1. Similar to when we were using the break control statement, our continue control statement is usually paired with some form of a conditional (if/elif/else).\n",
    "2. When our loop first encountered an element (-1) that met the conditions of the if statement, it checked the code inside the block and saw the continue. When the loop then encounters a continue statement it immediately skips the current iteration and moves onto the next element in the list (4).\n",
    "3. The output of the list only printed positive integers in the list because every time our loop entered the if statement and saw the continue statement it simply moved to the next iteration of the list and thus never reached the print statement.\n",
    "\n",
    "#### Instructions\n",
    "1.\n",
    "Your computer is the doorman at a bar in a country where the drinking age is 21.\n",
    "\n",
    "Loop through the ages list. If an entry is less than 21, skip it and move to the next entry. Otherwise, print() the age."
   ]
  },
  {
   "cell_type": "code",
   "execution_count": 41,
   "metadata": {},
   "outputs": [],
   "source": [
    "ages = [12, 38, 34, 26, 21, 19, 67, 41, 17]\n"
   ]
  },
  {
   "attachments": {},
   "cell_type": "markdown",
   "metadata": {},
   "source": [
    "## Nested Loops\n",
    "Loops can be nested in Python, as they can with other programming languages. We will find certain situations that require nested loops.\n",
    "\n",
    "Suppose we are in charge of a science class, that is split into three project teams:"
   ]
  },
  {
   "cell_type": "code",
   "execution_count": 42,
   "metadata": {},
   "outputs": [],
   "source": [
    "project_teams = [[\"Ava\", \"Samantha\", \"James\"], [\"Lucille\", \"Zed\"], [\"Edgar\", \"Gabriel\"]]\n"
   ]
  },
  {
   "attachments": {},
   "cell_type": "markdown",
   "metadata": {},
   "source": [
    "Using a for or while loop can be useful here to get each team:"
   ]
  },
  {
   "cell_type": "code",
   "execution_count": 43,
   "metadata": {},
   "outputs": [
    {
     "name": "stdout",
     "output_type": "stream",
     "text": [
      "['Ava', 'Samantha', 'James']\n",
      "['Lucille', 'Zed']\n",
      "['Edgar', 'Gabriel']\n"
     ]
    }
   ],
   "source": [
    "for team in project_teams:\n",
    "  print(team)"
   ]
  },
  {
   "attachments": {},
   "cell_type": "markdown",
   "metadata": {},
   "source": [
    "But what if we wanted to print each individual student? In this case, we would actually need to nest our loops to be able to loop through each sub-list. Here is what it would look like:"
   ]
  },
  {
   "cell_type": "code",
   "execution_count": 44,
   "metadata": {},
   "outputs": [
    {
     "name": "stdout",
     "output_type": "stream",
     "text": [
      "Ava\n",
      "Samantha\n",
      "James\n",
      "Lucille\n",
      "Zed\n",
      "Edgar\n",
      "Gabriel\n"
     ]
    }
   ],
   "source": [
    "# Loop through each sublist\n",
    "for team in project_teams:\n",
    "  # Loop elements in each sublist\n",
    "  for student in team:\n",
    "    print(student)"
   ]
  },
  {
   "attachments": {},
   "cell_type": "markdown",
   "metadata": {},
   "source": [
    "#### Instructions\n",
    "1.\n",
    "We have provided the list sales_data that shows the number of scoops sold for different flavors of ice cream at three different locations: Scoopcademy, Gilberts Creamery, and Manny’s Scoop Shop.\n",
    "\n",
    "We want to sum up the total number of scoops sold across all three locations. Start by defining a variable scoops_sold and set it to zero.\n",
    "\n",
    "2.\n",
    "Loop through the sales_data list using the following guidelines:\n",
    "\n",
    "For our temporary variable of the for loop, call it location.\n",
    "print() out each location list.\n",
    "\n",
    "Stuck? Get a hint\n",
    "3.\n",
    "Within our sales_data loop, nest a secondary loop to go through each location sublist element and add the element value to scoops_sold.\n",
    "\n",
    "By the end, you should have the sum of every number in the sales_data nested list.\n",
    "\n",
    "\n",
    "Stuck? Get a hint\n",
    "4.\n",
    "Print out the value of scoops_sold outside of the nested loop."
   ]
  },
  {
   "cell_type": "code",
   "execution_count": 45,
   "metadata": {},
   "outputs": [],
   "source": [
    "sales_data = [[12, 17, 22], [2, 10, 3], [5, 12, 13]]"
   ]
  },
  {
   "attachments": {},
   "cell_type": "markdown",
   "metadata": {},
   "source": [
    "## List Comprehensions: Introduction\n",
    "So far we have seen many of the ideas about using loops in our code. Python prides itself on allowing programmers to write clean and elegant code. We have already seen this with Python giving us the ability to write while and for loops in a single line.\n",
    "\n",
    "In this exercise, we are going to examine another way we can write elegant loops in our programs using list comprehensions.\n",
    "\n",
    "To start, let’s say we had a list of integers and wanted to create a list where each element is doubled. We could accomplish this using a for loop and a new list called doubled:"
   ]
  },
  {
   "cell_type": "code",
   "execution_count": 49,
   "metadata": {},
   "outputs": [
    {
     "name": "stdout",
     "output_type": "stream",
     "text": [
      "[4, -2, 158, 66, -90]\n"
     ]
    }
   ],
   "source": [
    "numbers = [2, -1, 79, 33, -45]\n",
    "doubled = []\n",
    " \n",
    "for number in numbers:\n",
    "  doubled.append(number * 2)\n",
    " \n",
    "print(doubled)"
   ]
  },
  {
   "attachments": {},
   "cell_type": "markdown",
   "metadata": {},
   "source": [
    "Let’s see how we can use the power of list comprehensions to solve these types of problems in one line. Here is our same problem but now written as a list comprehension:"
   ]
  },
  {
   "cell_type": "code",
   "execution_count": 47,
   "metadata": {},
   "outputs": [
    {
     "name": "stdout",
     "output_type": "stream",
     "text": [
      "[4, -2, 158, 66, -90]\n"
     ]
    }
   ],
   "source": [
    "numbers = [2, -1, 79, 33, -45]\n",
    "doubled = [num * 2 for num in numbers]\n",
    "print(doubled)"
   ]
  },
  {
   "attachments": {},
   "cell_type": "markdown",
   "metadata": {},
   "source": [
    "new_list = [*expression* for *element* in *collection*]\n",
    "\n",
    "In our doubled example, our list comprehension:\n",
    "\n",
    "1. Takes an element in the list numbers\n",
    "2. Assigns that element to a variable called num (our *element*)\n",
    "3. Applies the *expression* on the element stored in num and adds the result to a new list called doubled\n",
    "4. Repeats steps 1-3 for every other element in the numbers list (our *collection*)"
   ]
  },
  {
   "attachments": {},
   "cell_type": "markdown",
   "metadata": {},
   "source": [
    "#### Instructions\n",
    "1.\n",
    "We have been provided a list of grades in a physics class. Using a list comprehension, create a new list called scaled_grades that scales the class grades based on the highest score.\n",
    "\n",
    "Since the highest score was a 90 we simply want to add 10 points to all the grades in the list.\n",
    "\n",
    "\n",
    "Stuck? Get a hint\n",
    "2.\n",
    "Print scaled_grades."
   ]
  },
  {
   "cell_type": "code",
   "execution_count": 50,
   "metadata": {},
   "outputs": [],
   "source": [
    "grades = [90, 88, 62, 76, 74, 89, 48, 57]\n"
   ]
  },
  {
   "attachments": {},
   "cell_type": "markdown",
   "metadata": {},
   "source": [
    "## List Comprehensions: Conditionals\n",
    "List Comprehensions are very flexible. We even can expand our examples to incorporate conditional logic.\n",
    "\n",
    "Suppose we wanted to double only our negative numbers from our previous numbers list.\n",
    "\n",
    "We will start by using a for loop and a list only_negative_doubled:"
   ]
  },
  {
   "cell_type": "code",
   "execution_count": 51,
   "metadata": {},
   "outputs": [
    {
     "name": "stdout",
     "output_type": "stream",
     "text": [
      "[-2, -90]\n"
     ]
    }
   ],
   "source": [
    "numbers = [2, -1, 79, 33, -45]\n",
    "only_negative_doubled = []\n",
    " \n",
    "for num in numbers:\n",
    "  if num < 0: \n",
    "    only_negative_doubled.append(num * 2)\n",
    " \n",
    "print(only_negative_doubled) "
   ]
  },
  {
   "attachments": {},
   "cell_type": "markdown",
   "metadata": {},
   "source": [
    "Now, here is what our code would look like using a list comprehension:"
   ]
  },
  {
   "cell_type": "code",
   "execution_count": 52,
   "metadata": {},
   "outputs": [
    {
     "name": "stdout",
     "output_type": "stream",
     "text": [
      "[-2, -90]\n"
     ]
    }
   ],
   "source": [
    "numbers = [2, -1, 79, 33, -45]\n",
    "negative_doubled = [num * 2 for num in numbers if num < 0]\n",
    "print(negative_doubled)"
   ]
  },
  {
   "attachments": {},
   "cell_type": "markdown",
   "metadata": {},
   "source": [
    "In our negative_doubled example, our list comprehension:\n",
    "\n",
    "1. Takes an element in the list numbers.\n",
    "2. Assigns that element to a variable called num.\n",
    "3. Checks if the condition num < 0 is met by the element stored in num. If so, it goes to step 4, otherwise it skips it and goes to the next element in the list.\n",
    "4. Applies the expression num * 2 on the element stored in num and adds the result to a new list called negative_doubled\n",
    "5. Repeats steps 1-3 (and sometimes 4) for each remaining element in the numbers list.\n",
    "\n",
    "We can also use If-Else conditions directly in our comprehensions. For example, let’s say we wanted to double every negative number but triple all positive numbers. Here is what our code might look like:"
   ]
  },
  {
   "cell_type": "code",
   "execution_count": 54,
   "metadata": {},
   "outputs": [
    {
     "name": "stdout",
     "output_type": "stream",
     "text": [
      "[6, -2, 237, 99, -90]\n"
     ]
    }
   ],
   "source": [
    "numbers = [2, -1, 79, 33, -45]\n",
    "doubled = [num * 2 if num < 0 else num * 3 for num in numbers ]\n",
    "print(doubled)"
   ]
  },
  {
   "attachments": {},
   "cell_type": "markdown",
   "metadata": {},
   "source": [
    "**NOTE:** This is a bit different than our previous comprehension since the conditional if num < 0 else num * 3 comes after the expression num * 2 but before our for keyword. The placement of the conditional expression within the comprehension is dependent on whether or not an else clause is used. When an if statement is used without else, the conditional must go after for <element> in <collection>. If the conditional expression includes an else clause, the conditional must go before for. Attempting to write the expressions in any other order will result in a SyntaxError.\n",
    "\n",
    "Here are a few list comprehensions in a single block. Take a moment to compare how the syntax must change depending on whether or not an else clause is included:"
   ]
  },
  {
   "cell_type": "code",
   "execution_count": 55,
   "metadata": {},
   "outputs": [],
   "source": [
    "numbers = [2, -1, 79, 33, -45]\n",
    " \n",
    "no_if   = [num * 2 for num in numbers]\n",
    "if_only = [num * 2 for num in numbers if num < 0]\n",
    "if_else = [num * 2 if num < 0 else num * 3 for num in numbers]"
   ]
  },
  {
   "attachments": {},
   "cell_type": "markdown",
   "metadata": {},
   "source": [
    "#### Instructions\n",
    "1.\n",
    "We have defined a list heights of visitors to a theme park. In order to ride the Topsy Turvy Tumbletron roller coaster, you need to be above 161 centimeters.\n",
    "\n",
    "Using a list comprehension, create a new list called can_ride_coaster that has every element from heights that is greater than 161.\n",
    "\n",
    "\n",
    "Stuck? Get a hint\n",
    "2.\n",
    "Print can_ride_coaster."
   ]
  },
  {
   "cell_type": "code",
   "execution_count": 56,
   "metadata": {},
   "outputs": [],
   "source": [
    "heights = [161, 164, 156, 144, 158, 170, 163, 163, 157]"
   ]
  },
  {
   "attachments": {},
   "cell_type": "markdown",
   "metadata": {},
   "source": [
    "### Review\n",
    "Good job! In this lesson, you learned\n",
    "\n",
    "How to write a for loop.\n",
    "How to use range in a loop.\n",
    "How to write a while loop.\n",
    "What infinite loops are and how to avoid them.\n",
    "How to control loops using break and continue.\n",
    "How to write elegant loops as list comprehensions.\n",
    "Let’s get some more practice with these concepts!\n",
    "\n",
    "#### Instructions\n",
    "1.\n",
    "Create a list called single_digits that consists of the numbers 0-9 (inclusive).\n",
    "\n",
    "\n",
    "Stuck? Get a hint\n",
    "2.\n",
    "Create a for loop that goes through single_digits and prints out each one.\n",
    "\n",
    "\n",
    "Stuck? Get a hint\n",
    "3.\n",
    "Before the loop, create a list called squares. Assign it to be an empty list to begin with.\n",
    "\n",
    "\n",
    "Stuck? Get a hint\n",
    "4.\n",
    "Inside the loop that iterates through single_digits, append the squared value of each element of single_digits to the list squares. You can do this before or after printing the element.\n",
    "\n",
    "\n",
    "Stuck? Get a hint\n",
    "5.\n",
    "After the for loop, print out squares.\n",
    "\n",
    "\n",
    "Stuck? Get a hint\n",
    "6.\n",
    "Create the list cubes using a list comprehension on the single_digits list. Each element of cubes should be an element of single_digits taken to the third power.\n",
    "\n",
    "\n",
    "Stuck? Get a hint\n",
    "7.\n",
    "Print cubes.\n",
    "\n",
    "Good job!"
   ]
  },
  {
   "cell_type": "code",
   "execution_count": null,
   "metadata": {},
   "outputs": [],
   "source": []
  }
 ],
 "metadata": {
  "kernelspec": {
   "display_name": "Python 3",
   "language": "python",
   "name": "python3"
  },
  "language_info": {
   "codemirror_mode": {
    "name": "ipython",
    "version": 3
   },
   "file_extension": ".py",
   "mimetype": "text/x-python",
   "name": "python",
   "nbconvert_exporter": "python",
   "pygments_lexer": "ipython3",
   "version": "3.11.3"
  },
  "orig_nbformat": 4
 },
 "nbformat": 4,
 "nbformat_minor": 2
}
