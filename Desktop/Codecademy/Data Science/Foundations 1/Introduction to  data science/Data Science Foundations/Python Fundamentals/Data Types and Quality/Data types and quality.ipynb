{
 "cells": [
  {
   "attachments": {},
   "cell_type": "markdown",
   "metadata": {},
   "source": [
    "## Data types and quality\n",
    "Data can mean a lot of things, but within data science, it typically means a collection of organized observations.\n",
    "\n",
    "There are two types of organization: methodology and shape."
   ]
  },
  {
   "attachments": {},
   "cell_type": "markdown",
   "metadata": {},
   "source": [
    "## Variable Types\n",
    "The difference between measuring and categorizing is so important that the data itself is termed differently:\n",
    "\n",
    "Variables that are measured are Numerical variables\n",
    "Variables that are categorized are Categorical variables.\n",
    "### Numerical variables\n",
    "Numerical variables are a combination of the measurement and the unit. Without the unit, a numerical variable is just a number.\n",
    "\n",
    "Imagine I go into a cafe and ask the barista for 3. Three what? ☕? 🍩? 💵? Or my friend asks how far Toledo is and I say 300. 300 miles? Kilometers? Minutes? Without units, numbers don’t mean anything.\n",
    "\n",
    "There are two ways to get a number: by counting and measuring. Counting gives us whole numbers and discrete variables. Measuring gives us potentially partial values and continuous variables.\n",
    "\n",
    "### Categorical variables\n",
    "Categorical variables describe characteristics with words or relative values.\n",
    "\n",
    "In the tree census, trees species are described with words like London Plane, Honeylocust, or Pin Oak. This is the best description and encodes all the information we need about the species. This kind of categorical variable is a nominal variable which literally means a named value.\n",
    "\n",
    "We also captured whether or not our trees grew alone. In our ‘Single’ variable, there were only two options: Yes and No. This is called a dichotomous variable. Dichotomous variables have only 2 logical possibilities, “on/off”, “yes/no”, “true/false”, “0/1”, there’s no middle ground and no 3rd option. If there is a logical third option, it’s not a dichotomous variable.\n",
    "\n",
    "Finally, let’s say that we wanted to capture how “pretty” we thought each tree was. This isn’t really a thing we can measure, but we can subjectively say on a scale of 1 to 5, how pretty we think each tree is. The prettiest trees are a 5, the least pretty trees are a 1.\n",
    "\n",
    "That ranking is inherently ordered and therefore called an ordinal variable.\n",
    "\n",
    "Ordinal variables are really popular in survey design “on a scale of 1-5 how much do you agree with this statement?” This is called a likert scale. They also show up in the Olympics and other competitions where someone wins 1st, 2nd, or 3rd place.\n",
    "\n",
    "Ordinal variables can get a little confusing because they are often represented as numbers. But they don’t represent measurements or counts, they represent categories. For example, let’s say an Olympian wins Gold and Bronze medals, it doesn’t make sense to say that they averaged Silver. The same is true of likert scales: there’s no average between “Very pretty” and “Pretty.”"
   ]
  },
  {
   "attachments": {},
   "cell_type": "markdown",
   "metadata": {},
   "source": [
    "## Working with Missing Data\n",
    "\n",
    "If we remember when we were collecting our data, we were hungry, our fingers were cold, and we were distracted. Even though there’s a reason we didn’t enter some values (we were hungry and tired), it’s not a systemic reason. There’s no deeper meaning to why the data is missing: it just wasn’t entered properly. This kind of missing is **Missing Completely** at Random."
   ]
  },
  {
   "cell_type": "markdown",
   "metadata": {},
   "source": []
  }
 ],
 "metadata": {
  "language_info": {
   "name": "python"
  },
  "orig_nbformat": 4
 },
 "nbformat": 4,
 "nbformat_minor": 2
}
