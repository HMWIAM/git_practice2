{
 "cells": [
  {
   "attachments": {},
   "cell_type": "markdown",
   "metadata": {},
   "source": [
    "# Python Functions"
   ]
  },
  {
   "attachments": {},
   "cell_type": "markdown",
   "metadata": {},
   "source": [
    "Functions are a convenient way to group our code into reusable blocks. A function contains a sequence of steps that can be performed repeatedly throughout a program without having to repeat the process of writing the same code again."
   ]
  },
  {
   "cell_type": "code",
   "execution_count": 7,
   "metadata": {},
   "outputs": [],
   "source": [
    "def function_name():\n",
    "  # functions tasks go here\n",
    "  pass"
   ]
  },
  {
   "attachments": {},
   "cell_type": "markdown",
   "metadata": {},
   "source": [
    "There are some key components we want to note here:\n",
    "\n",
    "* The def keyword indicates the beginning of a function (also known as a function header). The function header is followed by a name in snake_case format that describes the task the function performs. It’s best practice to give your functions a descriptive yet concise name.\n",
    "\n",
    "* Following the function name is a pair of parenthesis ( ) that can hold input values known as parameters .\n",
    "\n",
    "* A colon : to mark the end of the function header.\n",
    "\n",
    "* Lastly, we have one or more valid python statements that make up the function body (where we have our python comment).\n",
    "\n",
    "Like loops and conditionals, code inside a function must be indented to show that they are part of the function.\n",
    "\n"
   ]
  },
  {
   "cell_type": "code",
   "execution_count": 8,
   "metadata": {},
   "outputs": [],
   "source": [
    "def directions_to_timesSq():\n",
    "  print(\"Walk 4 mins to 34th St Herald Square train station.\")\n",
    "  print(\"Take the Northbound N, Q, R, or W train 1 stop.\")\n",
    "  print(\"Get off the Times Square 42nd Street stop.\")\n",
    "  print(\"Take lots of pictures!\")\n",
    "  "
   ]
  },
  {
   "attachments": {},
   "cell_type": "markdown",
   "metadata": {},
   "source": [
    "### Calling a function"
   ]
  },
  {
   "attachments": {},
   "cell_type": "markdown",
   "metadata": {},
   "source": [
    "The process of executing the code inside the body of a function is known as calling it (This is also known as “executing a function”). To call a function in Python, type out its name followed by parentheses ( ).\n",
    "\n",
    "To call our function, we must type out the function’s name followed by a pair of parentheses and no indentation:\n"
   ]
  },
  {
   "cell_type": "code",
   "execution_count": 9,
   "metadata": {},
   "outputs": [
    {
     "name": "stdout",
     "output_type": "stream",
     "text": [
      "Walk 4 mins to 34th St Herald Square train station.\n",
      "Take the Northbound N, Q, R, or W train 1 stop.\n",
      "Get off the Times Square 42nd Street stop.\n",
      "Take lots of pictures!\n"
     ]
    }
   ],
   "source": [
    "directions_to_timesSq()"
   ]
  },
  {
   "attachments": {},
   "cell_type": "markdown",
   "metadata": {},
   "source": [
    "### Whitespace and Execution Flow\n",
    "\n"
   ]
  },
  {
   "cell_type": "code",
   "execution_count": 10,
   "metadata": {},
   "outputs": [],
   "source": [
    "def trip_welcome():\n",
    "  print(\"Welcome to Tripcademy!\") \n",
    "  print(\"Let's get you to your destination.\")"
   ]
  },
  {
   "attachments": {},
   "cell_type": "markdown",
   "metadata": {},
   "source": [
    "The print statements all run together when trip_welcome() is called. This is because they have the same base level of indentation (2 spaces).\n",
    "\n",
    "In Python, the amount of whitespace tells the computer what is part of a function and what is not part of that function.\n",
    "\n",
    "If we wanted to write another statement outside of trip_welcome(), we would have to unindent the new line:"
   ]
  },
  {
   "cell_type": "code",
   "execution_count": 11,
   "metadata": {},
   "outputs": [
    {
     "name": "stdout",
     "output_type": "stream",
     "text": [
      "Woah, look at the weather outside! Don't walk, take the train!\n",
      "Welcome to Tripcademy!\n",
      "Let's get you to your destination.\n"
     ]
    }
   ],
   "source": [
    "def trip_welcome():\n",
    "  # Indented code is part of the function body\n",
    "  print(\"Welcome to Tripcademy!\") \n",
    "  print(\"Let's get you to your destination.\")\n",
    " \n",
    "# Unindented code below is not part of the function body\n",
    "print(\"Woah, look at the weather outside! Don't walk, take the train!\")\n",
    " \n",
    "trip_welcome()"
   ]
  },
  {
   "attachments": {},
   "cell_type": "markdown",
   "metadata": {},
   "source": [
    "Our trip_welcome() function steps will not print Woah, look at the weather outside! Don't walk, take the train! on our function call. The print() statement was unindented to show it was not a part of the function body but rather a separate statement.\n",
    "\n",
    "Lastly, note that the execution of a program always begins on the first line. The code is then executed one line at a time from top to bottom. This is known as execution flow and is the order a program in python executes code.\n",
    "\n",
    "Woah, look at the weather outside! Don't walk, take the train! was printed before the print() statements from the function trip_welcome().\n",
    "\n",
    "Even though our function was defined before our lone print() statement, we didn’t call our function until after."
   ]
  },
  {
   "attachments": {},
   "cell_type": "markdown",
   "metadata": {},
   "source": [
    "#### Instructions\n",
    "1. We are going to help our trip planner users figure out if they should travel today based on the weather. Let’s let our users know we can check the weather for them.\n",
    "\n",
    "Write a print() statement that will output Checking the weather for you!.\n",
    "\n",
    "\n",
    "\n",
    "2. We took a look outside and see a bright sunny day. Write a function called weather_check() that will print a message to our users that it’s a great day to travel! The function should output:\n",
    "\n",
    "Looks great outside! Enjoy your trip.\n",
    "Note: Don’t call your function just yet! We will do that in the next step.\n",
    "\n",
    "3. Oh no! It looks like some clouds came in and it started raining. Our users shouldn’t go on a trip in the rain. In our weather_check() function add a second print() statement under the first one which prints a warning message for our travelers! It should print:\n",
    "\n",
    "False Alarm, the weather changed! There is a thunderstorm approaching. Cancel your plans and stay inside.\n",
    "Checkpoint 4 Passed\n",
    "\n",
    "4. Call the function weather_check()."
   ]
  },
  {
   "cell_type": "code",
   "execution_count": 12,
   "metadata": {},
   "outputs": [
    {
     "name": "stdout",
     "output_type": "stream",
     "text": [
      "Checking the weather for you!\n",
      "Looks great outside! Enjoy your trip.\n",
      "False Alarm, the weather changed! There is a thunderstorm approaching. Cancel your plans and stay inside.\n"
     ]
    }
   ],
   "source": [
    "# Your code below: \n",
    "print(\"Checking the weather for you!\")\n",
    "\n",
    "def weather_check():\n",
    "  print(\"Looks great outside! Enjoy your trip.\")\n",
    "  print(\"False Alarm, the weather changed! There is a thunderstorm approaching. Cancel your plans and stay inside.\")\n",
    "weather_check()"
   ]
  },
  {
   "attachments": {},
   "cell_type": "markdown",
   "metadata": {},
   "source": [
    "### Parameters and Arguments\n",
    "\n",
    "In order for us to make our function a bit more dynamic, we are going to use the concept of function parameters.\n",
    "\n",
    "Function parameters allow our function to accept data as an input value. We list the parameters a function takes as input between the parentheses of a function ( ).\n",
    "\n",
    "In the context of our trip_welcome() function, it would look like this:\n",
    "\n"
   ]
  },
  {
   "cell_type": "code",
   "execution_count": 13,
   "metadata": {},
   "outputs": [],
   "source": [
    "def trip_welcome(destination):\n",
    "  print(\"Welcome to Tripcademy!\") \n",
    "  print(\"Looks like you're going to \" + destination + \" today.\")"
   ]
  },
  {
   "attachments": {},
   "cell_type": "markdown",
   "metadata": {},
   "source": [
    "In the above example, we define a single parameter called destination and apply it in our function body in the second print statement. We are telling our function it should expect some data passed in for destination that it can apply to any statements in the function body."
   ]
  },
  {
   "cell_type": "code",
   "execution_count": 14,
   "metadata": {},
   "outputs": [
    {
     "name": "stdout",
     "output_type": "stream",
     "text": [
      "Welcome to Tripcademy!\n",
      "Looks like you're going to Times Square today.\n"
     ]
    }
   ],
   "source": [
    "trip_welcome(\"Times Square\")"
   ]
  },
  {
   "attachments": {},
   "cell_type": "markdown",
   "metadata": {},
   "source": [
    "To summarize, here is a quick breakdown of the distinction between a parameter and an argument:\n",
    "\n",
    "The parameter is the name defined in the parenthesis of the function and can be used in the function body.\n",
    "A function definition in Python\n",
    "\n",
    "The argument is the data that is passed in when we call the function, which is then assigned to the parameter name.\n",
    "Calling a function with a specific value like trip_welcome(\"Empire State Building\")\n",
    "\n",
    "Let’s write a function with parameters and call the function with an argument to see it all in action!"
   ]
  },
  {
   "attachments": {},
   "cell_type": "markdown",
   "metadata": {},
   "source": [
    "### Multiple parameters"
   ]
  },
  {
   "attachments": {},
   "cell_type": "markdown",
   "metadata": {},
   "source": [
    "Using a single parameter is useful but functions let us use as many parameters as we want! That way, we can pass in more than one input to our functions.\n",
    "\n",
    "We can write a function that takes in more than one parameter by using commas:\n",
    "\n",
    "When we call our function, we will need to provide arguments for each of the parameters we assigned in our function definition.\n",
    "\n",
    "For example take our trip application’s trip_welcome() function that has two parameters:"
   ]
  },
  {
   "cell_type": "code",
   "execution_count": 15,
   "metadata": {},
   "outputs": [],
   "source": [
    "def trip_welcome(origin, destination):\n",
    "  print(\"Welcome to Tripcademy\")\n",
    "  print(\"Looks like you are traveling from \" + origin)\n",
    "  print(\"And you are heading to \" + destination)"
   ]
  },
  {
   "attachments": {},
   "cell_type": "markdown",
   "metadata": {},
   "source": [
    "Our two parameters in this function are origin and destination. In order to properly call our function, we need to pass argument values for both of them."
   ]
  },
  {
   "cell_type": "code",
   "execution_count": 16,
   "metadata": {},
   "outputs": [
    {
     "name": "stdout",
     "output_type": "stream",
     "text": [
      "Welcome to Tripcademy\n",
      "Looks like you are traveling from Prospect Park\n",
      "And you are heading to Atlantic Terminal\n"
     ]
    }
   ],
   "source": [
    "trip_welcome(\"Prospect Park\", \"Atlantic Terminal\")"
   ]
  },
  {
   "attachments": {},
   "cell_type": "markdown",
   "metadata": {},
   "source": [
    "## Instructions\n",
    "1.\n",
    "Our travel application users want to calculate the total expenses they may have to incur on a trip.\n",
    "\n",
    "Write a function called calculate_expenses that will have four parameters (in exact order):\n",
    "\n",
    "plane_ticket_price\n",
    "car_rental_rate\n",
    "hotel_rate\n",
    "trip_time\n",
    "Each of these parameters will account for a different expense that our users will incur.\n",
    "\n",
    "Note: Like before, we will see an error: SyntaxError: unexpected EOF while parsing, since there is no code in the body of the function. In the next step we will add statements to the function.\n",
    "\n",
    "Checkpoint 2 Passed\n",
    "\n",
    "Stuck? Get a hint\n",
    "2.\n",
    "Within the body of the function, let’s start to make some calculations for our expenses. First, let’s calculate the total price for a car rental.\n",
    "\n",
    "Create new variable called car_rental_total that is the product of car_rental_rate and trip_time.\n",
    "\n",
    "Checkpoint 3 Passed\n",
    "\n",
    "Stuck? Get a hint\n",
    "3.\n",
    "Next, we want to apply the same logic but for our hotel_rate.\n",
    "\n",
    "Create new variable called hotel_total that is the product of hotel_rate and trip_time.\n",
    "\n",
    "We also have a coupon to give our users some cashback for their hotel visit so subtract 10 from that total in the same statement. Woohoo, coupons! 💵\n",
    "\n",
    "Checkpoint 4 Passed\n",
    "\n",
    "Stuck? Get a hint\n",
    "4.\n",
    "Lastly, let’s print a nice message for our users to see the total. Use print to output the sum of car_rental_total, hotel_total and plane_ticket_price.\n",
    "\n",
    "Checkpoint 5 Passed\n",
    "\n",
    "Stuck? Get a hint\n",
    "5.\n",
    "Call your function with the following argument values for the parameters listed:\n",
    "\n",
    "plane_ticket_price : 200\n",
    "car_rental_rate : 100\n",
    "hotel_rate : 100\n",
    "trip_time: 5"
   ]
  },
  {
   "cell_type": "code",
   "execution_count": 18,
   "metadata": {},
   "outputs": [],
   "source": [
    "# Write your code below: \n"
   ]
  },
  {
   "attachments": {},
   "cell_type": "markdown",
   "metadata": {},
   "source": [
    "## Types of arguments"
   ]
  },
  {
   "attachments": {},
   "cell_type": "markdown",
   "metadata": {},
   "source": [
    "In Python, there are 3 different types of arguments we can give a function.\n",
    "\n",
    "* Positional arguments: arguments that can be called by their position in the function definition.\n",
    "\n",
    "* Keyword arguments: arguments that can be called by their name.\n",
    "\n",
    "* Default arguments: arguments that are given default values.\n",
    "\n",
    "Positional Arguments are arguments we have already been using! Their assignments depend on their positions in the function call. Let’s look at a function called calculate_taxi_price() that allows our users to see how much a taxi would cost to their destination"
   ]
  },
  {
   "cell_type": "code",
   "execution_count": 19,
   "metadata": {},
   "outputs": [],
   "source": [
    "def calculate_taxi_price(miles_to_travel, rate, discount):\n",
    "  print(miles_to_travel * rate - discount )"
   ]
  },
  {
   "attachments": {},
   "cell_type": "markdown",
   "metadata": {},
   "source": [
    "In this function, miles_to_travel is positioned as the first parameter, rate is positioned as the second parameter, and discount is the third. When we call our function, the position of the arguments will be mapped to the positions defined in the function declaration."
   ]
  },
  {
   "cell_type": "code",
   "execution_count": 20,
   "metadata": {},
   "outputs": [
    {
     "name": "stdout",
     "output_type": "stream",
     "text": [
      "995\n"
     ]
    }
   ],
   "source": [
    "# 100 is miles_to_travel\n",
    "# 10 is rate\n",
    "# 5 is discount\n",
    "calculate_taxi_price(100, 10, 5)"
   ]
  },
  {
   "attachments": {},
   "cell_type": "markdown",
   "metadata": {},
   "source": [
    "Alternatively, we can use Keyword Arguments where we explicitly refer to what each argument is assigned to in the function call. Notice in the code example below that the arguments do not follow the same order as defined in the function declaration."
   ]
  },
  {
   "cell_type": "code",
   "execution_count": 21,
   "metadata": {},
   "outputs": [
    {
     "name": "stdout",
     "output_type": "stream",
     "text": [
      "40.0\n"
     ]
    }
   ],
   "source": [
    "calculate_taxi_price(rate=0.5, discount=10, miles_to_travel=100)\n"
   ]
  },
  {
   "attachments": {},
   "cell_type": "markdown",
   "metadata": {},
   "source": [
    "Lastly, sometimes we want to give our function arguments default values. We can provide a default value to an argument by using the assignment operator (=). This will happen in the function declaration rather than the function call.\n",
    "\n",
    "Here is an example where the discount argument in our calculate_taxi_price function will always have a default value of 10:"
   ]
  },
  {
   "cell_type": "code",
   "execution_count": 22,
   "metadata": {},
   "outputs": [
    {
     "name": "stdout",
     "output_type": "stream",
     "text": [
      "-5.0\n",
      "-15.0\n"
     ]
    }
   ],
   "source": [
    "def calculate_taxi_price(miles_to_travel, rate, discount = 10):\n",
    "  print(miles_to_travel * rate - discount )\n",
    "\n"
   ]
  },
  {
   "attachments": {},
   "cell_type": "markdown",
   "metadata": {},
   "source": [
    "When using a default argument, we can either choose to call the function without providing a value for a discount (and thus our function will use the default value assigned) or overwrite the default argument by providing our own:"
   ]
  },
  {
   "cell_type": "code",
   "execution_count": 23,
   "metadata": {},
   "outputs": [
    {
     "name": "stdout",
     "output_type": "stream",
     "text": [
      "-5.0\n",
      "-15.0\n"
     ]
    }
   ],
   "source": [
    "# Using the default value of 10 for discount.\n",
    "calculate_taxi_price(10, 0.5)\n",
    " \n",
    "# Overwriting the default value of 10 with 20\n",
    "calculate_taxi_price(10, 0.5, 20)"
   ]
  },
  {
   "attachments": {},
   "cell_type": "markdown",
   "metadata": {},
   "source": [
    "## Instructions\n",
    "1.\n",
    "Tripcademy (our trusty travel app) needs to allow passengers to plan a trip (duh).\n",
    "\n",
    "Write a function called trip_planner() that will have three parameters: first_destination, second_destination and final_destination.\n",
    "\n",
    "Give the final_destination parameter a default value of \"Codecademy HQ\".\n",
    "\n",
    "Note: Since we did not define any code in our function yet, we will receive an error in our output terminal. Don’t worry, we will be filling in the code in the next step.\n",
    "\n",
    "Checkpoint 2 Passed\n",
    "\n",
    "Stuck? Get a hint\n",
    "2.\n",
    "First, we want to introduce the trip to users. Use print() in our function to output Here is what your trip will look like!.\n",
    "\n",
    "Checkpoint 3 Passed\n",
    "\n",
    "Stuck? Get a hint\n",
    "3.\n",
    "In our function definition let’s provide an itinerary that will describe the destinations our user will visit in order. Print a statement that follows this form:\n",
    "\n",
    "First, we will stop in <first_destination>, then <second_destination>, and lastly <final_destination>\n",
    "An example call to our function using positional arguments:\n",
    "\n",
    "trip_planner(\"London\", \"India\", \"New Zealand\")\n",
    "Should output:\n",
    "\n",
    "Here is what your trip will look like!\n",
    "First, we will stop in London, then India, and lastly New Zealand\n",
    "To test out your function, call trip_planner() with the following values for the parameters:\n",
    "\n",
    "first_destination: \"France\"\n",
    "\n",
    "second_destination: \"Germany\"\n",
    "\n",
    "final_destination: \"Denmark\"\n",
    "\n",
    "Checkpoint 4 Passed\n",
    "\n",
    "Stuck? Get a hint\n",
    "4.\n",
    "Call the function trip_planner() again with the following values for the parameters:\n",
    "\n",
    "first_destination: \"Denmark\"\n",
    "\n",
    "second_destination: \"France\"\n",
    "\n",
    "final_destination: \"Germany\"\n",
    "\n",
    "Note the difference in your output depending on the position of your arguments.\n",
    "\n",
    "Checkpoint 5 Passed\n",
    "\n",
    "Stuck? Get a hint\n",
    "5.\n",
    "Call the function trip_planner() again using keyword arguments in this exact order:\n",
    "\n",
    "first_destination: \"Iceland\"\n",
    "\n",
    "final_destination: \"Germany\"\n",
    "\n",
    "second_destination: \"India\"\n",
    "\n",
    "Checkpoint 6 Passed\n",
    "\n",
    "Stuck? Get a hint\n",
    "6.\n",
    "Lastly, go ahead and call the function trip_planner() using only two positional arguments to see the default argument in action:\n",
    "\n",
    "first_destination: \"Brooklyn\"\n",
    "\n",
    "second_destination: \"Queens\""
   ]
  },
  {
   "cell_type": "code",
   "execution_count": 24,
   "metadata": {},
   "outputs": [],
   "source": [
    "# Write your code below:"
   ]
  },
  {
   "attachments": {},
   "cell_type": "markdown",
   "metadata": {},
   "source": [
    "## Built-in Functions vs User Defined Functions"
   ]
  },
  {
   "attachments": {},
   "cell_type": "markdown",
   "metadata": {},
   "source": [
    "There are two distinct categories for functions in the world of Python. What we have been writing so far in our exercises are called User Defined Functions - functions that are written by users (like us!).\n",
    "\n",
    "There is another category called Built-in functions - functions that come built into Python for us to use. Remember when we were using print or str? Both of these functions are built into the language for us, which means we have been using built-in functions all along!\n",
    "\n",
    "There are lots of different built-in functions that we can use in our programs. Take a look at this example of using len() to get the length of a string:"
   ]
  },
  {
   "cell_type": "code",
   "execution_count": 25,
   "metadata": {},
   "outputs": [
    {
     "name": "stdout",
     "output_type": "stream",
     "text": [
      "28\n"
     ]
    }
   ],
   "source": [
    "destination_name = \"Venkatanarasimharajuvaripeta\"\n",
    " \n",
    "# Built-in function: len()\n",
    "length_of_destination = len(destination_name)\n",
    " \n",
    "# Built-in function: print()\n",
    "print(length_of_destination)"
   ]
  },
  {
   "attachments": {},
   "cell_type": "markdown",
   "metadata": {},
   "source": [
    "## Instructions\n",
    "1.\n",
    "We were provided a list of prices for some gift shop items:\n",
    "\n",
    "T-shirt: 9.75\n",
    "Shorts: 15.50\n",
    "Mug: 5.99\n",
    "Poster: 2.00\n",
    "Create a variable called max_price and call the built-in function max() with the variables of prices to get the maximum price.\n",
    "\n",
    "Print max_price.\n",
    "\n",
    "Checkpoint 2 Passed\n",
    "\n",
    "Stuck? Get a hint\n",
    "2.\n",
    "Using the same set of prices, create a new variable called min_price and use the built-in function min() with the variables of prices to get the minimum price.\n",
    "\n",
    "Print min_price.\n",
    "\n",
    "Checkpoint 3 Passed\n",
    "\n",
    "Stuck? Get a hint\n",
    "3.\n",
    "Use the built-in function round() to round the price of the variable tshirt_price by one decimal place.\n",
    "\n",
    "Save the result to a variable called rounded_price and print it."
   ]
  },
  {
   "cell_type": "code",
   "execution_count": 26,
   "metadata": {},
   "outputs": [],
   "source": [
    "tshirt_price = 9.75\n",
    "shorts_price = 15.50\n",
    "mug_price = 5.99\n",
    "poster_price = 2.00\n",
    "\n",
    "# Write your code below:"
   ]
  },
  {
   "attachments": {},
   "cell_type": "markdown",
   "metadata": {},
   "source": [
    "## Variable Access"
   ]
  },
  {
   "attachments": {},
   "cell_type": "markdown",
   "metadata": {},
   "source": [
    "As we expand our programs with more functions, we might start to ponder, where exactly do we have access to our variables? To examine this, let’s revisit a modified version of the first function we built out together:\n",
    "\n",
    "What if we wanted to access the variable destination outside of the function? Could we use it? Take a second to think about what the following program will output, then check the result below!"
   ]
  },
  {
   "cell_type": "code",
   "execution_count": 27,
   "metadata": {},
   "outputs": [],
   "source": [
    "def trip_welcome(destination):\n",
    "  print(\" Looks like you're going to the \" + destination + \" today. \")"
   ]
  },
  {
   "cell_type": "code",
   "execution_count": 28,
   "metadata": {},
   "outputs": [
    {
     "ename": "NameError",
     "evalue": "name 'destination' is not defined",
     "output_type": "error",
     "traceback": [
      "\u001b[0;31m---------------------------------------------------------------------------\u001b[0m",
      "\u001b[0;31mNameError\u001b[0m                                 Traceback (most recent call last)",
      "Cell \u001b[0;32mIn[28], line 1\u001b[0m\n\u001b[0;32m----> 1\u001b[0m \u001b[39mprint\u001b[39m(destination)\n",
      "\u001b[0;31mNameError\u001b[0m: name 'destination' is not defined"
     ]
    }
   ],
   "source": [
    "print(destination)"
   ]
  },
  {
   "attachments": {},
   "cell_type": "markdown",
   "metadata": {},
   "source": [
    "If we try to run this code, we will get a NameError, telling us that destination is not defined. The variable destination has only been defined inside the space of a function, so it does not exist outside the function.\n",
    "\n",
    "\n",
    "We call the part of a program where destination can be accessed its scope. The scope of destination is only inside the trip_welcome()."
   ]
  },
  {
   "cell_type": "code",
   "execution_count": 29,
   "metadata": {},
   "outputs": [
    {
     "name": "stdout",
     "output_type": "stream",
     "text": [
      "1000\n",
      " Looks like you're going to California\n",
      " Your budget for this trip is 1000\n"
     ]
    }
   ],
   "source": [
    "budget = 1000\n",
    " \n",
    "# Here we are using a default value for our parameter of `destination` \n",
    "def trip_welcome(destination=\"California\"):\n",
    "    print(\" Looks like you're going to \" + destination)\n",
    "    print(\" Your budget for this trip is \" + str(budget))\n",
    " \n",
    "print(budget)\n",
    "trip_welcome()"
   ]
  },
  {
   "attachments": {},
   "cell_type": "markdown",
   "metadata": {},
   "source": [
    "Here we are able to access the budget both inside the trip_welcome function as well as our print() statement. If a variable lives outside of any function it can be accessed anywhere in the file."
   ]
  },
  {
   "attachments": {},
   "cell_type": "markdown",
   "metadata": {},
   "source": [
    "## Instructions\n",
    "1.\n",
    "Our users want to be able to save a list of their favorite places in our travel application.\n",
    "\n",
    "We have received a rough draft for this implementation from another coder, but there are some problems with variable scope which prevent it from working properly.\n",
    "\n",
    "Take a second to understand what the program is doing and then hit Run the code to see the error.\n",
    "\n",
    "Checkpoint 2 Passed\n",
    "\n",
    "Stuck? Get a hint\n",
    "2.\n",
    "Looking at the error, it seems like the main issue is that favorite_locations is not defined. Why would our program not be able to see our beautiful favorite_locations variable?\n",
    "\n",
    "Aha! It must be a scope issue. Fix the scope of favorite_locations so that both our functions can access it.\n",
    "\n"
   ]
  },
  {
   "cell_type": "code",
   "execution_count": 30,
   "metadata": {},
   "outputs": [
    {
     "name": "stdout",
     "output_type": "stream",
     "text": [
      "There are 3 locations\n"
     ]
    },
    {
     "ename": "NameError",
     "evalue": "name 'favorite_locations' is not defined",
     "output_type": "error",
     "traceback": [
      "\u001b[0;31m---------------------------------------------------------------------------\u001b[0m",
      "\u001b[0;31mNameError\u001b[0m                                 Traceback (most recent call last)",
      "Cell \u001b[0;32mIn[30], line 11\u001b[0m\n\u001b[1;32m      8\u001b[0m   \u001b[39mprint\u001b[39m(\u001b[39m\"\u001b[39m\u001b[39mYour favorite locations are: \u001b[39m\u001b[39m\"\u001b[39m \u001b[39m+\u001b[39m favorite_locations)\n\u001b[1;32m     10\u001b[0m print_count_locations()\n\u001b[0;32m---> 11\u001b[0m show_favorite_locations()\n",
      "Cell \u001b[0;32mIn[30], line 8\u001b[0m, in \u001b[0;36mshow_favorite_locations\u001b[0;34m()\u001b[0m\n\u001b[1;32m      7\u001b[0m \u001b[39mdef\u001b[39;00m \u001b[39mshow_favorite_locations\u001b[39m():\n\u001b[0;32m----> 8\u001b[0m   \u001b[39mprint\u001b[39m(\u001b[39m\"\u001b[39m\u001b[39mYour favorite locations are: \u001b[39m\u001b[39m\"\u001b[39m \u001b[39m+\u001b[39m favorite_locations)\n",
      "\u001b[0;31mNameError\u001b[0m: name 'favorite_locations' is not defined"
     ]
    }
   ],
   "source": [
    "# This function will print a hardcoded count of how many locations we have.\n",
    "def print_count_locations():\n",
    "  favorite_locations = \"Paris, Norway, Iceland\"\n",
    "  print(\"There are 3 locations\")\n",
    "    \n",
    "# This function will print the favorite locations\n",
    "def show_favorite_locations():\n",
    "  print(\"Your favorite locations are: \" + favorite_locations)\n",
    "\n",
    "print_count_locations()\n",
    "show_favorite_locations()"
   ]
  },
  {
   "attachments": {},
   "cell_type": "markdown",
   "metadata": {},
   "source": [
    "## Returns\n",
    "\n",
    "At this point, our functions have been using print() to help us visualize the output in our interpreter. Functions can also return a value to the program so that this value can be modified or used later. We use the Python keyword return to do this.\n",
    "\n",
    "Here’s an example of a program that will return a converted currency for a given location a user may want to visit in our trip planner application"
   ]
  },
  {
   "cell_type": "code",
   "execution_count": 31,
   "metadata": {},
   "outputs": [
    {
     "name": "stdout",
     "output_type": "stream",
     "text": [
      "100 dollars in US currency would give you 140.0 New Zealand dollars\n"
     ]
    }
   ],
   "source": [
    "def calculate_exchange_usd(us_dollars, exchange_rate):\n",
    "  return us_dollars * exchange_rate\n",
    " \n",
    "new_zealand_exchange = calculate_exchange_usd(100, 1.4)\n",
    " \n",
    "print(\"100 dollars in US currency would give you \" + str(new_zealand_exchange) + \" New Zealand dollars\")"
   ]
  },
  {
   "attachments": {},
   "cell_type": "markdown",
   "metadata": {},
   "source": [
    "Saving our values returned from a function like we did with new_zealand_exchange allows us to reuse the value (in the form of a variable) throughout the rest of the program.\n",
    "\n",
    "When there is a result from a function that is stored in a variable, it is called a returned function value."
   ]
  },
  {
   "attachments": {},
   "cell_type": "markdown",
   "metadata": {},
   "source": [
    "## Instructions\n",
    "1.\n",
    "Our travel application is getting really popular. Some of our users have posted on social media that it would be useful if our application could help them track their budget during trips. We want to help them track their starting budget and let them know how much they have left after an expense.\n",
    "\n",
    "We have provided some starting code to get started. Take a second to understand the code and then click Run and take a look at the output.\n",
    "\n",
    "Checkpoint 2 Passed\n",
    "2.\n",
    "Let’s create a new function called deduct_expense() that will take two parameters.\n",
    "\n",
    "The first parameter will be budget and the second parameter will be expense. Our function will be taking in a budget value as well as the expense we want to subtract.\n",
    "\n",
    "We will want our function to return the budget minus the expense our travelers are incurring.\n",
    "\n",
    "Checkpoint 3 Passed\n",
    "\n",
    "Stuck? Get a hint\n",
    "3.\n",
    "Looks like the most common expense our travelers are incurring is a t-shirt purchase.\n",
    "\n",
    "Let’s create a variable called shirt_expense and for now, we will give it a set value of 9 (We are not accounting for currency changes at the moment). Make sure this is defined outside of the functions in your script.\n",
    "\n",
    "Checkpoint 4 Passed\n",
    "\n",
    "Stuck? Get a hint\n",
    "4.\n",
    "Now that we have an expense to subtract, create a new variable called new_budget_after_shirt and set it to be the function call of deduct_expense().\n",
    "\n",
    "Pass our current_budget variable as the first argument and the shirt_expense variable as the second argument.\n",
    "\n",
    "Checkpoint 5 Passed\n",
    "\n",
    "Stuck? Get a hint\n",
    "5.\n",
    "Lastly, we want our users to see the remaining budget.\n",
    "\n",
    "Call the provided print_remaining_budget() function, passing in new_budget_after_shirt as the only argument.\n",
    "\n",
    "Checkpoint 6 Passed\n",
    "\n",
    "Stuck? Get a hint\n",
    "6.\n",
    "Great Job! This is the biggest program with functions we have built so far! Take a second to review your code and click Run one last time when you are ready to move on."
   ]
  },
  {
   "cell_type": "code",
   "execution_count": 32,
   "metadata": {},
   "outputs": [
    {
     "name": "stdout",
     "output_type": "stream",
     "text": [
      "Your remaining budget is: $3500.75\n"
     ]
    }
   ],
   "source": [
    "current_budget = 3500.75\n",
    "\n",
    "def print_remaining_budget(budget):\n",
    "  print(\"Your remaining budget is: $\" + str(budget))\n",
    "\n",
    "print_remaining_budget(current_budget)\n",
    "\n",
    "# Write your code below: "
   ]
  },
  {
   "attachments": {},
   "cell_type": "markdown",
   "metadata": {},
   "source": [
    "## Multiple Returns\n",
    "Sometimes we may want to return more than one value from a function. We can return several values by separating them with a comma. Take a look at this example of a function that allows users in our travel application to check the upcoming week’s weather (starting on Monday):"
   ]
  },
  {
   "cell_type": "code",
   "execution_count": 33,
   "metadata": {},
   "outputs": [],
   "source": [
    "weather_data = ['Sunny', 'Sunny', 'Cloudy', 'Raining', 'Snowing']\n",
    " \n",
    "def threeday_weather_report(weather):\n",
    "  first_day = \" Tomorrow the weather will be \" + weather[0]\n",
    "  second_day = \" The following day it will be \" + weather[1]\n",
    "  third_day = \" Two days from now it will be \" + weather[2]\n",
    "  return first_day, second_day, third_day\n"
   ]
  },
  {
   "attachments": {},
   "cell_type": "markdown",
   "metadata": {},
   "source": [
    "This function takes in a set of data in the form of a list for the upcoming week’s weather. We can get our returned function values by assigning them to variables when we call the function:"
   ]
  },
  {
   "cell_type": "code",
   "execution_count": 34,
   "metadata": {},
   "outputs": [
    {
     "name": "stdout",
     "output_type": "stream",
     "text": [
      " Tomorrow the weather will be Sunny\n",
      " The following day it will be Sunny\n",
      " Two days from now it will be Cloudy\n"
     ]
    }
   ],
   "source": [
    "monday, tuesday, wednesday = threeday_weather_report(weather_data)\n",
    " \n",
    "print(monday)\n",
    "print(tuesday)\n",
    "print(wednesday)"
   ]
  },
  {
   "attachments": {},
   "cell_type": "markdown",
   "metadata": {},
   "source": [
    "## Instructions\n",
    "1.\n",
    "Our users liked the previous functionality that we added to our travel application, but recently we have had an influx of users planning trips in Italy. We want to create a small function to output the top places to visit in Italy. Another member of our team already started on the implementation of this feature but it is still missing a few key details.\n",
    "\n",
    "Take a second to review the code and click Run when you are ready to move on. For now, there will be no output.\n",
    "\n",
    "Checkpoint 2 Passed\n",
    "2.\n",
    "We want to be able to return the three most popular destinations from our function top_tourist_locations_italy().\n",
    "\n",
    "Add a line in the function top_tourist_locations_italy() that will return the values of first, second, third in that exact order.\n",
    "\n",
    "Checkpoint 3 Passed\n",
    "\n",
    "Stuck? Get a hint\n",
    "3.\n",
    "In order to use our three returned values from top_tourist_locations_italy() we need to assign them to new variables names after we call our function.\n",
    "\n",
    "Set the return of the function top_tourist_locations_italy() to be equal to three new variables called most_popular1, most_popular2, and most_popular3 in that exact order.\n",
    "\n",
    "Checkpoint 4 Passed\n",
    "\n",
    "Stuck? Get a hint\n",
    "4.\n",
    "Use three print() statements to output the value of most_popular1, most_popular2, and most_popular3."
   ]
  },
  {
   "cell_type": "code",
   "execution_count": 35,
   "metadata": {},
   "outputs": [],
   "source": [
    "def top_tourist_locations_italy():\n",
    "  first = \"Rome\"\n",
    "  second = \"Venice\"\n",
    "  third = \"Florence\""
   ]
  },
  {
   "attachments": {},
   "cell_type": "markdown",
   "metadata": {},
   "source": [
    "## Review\n",
    "Excellent work! 👏 In this lesson, you’ve covered a major fundamental programming concept used in the majority of all programs to organize code into reusable blocks. To recap, we explored:\n",
    "\n",
    "* What problems arise in our programs without functions\n",
    "* What functions are and how to write them\n",
    "* How whitespace plays an important role in how a program will execute our code and more importantly distinguish function code from non-function code\n",
    "* How to pass input values into our functions using parameters and arguments\n",
    "* The difference between built-in and user-defined functions and some common built-in functions python offers\n",
    "* How we can reuse function output with the return keyword, as well as multiple returns.\n",
    "* Where variables can be accessed in our programs that use functions\n",
    "Let’s practice putting all these concepts together!\n",
    "\n",
    "## Instructions\n",
    "1.\n",
    "Alright, this is it. We are going to use all of our knowledge of functions to build out TripPlanner V1.0.\n",
    "\n",
    "First, like in our previous exercises, we want to make sure to welcome our users to the application.\n",
    "\n",
    "Create a function called trip_planner_welcome() that takes one parameter called name. The function should use print() to output a message like this:\n",
    "\n",
    "Welcome to tripplanner v1.0 <Name Here>\n",
    "Where <Name Here> represents the parameter variable of name we defined.\n",
    "\n",
    "Call trip_planner_welcome(), passing your name as an argument.\n",
    "\n",
    "Checkpoint 2 Passed\n",
    "\n",
    "Hint\n",
    "Let’s remember what a function declaration looks like with one parameter:\n",
    "\n",
    "def function_name(single_parameter):\n",
    "  # Some Code\n",
    "2.\n",
    "Next, we are going to define a function called estimated_time_rounded() that will allow us to calculate a rounded time value based on a decimal for our user’s trip.\n",
    "\n",
    "An example call for this function will look like this:\n",
    "\n",
    "estimated_time_rounded(2.5)\n",
    "Where 2 represents 2 hours and .5 represents 30 minutes.\n",
    "\n",
    "Define the function estimated_time_rounded() with a single parameter estimated_time. The function should do two things:\n",
    "\n",
    "Create a variable called rounded_time that is the result of calling the round() built-in function on the parameter estimated_time.\n",
    "Return rounded_time.\n",
    "After the function definition, call estimated_time_rounded() with a decimal argument and save the result to a variable called estimate. Since this amount represents a time, be sure to use a positive number.\n",
    "\n",
    "Checkpoint 3 Passed\n",
    "\n",
    "Hint\n",
    "Here is how you would use the round() function and return it from a user-defined function:\n",
    "\n",
    "def return_round():\n",
    "  rounded_value = round(5.53)\n",
    "  return rounded_value\n",
    "3.\n",
    "Next, we are going to generate messages for a user’s planned trip.\n",
    "\n",
    "Create a function called destination_setup() that will have four parameters in this exact order:\n",
    "\n",
    "origin\n",
    "destination\n",
    "estimated_time\n",
    "mode_of_transport\n",
    "Give the parameter mode_of_transport a default value of \"Car\". The program will error out if we run it since we have not defined a function body yet. Don’t worry we will do that in the next step.\n",
    "\n",
    "Checkpoint 4 Passed\n",
    "\n",
    "Stuck? Get a hint\n",
    "4.\n",
    "Next, we are going to write four print() statements in our function. The output on this function call should look like this:\n",
    "\n",
    "Your trip starts off in <origin>\n",
    "And you are traveling to <destination>\n",
    "You will be traveling by <mode_of_transport>\n",
    "It will take approximately <estimated_time> hours\n",
    "Each of these print() statements use a different parameter from our function destination_setup().\n",
    "\n",
    "Note: The estimated_time parameter will come in the form of an integer. Make sure to use str() to convert the parameter in your print statement.\n",
    "\n",
    "After the function definition, call destination_setup() with the following arguments:\n",
    "\n",
    "origin and destination should be string values representing the places you will travel from and to\n",
    "Use the estimate you created earlier for estimated_time\n",
    "If you will be traveling by a mode other than Car, be sure to overwrite the default value of mode_of_transport\n",
    "Checkpoint 5 Passed\n",
    "\n",
    "Stuck? Get a hint\n",
    "5.\n",
    "Great job! 👏\n",
    "\n",
    "We have successfully finished our first version of the trip builder application. Go ahead and try passing different values into your functions!"
   ]
  },
  {
   "cell_type": "code",
   "execution_count": null,
   "metadata": {},
   "outputs": [],
   "source": []
  },
  {
   "cell_type": "markdown",
   "metadata": {},
   "source": []
  }
 ],
 "metadata": {
  "kernelspec": {
   "display_name": "Python 3",
   "language": "python",
   "name": "python3"
  },
  "language_info": {
   "codemirror_mode": {
    "name": "ipython",
    "version": 3
   },
   "file_extension": ".py",
   "mimetype": "text/x-python",
   "name": "python",
   "nbconvert_exporter": "python",
   "pygments_lexer": "ipython3",
   "version": "3.11.3"
  },
  "orig_nbformat": 4,
  "vscode": {
   "interpreter": {
    "hash": "aee8b7b246df8f9039afb4144a1f6fd8d2ca17a180786b69acc140d282b71a49"
   }
  }
 },
 "nbformat": 4,
 "nbformat_minor": 2
}
