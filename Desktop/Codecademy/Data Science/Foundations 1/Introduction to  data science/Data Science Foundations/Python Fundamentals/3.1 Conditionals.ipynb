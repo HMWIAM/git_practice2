{
 "cells": [
  {
   "attachments": {},
   "cell_type": "markdown",
   "metadata": {},
   "source": [
    "# Conditionals\n",
    "Conditionals take an expression, which is code that evaluates to determine a value, and checks if it is True or False. If it’s True, we can tell our program to do one thing — we can even account for False to do another.\n",
    "\n",
    "As we write more complex programs, conditionals allow us to address multiple scenarios and make our programs more robust.\n",
    "\n",
    "## If Statement\n",
    "The Python if statement is used to determine the execution of code based on the evaluation of a Boolean expression.\n",
    "\n",
    "* If the if statement expression evaluates to True, then the indented code following the statement is executed.\n",
    "* If the expression evaluates to False then the indented code following the if statement is skipped and the program executes the next line of code which is indented at the same level as the if statement."
   ]
  },
  {
   "cell_type": "code",
   "execution_count": 1,
   "metadata": {},
   "outputs": [
    {
     "name": "stdout",
     "output_type": "stream",
     "text": [
      "This code is executed!\n",
      "Program continues at this point.\n"
     ]
    }
   ],
   "source": [
    "test_value = 100\n",
    "\n",
    "if test_value > 1:\n",
    "  print(\"This code is executed!\")\n",
    "\n",
    "if test_value > 1000:\n",
    "  print(\"This code is NOT executed!\")\n",
    "\n",
    "print(\"Program continues at this point.\")"
   ]
  },
  {
   "attachments": {},
   "cell_type": "markdown",
   "metadata": {},
   "source": [
    "## Else Statement\n",
    "The Python else statement provides alternate code to execute if the expression in an if statement evaluates to False.\n",
    "\n",
    "The indented code for the if statement is executed if the expression evaluates to True. The indented code immediately following the else is executed if and only if the expression evaluates to False.\n",
    "\n",
    "To mark the end of the else block, the code must be unindented to the same level as the starting if line."
   ]
  },
  {
   "cell_type": "code",
   "execution_count": 2,
   "metadata": {},
   "outputs": [
    {
     "name": "stdout",
     "output_type": "stream",
     "text": [
      "You passed.\n"
     ]
    }
   ],
   "source": [
    "test_grade = 61\n",
    "\n",
    "if test_grade > 60:\n",
    "  print(\"You passed.\")\n",
    "else:\n",
    "  print(\"You failed.\")\n",
    "\n",
    "# Output: You passed."
   ]
  },
  {
   "attachments": {},
   "cell_type": "markdown",
   "metadata": {},
   "source": [
    "## Elif Statement\n",
    "The Python elif statement allows for continued checks to be performed after an initial if statement. An elif statement differs from the else statement because another expression is provided to be checked, just as with the initial if statement.\n",
    "\n",
    "If the expression is True, the indented code following the elif is executed. If the expression evaluates to False, the code can continue to an optional else statement.\n",
    "\n",
    "Multiple elif statements can be used following an initial if to perform a series of checks. Once an elif expression evaluates to True, no further elif statements are executed."
   ]
  },
  {
   "cell_type": "code",
   "execution_count": 3,
   "metadata": {},
   "outputs": [
    {
     "name": "stdout",
     "output_type": "stream",
     "text": [
      "You have a fish\n"
     ]
    }
   ],
   "source": [
    "pet_type = \"fish\"\n",
    "\n",
    "if pet_type == \"dog\":\n",
    "  print(\"You have a dog.\")\n",
    "elif pet_type == \"cat\":\n",
    "  print(\"You have a cat.\")\n",
    "elif pet_type == \"fish\":\n",
    "  # This is performed\n",
    "  print(\"You have a fish\")\n",
    "else:\n",
    "  print(\"Not sure!\")"
   ]
  },
  {
   "cell_type": "code",
   "execution_count": null,
   "metadata": {},
   "outputs": [],
   "source": []
  }
 ],
 "metadata": {
  "kernelspec": {
   "display_name": "Python 3",
   "language": "python",
   "name": "python3"
  },
  "language_info": {
   "codemirror_mode": {
    "name": "ipython",
    "version": 3
   },
   "file_extension": ".py",
   "mimetype": "text/x-python",
   "name": "python",
   "nbconvert_exporter": "python",
   "pygments_lexer": "ipython3",
   "version": "3.11.3"
  },
  "orig_nbformat": 4
 },
 "nbformat": 4,
 "nbformat_minor": 2
}
