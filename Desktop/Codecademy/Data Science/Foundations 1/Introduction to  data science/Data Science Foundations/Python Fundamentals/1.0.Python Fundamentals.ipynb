{
 "cells": [
  {
   "attachments": {},
   "cell_type": "markdown",
   "metadata": {},
   "source": [
    "# Python fundametals\n",
    "\n",
    "An **integer**, or int, is a whole number. It has no decimal point and contains all counting numbers (1, 2, 3, …) as well as their negative counterparts and the number 0. \n",
    "\n",
    "A **floating-point number**, or a float, is a decimal number. It can be used to represent fractional quantities as well as precise measurements."
   ]
  },
  {
   "cell_type": "code",
   "execution_count": 1,
   "metadata": {},
   "outputs": [
    {
     "name": "stdout",
     "output_type": "stream",
     "text": [
      "5\n"
     ]
    }
   ],
   "source": [
    "an_int = 2\n",
    "a_float = 2.1\n",
    " \n",
    "print(an_int + 3)"
   ]
  },
  {
   "attachments": {},
   "cell_type": "markdown",
   "metadata": {},
   "source": [
    "We call the number 3 here a literal, meaning it’s actually the number 3 and not a variable with the number 3 assigned to it."
   ]
  },
  {
   "attachments": {},
   "cell_type": "markdown",
   "metadata": {},
   "source": [
    "Python converts all ints to floats before performing division. In older versions of Python (2.7 and earlier) this conversion did not happen, and integer division would always round down to the nearest integer.\n",
    "\n",
    "Division can throw its own special error: ZeroDivisionError. Python will raise this error when attempting to divide by 0."
   ]
  },
  {
   "attachments": {},
   "cell_type": "markdown",
   "metadata": {},
   "source": [
    "Variables that are assigned numeric values can be treated the same as the numbers themselves. Two variables can be added together, divided by 2, and multiplied by a third variable without Python distinguishing between the variables and literals (like the number 2 in this example). Performing arithmetic on variables does not change the variable — you can only update a variable using the = sign."
   ]
  },
  {
   "cell_type": "code",
   "execution_count": 2,
   "metadata": {},
   "outputs": [
    {
     "name": "stdout",
     "output_type": "stream",
     "text": [
      "6.0\n",
      "1.5\n",
      "4\n",
      "8.0\n",
      "2.0\n",
      "4\n"
     ]
    }
   ],
   "source": [
    "coffee_price = 1.50\n",
    "number_of_coffees = 4\n",
    " \n",
    "# Prints \"6.0\"\n",
    "print(coffee_price * number_of_coffees)\n",
    "# Prints \"1.5\"\n",
    "print(coffee_price)\n",
    "# Prints \"4\"\n",
    "print(number_of_coffees)\n",
    " \n",
    "# Updating the price \n",
    "coffee_price = 2.00\n",
    " \n",
    "# Prints \"8.0\"\n",
    "print(coffee_price * number_of_coffees)\n",
    "# Prints \"2.0\"\n",
    "print(coffee_price)\n",
    "# Prints \"4\"\n",
    "print(number_of_coffees)"
   ]
  },
  {
   "attachments": {},
   "cell_type": "markdown",
   "metadata": {},
   "source": [
    "### Exponents\n",
    "Exponent is defined as the method of expressing large numbers in terms of powers. \n",
    "\n",
    "Since this operation is so related to multiplication, we use the notation **.\n"
   ]
  },
  {
   "cell_type": "code",
   "execution_count": 3,
   "metadata": {},
   "outputs": [
    {
     "name": "stdout",
     "output_type": "stream",
     "text": [
      "1024\n",
      "64\n",
      "729\n",
      "2.0\n"
     ]
    }
   ],
   "source": [
    "# 2 to the 10th power, or 1024\n",
    "print(2 ** 10)\n",
    " \n",
    "# 8 squared, or 64\n",
    "print(8 ** 2)\n",
    " \n",
    "# 9 * 9 * 9, 9 cubed, or 729\n",
    "print(9 ** 3)\n",
    " \n",
    "# We can even perform fractional exponents\n",
    "# 4 to the half power, or 2\n",
    "print(4 ** 0.5)"
   ]
  },
  {
   "attachments": {},
   "cell_type": "markdown",
   "metadata": {},
   "source": [
    "1.\n",
    "You really like how the square quilts from last exercise came out, and decide that all quilts that you make will be square from now on.\n",
    "\n",
    "Using the exponent operator, print out how many squares you’ll need for a 6x6 quilt, a 7x7 quilt, and an 8x8 quilt.\n",
    "\n",
    "Checkpoint 2 Passed\n",
    "2.\n",
    "Your 6x6 quilts have taken off so well, 6 people have each requested 6 quilts. Print out how many tiles you would need to make 6 quilts for each of the 6 people."
   ]
  },
  {
   "cell_type": "code",
   "execution_count": 4,
   "metadata": {},
   "outputs": [
    {
     "name": "stdout",
     "output_type": "stream",
     "text": [
      "36\n",
      "49\n",
      "64\n",
      "1296\n",
      "1296\n"
     ]
    }
   ],
   "source": [
    "print(6 ** 2)\n",
    "print(7 ** 2)\n",
    "print(8 ** 2)\n",
    "\n",
    "print(6 ** 4)\n",
    "print(6*6*6*6)"
   ]
  },
  {
   "attachments": {},
   "cell_type": "markdown",
   "metadata": {},
   "source": [
    "### Modulo\n",
    "Python offers a companion to the division operator called the modulo operator. The modulo operator is indicated by % and gives the remainder of a division calculation. If the number is divisible, then the result of the modulo operator will be 0."
   ]
  },
  {
   "cell_type": "code",
   "execution_count": 5,
   "metadata": {},
   "outputs": [
    {
     "name": "stdout",
     "output_type": "stream",
     "text": [
      "4\n",
      "2\n",
      "0\n"
     ]
    }
   ],
   "source": [
    "# Prints 4 because 29 / 5 is 5 with a remainder of 4\n",
    "print(29 % 5)\n",
    " \n",
    "# Prints 2 because 32 / 3 is 10 with a remainder of 2\n",
    "print(32 % 3)\n",
    " \n",
    "# Modulo by 2 returns 0 for even numbers and 1 for odd numbers\n",
    "# Prints 0\n",
    "print(44 % 2)"
   ]
  },
  {
   "attachments": {},
   "cell_type": "markdown",
   "metadata": {},
   "source": [
    "You’re trying to divide a group into four teams. All of you count off.\n",
    "\n",
    "person 1 goes to team 1\n",
    "\n",
    "person 2 goes to team 2\n",
    "\n",
    "person 3 goes to team 3\n",
    "\n",
    "person 4 goes to team 4\n",
    "\n",
    "person 5 goes to team 1\n",
    "\n",
    "And so forth…\n",
    "\n",
    "You’re person number 27. Find out your team by computing 27 modulo 4. Save the value to my_team.\n",
    "\n",
    "Checkpoint 2 Passed\n",
    "2.\n",
    "Print out my_team. What number team are you on?\n",
    "\n",
    "Checkpoint 3 Passed\n",
    "3.\n",
    "Food for thought: what number team are the two people next to you (26 and 28) on? What are the numbers for all 4 teams? (Optional Challenge Question)"
   ]
  },
  {
   "cell_type": "code",
   "execution_count": 6,
   "metadata": {},
   "outputs": [
    {
     "name": "stdout",
     "output_type": "stream",
     "text": [
      "3\n",
      "2\n",
      "0\n"
     ]
    }
   ],
   "source": [
    "my_team = 27 % 4\n",
    "print(my_team)\n",
    "print(26%4)\n",
    "print(28%4)"
   ]
  },
  {
   "attachments": {},
   "cell_type": "markdown",
   "metadata": {},
   "source": [
    "## Concatenation\n",
    "The + operator doesn’t just add two numbers, it can also “add” two strings! The process of combining two strings is called string concatenation. Performing string concatenation creates a brand new string comprised of the first string’s contents followed by the second string’s contents (without any added space in-between)."
   ]
  },
  {
   "cell_type": "code",
   "execution_count": 8,
   "metadata": {},
   "outputs": [
    {
     "name": "stdout",
     "output_type": "stream",
     "text": [
      "Hey there! How are you doing?\n"
     ]
    }
   ],
   "source": [
    "greeting_text = \"Hey there!\"\n",
    "question_text = \"How are you doing?\"\n",
    "# Prints \"Hey there!How are you doing?\"\n",
    "full_text = greeting_text + question_text\n",
    "# Prints \"Hey there! How are you doing?\"\n",
    "full_text = greeting_text + \" \" + question_text\n",
    "print(full_text)"
   ]
  },
  {
   "attachments": {},
   "cell_type": "markdown",
   "metadata": {},
   "source": [
    "If you want to concatenate a string with a number you will need to make the number a string first, using the str() function. If you’re trying to print() a numeric variable you can use commas to pass it as a different argument rather than converting it to a string."
   ]
  },
  {
   "cell_type": "code",
   "execution_count": 10,
   "metadata": {},
   "outputs": [
    {
     "name": "stdout",
     "output_type": "stream",
     "text": [
      "I am 10 years old today!\n",
      "I am  10  years old today!\n"
     ]
    }
   ],
   "source": [
    "birthday_string = \"I am \"\n",
    "age = 10\n",
    "birthday_string_2 = \" years old today!\"\n",
    " \n",
    "# Concatenating an integer with strings is possible if we turn the integer into a string first\n",
    "full_birthday_string = birthday_string + str(age) + birthday_string_2\n",
    " \n",
    "# Prints \"I am 10 years old today!\"\n",
    "print(full_birthday_string)\n",
    "\n",
    "# If we just want to print an integer \n",
    "# we can pass a variable as an argument to \n",
    "# print() regardless of whether \n",
    "# it is a string.\n",
    " \n",
    "# This also prints \"I am 10 years old today!\"\n",
    "print(birthday_string, age, birthday_string_2)"
   ]
  },
  {
   "attachments": {},
   "cell_type": "markdown",
   "metadata": {},
   "source": [
    "### Plus Equals\n",
    "\n",
    "Python offers a shorthand for updating variables. When you have a number saved in a variable and want to add to the current value of the variable, you can use the += (plus-equals) operator.\n",
    "\n",
    "Instead of recalculating from the start, we keep a grand total and update it when we’ve gone hiking further.\n"
   ]
  },
  {
   "cell_type": "code",
   "execution_count": 15,
   "metadata": {},
   "outputs": [
    {
     "name": "stdout",
     "output_type": "stream",
     "text": [
      "14\n"
     ]
    }
   ],
   "source": [
    "# First we have a variable with a number saved\n",
    "number_of_miles_hiked = 12\n",
    " \n",
    "# Then we need to update that variable\n",
    "# Let's say we hike another two miles today\n",
    "number_of_miles_hiked += 2\n",
    " \n",
    "# The new value is the old value\n",
    "# Plus the number after the plus-equals\n",
    "print(number_of_miles_hiked)\n",
    "# Prints 14"
   ]
  },
  {
   "attachments": {},
   "cell_type": "markdown",
   "metadata": {},
   "source": [
    "The plus-equals operator also can be used for string concatenation, like so:"
   ]
  },
  {
   "cell_type": "code",
   "execution_count": 12,
   "metadata": {},
   "outputs": [
    {
     "name": "stdout",
     "output_type": "stream",
     "text": [
      "What an amazing time to walk through nature! #nofilter #blessed\n"
     ]
    }
   ],
   "source": [
    "hike_caption = \"What an amazing time to walk through nature!\"\n",
    " \n",
    "# Almost forgot the hashtags!\n",
    "hike_caption += \" #nofilter\"\n",
    "hike_caption += \" #blessed\"\n",
    "\n",
    "print(hike_caption)"
   ]
  },
  {
   "attachments": {},
   "cell_type": "markdown",
   "metadata": {},
   "source": [
    "We’re doing a little bit of online shopping and find a pair of new sneakers. Right before we check out, we spot a nice sweater and some fun books we also want to purchase!\n",
    "\n",
    "Use the += operator to update the total_price to include the prices of nice_sweater and fun_books.\n",
    "\n",
    "The prices (also included in the workspace) are:\n",
    "\n",
    "new_sneakers = 50.00\n",
    "nice_sweater = 39.00\n",
    "fun_books = 20.00"
   ]
  },
  {
   "cell_type": "code",
   "execution_count": 14,
   "metadata": {},
   "outputs": [
    {
     "name": "stdout",
     "output_type": "stream",
     "text": [
      "The total price is 109.0\n"
     ]
    }
   ],
   "source": [
    "total_price = 0\n",
    "\n",
    "new_sneakers = 50.00\n",
    "\n",
    "total_price += new_sneakers\n",
    "\n",
    "nice_sweater = 39.00\n",
    "fun_books = 20.00\n",
    "# Update total_price here:\n",
    "total_price += nice_sweater\n",
    "total_price += fun_books\n",
    "print(\"The total price is\", total_price)"
   ]
  },
  {
   "attachments": {},
   "cell_type": "markdown",
   "metadata": {},
   "source": [
    "### Multi-line Strings\n",
    "Python strings are very flexible, but if we try to create a string that occupies multiple lines we find ourselves face-to-face with a SyntaxError. Python offers a solution: multi-line strings. By using three quote-marks (\"\"\" or ''') instead of one, we tell the program that the string doesn’t end until the next triple-quote. This method is useful if the string being defined contains a lot of quotation marks and we want to be sure we don’t close it prematurely."
   ]
  },
  {
   "cell_type": "code",
   "execution_count": 16,
   "metadata": {},
   "outputs": [
    {
     "name": "stdout",
     "output_type": "stream",
     "text": [
      "Stranger, if you passing meet me and desire to speak to me, why\n",
      "  should you not speak to me?\n",
      "And why should I not speak to you?\n"
     ]
    }
   ],
   "source": [
    "# Assign the string here\n",
    "to_you = \"\"\"Stranger, if you passing meet me and desire to speak to me, why\n",
    "  should you not speak to me?\n",
    "And why should I not speak to you?\"\"\"\n",
    "\n",
    "\n",
    "print(to_you)"
   ]
  },
  {
   "cell_type": "code",
   "execution_count": null,
   "metadata": {},
   "outputs": [],
   "source": []
  }
 ],
 "metadata": {
  "kernelspec": {
   "display_name": "Python 3",
   "language": "python",
   "name": "python3"
  },
  "language_info": {
   "codemirror_mode": {
    "name": "ipython",
    "version": 3
   },
   "file_extension": ".py",
   "mimetype": "text/x-python",
   "name": "python",
   "nbconvert_exporter": "python",
   "pygments_lexer": "ipython3",
   "version": "3.11.3"
  },
  "orig_nbformat": 4,
  "vscode": {
   "interpreter": {
    "hash": "aee8b7b246df8f9039afb4144a1f6fd8d2ca17a180786b69acc140d282b71a49"
   }
  }
 },
 "nbformat": 4,
 "nbformat_minor": 2
}
