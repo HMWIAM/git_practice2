{
 "cells": [
  {
   "attachments": {},
   "cell_type": "markdown",
   "metadata": {},
   "source": [
    "# Control Flow"
   ]
  },
  {
   "attachments": {},
   "cell_type": "markdown",
   "metadata": {},
   "source": [
    "### Boolean Expressions\n",
    "In order to build control flow into our program, we want to be able to check if something is true or not.\n",
    "\n",
    "A boolean expression is a statement that can either be True or False.\n"
   ]
  },
  {
   "attachments": {},
   "cell_type": "markdown",
   "metadata": {},
   "source": [
    "Today is a weekday.\n",
    "\n",
    "This expression can be True if today is Tuesday, or it can be False if today is Saturday. There are no other options.\n",
    "\n",
    "Friday is the best day of the week.\n",
    "\n",
    "Is this a boolean expression?\n",
    "\n",
    "No, this statement is an opinion and is not objectively True or False. Someone else might say that “Wednesday is the best weekday,” and their statement would be no less True or False than the one above since there is no objective answer to what the best day of the week is."
   ]
  },
  {
   "attachments": {},
   "cell_type": "markdown",
   "metadata": {},
   "source": [
    "### Relational Operators: Equals and not Equals\n",
    "\n",
    "We can create a boolean expression by using relational operators.\n",
    "\n",
    "The two relational operators we’ll cover first are:\n",
    "* Equals: ==\n",
    "* Not equals: !=\n",
    "These operators compare two items and return True or False if they are equal or not.\n",
    "\n",
    "We can create boolean expressions by comparing two values using these operators:\n"
   ]
  },
  {
   "cell_type": "code",
   "execution_count": 2,
   "metadata": {},
   "outputs": [
    {
     "data": {
      "text/plain": [
       "False"
      ]
     },
     "execution_count": 2,
     "metadata": {},
     "output_type": "execute_result"
    }
   ],
   "source": [
    "1 == 1     # True\n",
    " \n",
    "2 != 4     # True\n",
    " \n",
    "3 == 5     # False\n",
    " \n",
    "'7' == 7   # False"
   ]
  },
  {
   "attachments": {},
   "cell_type": "markdown",
   "metadata": {},
   "source": [
    "Each of these is an example of a boolean expression.\n",
    "\n",
    "Why is the last statement false? The '' marks in '7' make it a string, which is different from the integer value 7, so they are not equal. When using relational operators it is important to always be mindful of type."
   ]
  },
  {
   "attachments": {},
   "cell_type": "markdown",
   "metadata": {},
   "source": [
    "### Instructions\n",
    "1.\n",
    "Determine if the following boolean expressions are True or False. Input your answer as True or False in the appropriate variable to the right.\n",
    "\n",
    "Statement one:\n",
    "\n",
    "(5 * 2) - 1 == 8 + 1\n",
    "Statement two:\n",
    "\n",
    "13 - 6 != (3 * 2) + 1\n",
    "Statement three:\n",
    "\n",
    "3 * (2 - 1) == 4 - 1"
   ]
  },
  {
   "attachments": {},
   "cell_type": "markdown",
   "metadata": {},
   "source": [
    "### Boolean variables\n",
    "\n",
    "Before we go any further, let’s talk a little bit about True and False. You may notice that when you type them in the code editor (with uppercase T and F), they appear in a different color than variables or strings. This is because True and False are their own special type: bool.\n",
    "\n",
    "True and False are the only bool types, and any variable that is assigned one of these values is called a boolean variable.\n",
    "\n",
    "Boolean variables can be created in several ways. The easiest way is to simply assign True or False to a variable:"
   ]
  },
  {
   "cell_type": "code",
   "execution_count": 3,
   "metadata": {},
   "outputs": [],
   "source": [
    "set_to_true = True\n",
    "set_to_false = False"
   ]
  },
  {
   "cell_type": "markdown",
   "metadata": {},
   "source": [
    "You can also set a variable equal to a boolean expression."
   ]
  },
  {
   "cell_type": "code",
   "execution_count": 4,
   "metadata": {},
   "outputs": [],
   "source": [
    "bool_one = 5 != 7 \n",
    "bool_two = 1 + 1 != 2\n",
    "bool_three = 3 * 3 == 9"
   ]
  },
  {
   "attachments": {},
   "cell_type": "markdown",
   "metadata": {},
   "source": [
    "These variables now contain boolean values, so when you reference them they will only return the True or False values of the expression they were assigned."
   ]
  },
  {
   "cell_type": "code",
   "execution_count": 5,
   "metadata": {},
   "outputs": [
    {
     "name": "stdout",
     "output_type": "stream",
     "text": [
      "True\n",
      "False\n",
      "True\n"
     ]
    }
   ],
   "source": [
    "print(bool_one)    # True\n",
    " \n",
    "print(bool_two)    # False\n",
    " \n",
    "print(bool_three)  # True"
   ]
  },
  {
   "attachments": {},
   "cell_type": "markdown",
   "metadata": {},
   "source": [
    "### Instructions\n",
    "1.\n",
    "Create a variable named my_baby_bool and set it equal to \"true\".\n",
    "\n",
    "Checkpoint 2 Passed\n",
    "\n",
    "Stuck? Get a hint\n",
    "2.\n",
    "Check the type of my_baby_bool using type(my_baby_bool).\n",
    "\n",
    "You’ll have to print it to get the results to display in the terminal.\n",
    "\n",
    "Checkpoint 3 Passed\n",
    "\n",
    "Stuck? Get a hint\n",
    "3.\n",
    "It’s not a boolean variable! Boolean values True and False always need to be capitalized and do not have quotation marks.\n",
    "\n",
    "Create a variable named my_baby_bool_two and set it equal to True.\n",
    "\n",
    "Checkpoint 4 Passed\n",
    "\n",
    "Stuck? Get a hint\n",
    "4.\n",
    "Check the type of my_baby_bool_two and make sure you successfully created a boolean variable.\n",
    "\n",
    "You’ll have to print it to get the results to display in the terminal."
   ]
  },
  {
   "attachments": {},
   "cell_type": "markdown",
   "metadata": {},
   "source": [
    "## If Statement\n",
    "\n",
    "Recall the waking-up example from the beginning of this lesson. The decision-making process of “Is it raining? If so, bring an umbrella” is a conditional statement.\n",
    "\n",
    "Here it is phrased in a different way:\n",
    "\n",
    "If it is raining, then bring an umbrella.\n",
    "Can you pick out the boolean expression here?\n",
    "\n",
    "Right, \"it is raining\" is the boolean expression, and this conditional statement is checking to see if it is True.\n",
    "\n",
    "If \"it is raining\" == True then the rest of the conditional statement will be executed and you will bring an umbrella.\n",
    "\n",
    "This is the form of a conditional statement:\n",
    "\n",
    "If [it is raining], then [bring an umbrella]\n",
    "\n",
    "In Python, it looks very similar:\n",
    "\n"
   ]
  },
  {
   "cell_type": "code",
   "execution_count": 17,
   "metadata": {},
   "outputs": [
    {
     "name": "stdout",
     "output_type": "stream",
     "text": [
      "bring an umbrella\n"
     ]
    }
   ],
   "source": [
    "is_raining = True\n",
    "\n",
    "if is_raining:\n",
    "  print(\"bring an umbrella\")"
   ]
  },
  {
   "attachments": {},
   "cell_type": "markdown",
   "metadata": {},
   "source": [
    "You’ll notice that instead of “then” we have a colon, :. That tells the computer that what’s coming next is what should be executed if the condition is met.\n",
    "\n",
    "Let’s take a look at another conditional statement:"
   ]
  },
  {
   "cell_type": "code",
   "execution_count": 7,
   "metadata": {},
   "outputs": [
    {
     "name": "stdout",
     "output_type": "stream",
     "text": [
      "apple\n"
     ]
    }
   ],
   "source": [
    "if 2 == 4 - 2: \n",
    "  print(\"apple\")"
   ]
  },
  {
   "attachments": {},
   "cell_type": "markdown",
   "metadata": {},
   "source": [
    "Will this code print apple to the terminal?\n",
    "\n",
    "Yes, because the condition of the if statement, 2 == 4 - 2 is True."
   ]
  },
  {
   "attachments": {},
   "cell_type": "markdown",
   "metadata": {},
   "source": [
    "## Instructions\n",
    "1.\n",
    "In script.py, there is an if statement. I wrote this because my coworker Dave kept using my computer without permission and he is a real doofus. If the user_name is Dave, it tells him to stay off my computer.\n",
    "\n",
    "Enter a user name in the field for user_name and try running the program.\n",
    "\n",
    "Checkpoint 2 Passed\n",
    "\n",
    "Stuck? Get a hint\n",
    "2.\n",
    "Oh no! We got a SyntaxError! This happens when we make a small error in the syntax of the conditional statement.\n",
    "\n",
    "Read through the error message carefully and see if you can find the error. Then, fix it, and run the code again.\n",
    "\n",
    "Checkpoint 3 Passed\n",
    "\n",
    "Stuck? Get a hint\n",
    "3.\n",
    "Ugh! Dave got around my security and has been logging onto my computer using our coworker Angela’s user name, angela_catlady_87.\n",
    "\n",
    "Set your user_name to be angela_catlady_87.\n",
    "\n",
    "Update the program with a second if statement so it checks for Angela’s user name as well and prints\n",
    "\n",
    "\"I know it is you, Dave! Go away!\"\n",
    "in response. That’ll teach him!"
   ]
  },
  {
   "cell_type": "code",
   "execution_count": 13,
   "metadata": {},
   "outputs": [
    {
     "name": "stdout",
     "output_type": "stream",
     "text": [
      "I know it is you, Dave! Go away!\n"
     ]
    }
   ],
   "source": [
    "# Enter a user name here, make sure to make it a string\n",
    "user_name = \"Dave\"\n",
    "user_name = \"angela_catlady_87\"\n",
    "\n",
    "if user_name == \"Dave\":\n",
    "  print(\"Get off my computer Dave!\")\n",
    "if user_name == \"angela_catlady_87\":\n",
    "  print(\"I know it is you, Dave! Go away!\")"
   ]
  },
  {
   "attachments": {},
   "cell_type": "markdown",
   "metadata": {},
   "source": [
    "## Relational Operators II\n",
    "Now that we’ve added conditional statements to our toolkit for building control flow, let’s explore more ways to create boolean expressions. So far we know two relational operators, equals and not equals, but there are a ton (well, four) more:\n",
    "\n",
    "* > greater than\n",
    "* >= greater than or equal to\n",
    "* < less than\n",
    "* <= less than or equal to\n",
    "Let’s say we’re running a movie streaming platform and we want to write a program that checks if our users are over 13 when showing them a PG-13 movie. We could write something like:"
   ]
  },
  {
   "cell_type": "code",
   "execution_count": 15,
   "metadata": {},
   "outputs": [
    {
     "name": "stdout",
     "output_type": "stream",
     "text": [
      "Sorry, parental control required\n"
     ]
    }
   ],
   "source": [
    "age = 12\n",
    "if age <= 13:\n",
    "  print(\"Sorry, parental control required\")"
   ]
  },
  {
   "attachments": {},
   "cell_type": "markdown",
   "metadata": {},
   "source": [
    "This function will take the user’s age and compare it to the number 13. If age is less than or equal to 13, it will print out a message."
   ]
  },
  {
   "attachments": {},
   "cell_type": "markdown",
   "metadata": {},
   "source": [
    "## Instructions\n",
    "1.\n",
    "Create an if statement that checks if x and y are equal, print the string below if so:\n",
    "\n",
    "\"These numbers are the same\"\n",
    "Checkpoint 2 Passed\n",
    "\n",
    "Stuck? Get a hint\n",
    "2.\n",
    "The nearby college, Calvin Coolidge’s Cool College (or 4C, as the locals call it) requires students to earn 120 credits to graduate.\n",
    "\n",
    "Write an if statement that checks if the student has enough credits to graduate. If they do, print the string:\n",
    "\n",
    "\"You have enough credits to graduate!\"\n",
    "Can a student with 120 credits graduate from Calvin Coolidge’s Cool College?\n"
   ]
  },
  {
   "cell_type": "code",
   "execution_count": 16,
   "metadata": {},
   "outputs": [
    {
     "name": "stdout",
     "output_type": "stream",
     "text": [
      "These numbers are the same\n",
      "You have enough credits to graduate!\n"
     ]
    }
   ],
   "source": [
    "x = 20\n",
    "y = 20\n",
    "\n",
    "# Write the first if statement here:\n",
    "if x == y:\n",
    "  print(\"These numbers are the same\")\n",
    "\n",
    "\n",
    "credits = 120\n",
    "\n",
    "# Write the second if statement here:\n",
    "if credits >= 120:\n",
    "  print(\"You have enough credits to graduate!\")"
   ]
  },
  {
   "attachments": {},
   "cell_type": "markdown",
   "metadata": {},
   "source": [
    "## Boolean Operators: and\n",
    "\n",
    "Often, the conditions you want to check in your conditional statement will require more than one boolean expression to cover. In these cases, you can build larger boolean expressions using boolean operators. These operators (also known as logical operators) combine smaller boolean expressions into larger boolean expressions.\n",
    "\n",
    "There are three boolean operators that we will cover:\n",
    "\n",
    "* and\n",
    "* or\n",
    "* not\n",
    "\n",
    "Let’s start with **and**.\n",
    "\n",
    "and combines two boolean expressions and evaluates as True if both its components are True, but False otherwise.\n",
    "\n",
    "Consider the example:\n",
    "\n",
    "Oranges are a fruit and carrots are a vegetable.\n",
    "\n",
    "This boolean expression is comprised of two smaller expressions, oranges are a fruit and carrots are a vegetable, both of which are True and connected by the boolean operator and, so the entire expression is True.\n",
    "\n",
    "Let’s look at an example of some AND statements in Python:"
   ]
  },
  {
   "cell_type": "code",
   "execution_count": 18,
   "metadata": {},
   "outputs": [
    {
     "data": {
      "text/plain": [
       "False"
      ]
     },
     "execution_count": 18,
     "metadata": {},
     "output_type": "execute_result"
    }
   ],
   "source": [
    "(1 + 1 == 2) and (2 + 2 == 4)   # True\n",
    " \n",
    "(1 > 9) and (5 != 6)            # False\n",
    " \n",
    "(1 + 1 == 2) and (2 < 1)        # False\n",
    " \n",
    "(0 == 10) and (1 + 1 == 1)"
   ]
  },
  {
   "attachments": {},
   "cell_type": "markdown",
   "metadata": {},
   "source": [
    "Notice that in the second and third examples, even though part of the expression is True, the entire expression as a whole is False because the other statement is False. The fourth statement is also False because both components are False.\n"
   ]
  },
  {
   "attachments": {},
   "cell_type": "markdown",
   "metadata": {},
   "source": [
    "## Instructions\n",
    "1.\n",
    "Set the variables statement_one and statement_two equal to the results of the following boolean expressions:\n",
    "\n",
    "Statement one:\n",
    "\n",
    "(2 + 2 + 2 >= 6) and (-1 * -1 < 0)\n",
    "Statement two:\n",
    "\n",
    "(4 * 2 <= 8) and (7 - 1 == 6)\n",
    "Checkpoint 2 Passed\n",
    "2.\n",
    "Let’s return to Calvin Coolidge’s Cool College. 120 credits aren’t the only graduation requirement, you also need to have a GPA of 2.0 or higher.\n",
    "\n",
    "Rewrite the if statement so that it checks to see if a student meets both requirements using an and statement.\n",
    "\n",
    "If they do, print the string:\n",
    "\n",
    "\"You meet the requirements to graduate!\""
   ]
  },
  {
   "cell_type": "code",
   "execution_count": 19,
   "metadata": {},
   "outputs": [
    {
     "name": "stdout",
     "output_type": "stream",
     "text": [
      "You meet the requirements to graduate!\n"
     ]
    }
   ],
   "source": [
    "statement_one = (2 + 2 + 2 >= 6) and (-1 * -1 < 0)\n",
    "\n",
    "statement_two = (4*2<=8) and  (7-1==6)\n",
    "\n",
    "credits = 120\n",
    "gpa = 3.4\n",
    "\n",
    "if credits >= 120 and gpa >= 2.0:\n",
    "  print(\"You meet the requirements to graduate!\")"
   ]
  },
  {
   "attachments": {},
   "cell_type": "markdown",
   "metadata": {},
   "source": [
    "## Boolean Operators: or\n",
    "\n",
    "The boolean operator or combines two expressions into a larger expression that is True if either component is True.\n",
    "\n",
    "Consider the statement\n",
    "\n",
    "Oranges are a fruit or apples are a vegetable.\n",
    "This statement is composed of two expressions: oranges are a fruit which is True and apples are a vegetable which is False. Because the two expressions are connected by the or operator, the entire statement is True. Only one component needs to be True for an or statement to be True.\n",
    "\n",
    "In English, or implies that if one component is True, then the other component must be False. This is not true in Python. If an or statement has two True components, it is also True.\n",
    "\n",
    "Let’s take a look at a couple of examples in Python:"
   ]
  },
  {
   "cell_type": "code",
   "execution_count": 20,
   "metadata": {},
   "outputs": [
    {
     "data": {
      "text/plain": [
       "False"
      ]
     },
     "execution_count": 20,
     "metadata": {},
     "output_type": "execute_result"
    }
   ],
   "source": [
    "True or (3 + 4 == 7)    # True\n",
    "(1 - 1 == 0) or False   # True\n",
    "(2 < 0) or True         # True\n",
    "(3 == 8) or (3 > 4)     # False\n"
   ]
  },
  {
   "attachments": {},
   "cell_type": "markdown",
   "metadata": {},
   "source": [
    "Notice that each or statement that has at least one True component is True, but the final statement has two False components, so it is False."
   ]
  },
  {
   "attachments": {},
   "cell_type": "markdown",
   "metadata": {},
   "source": [
    "## Instructions\n",
    "1.\n",
    "Set the variables statement_one and statement_two equal to the results of the following boolean expressions:\n",
    "\n",
    "Statement one:\n",
    "\n",
    "(2 - 1 > 3) or (-5 * 2 == -10)\n",
    "Statement two:\n",
    "\n",
    "(9 + 5 <= 15) or (7 != 4 + 3)\n",
    "Checkpoint 2 Passed\n",
    "2.\n",
    "The registrar’s office at Calvin Coolidge’s Cool College has another request. They want to send out a mailer with information on the commencement ceremonies to students who have met at least one requirement for graduation (120 credits and 2.0 GPA).\n",
    "\n",
    "Write an if statement that checks if a student either has 120 or more credits or a GPA 2.0 or higher, and if so prints:\n",
    "\n",
    "\"You have met at least one of the requirements.\""
   ]
  },
  {
   "cell_type": "code",
   "execution_count": 21,
   "metadata": {},
   "outputs": [
    {
     "name": "stdout",
     "output_type": "stream",
     "text": [
      "You have met at least one of the requirements.\n"
     ]
    }
   ],
   "source": [
    "statement_one = (2 - 1 > 3) or (-5 * 2 == -10)\n",
    "\n",
    "statement_two = (9 + 5 <= 15) or (7 != 4 + 3)\n",
    "\n",
    "credits = 118\n",
    "gpa = 2.0\n",
    "\n",
    "if credits >= 120 or gpa >= 2.0:\n",
    "  print(\"You have met at least one of the requirements.\")"
   ]
  },
  {
   "attachments": {},
   "cell_type": "markdown",
   "metadata": {},
   "source": [
    "## Boolean Operators: not\n",
    "The final boolean operator we will cover is not. This operator is straightforward: when applied to any boolean expression it reverses the boolean value. So if we have a True statement and apply a not operator we get a False statement."
   ]
  },
  {
   "cell_type": "code",
   "execution_count": 22,
   "metadata": {},
   "outputs": [
    {
     "data": {
      "text/plain": [
       "True"
      ]
     },
     "execution_count": 22,
     "metadata": {},
     "output_type": "execute_result"
    }
   ],
   "source": [
    "not True == False\n",
    "not False == True"
   ]
  },
  {
   "attachments": {},
   "cell_type": "markdown",
   "metadata": {},
   "source": [
    "Consider the following statement:\n",
    "\n",
    "Oranges are not a fruit.\n",
    "Here, we took the True statement oranges are a fruit and added a not operator to make the False statement oranges are not a fruit.\n",
    "\n",
    "This example in English is slightly different from the way it would appear in Python because in Python we add the not operator to the very beginning of the statement. Let’s take a look at some of those:"
   ]
  },
  {
   "cell_type": "code",
   "execution_count": 23,
   "metadata": {},
   "outputs": [
    {
     "data": {
      "text/plain": [
       "True"
      ]
     },
     "execution_count": 23,
     "metadata": {},
     "output_type": "execute_result"
    }
   ],
   "source": [
    "not 1 + 1 == 2  # False\n",
    "not 7 < 0       # True"
   ]
  },
  {
   "attachments": {},
   "cell_type": "markdown",
   "metadata": {},
   "source": [
    "## Instructions\n",
    "1.\n",
    "Set the variables statement_one and statement_two equal to the results of the following boolean expressions:\n",
    "\n",
    "Statement one:\n",
    "\n",
    "not (4 + 5 <= 9)\n",
    "Statement two:\n",
    "\n",
    "not (8 * 2) != 20 - 4\n",
    "Checkpoint 2 Passed\n",
    "2.\n",
    "The registrar’s office at Calvin Coolidge’s Cool College has been so impressed with your work so far that they have another task for you.\n",
    "\n",
    "They want you to return to a previous if statement and add in several checks using and and not statements:\n",
    "\n",
    "If a student’s credits is not greater or equal to 120, it should print:\n",
    "\"You do not have enough credits to graduate.\"\n",
    "If their gpa is not greater or equal to 2.0, it should print:\n",
    "\"Your GPA is not high enough to graduate.\"\n",
    "If their credits is not greater than or equal to 120 and their gpa is not greater than or equal to 2.0, it should print:\n",
    "\"You do not meet either requirement to graduate!\"\n",
    "Make sure your return value matches those strings exactly. Capitalization, punctuation, and spaces matter!"
   ]
  },
  {
   "attachments": {},
   "cell_type": "markdown",
   "metadata": {},
   "source": [
    "## Else Statements\n",
    "As you can tell from your work with Calvin Coolidge’s Cool College, once you start including lots of if statements in a function the code becomes a little cluttered and clunky. Luckily, there are other tools we can use to build control flow.\n",
    "\n",
    "else statements allow us to elegantly describe what we want our code to do when certain conditions are not met.\n",
    "\n",
    "else statements always appear in conjunction with if statements. \n",
    "\n",
    "In this way, we can build if statements that execute different code if conditions are or are not met. This prevents us from needing to write if statements for each possible condition, we can instead write a blanket else statement for all the times the condition is not met.\n",
    "\n",
    "Let’s return to our if statement for our movie streaming platform. Previously, all it did was check if the user’s age was over 13 and if so, print out a message. We can use an else statement to return a message in the event the user is too young to watch the movie."
   ]
  },
  {
   "cell_type": "code",
   "execution_count": 24,
   "metadata": {},
   "outputs": [
    {
     "name": "stdout",
     "output_type": "stream",
     "text": [
      "Sorry, you must be 13 or older to watch this movie.\n"
     ]
    }
   ],
   "source": [
    "if age >= 13:\n",
    "  print(\"Access granted.\")\n",
    "else:\n",
    "  print(\"Sorry, you must be 13 or older to watch this movie.\")"
   ]
  },
  {
   "attachments": {},
   "cell_type": "markdown",
   "metadata": {},
   "source": [
    "## Instructions\n",
    "1.\n",
    "Calvin Coolidge’s Cool College has another request for you. They want you to add an additional check to a previous if statement. If a student is failing to meet one or both graduation requirements, they want it to print:\n",
    "\n",
    "\"You do not meet the requirements to graduate.\"\n",
    "Add an else statement to the existing if statement."
   ]
  },
  {
   "cell_type": "code",
   "execution_count": 25,
   "metadata": {},
   "outputs": [
    {
     "name": "stdout",
     "output_type": "stream",
     "text": [
      "You do not meet the requirements to graduate\n"
     ]
    }
   ],
   "source": [
    "credits = 120\n",
    "gpa = 1.9\n",
    "\n",
    "if (credits >= 120) and (gpa >= 2.0):\n",
    "  print(\"You meet the requirements to graduate!\")\n",
    "else:\n",
    "  print(\"You do not meet the requirements to graduate\")"
   ]
  },
  {
   "attachments": {},
   "cell_type": "markdown",
   "metadata": {},
   "source": [
    "## Else If Statements\n",
    "We have if statements, we have else statements, we can also have elif statements.\n",
    "\n",
    "Now you may be asking yourself, what the heck is an elif statement? It’s exactly what it sounds like, “else if”. An elif statement checks another condition after the previous if statements conditions aren’t met.\n",
    "\n",
    "We can use elif statements to control the order we want our program to check each of our conditional statements. First, the if statement is checked, then each elif statement is checked from top to bottom, then finally the else code is executed if none of the previous conditions have been met.\n",
    "\n",
    "Let’s take a look at this in practice. The following if statement will display a “thank you” message after someone donates to a charity; there will be a curated message based on how much was donated."
   ]
  },
  {
   "cell_type": "code",
   "execution_count": 27,
   "metadata": {},
   "outputs": [
    {
     "name": "stdout",
     "output_type": "stream",
     "text": [
      "Thank you for the donation!\n",
      "You've achieved bronze donor status\n"
     ]
    }
   ],
   "source": [
    "donation = 50\n",
    "\n",
    "print(\"Thank you for the donation!\")\n",
    " \n",
    "if donation >= 1000:\n",
    "  print(\"You've achieved platinum status\")\n",
    "elif donation >= 500:\n",
    "  print(\"You've achieved gold donor status\")\n",
    "elif donation >= 100:\n",
    "  print(\"You've achieved silver donor status\")\n",
    "else:\n",
    "  print(\"You've achieved bronze donor status\")"
   ]
  },
  {
   "attachments": {},
   "cell_type": "markdown",
   "metadata": {},
   "source": [
    "Take a second to think about this function. What would happen if all of the elif statements were simply if statements? If you donated $1100.00, then the first three messages would all print because each if condition had been met.\n",
    "\n",
    "But because we used elif statements, it checks each condition sequentially and only prints one message. If I donate $600.00, the code first checks if that is over 1000, which it is not, then it checks if it’s over 500, which it is, so it prints that message, then because all of the other statements are elif and else, none of them get checked and no more messages get printed.\n",
    "\n",
    "Try your hand at some other elif statements."
   ]
  },
  {
   "attachments": {},
   "cell_type": "markdown",
   "metadata": {},
   "source": [
    "### Instructions\n",
    "1.\n",
    "Calvin Coolidge’s Cool College has noticed that students prefer to get letter grades.\n",
    "\n",
    "Write an if/elif/else statement that:\n",
    "\n",
    "If grade is 90 or higher, print \"A\"\n",
    "\n",
    "Else if grade is 80 or higher, print \"B\"\n",
    "\n",
    "Else if grade is 70 or higher, print \"C\"\n",
    "\n",
    "Else if grade is 60 or higher, print \"D\"\n",
    "\n",
    "Else, print \"F\""
   ]
  },
  {
   "cell_type": "code",
   "execution_count": 28,
   "metadata": {},
   "outputs": [],
   "source": [
    "grade = 86"
   ]
  },
  {
   "attachments": {},
   "cell_type": "markdown",
   "metadata": {},
   "source": [
    "### Instructions\n",
    "Optional: Little Codey is an interplanetary space boxer, who is trying to win championship belts for various weight categories on other planets within the solar system.\n",
    "\n",
    "Write a space.py program that helps Codey keep track of their target weight by:\n",
    "\n",
    "Checks which number planet is equal to.\n",
    "It should then compute their weight on the destination planet.\n",
    "Here is the table of conversions:\n",
    "\n",
    "####\tPlanet\tRelative Gravity\n",
    "1\tVenus\t0.91\n",
    "2\tMars\t0.38\n",
    "3\tJupiter\t2.34\n",
    "4\tSaturn\t1.06\n",
    "5\tUranus\t0.92\n",
    "6\tNeptune\t1.19"
   ]
  },
  {
   "cell_type": "code",
   "execution_count": 30,
   "metadata": {},
   "outputs": [
    {
     "name": "stdout",
     "output_type": "stream",
     "text": [
      "I have information for the following planets:\n",
      "\n",
      "   1. Venus   2. Mars    3. Jupiter\n",
      "   4. Saturn  5. Uranus  6. Neptune\n",
      "\n"
     ]
    }
   ],
   "source": [
    "print(\"I have information for the following planets:\\n\")\n",
    "\n",
    "print(\"   1. Venus   2. Mars    3. Jupiter\")\n",
    "print(\"   4. Saturn  5. Uranus  6. Neptune\\n\")\n",
    " \n",
    "weight = 185\n",
    "planet = 3"
   ]
  },
  {
   "cell_type": "code",
   "execution_count": null,
   "metadata": {},
   "outputs": [],
   "source": []
  }
 ],
 "metadata": {
  "kernelspec": {
   "display_name": "Python 3",
   "language": "python",
   "name": "python3"
  },
  "language_info": {
   "codemirror_mode": {
    "name": "ipython",
    "version": 3
   },
   "file_extension": ".py",
   "mimetype": "text/x-python",
   "name": "python",
   "nbconvert_exporter": "python",
   "pygments_lexer": "ipython3",
   "version": "3.11.3"
  },
  "orig_nbformat": 4
 },
 "nbformat": 4,
 "nbformat_minor": 2
}
