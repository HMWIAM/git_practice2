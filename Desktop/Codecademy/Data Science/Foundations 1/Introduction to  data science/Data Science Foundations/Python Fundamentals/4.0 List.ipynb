{
 "cells": [
  {
   "attachments": {},
   "cell_type": "markdown",
   "metadata": {},
   "source": [
    "# List"
   ]
  },
  {
   "attachments": {},
   "cell_type": "markdown",
   "metadata": {},
   "source": [
    "In Python, a list is one of the many built-in data structures that allows us to work with a collection of data in sequential order.\n",
    "\n",
    "Suppose we want to make a list of the heights of students in a class:\n",
    "\n",
    "- Noelle is 61 inches tall\n",
    "- Ava is 70 inches tall\n",
    "- Sam is 67 inches tall\n",
    "- Mia is 64 inches tall\n",
    "In Python, we can create a variable called heights to store these integers into a list:\n",
    "\n"
   ]
  },
  {
   "cell_type": "code",
   "execution_count": 1,
   "metadata": {},
   "outputs": [],
   "source": [
    "heights = [61, 70, 67, 64]\n"
   ]
  },
  {
   "attachments": {},
   "cell_type": "markdown",
   "metadata": {},
   "source": [
    "Notice that:\n",
    "\n",
    "1. A list begins and ends with square brackets ([ and ]).\n",
    "2. Each item (i.e., 67 or 70) is separated by a comma (,)\n",
    "3. It’s considered good practice to insert a space () after each comma, but your code will run just fine if you forget the space."
   ]
  },
  {
   "attachments": {},
   "cell_type": "markdown",
   "metadata": {},
   "source": [
    "#### What can a List contain?\n",
    "Lists can contain more than just numbers.\n",
    "\n",
    "Lists can contain any data type in Python! For example, this list contains a string, integer, boolean, and float."
   ]
  },
  {
   "cell_type": "code",
   "execution_count": 2,
   "metadata": {},
   "outputs": [],
   "source": [
    "mixed_list_common = [\"Mia\", 27, False, 0.5]"
   ]
  },
  {
   "attachments": {},
   "cell_type": "markdown",
   "metadata": {},
   "source": [
    "#### Empty Lists\n",
    "A list doesn’t have to contain anything. You can create an empty list like this:"
   ]
  },
  {
   "cell_type": "code",
   "execution_count": 3,
   "metadata": {},
   "outputs": [],
   "source": [
    "empty_list = []"
   ]
  },
  {
   "attachments": {},
   "cell_type": "markdown",
   "metadata": {},
   "source": [
    "Why would we create an empty list?\n",
    "\n",
    "Usually, it’s because we’re planning on filling it up later based on some other input. "
   ]
  },
  {
   "attachments": {},
   "cell_type": "markdown",
   "metadata": {},
   "source": [
    "### List Methods\n",
    "In Python, for any specific data-type ( strings, booleans, lists, etc. ) there is built-in functionality that we can use to create, manipulate, and even delete our data. We call this built-in functionality a method.\n",
    "\n",
    "For lists, methods will follow the form of list_name.method(). Some methods will require an input value that will go between the parenthesis of the method ( ).\n",
    "\n",
    "An example of a popular list method is .append(), which allows us to add an element to the end of a list.\n"
   ]
  },
  {
   "cell_type": "code",
   "execution_count": 6,
   "metadata": {},
   "outputs": [
    {
     "name": "stdout",
     "output_type": "stream",
     "text": [
      "['This', 'is', 'an', 'example', 'list']\n",
      "['is', 'an', 'example', 'list']\n"
     ]
    }
   ],
   "source": [
    "append_example = [ 'This', 'is', 'an', 'example']\n",
    "append_example.append('list')\n",
    "print(append_example)\n",
    "append_example.remove('This')\n",
    "print(append_example)"
   ]
  },
  {
   "attachments": {},
   "cell_type": "markdown",
   "metadata": {},
   "source": [
    "### Growing a List: Append\n",
    "We can add a single element to a list using the .append() Python method.\n",
    "\n",
    "Suppose we have an empty list called garden:\n",
    "\n",
    "We can add the element \"Tomatoes\" by using the .append() method:"
   ]
  },
  {
   "cell_type": "code",
   "execution_count": 7,
   "metadata": {},
   "outputs": [
    {
     "name": "stdout",
     "output_type": "stream",
     "text": [
      "['Tomatoes']\n"
     ]
    }
   ],
   "source": [
    "garden = []\n",
    "\n",
    "garden.append(\"Tomatoes\")\n",
    " \n",
    "print(garden)"
   ]
  },
  {
   "attachments": {},
   "cell_type": "markdown",
   "metadata": {},
   "source": [
    "When we use .append() on a list that already has elements, our new element is added to the end of the list:"
   ]
  },
  {
   "cell_type": "code",
   "execution_count": 8,
   "metadata": {},
   "outputs": [
    {
     "name": "stdout",
     "output_type": "stream",
     "text": [
      "['Tomatoes', 'Grapes', 'Cauliflower', 'Green Beans']\n"
     ]
    }
   ],
   "source": [
    "# Create a list\n",
    "garden = [\"Tomatoes\", \"Grapes\", \"Cauliflower\"]\n",
    " \n",
    "# Append a new element\n",
    "garden.append(\"Green Beans\")\n",
    "print(garden)"
   ]
  },
  {
   "attachments": {},
   "cell_type": "markdown",
   "metadata": {},
   "source": [
    "## Growing a List: Plus (+)\n",
    "When we want to add multiple items to a list, we can use + to combine two lists (this is also known as concatenation).\n",
    "\n",
    "Below, we have a list of items sold at a bakery called items_sold:\n",
    "\n",
    "Suppose the bakery wants to start selling \"biscuit\" and \"tart\":"
   ]
  },
  {
   "cell_type": "code",
   "execution_count": 10,
   "metadata": {},
   "outputs": [
    {
     "name": "stdout",
     "output_type": "stream",
     "text": [
      "['cake', 'cookie', 'bread']\n",
      "['cake', 'cookie', 'bread', 'biscuit', 'tart']\n"
     ]
    }
   ],
   "source": [
    "items_sold = [\"cake\", \"cookie\", \"bread\"]\n",
    "print(items_sold)\n",
    "items_sold_new = items_sold + [\"biscuit\", \"tart\"]\n",
    "print(items_sold_new)"
   ]
  },
  {
   "attachments": {},
   "cell_type": "markdown",
   "metadata": {},
   "source": [
    "We can only use + with other lists. If we type in this code:"
   ]
  },
  {
   "cell_type": "code",
   "execution_count": 11,
   "metadata": {},
   "outputs": [
    {
     "ename": "TypeError",
     "evalue": "can only concatenate list (not \"int\") to list",
     "output_type": "error",
     "traceback": [
      "\u001b[0;31m---------------------------------------------------------------------------\u001b[0m",
      "\u001b[0;31mTypeError\u001b[0m                                 Traceback (most recent call last)",
      "Cell \u001b[0;32mIn[11], line 2\u001b[0m\n\u001b[1;32m      1\u001b[0m my_list \u001b[39m=\u001b[39m [\u001b[39m1\u001b[39m, \u001b[39m2\u001b[39m, \u001b[39m3\u001b[39m]\n\u001b[0;32m----> 2\u001b[0m my_list \u001b[39m+\u001b[39;49m \u001b[39m4\u001b[39;49m\n",
      "\u001b[0;31mTypeError\u001b[0m: can only concatenate list (not \"int\") to list"
     ]
    }
   ],
   "source": [
    "my_list = [1, 2, 3]\n",
    "my_list + 4"
   ]
  },
  {
   "attachments": {},
   "cell_type": "markdown",
   "metadata": {},
   "source": [
    "If we want to add a single element using +, we have to put it into a list with brackets ([]):"
   ]
  },
  {
   "cell_type": "code",
   "execution_count": 12,
   "metadata": {},
   "outputs": [
    {
     "data": {
      "text/plain": [
       "[1, 2, 3, 4]"
      ]
     },
     "execution_count": 12,
     "metadata": {},
     "output_type": "execute_result"
    }
   ],
   "source": [
    "my_list + [4]"
   ]
  },
  {
   "attachments": {},
   "cell_type": "markdown",
   "metadata": {},
   "source": [
    "### Accessing List Elements\n",
    "We are interviewing candidates for a job. We will call each candidate in order, represented by a Python list:\n",
    "\n",
    "First, we’ll call \"Juan\", then \"Zofia\", etc.\n",
    "\n",
    "In Python, we call the location of an element in a list its index.\n",
    "\n",
    "Python lists are zero-indexed. This means that the first element in a list has index 0, rather than 1.\n",
    "\n",
    "Here are the index numbers for the list calls:\n",
    "\n",
    "Element\tIndex\n",
    "\"Juan\"\t0\n",
    "\"Zofia\"\t1\n",
    "\"Amare\"\t2\n",
    "\"Ezio\"\t3\n",
    "\"Ananya\"\t4\n",
    "\n",
    "In this example, the element with index 2 is \"Amare\".\n",
    "\n",
    "We can select a single element from a list by using square brackets ([]) and the index of the list item. If we wanted to select the third element from the list, we’d use calls[2]:"
   ]
  },
  {
   "cell_type": "code",
   "execution_count": 13,
   "metadata": {},
   "outputs": [
    {
     "name": "stdout",
     "output_type": "stream",
     "text": [
      "Amare\n"
     ]
    }
   ],
   "source": [
    "calls = [\"Juan\", \"Zofia\", \"Amare\", \"Ezio\", \"Ananya\"]\n",
    "\n",
    "print(calls[2])"
   ]
  },
  {
   "attachments": {},
   "cell_type": "markdown",
   "metadata": {},
   "source": [
    "**Note:** When accessing elements of a list, you must use an int as the index. If you use a float, you will get an error. This can be especially tricky when using division. For example print(calls[4/2]) will result in an error, because 4/2 gets evaluated to the float 2.0.\n",
    "\n",
    "To solve this problem, you can force the result of your division to be an int by using the int() function. int() takes a number and cuts off the decimal point. For example, int(5.9) and int(5.0) will both become 5. Therefore, calls[int(4/2)] will result in the same value as calls[2], whereas calls[4/2] will result in an error.\n",
    "\n",
    "***Selecting an element that does not exist produces an IndexError.***"
   ]
  },
  {
   "attachments": {},
   "cell_type": "markdown",
   "metadata": {},
   "source": [
    "### Accessing List Elements: Negative Index\n",
    "What if we want to select the last element of a list?\n",
    "\n",
    "We can use the index -1 to select the last item of a list, even when we don’t know how many elements are in a list.\n",
    "\n",
    "Consider the following list with 6 elements:\n",
    "\n",
    "If we select the -1 index, we get the final element, \"love\"."
   ]
  },
  {
   "cell_type": "code",
   "execution_count": 14,
   "metadata": {},
   "outputs": [
    {
     "name": "stdout",
     "output_type": "stream",
     "text": [
      "love\n",
      "love\n"
     ]
    }
   ],
   "source": [
    "pancake_recipe = [\"eggs\", \"flour\", \"butter\", \"milk\", \"sugar\", \"love\"]\n",
    "print(pancake_recipe[-1])\n",
    "#This is equivalent to selecting the element with index 5:\n",
    "print(pancake_recipe[5])"
   ]
  },
  {
   "attachments": {},
   "cell_type": "markdown",
   "metadata": {},
   "source": [
    "## Modifying List Elements\n",
    "Let’s return to our garden.\n",
    "\n",
    "Unfortunately, we forgot to water our cauliflower and we don’t think it is going to recover.\n",
    "\n",
    "Thankfully our friend Jiho from Petal Power came to the rescue. Jiho gifted us some strawberry seeds. We will replace the cauliflower with our new seeds.\n",
    "\n",
    "We will need to modify the list to accommodate the change to our garden list. To change a value in a list, reassign the value using the specific index."
   ]
  },
  {
   "cell_type": "code",
   "execution_count": 16,
   "metadata": {},
   "outputs": [
    {
     "name": "stdout",
     "output_type": "stream",
     "text": [
      "['Tomatoes', 'Green Beans', 'Cauliflower', 'Grapes']\n",
      "['Tomatoes', 'Green Beans', 'Strawberries', 'Grapes']\n"
     ]
    }
   ],
   "source": [
    "garden = [\"Tomatoes\", \"Green Beans\", \"Cauliflower\", \"Grapes\"]\n",
    "print(garden)\n",
    "\n",
    "garden[2] = \"Strawberries\" \n",
    "print(garden)\n",
    "\n"
   ]
  },
  {
   "attachments": {},
   "cell_type": "markdown",
   "metadata": {},
   "source": [
    "Negative indices will work as well."
   ]
  },
  {
   "cell_type": "code",
   "execution_count": 17,
   "metadata": {},
   "outputs": [
    {
     "name": "stdout",
     "output_type": "stream",
     "text": [
      "['Tomatoes', 'Green Beans', 'Strawberries', 'Grapes']\n",
      "['Tomatoes', 'Green Beans', 'Strawberries', 'Raspberries']\n"
     ]
    }
   ],
   "source": [
    "print(garden)\n",
    "garden[-1] = \"Raspberries\"\n",
    "print(garden)"
   ]
  },
  {
   "attachments": {},
   "cell_type": "markdown",
   "metadata": {},
   "source": [
    "## Shrinking a List: Remove\n",
    "We can remove elements in a list using the .remove() Python method.\n",
    "\n",
    "Suppose we have a filled list called shopping_line that represents a line at a grocery store:\n",
    "\n",
    "We could remove \"Chris\" by using the .remove() method:"
   ]
  },
  {
   "cell_type": "code",
   "execution_count": 18,
   "metadata": {},
   "outputs": [
    {
     "name": "stdout",
     "output_type": "stream",
     "text": [
      "['Cole', 'Kip', 'Chris', 'Sylvana']\n",
      "['Cole', 'Kip', 'Sylvana']\n"
     ]
    }
   ],
   "source": [
    "shopping_line = [\"Cole\", \"Kip\", \"Chris\", \"Sylvana\"]\n",
    "print(shopping_line)\n",
    "\n",
    "shopping_line.remove(\"Chris\")\n",
    "print(shopping_line)\n"
   ]
  },
  {
   "attachments": {},
   "cell_type": "markdown",
   "metadata": {},
   "source": [
    "We can also use .remove() on a list that has duplicate elements.\n",
    "\n",
    "Only the first instance of the matching element is removed:"
   ]
  },
  {
   "cell_type": "code",
   "execution_count": 19,
   "metadata": {},
   "outputs": [
    {
     "name": "stdout",
     "output_type": "stream",
     "text": [
      "['Cole', 'Kip', 'Chris', 'Sylvana', 'Chris']\n",
      "['Cole', 'Kip', 'Sylvana', 'Chris']\n"
     ]
    }
   ],
   "source": [
    "# Create a list\n",
    "shopping_line = [\"Cole\", \"Kip\", \"Chris\", \"Sylvana\", \"Chris\"]\n",
    "print(shopping_line)\n",
    "# Remove a element\n",
    "shopping_line.remove(\"Chris\")\n",
    "print(shopping_line)"
   ]
  },
  {
   "attachments": {},
   "cell_type": "markdown",
   "metadata": {},
   "source": [
    "## Two-Dimensional (2D) Lists\n",
    "We’ve seen that the items in a list can be numbers or strings. Lists can contain other lists! We will commonly refer to these as two-dimensional (2D) lists.\n",
    "\n",
    "Once more, let’s look at a class height example:"
   ]
  },
  {
   "cell_type": "code",
   "execution_count": 22,
   "metadata": {},
   "outputs": [
    {
     "name": "stdout",
     "output_type": "stream",
     "text": [
      "[61, 70, 67, 64]\n"
     ]
    }
   ],
   "source": [
    "print(heights)"
   ]
  },
  {
   "attachments": {},
   "cell_type": "markdown",
   "metadata": {},
   "source": [
    "Previously, we saw that we could create a list representing both Noelle’s name and height:"
   ]
  },
  {
   "cell_type": "code",
   "execution_count": 23,
   "metadata": {},
   "outputs": [],
   "source": [
    "noelle = [\"Noelle\", 61]"
   ]
  },
  {
   "attachments": {},
   "cell_type": "markdown",
   "metadata": {},
   "source": [
    "We can put several of these lists into one list, such that each entry in the list represents a student and their height:"
   ]
  },
  {
   "cell_type": "code",
   "execution_count": 25,
   "metadata": {},
   "outputs": [
    {
     "name": "stdout",
     "output_type": "stream",
     "text": [
      "[['Noelle', 61], ['Ava', 70], ['Sam', 67], ['Mia', 64]]\n"
     ]
    }
   ],
   "source": [
    "heights = [[\"Noelle\", 61], [\"Ava\", 70], [\"Sam\", 67], [\"Mia\", 64]]\n",
    "print(heights)"
   ]
  },
  {
   "attachments": {},
   "cell_type": "markdown",
   "metadata": {},
   "source": [
    "We will often find that a two-dimensional list is a very good structure for representing grids such as games like tic-tac-toe.\n",
    "\n"
   ]
  },
  {
   "cell_type": "code",
   "execution_count": 27,
   "metadata": {},
   "outputs": [
    {
     "name": "stdout",
     "output_type": "stream",
     "text": [
      "[['X', 'O', 'X'], ['O', 'X', 'O'], ['O', 'O', 'X']]\n"
     ]
    }
   ],
   "source": [
    "#A 2d list with three lists in each of the indices. \n",
    "tic_tac_toe = [\n",
    "            [\"X\",\"O\",\"X\"], \n",
    "            [\"O\",\"X\",\"O\"], \n",
    "            [\"O\",\"O\",\"X\"]\n",
    "]\n",
    "print(tic_tac_toe)"
   ]
  },
  {
   "attachments": {},
   "cell_type": "markdown",
   "metadata": {},
   "source": [
    "## Instructions\n",
    "1.\n",
    "A new student named \"Vik\" has joined our class. Vik is 68 inches tall. Add a sublist to the end of the heights list that represents Vik and his height.\n",
    "\n",
    "Checkpoint 2 Passed\n",
    "\n",
    "Stuck? Get a hint\n",
    "2.\n",
    "Create a two-dimensional list called ages where each sublist contains a student’s name and their age. Use the following data:\n",
    "\n",
    "\"Aaron\" is 15\n",
    "\"Dhruti\" is 16"
   ]
  },
  {
   "cell_type": "code",
   "execution_count": 28,
   "metadata": {},
   "outputs": [
    {
     "name": "stdout",
     "output_type": "stream",
     "text": [
      "[['Jenny', 61], ['Alexus', 70], ['Sam', 67], ['Grace', 64]]\n",
      "[['Jenny', 61], ['Alexus', 70], ['Sam', 67], ['Grace', 64], ['Vik', 68]]\n",
      "[['Aaron', 15], ['Dhruti', 16]]\n"
     ]
    }
   ],
   "source": [
    "heights = [[\"Jenny\", 61], [\"Alexus\", 70], [\"Sam\", 67], [\"Grace\", 64]]\n",
    "print(heights)\n",
    "\n",
    "heights.append([\"Vik\", 68])\n",
    "print(heights)\n",
    "\n",
    "ages = [[\"Aaron\", 15], [\"Dhruti\", 16]]\n",
    "print(ages)"
   ]
  },
  {
   "attachments": {},
   "cell_type": "markdown",
   "metadata": {},
   "source": [
    "## Accessing 2D Lists\n",
    "Let’s return to our classroom heights example:"
   ]
  },
  {
   "cell_type": "code",
   "execution_count": 29,
   "metadata": {},
   "outputs": [],
   "source": [
    "heights = [[\"Noelle\", 61], [\"Ali\", 70], [\"Sam\", 67]]\n",
    "\n"
   ]
  },
  {
   "attachments": {},
   "cell_type": "markdown",
   "metadata": {},
   "source": [
    "Two-dimensional lists can be accessed similar to their one-dimensional counterpart. Instead of providing a single pair of brackets [ ] we will use an additional set for each dimension past the first.\n",
    "\n",
    "If we wanted to access \"Noelle\"‘s height:"
   ]
  },
  {
   "cell_type": "code",
   "execution_count": 30,
   "metadata": {},
   "outputs": [
    {
     "name": "stdout",
     "output_type": "stream",
     "text": [
      "61\n"
     ]
    }
   ],
   "source": [
    "#Access the sublist at index 0, and then access the 1st index of that sublist. \n",
    "noelles_height = heights[0][1] \n",
    "print(noelles_height)"
   ]
  },
  {
   "attachments": {},
   "cell_type": "markdown",
   "metadata": {},
   "source": [
    "Here are the index numbers to access data for the list heights:\n",
    "\n",
    "Element\tIndex\n",
    "\"Noelle\"\theights[0][0]\n",
    "61\theights[0][1]\n",
    "\"Ali\"\theights[1][0]\n",
    "70\theights[1][1]\n",
    "\"Sam\"\theights[2][0]\n",
    "67\theights[2][1]\n"
   ]
  },
  {
   "attachments": {},
   "cell_type": "markdown",
   "metadata": {},
   "source": [
    "### Instructions\n",
    "1.\n",
    "We want to have a way to store all of our classroom test score data.\n",
    "\n",
    "Using the provided table, create a two-dimensional list called class_name_test to represent the data. Each sublist in class_name_test should have one student’s name and their associated score.\n",
    "\n",
    "Name\tTest Score\n",
    "\"Jenny\"\t90\n",
    "\"Alexus\"\t85.5\n",
    "\"Sam\"\t83\n",
    "\"Ellie\"\t101.5\n",
    "\n",
    "Print class_name_test to see the result.\n",
    "\n",
    "Checkpoint 2 Passed\n",
    "\n",
    "Stuck? Get a hint\n",
    "2.\n",
    "Use double square brackets ([][]) to select Sam‘s test score from the list class_name_test.\n",
    "\n",
    "Save it to the variable sams_score.\n",
    "\n",
    "Print the variable sams_score to see the result.\n",
    "\n",
    "Checkpoint 3 Passed\n",
    "\n",
    "Stuck? Get a hint\n",
    "3.\n",
    "Use double square brackets ([][]) to select Ellies test score from the list class_name_test. This time only use negative indices!\n",
    "\n",
    "Save it to the variable ellies_score.\n",
    "\n",
    "Print the variable ellies_score to see the result."
   ]
  },
  {
   "attachments": {},
   "cell_type": "markdown",
   "metadata": {},
   "source": [
    "## Modifying 2D Lists\n",
    "Now that we know how to access two-dimensional lists, modifying the elements should come naturally.\n",
    "\n",
    "Let’s return to a classroom example, but now instead of heights or test scores, our list stores the student’s favorite hobby!"
   ]
  },
  {
   "cell_type": "code",
   "execution_count": 31,
   "metadata": {},
   "outputs": [],
   "source": [
    "class_name_hobbies = [[\"Jenny\", \"Breakdancing\"], [\"Alexus\", \"Photography\"], [\"Grace\", \"Soccer\"]]\n"
   ]
  },
  {
   "attachments": {},
   "cell_type": "markdown",
   "metadata": {},
   "source": [
    "\"Jenny\" changed their mind and is now more interested in \"Meditation\".\n",
    "\n",
    "We will need to modify the list to accommodate the change to our class_name_hobbies list. To change a value in a two-dimensional list, reassign the value using the specific index."
   ]
  },
  {
   "cell_type": "code",
   "execution_count": 32,
   "metadata": {},
   "outputs": [
    {
     "name": "stdout",
     "output_type": "stream",
     "text": [
      "[['Jenny', 'Meditation'], ['Alexus', 'Photography'], ['Grace', 'Soccer']]\n"
     ]
    }
   ],
   "source": [
    "# The list of Jenny is at index 0. The hobby is at index 1. \n",
    "class_name_hobbies[0][1] = \"Meditation\"\n",
    "print(class_name_hobbies)"
   ]
  },
  {
   "attachments": {},
   "cell_type": "markdown",
   "metadata": {},
   "source": [
    "Negative indices will work as well."
   ]
  },
  {
   "cell_type": "code",
   "execution_count": 33,
   "metadata": {},
   "outputs": [
    {
     "name": "stdout",
     "output_type": "stream",
     "text": [
      "[['Jenny', 'Meditation'], ['Alexus', 'Photography'], ['Grace', 'Football']]\n"
     ]
    }
   ],
   "source": [
    "# The list of Grace is the last entry. The hobby is the last element. \n",
    "class_name_hobbies[-1][-1] = \"Football\"\n",
    "print(class_name_hobbies)"
   ]
  },
  {
   "attachments": {},
   "cell_type": "markdown",
   "metadata": {},
   "source": [
    "### Instructions\n",
    "1.\n",
    "Our school is expanding! We are welcoming a new set of students today from all over the world.\n",
    "\n",
    "Using the provided table, create a two-dimensional list called incoming_class to represent the data. Each sublist in incoming_class should contain the name, nationality, and grade for a single student.\n",
    "\n",
    "Name\tNationality\tGrade Level\n",
    "\"Kenny\"\t\"American\"\t9\n",
    "\"Tanya\"\t\"Ukrainian\"\t9\n",
    "\"Madison\"\t\"Indian\"\t7\n",
    "\n",
    "Print incoming_class to see our list.\n",
    "\n",
    "Checkpoint 2 Passed\n",
    "\n",
    "Stuck? Get a hint\n",
    "2.\n",
    "\"Madison\" passed an exam to advance a grade. She will be pushed into 8th grade rather than her current 7th in our list.\n",
    "\n",
    "Modify the list using double brackets [][] to make the change. Use positive indices.\n",
    "\n",
    "Print incoming_class to see our change.\n",
    "\n",
    "Checkpoint 3 Passed\n",
    "\n",
    "Stuck? Get a hint\n",
    "3.\n",
    "\"Kenny\" likes to be called by his nickname \"Ken\". Modify the list using double brackets [][] to accommodate the change but only using negative indices.\n",
    "\n",
    "Print incoming_class to see our change."
   ]
  },
  {
   "attachments": {},
   "cell_type": "markdown",
   "metadata": {},
   "source": [
    "### Instructions\n",
    "1.\n",
    "Maria is entering customer data for her web store business. We’re going to help her organize her data.\n",
    "\n",
    "Start by turning this list of customer first names into a list called first_names. Make sure to enter the names in this order:\n",
    "\n",
    "Ainsley\n",
    "Ben\n",
    "Chani\n",
    "Depak\n",
    "Checkpoint 2 Passed\n",
    "\n",
    "Stuck? Get a hint\n",
    "2.\n",
    "Maria wants to track all customer’s preferred sizes for her clothing. Create a list called preferred_size.\n",
    "\n",
    "Fill our new list preferred_size with the following data, containing the preferred sizes for Ainsley, Ben, and Chani:\n",
    "\n",
    "[\"Small\", \"Large\", \"Medium\"]\n",
    "Checkpoint 3 Passed\n",
    "\n",
    "Stuck? Get a hint\n",
    "3.\n",
    "Oh no! We forgot to add Depak’s size.\n",
    "\n",
    "Depak’s size is \"Medium\". Use .append() to add \"Medium\" to the preferred_size list.\n",
    "\n",
    "Print preferred_size to see our change.\n",
    "\n",
    "Checkpoint 4 Passed\n",
    "\n",
    "Stuck? Get a hint\n",
    "4.\n",
    "Maria is having a hard time visualizing which customer is associated with each size. Let’s restructure our two lists into a two-dimensional list to help Maria.\n",
    "\n",
    "In addition to our already available data, Maria is adding a third value for each customer that reflects if they want expedited shipping on their orders.\n",
    "\n",
    "This will be reflected using a boolean value (True for expedited, False for regular)\n",
    "\n",
    "Create a two-dimensional list called customer_data using the following table as a reference for the data. Each sublist should contain a name, size, and expedited shipping option for a single person.\n",
    "\n",
    "Name\tSize\tExpedited Shipping\n",
    "\"Ainsley\"\t\"Small\"\tTrue\n",
    "\"Ben\"\t\"Large\"\tFalse\n",
    "\"Chani\"\t\"Medium\"\tTrue\n",
    "\"Depak\"\t\"Medium\"\tFalse\n",
    "\n",
    "Print customer_data to see the data.\n",
    "\n",
    "Checkpoint 5 Passed\n",
    "\n",
    "Stuck? Get a hint\n",
    "5.\n",
    "\"Chani\" reached out to Maria. She requested to switch to regular shipping to save some money.\n",
    "\n",
    "Change the data value for \"Chani\"‘s shipping preference to False in our two-dimensional list to reflect the change.\n",
    "\n",
    "Checkpoint 6 Passed\n",
    "\n",
    "Stuck? Get a hint\n",
    "6.\n",
    "\"Ben\" reached out to Maria asking to remove his shipping option because he is not sure what type he wants.\n",
    "\n",
    "Use the .remove() method to delete the shipping value from the sublist that contains ben’s data.\n",
    "\n",
    "Note: We never explicitly went over how to use the .remove() method on a 2d list together. If you feel like you are struggling, take a look at the hint for some guidance.\n",
    "\n",
    "Checkpoint 7 Passed\n",
    "\n",
    "Stuck? Get a hint\n",
    "7.\n",
    "Great job making it this far! One last thing, Maria received new customers, \"Amit\" and \"Karim\", the following 2d list contains their data:\n",
    "\n",
    "[[\"Amit\", \"Large\", True], [\"Karim\", \"X-Large\", False]]\n",
    "Create a new variable customer_data_final. Combine our existing list customer_data with our new customer 2d list using + by adding it to the end of customer_data.\n",
    "\n",
    "Print customer_data_final to see our final result."
   ]
  },
  {
   "attachments": {},
   "cell_type": "markdown",
   "metadata": {},
   "source": [
    "## Combining List: The Zip Function\n",
    "The zip() function allows us to quickly combine associated data-sets without needing to rely on multi-dimensional lists. \n",
    "\n",
    "Let’s use a list of student names and associated heights as our example data set:"
   ]
  },
  {
   "cell_type": "code",
   "execution_count": 34,
   "metadata": {},
   "outputs": [],
   "source": [
    "names = [\"Jenny\", \"Alexus\", \"Sam\", \"Grace\"]\n",
    "heights = [61, 70, 67, 64]"
   ]
  },
  {
   "attachments": {},
   "cell_type": "markdown",
   "metadata": {},
   "source": [
    "If we wanted to create a nested list that paired each name with a height, we could use the built-in function zip().\n",
    "\n",
    "The zip() function takes two (or more) lists as inputs and returns an object that contains a list of pairs. Each pair contains one element from each of the inputs. This is how we would do it for our names and heights lists:"
   ]
  },
  {
   "cell_type": "code",
   "execution_count": 35,
   "metadata": {},
   "outputs": [
    {
     "name": "stdout",
     "output_type": "stream",
     "text": [
      "<zip object at 0x10c498f00>\n"
     ]
    }
   ],
   "source": [
    "names_and_heights = zip(names, heights)\n",
    "print(names_and_heights)"
   ]
  },
  {
   "attachments": {},
   "cell_type": "markdown",
   "metadata": {},
   "source": [
    "This zip object contains the location of this variable in our computer’s memory. Don’t worry though, it is fairly simple to convert this object into a useable list by using the built-in function list():"
   ]
  },
  {
   "cell_type": "code",
   "execution_count": 36,
   "metadata": {},
   "outputs": [
    {
     "name": "stdout",
     "output_type": "stream",
     "text": [
      "[('Jenny', 61), ('Alexus', 70), ('Sam', 67), ('Grace', 64)]\n"
     ]
    }
   ],
   "source": [
    "converted_list = list(names_and_heights)\n",
    "print(converted_list)\n"
   ]
  },
  {
   "attachments": {},
   "cell_type": "markdown",
   "metadata": {},
   "source": [
    "Notice two things:\n",
    "\n",
    "1. Our data set has been converted from a zip memory object to an actual list (denoted by [ ])\n",
    "\n",
    "2. Our inner lists don’t use square brackets [ ] around the values. This is because they have been converted into tuples (an immutable type of list).\n",
    "\n",
    "Let’s practice using zip()!\n",
    "\n",
    "### Codding Questiuon"
   ]
  },
  {
   "cell_type": "code",
   "execution_count": 37,
   "metadata": {},
   "outputs": [],
   "source": [
    "owners = [\"Jenny\", \"Alexus\", \"Sam\", \"Grace\"]\n",
    "dogs_names = [\"Elphonse\", \"Dr. Doggy DDS\", \"Carter\", \"Ralph\"]\n",
    "\n"
   ]
  },
  {
   "cell_type": "code",
   "execution_count": null,
   "metadata": {},
   "outputs": [],
   "source": []
  }
 ],
 "metadata": {
  "kernelspec": {
   "display_name": "Python 3",
   "language": "python",
   "name": "python3"
  },
  "language_info": {
   "codemirror_mode": {
    "name": "ipython",
    "version": 3
   },
   "file_extension": ".py",
   "mimetype": "text/x-python",
   "name": "python",
   "nbconvert_exporter": "python",
   "pygments_lexer": "ipython3",
   "version": "3.11.3"
  },
  "orig_nbformat": 4
 },
 "nbformat": 4,
 "nbformat_minor": 2
}
