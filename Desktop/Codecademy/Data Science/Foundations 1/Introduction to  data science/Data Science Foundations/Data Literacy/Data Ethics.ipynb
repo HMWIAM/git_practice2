{
 "cells": [
  {
   "attachments": {},
   "cell_type": "markdown",
   "metadata": {},
   "source": [
    "## Data Ethics and Privacy\n",
    "Ethical issues regarding data collection may be divided into the following categories:\n",
    "\n",
    "1. Consent: Individuals must be informed and give their consent for information to be collected.\n",
    "2. Ownership: Anyone collecting data must be aware that individuals have ownership over their information.\n",
    "3. Intention: Individuals must be informed about what information will be taken, how it will be stored, and how it will be used.\n",
    "4. Privacy: Information about individuals must be kept secure. This is especially important for any and all personally identifiable information."
   ]
  },
  {
   "cell_type": "markdown",
   "metadata": {},
   "source": []
  }
 ],
 "metadata": {
  "language_info": {
   "name": "python"
  },
  "orig_nbformat": 4
 },
 "nbformat": 4,
 "nbformat_minor": 2
}
