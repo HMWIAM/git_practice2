{
 "cells": [
  {
   "attachments": {},
   "cell_type": "markdown",
   "metadata": {},
   "source": [
    "# Maximum A Posteriori Estimation (MAP) and Multinomial Bayes\n",
    "\n",
    "## Introduction\n",
    "\n",
    "Maximum A Posteriori provides a means for estimating a parameter given some prior knowledge about a variable. \n",
    "\n",
    "In it, one assumes a given distribution for the variable and then estimates the parameter itself given additional information. In this lesson, you'll see how Bayes' theorem can be applied in this manner and then extended to multivariate cases.\n",
    "\n",
    "## Objectives\n",
    "You will be able to\n",
    "\n",
    "* Identify how Maximum A Posteriori Estimation is related to MLE\n",
    "\n",
    "## Maximum A Posteriori Estimation\n",
    "\n",
    "Maximum A Posteriori Estimation (MAP) is similar to Maximum Likelihood Estimation but extends this concept by allowing one to also account for prior beliefs regarding the distribution of the variable in question. Recall Bayes' theorem:  \n",
    "\n",
    "$$ \\large P(A|B) = \\dfrac{P(B|A)(A)}{P(B)}$$\n",
    "\n",
    "The Bayesian interpretation of this formula is\n",
    "\n",
    "$$ \\large \\text{Posterior} = \\dfrac{\\text{Likelihood} \\cdot \\text{Prior}}{\\text{Evidence}}$$\n",
    "\n",
    "With MAP, you then attempt to optimize a parameter $\\theta$ for the assumed distribution in order to maximize the posterior probability. \n",
    "\n",
    "## Multinomial Bayes\n",
    "\n",
    "Multinomial Bayes also extends the notions within Bayes' theorem, allowing one to chain inferences. The primary assumption for this is assuming that your variables are independent of one another. Recall that if you assume two events A and B are independent of one another, then $P(A \\cap B) = P(A)\\cdot P(B)$. Similarly, if independence is assumed when extending Bayes theorem to a multivariate case, one can multiply the successive probability estimates. Mathematically, this can be summarized as:  \n",
    "\n",
    "$$ \\large P(Y|X_1, X_2,...,X_n) = \\dfrac{P(X_1|Y)\\cdot P(X_2|Y) \\cdot ... \\cdot P(X_n|Y)}{P(X_1, X_2,...,X_n)}P(Y)$$"
   ]
  },
  {
   "cell_type": "markdown",
   "metadata": {},
   "source": []
  }
 ],
 "metadata": {
  "kernelspec": {
   "display_name": "Python 3",
   "language": "python",
   "name": "python3"
  },
  "language_info": {
   "name": "python",
   "version": "3.10.6"
  },
  "orig_nbformat": 4,
  "vscode": {
   "interpreter": {
    "hash": "916dbcbb3f70747c44a77c7bcd40155683ae19c65e1c03b4aa3499c5328201f1"
   }
  }
 },
 "nbformat": 4,
 "nbformat_minor": 2
}
