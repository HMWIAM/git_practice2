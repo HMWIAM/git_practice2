{
 "cells": [
  {
   "attachments": {},
   "cell_type": "markdown",
   "metadata": {},
   "source": [
    "# Bayesian Statistics"
   ]
  },
  {
   "attachments": {},
   "cell_type": "markdown",
   "metadata": {},
   "source": [
    "Bayesian statistics applies reasoning to unkown probabilities in a manner in which the frequentist approach(included discussions of z-tests, t-tests, p-values, and ANOVA; all are from the Frequentist perspective.) does not allow\n",
    "\n",
    "## **Bayes' Theorem**\n",
    "\n",
    "Bayes' theorem is a method for rewriting conditional probabilities. The formula is:\n",
    "\n",
    "### $$ P(A|B) = \\dfrac{P(B|A)P(A)}{P(B)}$$\n",
    "\n",
    "In the following lessons, you'll learn more about two traditional interpretations of this formula. The first provides an intuitive understanding, viewing the numerator as the probability of both A and B occuring:  \n",
    "\n",
    "### $$ P(A|B) = \\dfrac{P(A \\cap B)}{P(B)}$$\n",
    "\n",
    "This should make perfect sense: the probability that A is true, given B is true, is the probability that A and B are both true, divided by the probability that B was true in the first place. \n",
    "\n",
    "The second interpretation of Bayes theorem leads straight into the Bayesian statistical framework itself, bringing about discussions of priors, likelihoods, and posterior probabilities."
   ]
  },
  {
   "attachments": {},
   "cell_type": "markdown",
   "metadata": {},
   "source": [
    "# Bayesians vs Frequentists\n",
    "## Philosophical Interpretations\n",
    "#### **Interpretation of probability itself**\n",
    "* **Frequentist** - *The probability of an event is the limit of the rate of occurrences of the event if the same scenario, including context and assumptions were repeated ad infintum.*\n",
    "* **Bayesians** - *The probability is interpreted as the level of confidence, or belief, in a particular event occurring* In many ways, this makes a more natural interpretation for rare events that cannot possibly reoccur in the same context and circumstances.\n",
    "#### Practical Implications\n",
    "The practical implications of Bayesians versus Frequentists rest upon making assumptions about unknown quantities. \n",
    "- In the Bayesian framework, you make assumptions about unknown variables which you are attempting to estimate. For example, you might assume that the number of individuals who will buy a product can be represented by a binomial variable with parameter  . \n",
    "- In contrast, the Frequentist perspective does not allow embedding of prior beliefs such as this into statistical experiments and analyses."
   ]
  },
  {
   "attachments": {},
   "cell_type": "markdown",
   "metadata": {},
   "source": [
    "# Bayes' Theorem\n",
    "\n",
    "Bayes theorem is an indispensable law of probability, allowing you to deductively quantify unknown probabilities. The theory rests upon conditional probability.\n",
    "\n",
    "## Bayes' formula\n",
    "\n",
    "### $P(A|B) = \\dfrac{P(B|A)P(A)}{P(B)}$\n",
    "\n",
    "### Breaking the formula apart\n",
    "\n",
    "Bayes' theorem is quite intuitive, decomposing the conditional probability of 'A given B' in terms of the probability that both events are true divided by the probability that B is true.\n",
    "\n",
    "Bayes theorem takes this natural idea a step further, expressing the probability that both events are true as a conditional probability multiplied by the condition itself.\n",
    "\n",
    "To recap: \n",
    "\n",
    "\n",
    "Bayes' Theorem takes the definition of the conditional likelihood:\n",
    "\n",
    "### $P(A|B) = \\dfrac{P(A \\cap B)}{P(B)}$\n",
    "\n",
    "and rewrites the $P(A \\cap B)$ as $P(B|A)P(A)$, which makes perfect sense; the probability of B given A is true, multiplied by the probability that A is true, gives us the probability that both are true.\n",
    "\n",
    "Making this substitution, you have Bayes' Theorem:\n",
    "\n",
    "### $P(A|B) = \\dfrac{P(B|A)P(A)}{P(B)}$\n",
    "## A simple example\n",
    "\n",
    "Let's take a simple theoretical example to demonstrate. Imagine there are two fish tanks at the local pet store. The small tank holds 10 Betta fish. The large tank has 200 goldfish and 35 Betta fish. Given that a fish is a Betta fish, what's the probability it comes from the small tank? \n",
    "\n",
    "On the one hand, it seems that if you were to select a fish from the large tank, you'd probably end up with a goldfish. However, because these tanks are of such vastly different sizes, the probability that the fish came from the larger tank is actually more probable. \n",
    "\n",
    "Using Bayes' theorem, you are looking to find the probability that the fish came from the small tank, given that it is a Betta fish:\n",
    "\n",
    "$P(\\text{smalltank | Bettafish}) = \\dfrac{P(\\text{Betafish | smalltank})P(\\text{smalltank})}{P(\\text{Betafish})}$  \n",
    "\n",
    "Furthermore, you know:  \n",
    "$P(\\text{Betafish | smalltank}) = 1$  \n",
    "$P(\\text{smalltank}) = \\dfrac{\\text{number of fish in small tank}}{\\text{number of all fish}} = \\dfrac{10}{245}$  \n",
    "$P(\\text{Betafish}) = \\dfrac{45}{245}$\n",
    "\n",
    "Giving you:\n",
    "\n",
    "$P(\\text{smalltank | Bettafish}) = \\dfrac{1 \\cdot \\dfrac{10}{245}}{\\dfrac{45}{245}}$  \n",
    "\n",
    "$ P(\\text{smalltank | Bettafish}) = \\dfrac{10}{45}$  \n",
    "\n",
    "While concrete, this example fails to demonstrate the full power of Bayes' theorem since you had all of the underlying information, so you don't even need to use Bayes' theorem. You could have simply looked at the number of Betta fish in the small tank versus the number of Betta fish overall:   \n",
    "\n",
    "$\\dfrac{10}{45}$  \n",
    "\n",
    "giving you exactly the same result.\n",
    "\n",
    "\n",
    "## An NLP example\n",
    "\n",
    "With this simple example out of the way, let's examine a more practical example from the field of Natural Language Processing.\n",
    "\n",
    "A common introductory example to Natural Language Processing or classification is detecting spam. While you may enjoy spam in a can, you probably don't enjoy getting spam in your inbox. Bayes' theorem can serve as a natural classification method in these scenarios. Assume that the word \"offer\" (as in Special Offer, We Have an Offer for You, or Don't Miss This Offer!) occurs in 73% of the spam messages you receive. In comparison, only 10% of your desired mail contains the word \"offer\". If 20% of the messages you receive are spam, and you receive another message with the word \"offer\", what is the probability that it is spam?\n",
    "\n",
    "As you might have guessed, you can solve this using the Bayes' theorem!\n",
    "\n",
    "First, set up the problem:\n",
    "\n",
    "$P(\\text{Spam | Offer}) = \\dfrac{P(\\text{Offer | Spam})P(\\text{Spam})}{P(\\text{Offer})}$\n",
    "\n",
    "Then substituting some of the immediate knowledge we have from the scenario:\n",
    "\n",
    "$P(\\text{Spam | Offer}) = \\dfrac{.73 \\cdot .20}{P(\\text{Offer})}$  \n",
    "\n",
    "Finally, the probability of receiving an email with the word \"offer\", $P(\\text{Offer})$, can be evaluated by decomposing it into the two subsets spam and not spam:\n",
    "\n",
    "$P(\\text{Offer}) = P(\\text{Spam})\\cdot P(\\text{Offer | Spam}) + P(\\text{~Spam)} \\cdot P(\\text{Offer | ~Spam})$  \n",
    "$P(\\text{Offer}) = .20 \\cdot .73 + .8 \\cdot .10$  \n",
    "$P(\\text{Offer}) = .146 + .08$  \n",
    "$P(\\text{Offer}) = .226$  \n",
    "\n",
    "Finally, substituting this into the original Bayes formula you have:\n",
    "\n",
    "$P(\\text{Spam | Offer}) = \\dfrac{.73 \\cdot .20}{P(\\text{Offer})}$  \n",
    "$P(\\text{Spam | Offer}) = \\dfrac{.73 \\cdot .20}{.226}$  \n",
    "$P(\\text{Spam | Offer}) = .6460$  \n",
    "\n",
    "As you can see, while spam has a much higher occurrence of the word \"offer\", the presence of the word alone does not provide strong confidence that the message is spam. To provide more statistical power, you will eventually extend Bayes' theorem to multiple observations simultaneously using the relative probabilities of multiple words.  "
   ]
  },
  {
   "cell_type": "markdown",
   "metadata": {},
   "source": []
  },
  {
   "cell_type": "markdown",
   "metadata": {},
   "source": [
    "# Bayes' Theorem - Lab\n",
    "\n",
    "## Introduction\n",
    "\n",
    "In this lab, you'll practice Bayes' Theorem in some simple word problems. \n",
    "\n",
    "## Objectives\n",
    "In this lab you will be able to: \n",
    "\n",
    "- Use Bayes' theorem to determine the probability of specific events "
   ]
  },
  {
   "cell_type": "markdown",
   "metadata": {},
   "source": [
    "## Define a custom function for Bayes' theorem\n",
    "\n",
    "To start, write a function, `bayes()`, which takes in the probability of A, the probability of B, and the probability of B given A. From this, the function should then return the conditional probability of A, given that B is true."
   ]
  },
  {
   "attachments": {},
   "cell_type": "markdown",
   "metadata": {},
   "source": [
    " $P(A|B) = \\dfrac{P(B|A)P(A)}{P(B)}$"
   ]
  },
  {
   "cell_type": "code",
   "execution_count": 1,
   "metadata": {},
   "outputs": [],
   "source": [
    "def bayes(P_a, P_b, P_b_given_a):\n",
    "    # Your code here\n",
    "    P_a_given_b = (P_b_given_a * P_a) / P_b\n",
    "    return P_a_given_b "
   ]
  },
  {
   "cell_type": "markdown",
   "metadata": {},
   "source": [
    "## Skin Cancer\n",
    "\n",
    "After a physical exam, a doctor observes a blemish on a client's arm. The doctor is concerned that the blemish could be cancerous, but tells the patient to be calm and that it's probably benign. Of those with skin cancer, 100% have such blemishes. However, 20% of those without skin cancer also have such blemishes. If 15% of the population has skin cancer, what's the probability that this patient has skin cancer? \n",
    "\n",
    "> Hint: Be sure to calculate the overall rate of blemishes across the entire population."
   ]
  },
  {
   "cell_type": "code",
   "execution_count": 2,
   "metadata": {},
   "outputs": [
    {
     "name": "stdout",
     "output_type": "stream",
     "text": [
      "0.46875\n"
     ]
    }
   ],
   "source": [
    "# Your code here\n",
    "#100% with cancer *\n",
    "P_a = 0.15\n",
    "P_b = (1 * 0.15) + (0.85 * 0.2)\n",
    "P_b_a = 1\n",
    "P_cancer_given_blemish = bayes(P_a, P_b, P_b_a )\n",
    "print(P_cancer_given_blemish)"
   ]
  },
  {
   "cell_type": "markdown",
   "metadata": {},
   "source": [
    "## Children\n",
    "\n",
    "A couple has two children, the older of which is a boy. What is the probability that they have two boys?"
   ]
  },
  {
   "cell_type": "code",
   "execution_count": 3,
   "metadata": {},
   "outputs": [
    {
     "data": {
      "text/plain": [
       "0.5"
      ]
     },
     "execution_count": 3,
     "metadata": {},
     "output_type": "execute_result"
    }
   ],
   "source": [
    "# Your solution P(2boys|older child is a boy)\n",
    "P_a = 1/4 #Probability of 2 boys\n",
    "P_b = 0.5 # Probability older is boy\n",
    "P_b_given_a = 1 #Probability older child is boy if 2 boys\n",
    "bayes(P_a, P_b, P_b_given_a)"
   ]
  },
  {
   "cell_type": "markdown",
   "metadata": {},
   "source": [
    "## A diagnostic test\n",
    "\n",
    "A diagnostic test is advertised as being 99% accurate \n",
    "\n",
    "* If a patient has the disease, they  will test positive 99% of the time \n",
    "\n",
    "* If they don't have the disease, they will test negative 99% of the time  \n",
    "\n",
    "* 1% of all people have this disease \n",
    "\n",
    "If a patient tests positive, what is the probability that they actually have the disease?"
   ]
  },
  {
   "cell_type": "code",
   "execution_count": 4,
   "metadata": {},
   "outputs": [
    {
     "data": {
      "text/plain": [
       "0.505050505050505"
      ]
     },
     "execution_count": 4,
     "metadata": {},
     "output_type": "execute_result"
    }
   ],
   "source": [
    "# Your solution P(Disease | positive test)\n",
    "P_a = 0.01  # Probability of disease\n",
    "# Prob people(0.01)*Prob poss(0.99)  + Prob of neg(0.99) * Prob people(0.01)\n",
    "P_b = (0.01 * 0.99) + (0.99 * 0.01)  # Probability of testing positive\n",
    "bayes(P_a, P_b, P_b_given_a)"
   ]
  },
  {
   "cell_type": "markdown",
   "metadata": {},
   "source": [
    "## Summary \n",
    "\n",
    "In this lab, you practiced a few simple examples of Bayesian logic and how you can add prior information to update your beliefs about the chance of events."
   ]
  },
  {
   "cell_type": "markdown",
   "metadata": {},
   "source": [
    "# The Monty Hall Problem\n",
    "\n",
    "## Introduction\n",
    "\n",
    "The Monty Hall problem is a famous little puzzle from a game show. It goes like this: you are presented with 3 doors. Behind two are goats and behind the third is a car. You are asked to select a door; if you select the door with the car, you win! After selecting, the host then opens one of the remaining two doors, revealing a goat. The host then asks if you would like to switch doors or stick with your original choice. What would you do? Does it matter?\n",
    "\n",
    "<img src=\"https://raw.githubusercontent.com/learn-co-curriculum/dsc-monty-hall-problem-lab/master/images/Image_58_MontyHall.png\" alt=\"doors 1, 2, and 3 with two goats and a car\">\n",
    "\n",
    "## Objectives\n",
    "\n",
    "In this lab you will:\n",
    "\n",
    "- Use Bayes' theorem along with a simulation to solve the Monty Hall problem"
   ]
  },
  {
   "cell_type": "markdown",
   "metadata": {},
   "source": [
    "## Run a simulation\n",
    "\n",
    "This is not a traditional application of Bayes' theorem, so trying to formulate the problem as such is tricky at best. That said, the scenario does capture the motivating conception behind Bayesian statistics: updating our beliefs in the face of additional evidence. With this, you'll employ another frequently used tool Bayesians frequently employ, running simulations. To do this, generate a random integer between one and three to represent the door hiding the car. Then, generate a second integer between one and three representing the player's selection. Then, of those the contestant did not choose, select a door concealing a goat to reveal. Record the results of the simulated game if they changed versus if they did not. Repeat this process a thousand (or more) times. Finally, plot the results of your simulation as a line graph. The x-axis should be the number of simulations, and the y-axis should be the probability of winning. (There should be two lines on the graph, one for switching doors, and the other for keeping the original selection.)"
   ]
  },
  {
   "cell_type": "code",
   "execution_count": 5,
   "metadata": {},
   "outputs": [
    {
     "name": "stdout",
     "output_type": "stream",
     "text": [
      "Simulated Probabilities:\n",
      "Chance of Winning Keeping Selected Door:  0.3334\n",
      "Chance of Winning Switching Selected Door:  0.6666\n"
     ]
    },
    {
     "data": {
      "image/png": "[encoded data removed]",
      "text/plain": [
       "<Figure size 432x288 with 1 Axes>"
      ]
     },
     "metadata": {
      "needs_background": "light"
     },
     "output_type": "display_data"
    }
   ],
   "source": [
    "# Your code here\n",
    "import numpy as np\n",
    "import matplotlib.pyplot as plt\n",
    "%matplotlib inline\n",
    "\n",
    "stay = []\n",
    "switch = []\n",
    "for i in range(10**4):\n",
    "    car_door = np.random.randint(1,4)\n",
    "    contestant_selection = np.random.randint(1,4)\n",
    "    remaining_goats = [door for door in [1,2,3] if door!= car_door and door != contestant_selection]\n",
    "    door_revealed = np.random.choice(remaining_goats)\n",
    "    if_switch = [door for door in [1,2,3] if door != contestant_selection and door != door_revealed][0]\n",
    "    # Record results if contestant changes door selection\n",
    "    if if_switch == car_door:\n",
    "        switch.append(1)\n",
    "    else:\n",
    "        switch.append(0)\n",
    "    # Record results if contestant keep door selection\n",
    "    if contestant_selection == car_door:\n",
    "        stay.append(1)\n",
    "    else:\n",
    "        stay.append(0)\n",
    "# Plot the results\n",
    "plt.plot(range(1,10**4+1), [np.mean(stay[:i]) for i in range(1,10**4+1)], label='Keep Selected Door')\n",
    "plt.plot(range(1,10**4+1), [np.mean(switch[:i]) for i in range(1,10**4+1)], label='Switch Selected Door')\n",
    "plt.ylabel('Probability of Winning')\n",
    "plt.xlabel('Number of Simulations')\n",
    "plt.title('Simulated Probability of Winning the Monty Hall Game')\n",
    "plt.legend()\n",
    "print('Simulated Probabilities:')\n",
    "print('Chance of Winning Keeping Selected Door: ', np.mean(stay))\n",
    "print('Chance of Winning Switching Selected Door: ', np.mean(switch))"
   ]
  },
  {
   "cell_type": "markdown",
   "metadata": {},
   "source": [
    "## Summary\n",
    "\n",
    "In this lab, you further investigated the idea of Bayes' theorem and Bayesian statistics in general through the Monty Hall problem. Hopefully, this was an entertaining little experience! "
   ]
  }
 ],
 "metadata": {
  "kernelspec": {
   "display_name": "learn-env",
   "language": "python",
   "name": "python3"
  },
  "language_info": {
   "codemirror_mode": {
    "name": "ipython",
    "version": 3
   },
   "file_extension": ".py",
   "mimetype": "text/x-python",
   "name": "python",
   "nbconvert_exporter": "python",
   "pygments_lexer": "ipython3",
   "version": "3.8.5"
  },
  "orig_nbformat": 4,
  "vscode": {
   "interpreter": {
    "hash": "4d1151697b68b4ec1e19719ed12edf19569ef0d5db0563e25a869f6eefb41f8c"
   }
  }
 },
 "nbformat": 4,
 "nbformat_minor": 2
}
