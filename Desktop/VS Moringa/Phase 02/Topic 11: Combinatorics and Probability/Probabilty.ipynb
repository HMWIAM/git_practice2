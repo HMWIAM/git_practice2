{
 "cells": [
  {
   "attachments": {},
   "cell_type": "markdown",
   "metadata": {},
   "source": [
    "# Introduction to Probability"
   ]
  },
  {
   "attachments": {},
   "cell_type": "markdown",
   "metadata": {},
   "source": [
    "Event is the outcome of a particular random experiment\\\n",
    "Sample space represents the universe of all possible outcomes\\\n",
    "Event space is a subset of sample space where the collection of events we about are\\\n"
   ]
  },
  {
   "attachments": {},
   "cell_type": "markdown",
   "metadata": {},
   "source": [
    "### The law of large numbers"
   ]
  },
  {
   "attachments": {},
   "cell_type": "markdown",
   "metadata": {},
   "source": [
    "The probability of the event (P(E)) equals the limit as the number of experiments n goes to infinity of the count of successful experiments S(n) divided by the number of experiments n"
   ]
  },
  {
   "attachments": {},
   "cell_type": "markdown",
   "metadata": {},
   "source": [
    "<math xmlns=\"http://www.w3.org/1998/Math/MathML\" display=\"block\">\n",
    "  <mi>P</mi>\n",
    "  <mo stretchy=\"false\">(</mo>\n",
    "  <mi>E</mi>\n",
    "  <mo stretchy=\"false\">)</mo>\n",
    "  <mo>=</mo>\n",
    "  <munder>\n",
    "    <mo data-mjx-texclass=\"OP\" movablelimits=\"true\">lim</mo>\n",
    "    <mrow data-mjx-texclass=\"ORD\">\n",
    "      <mi>n</mi>\n",
    "      <mo stretchy=\"false\">&#x2192;</mo>\n",
    "      <mi mathvariant=\"normal\">&#x221E;</mi>\n",
    "    </mrow>\n",
    "  </munder>\n",
    "  <mstyle displaystyle=\"true\">\n",
    "    <mfrac>\n",
    "      <mrow>\n",
    "        <mi>S</mi>\n",
    "        <mrow data-mjx-texclass=\"ORD\">\n",
    "          <mo stretchy=\"false\">(</mo>\n",
    "          <mi>n</mi>\n",
    "          <mo stretchy=\"false\">)</mo>\n",
    "        </mrow>\n",
    "      </mrow>\n",
    "      <mi>n</mi>\n",
    "    </mfrac>\n",
    "  </mstyle>\n",
    "</math>"
   ]
  },
  {
   "attachments": {},
   "cell_type": "markdown",
   "metadata": {},
   "source": [
    "\n",
    "E = event\\\n",
    "P(E) = Probability of event E\\\n",
    "n = Number of conducted experiments\\\n",
    "S(n) = Count of successful experiments"
   ]
  },
  {
   "attachments": {},
   "cell_type": "markdown",
   "metadata": {},
   "source": [
    "### Probability Axioms"
   ]
  },
  {
   "attachments": {},
   "cell_type": "markdown",
   "metadata": {},
   "source": [
    "#### 1. Positivity"
   ]
  },
  {
   "attachments": {},
   "cell_type": "markdown",
   "metadata": {},
   "source": [
    "A probability is always bigger than or equal to 0, or 0 <= P(E) <= 1"
   ]
  },
  {
   "attachments": {},
   "cell_type": "markdown",
   "metadata": {},
   "source": [
    "#### 2. Probability of a certain event"
   ]
  },
  {
   "attachments": {},
   "cell_type": "markdown",
   "metadata": {},
   "source": [
    "If the event of interest is the sample space (S = E), we say that the outcome is a certain event, or P(S) = 1"
   ]
  },
  {
   "attachments": {},
   "cell_type": "markdown",
   "metadata": {},
   "source": [
    "#### 3. Additivity"
   ]
  },
  {
   "attachments": {},
   "cell_type": "markdown",
   "metadata": {},
   "source": [
    "The probability of the union of 2 exclusive events is equals to the sum of the probabilities of the individual events happening.\\\n",
    "If the events are exclusive, they never happen at the same time, so the intersection between them is empty. You can simply add the probabilities together.\\\n",
    "If <math xmlns=\"http://www.w3.org/1998/Math/MathML\">\n",
    "  <mi>A</mi>\n",
    "  <mo>&#x2229;</mo>\n",
    "  <mi>B</mi>\n",
    "  <mo>=</mo>\n",
    "  <mi mathvariant=\"normal\">&#x2205;</mi>\n",
    "</math> , then <math xmlns=\"http://www.w3.org/1998/Math/MathML\">\n",
    "  <mi>P</mi>\n",
    "  <mo stretchy=\"false\">(</mo>\n",
    "  <mi>A</mi>\n",
    "  <mo>&#x222A;</mo>\n",
    "  <mi>B</mi>\n",
    "  <mo stretchy=\"false\">)</mo>\n",
    "  <mo>=</mo>\n",
    "  <mi>P</mi>\n",
    "  <mo stretchy=\"false\">(</mo>\n",
    "  <mi>A</mi>\n",
    "  <mo stretchy=\"false\">)</mo>\n",
    "  <mo>+</mo>\n",
    "  <mi>P</mi>\n",
    "  <mo stretchy=\"false\">(</mo>\n",
    "  <mi>B</mi>\n",
    "  <mo stretchy=\"false\">)</mo>\n",
    "</math>"
   ]
  },
  {
   "attachments": {},
   "cell_type": "markdown",
   "metadata": {},
   "source": [
    "##### Example"
   ]
  },
  {
   "attachments": {},
   "cell_type": "markdown",
   "metadata": {},
   "source": [
    "<math xmlns=\"http://www.w3.org/1998/Math/MathML\">\n",
    "  <mi>P</mi>\n",
    "  <mo stretchy=\"false\">(</mo>\n",
    "  <mi>M</mi>\n",
    "  <mo>&#x222A;</mo>\n",
    "  <mi>N</mi>\n",
    "  <mo stretchy=\"false\">)</mo>\n",
    "  <mo>=</mo>\n",
    "  <mi>P</mi>\n",
    "  <mo stretchy=\"false\">(</mo>\n",
    "  <mi>M</mi>\n",
    "  <mo stretchy=\"false\">)</mo>\n",
    "  <mo>+</mo>\n",
    "  <mi>P</mi>\n",
    "  <mo stretchy=\"false\">(</mo>\n",
    "  <mi>N</mi>\n",
    "  <mo stretchy=\"false\">)</mo>\n",
    "  <mo>=</mo>\n",
    "  <mstyle displaystyle=\"true\">\n",
    "    <mfrac>\n",
    "      <mn>1</mn>\n",
    "      <mn>6</mn>\n",
    "    </mfrac>\n",
    "  </mstyle>\n",
    "  <mo>+</mo>\n",
    "  <mstyle displaystyle=\"true\">\n",
    "    <mfrac>\n",
    "      <mn>3</mn>\n",
    "      <mn>6</mn>\n",
    "    </mfrac>\n",
    "  </mstyle>\n",
    "  <mo>=</mo>\n",
    "  <mstyle displaystyle=\"true\">\n",
    "    <mfrac>\n",
    "      <mn>4</mn>\n",
    "      <mn>6</mn>\n",
    "    </mfrac>\n",
    "  </mstyle>\n",
    "  <mo>=</mo>\n",
    "  <mstyle displaystyle=\"true\">\n",
    "    <mfrac>\n",
    "      <mn>2</mn>\n",
    "      <mn>3</mn>\n",
    "    </mfrac>\n",
    "  </mstyle>\n",
    "</math>"
   ]
  },
  {
   "attachments": {},
   "cell_type": "markdown",
   "metadata": {},
   "source": [
    "### Addition Law of Probability"
   ]
  },
  {
   "attachments": {},
   "cell_type": "markdown",
   "metadata": {},
   "source": [
    "The probability that A or B will happen is the sum of the probabilities that A will happen and that B will happen, minus the probability that both A and B will happen."
   ]
  },
  {
   "attachments": {},
   "cell_type": "markdown",
   "metadata": {},
   "source": [
    "<math xmlns=\"http://www.w3.org/1998/Math/MathML\">\n",
    "  <mi>P</mi>\n",
    "  <mo stretchy=\"false\">(</mo>\n",
    "  <mi>A</mi>\n",
    "  <mo>&#x222A;</mo>\n",
    "  <mi>B</mi>\n",
    "  <mo stretchy=\"false\">)</mo>\n",
    "  <mo>=</mo>\n",
    "  <mi>P</mi>\n",
    "  <mo stretchy=\"false\">(</mo>\n",
    "  <mi>A</mi>\n",
    "  <mo stretchy=\"false\">)</mo>\n",
    "  <mo>+</mo>\n",
    "  <mi>P</mi>\n",
    "  <mo stretchy=\"false\">(</mo>\n",
    "  <mi>B</mi>\n",
    "  <mo stretchy=\"false\">)</mo>\n",
    "  <mo>&#x2212;</mo>\n",
    "  <mi>P</mi>\n",
    "  <mo stretchy=\"false\">(</mo>\n",
    "  <mi>A</mi>\n",
    "  <mo>&#x2229;</mo>\n",
    "  <mi>B</mi>\n",
    "  <mo stretchy=\"false\">)</mo>\n",
    "</math>"
   ]
  },
  {
   "attachments": {},
   "cell_type": "markdown",
   "metadata": {},
   "source": [
    "We use this law as exclusive events are not the norm"
   ]
  },
  {
   "attachments": {},
   "cell_type": "markdown",
   "metadata": {},
   "source": [
    "##### Example"
   ]
  },
  {
   "attachments": {},
   "cell_type": "markdown",
   "metadata": {},
   "source": [
    "<math xmlns=\"http://www.w3.org/1998/Math/MathML\">\n",
    "  <mi>P</mi>\n",
    "  <mo stretchy=\"false\">(</mo>\n",
    "  <mi>N</mi>\n",
    "  <mo>&#x222A;</mo>\n",
    "  <mi>Q</mi>\n",
    "  <mo stretchy=\"false\">)</mo>\n",
    "  <mo>=</mo>\n",
    "  <mi>P</mi>\n",
    "  <mo stretchy=\"false\">(</mo>\n",
    "  <mi>N</mi>\n",
    "  <mo stretchy=\"false\">)</mo>\n",
    "  <mo>+</mo>\n",
    "  <mi>P</mi>\n",
    "  <mo stretchy=\"false\">(</mo>\n",
    "  <mi>Q</mi>\n",
    "  <mo stretchy=\"false\">)</mo>\n",
    "  <mo>&#x2212;</mo>\n",
    "  <mi>P</mi>\n",
    "  <mo stretchy=\"false\">(</mo>\n",
    "  <mi>N</mi>\n",
    "  <mo>&#x2229;</mo>\n",
    "  <mi>Q</mi>\n",
    "  <mo stretchy=\"false\">)</mo>\n",
    "  <mo>=</mo>\n",
    "  <mstyle displaystyle=\"true\">\n",
    "    <mfrac>\n",
    "      <mn>3</mn>\n",
    "      <mn>6</mn>\n",
    "    </mfrac>\n",
    "  </mstyle>\n",
    "  <mo>+</mo>\n",
    "  <mstyle displaystyle=\"true\">\n",
    "    <mfrac>\n",
    "      <mn>3</mn>\n",
    "      <mn>6</mn>\n",
    "    </mfrac>\n",
    "  </mstyle>\n",
    "  <mo>&#x2212;</mo>\n",
    "  <mstyle displaystyle=\"true\">\n",
    "    <mfrac>\n",
    "      <mn>1</mn>\n",
    "      <mn>6</mn>\n",
    "    </mfrac>\n",
    "  </mstyle>\n",
    "  <mo>=</mo>\n",
    "  <mstyle displaystyle=\"true\">\n",
    "    <mfrac>\n",
    "      <mn>5</mn>\n",
    "      <mn>6</mn>\n",
    "    </mfrac>\n",
    "  </mstyle>\n",
    "</math>"
   ]
  },
  {
   "attachments": {},
   "cell_type": "markdown",
   "metadata": {},
   "source": [
    "# LABS"
   ]
  },
  {
   "attachments": {},
   "cell_type": "markdown",
   "metadata": {},
   "source": [
    "###  Sample space, event space and the law of relative frequency\n",
    "\n",
    "#### a. Let's throw a dice once\n",
    "\n",
    "First, create a set `roll_dice` that holds the sample space of rolling a 6-sided dice once."
   ]
  },
  {
   "cell_type": "code",
   "execution_count": 1,
   "metadata": {},
   "outputs": [],
   "source": [
    "roll_dice = {1,2,3,4,5,6}"
   ]
  },
  {
   "attachments": {},
   "cell_type": "markdown",
   "metadata": {},
   "source": [
    "Let's assume that the event space is defined by 'throwing a number higher than 4'\\\n",
    "Successful outcomes are 5 and 6"
   ]
  },
  {
   "cell_type": "code",
   "execution_count": 2,
   "metadata": {},
   "outputs": [],
   "source": [
    "event = {5,6}"
   ]
  },
  {
   "attachments": {},
   "cell_type": "markdown",
   "metadata": {},
   "source": [
    "Using the formula P(E) = |E| / |S|(Laplace Formula, related strongly to the law of relative frequency) to calculate probability."
   ]
  },
  {
   "cell_type": "code",
   "execution_count": 3,
   "metadata": {},
   "outputs": [
    {
     "data": {
      "text/plain": [
       "0.3333333333333333"
      ]
     },
     "execution_count": 3,
     "metadata": {},
     "output_type": "execute_result"
    }
   ],
   "source": [
    "prob_5_6 = len(event)/len(roll_dice)\n",
    "prob_5_6  # 0.3333333333333333"
   ]
  },
  {
   "attachments": {},
   "cell_type": "markdown",
   "metadata": {},
   "source": [
    "#### b. Now, let's simulate rolling dice to see how the law of relative frequency works."
   ]
  },
  {
   "attachments": {},
   "cell_type": "markdown",
   "metadata": {},
   "source": [
    "$$P(E) = \\lim_{n\\rightarrow\\infty} \\dfrac{S{(n)}}{n}$$\n",
    "\n",
    "As you can see in the formula, the law of relative frequency states that when repeating an experiment $n$ times, where $n$ is very big, and you divide the number of \"good\" outcomes by the sample space (here we call it event E), you get to the probability of the event E. It should be clear that we get a more accurate number for P(E) when $n$ grows."
   ]
  },
  {
   "attachments": {},
   "cell_type": "markdown",
   "metadata": {},
   "source": [
    "First, let's randomly generate values between 1 and 6."
   ]
  },
  {
   "cell_type": "code",
   "execution_count": 4,
   "metadata": {},
   "outputs": [
    {
     "data": {
      "text/plain": [
       "3"
      ]
     },
     "execution_count": 4,
     "metadata": {},
     "output_type": "execute_result"
    }
   ],
   "source": [
    "import numpy as np\n",
    "np.random.randint(1,7) # you will get a random value between 1 and 6. See how it changes when you rerun"
   ]
  },
  {
   "attachments": {},
   "cell_type": "markdown",
   "metadata": {},
   "source": [
    "Now, let's repeat this experiment 10 times, then 1000 times, then 1 million times, then 100 million times. "
   ]
  },
  {
   "cell_type": "code",
   "execution_count": 5,
   "metadata": {},
   "outputs": [],
   "source": [
    "np.random.seed(12345) # to ensure reproducibility of results\n",
    "\n",
    "dice_10 = np.random.randint(1,7,size= 10)\n",
    "dice_1k = np.random.randint(1,7,size= 1000)\n",
    "dice_1m = np.random.randint(1,7,size=1000000)\n",
    "dice_100m = np.random.randint(1,7,size=100000000)"
   ]
  },
  {
   "attachments": {},
   "cell_type": "markdown",
   "metadata": {},
   "source": [
    "Next, let's count the number of \"events\". Remember that an event here is defined as throwing a 5 or a 6. Store them in the values below."
   ]
  },
  {
   "cell_type": "code",
   "execution_count": 6,
   "metadata": {},
   "outputs": [],
   "source": [
    "event_10 = np.sum((dice_10 == 5) | (dice_10 == 6))\n",
    "event_1k = np.sum((dice_1k == 5) | (dice_1k == 6))\n",
    "event_1m = np.sum((dice_1m == 5) | (dice_1m == 6))\n",
    "event_100m = np.sum((dice_100m == 5) | (dice_100m == 6))"
   ]
  },
  {
   "attachments": {},
   "cell_type": "markdown",
   "metadata": {},
   "source": [
    "Next, you'll divide the number of events for each  𝑛\n",
    "  by the respective values for  𝑛\n",
    " . What do you see?"
   ]
  },
  {
   "cell_type": "code",
   "execution_count": 7,
   "metadata": {},
   "outputs": [
    {
     "data": {
      "text/plain": [
       "(0.5, 0.331, 0.333657, 0.33329752)"
      ]
     },
     "execution_count": 7,
     "metadata": {},
     "output_type": "execute_result"
    }
   ],
   "source": [
    "prob_10   = event_10 / len(dice_10)\n",
    "prob_1k   = event_1k / len(dice_1k )\n",
    "prob_1m   = event_1m / len(dice_1m)\n",
    "prob_100m = event_100m / len(dice_100m)\n",
    "prob_10, prob_1k, prob_1m, prob_100m  # 0.5 0.331 0.333657 0.33329752\n",
    "\n",
    "prob_10, prob_1k, prob_1m, prob_100m  # 0.5 0.331 0.333657 0.33329752"
   ]
  },
  {
   "attachments": {},
   "cell_type": "markdown",
   "metadata": {},
   "source": [
    "You see that the probability converges to 0.3333333... for higher values of $n$. \n",
    "\n",
    "##  The Probability Axioms\n",
    "\n",
    "You're working at the United Nations, and want to get a better sense of the world population. \n",
    "\n",
    "You come across some numbers and find the list of probabilities of being an inhabitant for each of the seven continents (rounded up to 3 digits):\n",
    "\n",
    "- P(Africa) = 0.161\n",
    "- P(Antarctica) = 0.000\n",
    "- P(Asia) = 0.598\n",
    "- P(Europe) = 0.10\n",
    "- P(North-America) = 0.079\n",
    "- P(Australia) = 0.005\n",
    "- P(South-America) = 0.057\n",
    "\n",
    "store these values using the variable names below:"
   ]
  },
  {
   "cell_type": "code",
   "execution_count": 8,
   "metadata": {},
   "outputs": [],
   "source": [
    "P_afr = 0.161\n",
    "P_ant = 0.000\n",
    "P_as = 0.598\n",
    "P_eur = 0.10\n",
    "P_na = 0.079\n",
    "P_aus = 0.005\n",
    "P_sa = 0.057"
   ]
  },
  {
   "attachments": {},
   "cell_type": "markdown",
   "metadata": {},
   "source": [
    "Now create the sample space set names `continents`. Store the sample space in a numpy array."
   ]
  },
  {
   "cell_type": "code",
   "execution_count": 9,
   "metadata": {},
   "outputs": [
    {
     "name": "stdout",
     "output_type": "stream",
     "text": [
      "[0.161 0.    0.598 0.1   0.079 0.005 0.057]\n"
     ]
    }
   ],
   "source": [
    "continents = np.array([P_afr, P_ant, P_as, P_eur, P_na, P_aus, P_sa])\n",
    "print(continents)"
   ]
  },
  {
   "attachments": {},
   "cell_type": "markdown",
   "metadata": {},
   "source": [
    "We want to make sure that the three probability axioms are fulfilled because they assure us that $(\\Omega,E,P)$ is a **probability space**:\n",
    "\n",
    "- if we have a sample space $S$ (or $\\Omega$)\n",
    "- if we have an event space $E$ and a probability measure $P$, \n",
    "- **and** the three probability axioms introduced in the previous lesson are fulfilled, \n",
    "\n",
    "The third axiom is fairly ad hoc, and you will basically have to deduce from the context whether individual events are independent. It is fairly straightforward, however, that people cannot be inhabitants of two continents at the same time, so for now, we will assume that we're good for axiom three.\n",
    "\n",
    "However, we can use the numpy array `continents` to verify if axiom 1 and 2 are fulfilled. Create a function `check_axioms` with a single input, `sample_space`, that returns the message \"We're good!\" if both axiom 1 and 2 are fulfilled, and \"Not quite!\" if that's not the case."
   ]
  },
  {
   "cell_type": "code",
   "execution_count": 10,
   "metadata": {},
   "outputs": [],
   "source": [
    "def check_axioms(sample_space):\n",
    "    # Check Axiom 1: The probability of any event must be between 0 and 1\n",
    "    for prob in sample_space:\n",
    "        if prob < 0 or prob > 1:\n",
    "            return 'Not quite'\n",
    "    # Check Axiom 2: The probability of the sample space must be 1\n",
    "    prob_sum = 0\n",
    "    for prob in sample_space:\n",
    "        prob_sum += prob\n",
    "    if abs(prob_sum - 1) > 1e-10:\n",
    "        return \"Not quite!\"\n",
    "    \n",
    "    # If both axioms hold, return \"We're good!\"\n",
    "    return \"We're good!\""
   ]
  },
  {
   "attachments": {},
   "cell_type": "markdown",
   "metadata": {},
   "source": [
    "Now test your newly created function out on the sample space `continents`:"
   ]
  },
  {
   "cell_type": "code",
   "execution_count": 11,
   "metadata": {},
   "outputs": [
    {
     "data": {
      "text/plain": [
       "\"We're good!\""
      ]
     },
     "execution_count": 11,
     "metadata": {},
     "output_type": "execute_result"
    }
   ],
   "source": [
    "check_axioms(continents)"
   ]
  },
  {
   "attachments": {},
   "cell_type": "markdown",
   "metadata": {},
   "source": [
    "You want to make sure your test returns `\"Not quite!\"` for the following numpy arrays. Go ahead and test away!"
   ]
  },
  {
   "cell_type": "code",
   "execution_count": 12,
   "metadata": {},
   "outputs": [
    {
     "data": {
      "text/plain": [
       "'Not quite!'"
      ]
     },
     "execution_count": 12,
     "metadata": {},
     "output_type": "execute_result"
    }
   ],
   "source": [
    "test_1 = np.array([0.05, 0.2, 0.3, 1.01])\n",
    "test_2 = np.array([0.05, 0.5, 0.6, -0.15])\n",
    "test_3 = np.array([0.043,0.05,.02,0.3,0.2])\n",
    "check_axioms(test_1)\n",
    "check_axioms(test_2)\n",
    "check_axioms(test_3)"
   ]
  },
  {
   "attachments": {},
   "cell_type": "markdown",
   "metadata": {},
   "source": [
    "## Some more practice on the sample and event spaces"
   ]
  },
  {
   "attachments": {},
   "cell_type": "markdown",
   "metadata": {},
   "source": [
    "In this exercise, we'll look at possible outcomes when throwing a dice twice. For your convenience, we created the NumPy array below.\n",
    "\n",
    "Next, we'll compute a couple or probabilities associated with doing this."
   ]
  },
  {
   "cell_type": "code",
   "execution_count": 14,
   "metadata": {},
   "outputs": [
    {
     "data": {
      "text/plain": [
       "(36, 2)"
      ]
     },
     "execution_count": 14,
     "metadata": {},
     "output_type": "execute_result"
    }
   ],
   "source": [
    "import numpy as np\n",
    "sample_dice = np.array([(1, 1), (1, 2), (1, 3), (1, 4), (1, 5), (1, 6),\n",
    "              (2, 1), (2, 2), (2, 3), (2, 4), (2, 5), (2, 6),\n",
    "              (3, 1), (3, 2), (3, 3), (3, 4), (3, 5), (3, 6),\n",
    "              (4, 1), (4, 2), (4, 3), (4, 4), (4, 5), (4, 6),\n",
    "              (5, 1), (5, 2), (5, 3), (5, 4), (5, 5), (5, 6),\n",
    "              (6, 1), (6, 2), (6, 3), (6, 4), (6, 5), (6, 6)])\n",
    "sample_dice.shape # should be equal to (36,2)\n"
   ]
  },
  {
   "attachments": {},
   "cell_type": "markdown",
   "metadata": {},
   "source": [
    "a. What is the probability of throwing a 5 at least once?\\\n",
    "First, use sample_dice to get \"True\" values for each time a 5 occurs."
   ]
  },
  {
   "cell_type": "code",
   "execution_count": 16,
   "metadata": {},
   "outputs": [
    {
     "name": "stdout",
     "output_type": "stream",
     "text": [
      "[False False False False  True False False False False False  True False\n",
      " False False False False  True False False False False False  True False\n",
      "  True  True  True  True  True  True False False False False  True False]\n"
     ]
    }
   ],
   "source": [
    "set_5 = sample_dice == (5)\n",
    "#Next, make sure that you get a value True for each pair where at least one 5 was thrown.\n",
    "true_5 = np.any(set_5, axis = 1)\n",
    "print(true_5)"
   ]
  },
  {
   "attachments": {},
   "cell_type": "markdown",
   "metadata": {},
   "source": [
    "Applying the sum() function to this result you can get to the total number of items in the event space. Divide this number by the total number in the sample space to obtain the probability of throwing a 5 at least once."
   ]
  },
  {
   "cell_type": "code",
   "execution_count": 17,
   "metadata": {},
   "outputs": [
    {
     "name": "stdout",
     "output_type": "stream",
     "text": [
      "0.3055555555555556\n"
     ]
    }
   ],
   "source": [
    "prob_5 = true_5.sum()/len(sample_dice)\n",
    "print(prob_5)"
   ]
  },
  {
   "attachments": {},
   "cell_type": "markdown",
   "metadata": {},
   "source": [
    "b. What is the probability of throwing a 5 or 6 at least once?"
   ]
  },
  {
   "cell_type": "code",
   "execution_count": 18,
   "metadata": {},
   "outputs": [
    {
     "name": "stdout",
     "output_type": "stream",
     "text": [
      "[False False False False  True  True False False False False  True  True\n",
      " False False False False  True  True False False False False  True  True\n",
      "  True  True  True  True  True  True  True  True  True  True  True  True]\n",
      "0.5555555555555556\n"
     ]
    }
   ],
   "source": [
    "set_5 =  sample_dice == (5)\n",
    "set_6 = sample_dice == (6)\n",
    "set_5_6 = (set_6 + set_5)\n",
    "set_any_5_6 = set_5_6.any(axis=1)\n",
    "print(set_any_5_6) \n",
    "prob_5_6 = set_any_5_6.sum()/len(sample_dice)\n",
    "print(prob_5_6)"
   ]
  },
  {
   "attachments": {},
   "cell_type": "markdown",
   "metadata": {},
   "source": [
    "c. What is the probability of the outcome having a sum of exactly 8?"
   ]
  },
  {
   "cell_type": "code",
   "execution_count": 19,
   "metadata": {},
   "outputs": [
    {
     "name": "stdout",
     "output_type": "stream",
     "text": [
      "0.1388888888888889\n"
     ]
    }
   ],
   "source": [
    "sum_dice = np.sum(sample_dice, axis = 1)\n",
    "sum_8 = sum(sum_dice == 8)\n",
    "prob_sum_8 = sum_8/len(sample_dice)\n",
    "print(prob_sum_8)"
   ]
  },
  {
   "attachments": {},
   "cell_type": "markdown",
   "metadata": {},
   "source": [
    "#### Now let's try creating your own event space!\n",
    "A teaching assistant is holding office hours so students can make appointments. She has 6 appointments scheduled today, 3 by male students, and 3 by female students.\n",
    "\n",
    "Create a NumPy array of all possible orders of three male and three female students in which the teaching assistant can see students by appointment (please note: only consider gender when creating event space). Create this NumPy array in the same way as we did in the \"throwing a dice twice\" exercise. It will be quite a bit of typing, as your resulting NumPy array will have a shape (20,6)!"
   ]
  },
  {
   "cell_type": "code",
   "execution_count": 21,
   "metadata": {},
   "outputs": [
    {
     "name": "stdout",
     "output_type": "stream",
     "text": [
      "(20, 6)\n",
      "20\n"
     ]
    }
   ],
   "source": [
    "sample_mf= np.array([(\"M\",\"M\",\"M\",\"F\",\"F\",\"F\"), (\"M\",\"M\",\"F\",\"M\",\"F\",\"F\"), (\"M\",\"M\",\"F\",\"F\",\"M\",\"F\"),\n",
    "                     (\"M\",\"M\",\"F\",\"F\",\"F\",\"M\"), (\"M\",\"F\",\"M\",\"M\",\"F\",\"F\"), (\"M\",\"F\",\"M\",\"F\",\"F\",\"M\"),\n",
    "                     (\"M\",\"F\",\"M\",\"F\",\"M\",\"F\"), (\"M\",\"F\",\"F\",\"M\",\"F\",\"M\"), (\"M\",\"F\",\"F\",\"M\",\"M\",\"F\"),\n",
    "                     (\"M\",\"F\",\"F\",\"F\",\"M\",\"M\"), (\"F\",\"F\",\"F\",\"M\",\"M\",\"M\"), (\"F\",\"F\",\"M\",\"F\",\"M\",\"M\"), \n",
    "                     (\"F\",\"F\",\"M\",\"M\",\"F\",\"M\"), (\"F\",\"F\",\"M\",\"M\",\"M\",\"F\"), (\"F\",\"M\",\"F\",\"F\",\"M\",\"M\"),\n",
    "                     (\"F\",\"M\",\"F\",\"M\",\"M\",\"F\"), (\"F\",\"M\",\"F\",\"M\",\"F\",\"M\"), (\"F\",\"M\",\"M\",\"F\",\"M\",\"F\"),\n",
    "                     (\"F\",\"M\",\"M\",\"F\",\"F\",\"M\"), (\"F\",\"M\",\"M\",\"M\",\"F\",\"F\") ])\n",
    "print(sample_mf.shape)\n",
    "sample_length= len(sample_mf)\n",
    "print(sample_length)"
   ]
  },
  {
   "attachments": {},
   "cell_type": "markdown",
   "metadata": {},
   "source": [
    "#### 1. Calculate the probability that at least 2 out of the first 3 appointments are with female students\n",
    "First, select the first 3 appointment slots and check for \"F\"."
   ]
  },
  {
   "cell_type": "code",
   "execution_count": 24,
   "metadata": {},
   "outputs": [
    {
     "name": "stdout",
     "output_type": "stream",
     "text": [
      "[[False False False]\n",
      " [False False  True]\n",
      " [False False  True]\n",
      " [False False  True]\n",
      " [False  True False]\n",
      " [False  True False]\n",
      " [False  True False]\n",
      " [False  True  True]\n",
      " [False  True  True]\n",
      " [False  True  True]\n",
      " [ True  True  True]\n",
      " [ True  True False]\n",
      " [ True  True False]\n",
      " [ True  True False]\n",
      " [ True False  True]\n",
      " [ True False  True]\n",
      " [ True False  True]\n",
      " [ True False False]\n",
      " [ True False False]\n",
      " [ True False False]]\n",
      "[0 1 1 1 1 1 1 2 2 2 3 2 2 2 2 2 2 1 1 1]\n",
      "10\n",
      "0.5\n"
     ]
    }
   ],
   "source": [
    "first_3_F = sample_mf[:,:3] == \"F\"\n",
    "print(first_3_F)\n",
    "num_F = np.sum(first_3_F, axis=1)\n",
    "print(num_F)\n",
    "F_2plus = np.sum(num_F > 1)\n",
    "print(F_2plus)\n",
    "prob_F_2plus = F_2plus.sum()/sample_length\n",
    "print(prob_F_2plus)"
   ]
  },
  {
   "attachments": {},
   "cell_type": "markdown",
   "metadata": {},
   "source": [
    "#### 2. Calculate the probability that after 4 appointment slots, all the female students have had an appointment"
   ]
  },
  {
   "cell_type": "code",
   "execution_count": 25,
   "metadata": {},
   "outputs": [
    {
     "data": {
      "text/plain": [
       "0.2"
      ]
     },
     "execution_count": 25,
     "metadata": {},
     "output_type": "execute_result"
    }
   ],
   "source": [
    "np.sum((sample_mf[:,4:]== ['M','M']).all(axis=1))/sample_length"
   ]
  },
  {
   "attachments": {},
   "cell_type": "markdown",
   "metadata": {},
   "source": [
    "You noticed that coming up with the sample space was probably the most time-consuming part of the exercise, and it would really become unfeasible to write this down for say, 10 or, even worse, 20 appointments in a row. You'll learn about methods that make this process easier soon!"
   ]
  },
  {
   "attachments": {},
   "cell_type": "markdown",
   "metadata": {},
   "source": [
    "## The Addition Law of Probability\n",
    "At a supermarket, we randomly select customers, and make notes of whether a certain customer owns a Visa card (event A) or an American Express credit card (event B). Some customers own both cards. You can assume that:\n",
    "\n",
    "P(A) = 0.5\n",
    "P(B) = 0.4\n",
    "both A and B = 0.25.\n",
    "Compute the probability that a selected customer has at least one credit card.\n",
    "\n",
    "Compute the probability that a selected customer doesn't own any of the mentioned credit cards.\n",
    "\n",
    "Compute the probability that a customer only owns VISA card.\n",
    "\n",
    "(You can use Python here, but you don't have to)"
   ]
  },
  {
   "cell_type": "code",
   "execution_count": 26,
   "metadata": {},
   "outputs": [],
   "source": [
    "# 1) $P(A\\cup B) = P(A) + P(B) - P(A\\cap B)  = 0.5+0.4-0.25 = 0.65 $\n",
    "\n",
    "# 2) $1 - P(A\\cup B) = 0.35 $\n",
    "\n",
    "# 3) $P(A)-P(B\\cap A) = 0.25$"
   ]
  },
  {
   "cell_type": "markdown",
   "metadata": {},
   "source": []
  }
 ],
 "metadata": {
  "kernelspec": {
   "display_name": "learn-env",
   "language": "python",
   "name": "python3"
  },
  "language_info": {
   "codemirror_mode": {
    "name": "ipython",
    "version": 3
   },
   "file_extension": ".py",
   "mimetype": "text/x-python",
   "name": "python",
   "nbconvert_exporter": "python",
   "pygments_lexer": "ipython3",
   "version": "3.8.5"
  },
  "orig_nbformat": 4,
  "vscode": {
   "interpreter": {
    "hash": "4d1151697b68b4ec1e19719ed12edf19569ef0d5db0563e25a869f6eefb41f8c"
   }
  }
 },
 "nbformat": 4,
 "nbformat_minor": 2
}
