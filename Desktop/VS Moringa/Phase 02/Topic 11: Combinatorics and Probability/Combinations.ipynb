{
 "cells": [
  {
   "attachments": {},
   "cell_type": "markdown",
   "metadata": {},
   "source": [
    "# Combinations"
   ]
  },
  {
   "attachments": {},
   "cell_type": "markdown",
   "metadata": {},
   "source": [
    "There are 3 songs out of 8.\\\n",
    "How many ways can we select song, assuming order of chosen is not important?"
   ]
  },
  {
   "attachments": {},
   "cell_type": "markdown",
   "metadata": {},
   "source": [
    "Combinations answer the question, 'How many ways can we create a subset k out of n objects, when the subset is not ordered?'"
   ]
  },
  {
   "attachments": {},
   "cell_type": "markdown",
   "metadata": {},
   "source": [
    "$$\\displaystyle\\binom{n}{k} = \\dfrac{P_{k}^{n}}{k!}=\\dfrac{ \\dfrac{n!}{(n-k)!}}{k!} = \\dfrac{n!}{(n-k)!k!}$$"
   ]
  },
  {
   "attachments": {},
   "cell_type": "markdown",
   "metadata": {},
   "source": [
    "Applied to our example, this means that there are \n",
    "\n",
    "8! / ((8-3)! * 3!)\n",
    "\n",
    "so there are 56 ways to choose 3 songs out of an 8 song repertoire."
   ]
  },
  {
   "attachments": {},
   "cell_type": "markdown",
   "metadata": {},
   "source": [
    "# LABS"
   ]
  },
  {
   "attachments": {},
   "cell_type": "markdown",
   "metadata": {},
   "source": [
    "## Objectives\n",
    "\n",
    "You will be able to: \n",
    "\n",
    "* Decide whether or not permutations and combinations are required for a given problem\n",
    "* Use Python to calculate combinations and permutations\n",
    "\n",
    "\n",
    "## Let's get started\n",
    "\n",
    "From the previous lab, you remember that we created a factorial function.\n",
    "\n",
    "Now, let's use this factorial function to create a function `combination` as well as `permutation`, both holding 2 arguments n and k.\n"
   ]
  },
  {
   "cell_type": "code",
   "execution_count": 1,
   "metadata": {},
   "outputs": [],
   "source": [
    "def factorial(n):\n",
    "    prod = 1\n",
    "    while n >= 1:\n",
    "        prod = prod * n\n",
    "        n = n - 1\n",
    "    return prod"
   ]
  },
  {
   "cell_type": "code",
   "execution_count": 2,
   "metadata": {},
   "outputs": [],
   "source": [
    "def permutation(n,k):\n",
    "    x = factorial(n) / factorial(n-k)\n",
    "    return x"
   ]
  },
  {
   "cell_type": "code",
   "execution_count": 3,
   "metadata": {},
   "outputs": [],
   "source": [
    "def combination(n,k):\n",
    "    x = factorial(n)/ (factorial(n-k) * factorial(k))\n",
    "    return x"
   ]
  },
  {
   "attachments": {},
   "cell_type": "markdown",
   "metadata": {},
   "source": [
    "Great! We can use these functions in the following exercises.\n",
    "\n",
    "## Permutations or Combinations?\n",
    "\n",
    "Flatiron School is holding a mini mathematics contest and there are 9 people in the last round. \n",
    "\n",
    "#### a. Imagine flatiron school is giving out bronze, silver, and gold medal respectively. How many possible ways are there to create this top three?"
   ]
  },
  {
   "cell_type": "code",
   "execution_count": 4,
   "metadata": {},
   "outputs": [
    {
     "data": {
      "text/plain": [
       "504.0"
      ]
     },
     "execution_count": 4,
     "metadata": {},
     "output_type": "execute_result"
    }
   ],
   "source": [
    "medal_top_3 = permutation(9, 3)\n",
    "medal_top_3 # 504.0"
   ]
  },
  {
   "attachments": {},
   "cell_type": "markdown",
   "metadata": {},
   "source": [
    "#### b. Imagine Flatiron school granting the first three contestants a massive fruit basket. How many ways of selecting three people are there in this case?"
   ]
  },
  {
   "cell_type": "code",
   "execution_count": 5,
   "metadata": {},
   "outputs": [
    {
     "data": {
      "text/plain": [
       "84.0"
      ]
     },
     "execution_count": 5,
     "metadata": {},
     "output_type": "execute_result"
    }
   ],
   "source": [
    "scholarship_top_3 = combination(9, 3)\n",
    "scholarship_top_3 # 84.0"
   ]
  },
  {
   "attachments": {},
   "cell_type": "markdown",
   "metadata": {},
   "source": [
    "## Some More Practice using Combinations\n",
    "\n",
    "Imagine you have 6 different consonants and 4 different vowels written on pieces of paper in a bag. You'll draw 5 letters out of the bag. \n",
    "\n",
    "#### a. What is the probability that you draw exactly 2 consonants and 3 vowels when drawing 5 letters?\n",
    "\n",
    "Write the code for getting total number of ways of drawing 2 out of 6 and 3 out of 4 below"
   ]
  },
  {
   "cell_type": "code",
   "execution_count": 6,
   "metadata": {},
   "outputs": [],
   "source": [
    "draw_cons = combination(6, 2)\n",
    "draw_vow = combination(4, 3)"
   ]
  },
  {
   "attachments": {},
   "cell_type": "markdown",
   "metadata": {},
   "source": [
    "The total number of ways to draw 5 letters out of 10 letters."
   ]
  },
  {
   "cell_type": "code",
   "execution_count": 7,
   "metadata": {},
   "outputs": [],
   "source": [
    "sample = combination(10, 5)"
   ]
  },
  {
   "attachments": {},
   "cell_type": "markdown",
   "metadata": {},
   "source": [
    "The probability of drawing 2 consonants and 3 vowels when drawing 5 letters:"
   ]
  },
  {
   "cell_type": "code",
   "execution_count": 8,
   "metadata": {},
   "outputs": [
    {
     "data": {
      "text/plain": [
       "0.23809523809523808"
      ]
     },
     "execution_count": 8,
     "metadata": {},
     "output_type": "execute_result"
    }
   ],
   "source": [
    "prob_letters = (draw_cons * draw_vow) / sample # 0.23809523809523808\n",
    "prob_letters"
   ]
  },
  {
   "attachments": {},
   "cell_type": "markdown",
   "metadata": {},
   "source": [
    "#### b. Out of 6 consonants and 4 vowels, how many words with 2 consonants and 3 vowels can be formed?\n",
    "\n",
    "You can reuse a part of the previous exercise. Which part? print the result below."
   ]
  },
  {
   "cell_type": "code",
   "execution_count": 9,
   "metadata": {},
   "outputs": [],
   "source": [
    "draw_cons = combination(6, 3)\n",
    "draw_vow = combination(4, 3)"
   ]
  },
  {
   "attachments": {},
   "cell_type": "markdown",
   "metadata": {},
   "source": [
    "Now we need to take into account that order is important."
   ]
  },
  {
   "cell_type": "code",
   "execution_count": 10,
   "metadata": {},
   "outputs": [],
   "source": [
    "order_5_letters = factorial(5)"
   ]
  },
  {
   "attachments": {},
   "cell_type": "markdown",
   "metadata": {},
   "source": [
    "The total number of words with 2 consonants and 3 vowels then equals:"
   ]
  },
  {
   "cell_type": "code",
   "execution_count": 11,
   "metadata": {},
   "outputs": [
    {
     "name": "stdout",
     "output_type": "stream",
     "text": [
      "In total, 9600.0 words with 2 consonants and 3 vowels can be formed from our existing letter pool.\n"
     ]
    }
   ],
   "source": [
    "total_words = draw_cons * draw_vow * order_5_letters\n",
    "print(\"In total,\",  total_words, \"words with 2 consonants and 3 vowels can be formed from our existing letter pool.\")\n",
    "# In total, 7200.0 words with 2 consonants and 3 vowels can be formed from our existing letter pool."
   ]
  },
  {
   "attachments": {},
   "cell_type": "markdown",
   "metadata": {},
   "source": [
    "## Combinations: Creating Soccer Teams\n",
    "We're holding a mini soccer tournament and 16 people are participating. We'd like to form 4 teams of 4. How many ways are there to do this?"
   ]
  },
  {
   "cell_type": "code",
   "execution_count": 12,
   "metadata": {},
   "outputs": [
    {
     "data": {
      "text/plain": [
       "63063000.0"
      ]
     },
     "execution_count": 12,
     "metadata": {},
     "output_type": "execute_result"
    }
   ],
   "source": [
    "team_1 = combination(16, 4)\n",
    "team_2 = combination(12, 4)\n",
    "team_3 = combination(8, 4)\n",
    "team_4 = combination(4, 4)\n",
    "team_1 * team_2 * team_3 * team_4\n",
    "# your code here  # the answer is 63063000.0"
   ]
  },
  {
   "cell_type": "code",
   "execution_count": null,
   "metadata": {},
   "outputs": [],
   "source": []
  }
 ],
 "metadata": {
  "kernelspec": {
   "display_name": "learn-env",
   "language": "python",
   "name": "python3"
  },
  "language_info": {
   "codemirror_mode": {
    "name": "ipython",
    "version": 3
   },
   "file_extension": ".py",
   "mimetype": "text/x-python",
   "name": "python",
   "nbconvert_exporter": "python",
   "pygments_lexer": "ipython3",
   "version": "3.8.5"
  },
  "orig_nbformat": 4,
  "vscode": {
   "interpreter": {
    "hash": "4d1151697b68b4ec1e19719ed12edf19569ef0d5db0563e25a869f6eefb41f8c"
   }
  }
 },
 "nbformat": 4,
 "nbformat_minor": 2
}
